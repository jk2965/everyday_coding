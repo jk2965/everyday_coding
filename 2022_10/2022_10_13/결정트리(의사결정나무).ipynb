{
 "cells": [
  {
   "cell_type": "code",
   "execution_count": 1,
   "id": "8114650f",
   "metadata": {},
   "outputs": [],
   "source": [
    "import numpy as np\n",
    "import pandas as pd\n",
    "from sklearn.tree import DecisionTreeClassifier\n",
    "from sklearn.model_selection import train_test_split\n",
    "from sklearn.datasets import load_breast_cancer"
   ]
  },
  {
   "cell_type": "code",
   "execution_count": 2,
   "id": "594a1ad7",
   "metadata": {},
   "outputs": [],
   "source": [
    "cancer = load_breast_cancer()\n",
    "x_train,x_test,y_train,y_test = train_test_split(cancer.data,cancer.target,\n",
    "                                                 stratify=cancer.target,\n",
    "                                                random_state=0)"
   ]
  },
  {
   "cell_type": "markdown",
   "id": "cf1adf89",
   "metadata": {},
   "source": [
    "## 기본 Decision model(분류)"
   ]
  },
  {
   "cell_type": "code",
   "execution_count": 3,
   "id": "29c92e3a",
   "metadata": {},
   "outputs": [
    {
     "data": {
      "text/plain": [
       "DecisionTreeClassifier(random_state=0)"
      ]
     },
     "execution_count": 3,
     "metadata": {},
     "output_type": "execute_result"
    }
   ],
   "source": [
    "tree = DecisionTreeClassifier(random_state=0)\n",
    "tree.fit(x_train,y_train)\n",
    "#모델에도 random_state를 줄 수 있다. 모델 선정 및 학습"
   ]
  },
  {
   "cell_type": "code",
   "execution_count": 4,
   "id": "a84599ca",
   "metadata": {},
   "outputs": [],
   "source": [
    "train_score = tree.score(x_train,y_train)\n",
    "test_score= tree.score(x_test,y_test)\n",
    "#model.score() 기준값은 분류모델이기 때문에 정확도(Accuracy)이다."
   ]
  },
  {
   "cell_type": "code",
   "execution_count": 5,
   "id": "3c5f3d3b",
   "metadata": {},
   "outputs": [
    {
     "name": "stdout",
     "output_type": "stream",
     "text": [
      "train: 1.0\n",
      "test: 0.9020979020979021\n"
     ]
    }
   ],
   "source": [
    "print('train:',train_score)\n",
    "print('test:',test_score)"
   ]
  },
  {
   "cell_type": "markdown",
   "id": "e28942af",
   "metadata": {},
   "source": [
    "### 가지치기"
   ]
  },
  {
   "cell_type": "code",
   "execution_count": 6,
   "id": "5aeaf6aa",
   "metadata": {},
   "outputs": [
    {
     "data": {
      "text/plain": [
       "DecisionTreeClassifier(max_depth=3, random_state=0)"
      ]
     },
     "execution_count": 6,
     "metadata": {},
     "output_type": "execute_result"
    }
   ],
   "source": [
    "tree = DecisionTreeClassifier(max_depth =3,random_state=0)\n",
    "tree.fit(x_train,y_train)\n",
    "#의사결정나무 ,최대깊이=4, 모델 생성 및 학습"
   ]
  },
  {
   "cell_type": "code",
   "execution_count": 7,
   "id": "2fc10dc3",
   "metadata": {},
   "outputs": [],
   "source": [
    "train_score = tree.score(x_train,y_train)\n",
    "test_score= tree.score(x_test,y_test)\n",
    "#model.score() 기준값은 분류모델이기 때문에 정확도(Accuracy)이다."
   ]
  },
  {
   "cell_type": "code",
   "execution_count": 8,
   "id": "ec7263e3",
   "metadata": {},
   "outputs": [
    {
     "name": "stdout",
     "output_type": "stream",
     "text": [
      "train: 0.9765258215962441\n",
      "test: 0.916083916083916\n"
     ]
    }
   ],
   "source": [
    "print('train:',train_score)\n",
    "print('test:',test_score)"
   ]
  },
  {
   "cell_type": "code",
   "execution_count": 9,
   "id": "2acbbc70",
   "metadata": {},
   "outputs": [],
   "source": [
    "from sklearn.tree import export_graphviz\n",
    "import graphviz\n",
    "import matplotlib.pyplot as plt\n",
    "from matplotlib import rc\n",
    "plt.rc('font',family='Malgun Gothic')\n",
    "plt.rcParams['axes.unicode_minus'] = False"
   ]
  },
  {
   "cell_type": "markdown",
   "id": "988d1551",
   "metadata": {},
   "source": [
    "!pip install python-graphviz"
   ]
  },
  {
   "cell_type": "markdown",
   "id": "7dfd79c4",
   "metadata": {},
   "source": [
    "export_graphviz(tree,out_file='tree.dot',class_names=['악성','양성'],\n",
    "               feature_names = cancer.feature_names, impurity=False,\n",
    "               filled=True)\n",
    "#tree.dot이라는 파일이 생성됨"
   ]
  },
  {
   "cell_type": "markdown",
   "id": "94206b51",
   "metadata": {},
   "source": [
    "\n",
    "with open('tree.dot',encoding='utf-8') as f:\n",
    "    dot_graph = f.read()\n",
    "display(graphviz.Source(dot_graph))"
   ]
  },
  {
   "cell_type": "code",
   "execution_count": 10,
   "id": "89412121",
   "metadata": {},
   "outputs": [],
   "source": [
    "from sklearn.tree import plot_tree"
   ]
  },
  {
   "cell_type": "code",
   "execution_count": 11,
   "id": "f7b59a27",
   "metadata": {
    "scrolled": true
   },
   "outputs": [
    {
     "data": {
      "image/png": "[encoded data removed]",
      "text/plain": [
       "<Figure size 432x288 with 1 Axes>"
      ]
     },
     "metadata": {
      "needs_background": "light"
     },
     "output_type": "display_data"
    }
   ],
   "source": [
    "plot_tree(tree,class_names=['악성','양성'],\n",
    "          feature_names=cancer.feature_names,\n",
    "         impurity=False,filled=True,\n",
    "         fontsize=4)\n",
    "plt.show()\n",
    "#sklearn.tree 안에 plot_tree를 import해서 시각화"
   ]
  },
  {
   "cell_type": "markdown",
   "id": "9dc181dd",
   "metadata": {},
   "source": [
    "### 특성중요도\n",
    "- 특성중요도 : 0~1 사이의 값 / 0: 이 특성이 전혀 사용되지 않음, 1. 완벽하게 정답값을 예측함.\n",
    "- 특성중요도의 전체 합 = 1"
   ]
  },
  {
   "cell_type": "code",
   "execution_count": 12,
   "id": "bf92ab40",
   "metadata": {},
   "outputs": [
    {
     "name": "stdout",
     "output_type": "stream",
     "text": [
      "특성 중요도:\n",
      " [0.         0.         0.         0.         0.         0.\n",
      " 0.         0.         0.         0.         0.         0.01069388\n",
      " 0.         0.01090021 0.         0.         0.         0.\n",
      " 0.         0.         0.04022023 0.03226776 0.79120523 0.\n",
      " 0.         0.         0.         0.11471269 0.         0.        ]\n"
     ]
    }
   ],
   "source": [
    "print('특성 중요도:\\n',tree.feature_importances_)"
   ]
  },
  {
   "cell_type": "code",
   "execution_count": 13,
   "id": "9ad42ffe",
   "metadata": {},
   "outputs": [
    {
     "data": {
      "image/png": "[encoded data removed]",
      "text/plain": [
       "<Figure size 432x288 with 1 Axes>"
      ]
     },
     "metadata": {
      "needs_background": "light"
     },
     "output_type": "display_data"
    }
   ],
   "source": [
    "n_features = cancer.data.shape[1]\n",
    "plt.barh(np.arange(n_features),tree.feature_importances_,align='center')\n",
    "plt.yticks(np.arange(n_features),cancer.feature_names)\n",
    "plt.xlabel('특성중요도')\n",
    "plt.ylabel('특성')\n",
    "plt.ylim(-1,n_features)\n",
    "plt.show()"
   ]
  },
  {
   "cell_type": "markdown",
   "id": "7815ff86",
   "metadata": {},
   "source": [
    "## Decision tree Regressor(회귀)"
   ]
  },
  {
   "cell_type": "code",
   "execution_count": 14,
   "id": "0e1cb3d9",
   "metadata": {},
   "outputs": [],
   "source": [
    "import os\n",
    "import mglearn"
   ]
  },
  {
   "cell_type": "code",
   "execution_count": 15,
   "id": "d5e2a74f",
   "metadata": {},
   "outputs": [],
   "source": [
    "ram_prices = pd.read_csv(os.path.join(mglearn.datasets.DATA_PATH,'ram_price.csv'))"
   ]
  },
  {
   "cell_type": "code",
   "execution_count": 16,
   "id": "8230876b",
   "metadata": {},
   "outputs": [
    {
     "data": {
      "image/png": "[encoded data removed]",
      "text/plain": [
       "<Figure size 432x288 with 1 Axes>"
      ]
     },
     "metadata": {
      "needs_background": "light"
     },
     "output_type": "display_data"
    }
   ],
   "source": [
    "plt.yticks(fontname='Arial') #한국 폰트는 지수에 음수가 표현 불가\n",
    "plt.semilogy(ram_prices.date,ram_prices.price)\n",
    "plt.xlabel('년')\n",
    "plt.ylabel('가격($/Mbyte)')\n",
    "plt.show()"
   ]
  },
  {
   "cell_type": "code",
   "execution_count": 17,
   "id": "449cdec8",
   "metadata": {},
   "outputs": [],
   "source": [
    "from sklearn.tree import DecisionTreeRegressor\n",
    "from sklearn.linear_model import LinearRegression"
   ]
  },
  {
   "cell_type": "code",
   "execution_count": 18,
   "id": "c5fc0c50",
   "metadata": {},
   "outputs": [
    {
     "data": {
      "text/html": [
       "<div>\n",
       "<style scoped>\n",
       "    .dataframe tbody tr th:only-of-type {\n",
       "        vertical-align: middle;\n",
       "    }\n",
       "\n",
       "    .dataframe tbody tr th {\n",
       "        vertical-align: top;\n",
       "    }\n",
       "\n",
       "    .dataframe thead th {\n",
       "        text-align: right;\n",
       "    }\n",
       "</style>\n",
       "<table border=\"1\" class=\"dataframe\">\n",
       "  <thead>\n",
       "    <tr style=\"text-align: right;\">\n",
       "      <th></th>\n",
       "      <th>date</th>\n",
       "      <th>price</th>\n",
       "    </tr>\n",
       "  </thead>\n",
       "  <tbody>\n",
       "    <tr>\n",
       "      <th>0</th>\n",
       "      <td>1957.00</td>\n",
       "      <td>4.110418e+08</td>\n",
       "    </tr>\n",
       "    <tr>\n",
       "      <th>1</th>\n",
       "      <td>1959.00</td>\n",
       "      <td>6.794772e+07</td>\n",
       "    </tr>\n",
       "    <tr>\n",
       "      <th>2</th>\n",
       "      <td>1960.00</td>\n",
       "      <td>5.242880e+06</td>\n",
       "    </tr>\n",
       "    <tr>\n",
       "      <th>3</th>\n",
       "      <td>1965.00</td>\n",
       "      <td>2.642412e+06</td>\n",
       "    </tr>\n",
       "    <tr>\n",
       "      <th>4</th>\n",
       "      <td>1970.00</td>\n",
       "      <td>7.340030e+05</td>\n",
       "    </tr>\n",
       "    <tr>\n",
       "      <th>...</th>\n",
       "      <td>...</td>\n",
       "      <td>...</td>\n",
       "    </tr>\n",
       "    <tr>\n",
       "      <th>328</th>\n",
       "      <td>2015.58</td>\n",
       "      <td>4.500000e-03</td>\n",
       "    </tr>\n",
       "    <tr>\n",
       "      <th>329</th>\n",
       "      <td>2015.67</td>\n",
       "      <td>4.300000e-03</td>\n",
       "    </tr>\n",
       "    <tr>\n",
       "      <th>330</th>\n",
       "      <td>2015.75</td>\n",
       "      <td>4.200000e-03</td>\n",
       "    </tr>\n",
       "    <tr>\n",
       "      <th>331</th>\n",
       "      <td>2015.83</td>\n",
       "      <td>3.800000e-03</td>\n",
       "    </tr>\n",
       "    <tr>\n",
       "      <th>332</th>\n",
       "      <td>2015.92</td>\n",
       "      <td>3.700000e-03</td>\n",
       "    </tr>\n",
       "  </tbody>\n",
       "</table>\n",
       "<p>333 rows × 2 columns</p>\n",
       "</div>"
      ],
      "text/plain": [
       "        date         price\n",
       "0    1957.00  4.110418e+08\n",
       "1    1959.00  6.794772e+07\n",
       "2    1960.00  5.242880e+06\n",
       "3    1965.00  2.642412e+06\n",
       "4    1970.00  7.340030e+05\n",
       "..       ...           ...\n",
       "328  2015.58  4.500000e-03\n",
       "329  2015.67  4.300000e-03\n",
       "330  2015.75  4.200000e-03\n",
       "331  2015.83  3.800000e-03\n",
       "332  2015.92  3.700000e-03\n",
       "\n",
       "[333 rows x 2 columns]"
      ]
     },
     "execution_count": 18,
     "metadata": {},
     "output_type": "execute_result"
    }
   ],
   "source": [
    "del ram_prices['Unnamed: 0']\n",
    "ram_prices"
   ]
  },
  {
   "cell_type": "code",
   "execution_count": 19,
   "id": "e07eec43",
   "metadata": {},
   "outputs": [],
   "source": [
    "#2000년 이전 데이터를 훈련데이터로, \n",
    "#2000년 이후 데이터를 평가하는 테스트 데이터로 사용\n",
    "\n",
    "data_train = ram_prices[ram_prices.date<2000]\n",
    "data_test = ram_prices[ram_prices.date>=2000]"
   ]
  },
  {
   "cell_type": "code",
   "execution_count": 20,
   "id": "8951ebd1",
   "metadata": {},
   "outputs": [],
   "source": [
    "x_train = data_train.date.to_numpy()[:, np.newaxis]"
   ]
  },
  {
   "cell_type": "code",
   "execution_count": 21,
   "id": "9736482f",
   "metadata": {},
   "outputs": [],
   "source": [
    "y_train = np.log(data_train.price)\n",
    "#숫자가 커서 편의를 위해 로그로 치환"
   ]
  },
  {
   "cell_type": "code",
   "execution_count": 22,
   "id": "5c33012d",
   "metadata": {},
   "outputs": [],
   "source": [
    "tree = DecisionTreeRegressor().fit(x_train,y_train)\n",
    "linear_reg = LinearRegression().fit(x_train,y_train)"
   ]
  },
  {
   "cell_type": "code",
   "execution_count": 23,
   "id": "1a083c5f",
   "metadata": {},
   "outputs": [],
   "source": [
    "x_all = ram_prices.date.to_numpy()[:,np.newaxis]"
   ]
  },
  {
   "cell_type": "code",
   "execution_count": 24,
   "id": "e1d1f738",
   "metadata": {},
   "outputs": [],
   "source": [
    "pred_tree = tree.predict(x_all)\n",
    "pred_lr = linear_reg.predict(x_all)\n",
    "#예측값"
   ]
  },
  {
   "cell_type": "code",
   "execution_count": 25,
   "id": "cc9f966a",
   "metadata": {},
   "outputs": [],
   "source": [
    "price_tree = np.exp(pred_tree)\n",
    "price_lr=np.exp(pred_lr)"
   ]
  },
  {
   "cell_type": "code",
   "execution_count": 26,
   "id": "f1105d8f",
   "metadata": {},
   "outputs": [
    {
     "data": {
      "image/png": "[encoded data removed]",
      "text/plain": [
       "<Figure size 432x288 with 1 Axes>"
      ]
     },
     "metadata": {
      "needs_background": "light"
     },
     "output_type": "display_data"
    }
   ],
   "source": [
    "plt.yticks(fontname='Arial') #한국어 폰트로는 지수의 음수승을 표현불가능\n",
    "plt.semilogy(data_train.date, data_train.price, label='훈련 데이터')\n",
    "#y축을 log 스케일로 사용\n",
    "plt.semilogy(data_test.date, data_test.price, label='테스트 데이터')\n",
    "plt.semilogy(ram_prices.date, price_tree, label='트리 예측')\n",
    "plt.semilogy(ram_prices.date, price_lr, label='선형회귀 예측')\n",
    "plt.legend()\n",
    "plt.show()\n",
    "\n",
    "#과대적합 의심 훈련 데이터와 트리예측이 같음...\n",
    "#트리 모델 같은 경우는 훈련데이터는 예측을 잘 하지만 \n",
    "#잘 알지 못하는 데이터의 예측은 잘 못한다. "
   ]
  },
  {
   "cell_type": "code",
   "execution_count": null,
   "id": "c78afa4d",
   "metadata": {},
   "outputs": [],
   "source": []
  },
  {
   "cell_type": "code",
   "execution_count": null,
   "id": "181da1bc",
   "metadata": {},
   "outputs": [],
   "source": []
  }
 ],
 "metadata": {
  "kernelspec": {
   "display_name": "Python 3 (ipykernel)",
   "language": "python",
   "name": "python3"
  },
  "language_info": {
   "codemirror_mode": {
    "name": "ipython",
    "version": 3
   },
   "file_extension": ".py",
   "mimetype": "text/x-python",
   "name": "python",
   "nbconvert_exporter": "python",
   "pygments_lexer": "ipython3",
   "version": "3.9.12"
  }
 },
 "nbformat": 4,
 "nbformat_minor": 5
}
