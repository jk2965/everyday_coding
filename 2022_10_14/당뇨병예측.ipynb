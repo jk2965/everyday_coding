{
 "cells": [
  {
   "cell_type": "markdown",
   "id": "f525efd4",
   "metadata": {},
   "source": [
    "## 1. 문제 정의 -당뇨병을 예측한다"
   ]
  },
  {
   "cell_type": "markdown",
   "id": "6728f57b",
   "metadata": {},
   "source": [
    "## 2. 데이터 수집"
   ]
  },
  {
   "cell_type": "code",
   "execution_count": 1,
   "id": "a0a5d47e",
   "metadata": {},
   "outputs": [],
   "source": [
    "import pandas as pd \n",
    "import numpy as np\n",
    "import matplotlib.pyplot as plt\n",
    "from matplotlib import rc\n",
    "plt.rc('font',family='Malgun Gothic')\n",
    "plt.rcParams['axes.unicode_minus']=False\n",
    "import seaborn as sns\n",
    "from sklearn.ensemble import RandomForestClassifier"
   ]
  },
  {
   "cell_type": "code",
   "execution_count": 2,
   "id": "188a5a74",
   "metadata": {},
   "outputs": [],
   "source": [
    "train_df = pd.read_excel('당뇨병.xlsx',sheet_name='train')\n",
    "test_df = pd.read_excel('당뇨병.xlsx',sheet_name='test')"
   ]
  },
  {
   "cell_type": "code",
   "execution_count": 3,
   "id": "592f68a5",
   "metadata": {},
   "outputs": [
    {
     "data": {
      "text/html": [
       "<div>\n",
       "<style scoped>\n",
       "    .dataframe tbody tr th:only-of-type {\n",
       "        vertical-align: middle;\n",
       "    }\n",
       "\n",
       "    .dataframe tbody tr th {\n",
       "        vertical-align: top;\n",
       "    }\n",
       "\n",
       "    .dataframe thead th {\n",
       "        text-align: right;\n",
       "    }\n",
       "</style>\n",
       "<table border=\"1\" class=\"dataframe\">\n",
       "  <thead>\n",
       "    <tr style=\"text-align: right;\">\n",
       "      <th></th>\n",
       "      <th>ID</th>\n",
       "      <th>임신</th>\n",
       "      <th>글루코스(탄수화물 화합물)</th>\n",
       "      <th>혈압</th>\n",
       "      <th>피부두께</th>\n",
       "      <th>인슐린</th>\n",
       "      <th>BMI</th>\n",
       "      <th>가족력</th>\n",
       "      <th>나이</th>\n",
       "      <th>당뇨여부</th>\n",
       "    </tr>\n",
       "  </thead>\n",
       "  <tbody>\n",
       "    <tr>\n",
       "      <th>0</th>\n",
       "      <td>1</td>\n",
       "      <td>6</td>\n",
       "      <td>148</td>\n",
       "      <td>72</td>\n",
       "      <td>35</td>\n",
       "      <td>0</td>\n",
       "      <td>33.6</td>\n",
       "      <td>0.627</td>\n",
       "      <td>50</td>\n",
       "      <td>1</td>\n",
       "    </tr>\n",
       "    <tr>\n",
       "      <th>1</th>\n",
       "      <td>3</td>\n",
       "      <td>1</td>\n",
       "      <td>89</td>\n",
       "      <td>66</td>\n",
       "      <td>23</td>\n",
       "      <td>94</td>\n",
       "      <td>28.1</td>\n",
       "      <td>0.167</td>\n",
       "      <td>21</td>\n",
       "      <td>0</td>\n",
       "    </tr>\n",
       "    <tr>\n",
       "      <th>2</th>\n",
       "      <td>4</td>\n",
       "      <td>0</td>\n",
       "      <td>137</td>\n",
       "      <td>40</td>\n",
       "      <td>35</td>\n",
       "      <td>168</td>\n",
       "      <td>43.1</td>\n",
       "      <td>2.288</td>\n",
       "      <td>33</td>\n",
       "      <td>1</td>\n",
       "    </tr>\n",
       "    <tr>\n",
       "      <th>3</th>\n",
       "      <td>6</td>\n",
       "      <td>2</td>\n",
       "      <td>197</td>\n",
       "      <td>70</td>\n",
       "      <td>45</td>\n",
       "      <td>543</td>\n",
       "      <td>30.5</td>\n",
       "      <td>0.158</td>\n",
       "      <td>53</td>\n",
       "      <td>1</td>\n",
       "    </tr>\n",
       "    <tr>\n",
       "      <th>4</th>\n",
       "      <td>8</td>\n",
       "      <td>5</td>\n",
       "      <td>166</td>\n",
       "      <td>72</td>\n",
       "      <td>19</td>\n",
       "      <td>175</td>\n",
       "      <td>25.8</td>\n",
       "      <td>0.587</td>\n",
       "      <td>51</td>\n",
       "      <td>1</td>\n",
       "    </tr>\n",
       "  </tbody>\n",
       "</table>\n",
       "</div>"
      ],
      "text/plain": [
       "   ID  임신  글루코스(탄수화물 화합물)  혈압  피부두께  인슐린   BMI    가족력  나이  당뇨여부\n",
       "0   1   6             148  72    35    0  33.6  0.627  50     1\n",
       "1   3   1              89  66    23   94  28.1  0.167  21     0\n",
       "2   4   0             137  40    35  168  43.1  2.288  33     1\n",
       "3   6   2             197  70    45  543  30.5  0.158  53     1\n",
       "4   8   5             166  72    19  175  25.8  0.587  51     1"
      ]
     },
     "execution_count": 3,
     "metadata": {},
     "output_type": "execute_result"
    }
   ],
   "source": [
    "train_df.head()"
   ]
  },
  {
   "cell_type": "code",
   "execution_count": 4,
   "id": "73c70dbc",
   "metadata": {},
   "outputs": [
    {
     "data": {
      "text/html": [
       "<div>\n",
       "<style scoped>\n",
       "    .dataframe tbody tr th:only-of-type {\n",
       "        vertical-align: middle;\n",
       "    }\n",
       "\n",
       "    .dataframe tbody tr th {\n",
       "        vertical-align: top;\n",
       "    }\n",
       "\n",
       "    .dataframe thead th {\n",
       "        text-align: right;\n",
       "    }\n",
       "</style>\n",
       "<table border=\"1\" class=\"dataframe\">\n",
       "  <thead>\n",
       "    <tr style=\"text-align: right;\">\n",
       "      <th></th>\n",
       "      <th>ID</th>\n",
       "      <th>임신</th>\n",
       "      <th>글루코스(탄수화물 화합물)</th>\n",
       "      <th>혈압</th>\n",
       "      <th>피부두께</th>\n",
       "      <th>인슐린</th>\n",
       "      <th>BMI</th>\n",
       "      <th>가족력</th>\n",
       "      <th>나이</th>\n",
       "      <th>당뇨여부</th>\n",
       "    </tr>\n",
       "  </thead>\n",
       "  <tbody>\n",
       "    <tr>\n",
       "      <th>0</th>\n",
       "      <td>2</td>\n",
       "      <td>1</td>\n",
       "      <td>85</td>\n",
       "      <td>66</td>\n",
       "      <td>29</td>\n",
       "      <td>0</td>\n",
       "      <td>26.6</td>\n",
       "      <td>0.351</td>\n",
       "      <td>31</td>\n",
       "      <td>0</td>\n",
       "    </tr>\n",
       "    <tr>\n",
       "      <th>1</th>\n",
       "      <td>5</td>\n",
       "      <td>3</td>\n",
       "      <td>78</td>\n",
       "      <td>50</td>\n",
       "      <td>32</td>\n",
       "      <td>88</td>\n",
       "      <td>31.0</td>\n",
       "      <td>0.248</td>\n",
       "      <td>26</td>\n",
       "      <td>1</td>\n",
       "    </tr>\n",
       "    <tr>\n",
       "      <th>2</th>\n",
       "      <td>7</td>\n",
       "      <td>1</td>\n",
       "      <td>189</td>\n",
       "      <td>60</td>\n",
       "      <td>23</td>\n",
       "      <td>846</td>\n",
       "      <td>30.1</td>\n",
       "      <td>0.398</td>\n",
       "      <td>59</td>\n",
       "      <td>1</td>\n",
       "    </tr>\n",
       "    <tr>\n",
       "      <th>3</th>\n",
       "      <td>9</td>\n",
       "      <td>0</td>\n",
       "      <td>118</td>\n",
       "      <td>84</td>\n",
       "      <td>47</td>\n",
       "      <td>230</td>\n",
       "      <td>45.8</td>\n",
       "      <td>0.551</td>\n",
       "      <td>31</td>\n",
       "      <td>1</td>\n",
       "    </tr>\n",
       "    <tr>\n",
       "      <th>4</th>\n",
       "      <td>10</td>\n",
       "      <td>1</td>\n",
       "      <td>103</td>\n",
       "      <td>30</td>\n",
       "      <td>38</td>\n",
       "      <td>83</td>\n",
       "      <td>43.3</td>\n",
       "      <td>0.183</td>\n",
       "      <td>33</td>\n",
       "      <td>0</td>\n",
       "    </tr>\n",
       "  </tbody>\n",
       "</table>\n",
       "</div>"
      ],
      "text/plain": [
       "   ID  임신  글루코스(탄수화물 화합물)  혈압  피부두께  인슐린   BMI    가족력  나이  당뇨여부\n",
       "0   2   1              85  66    29    0  26.6  0.351  31     0\n",
       "1   5   3              78  50    32   88  31.0  0.248  26     1\n",
       "2   7   1             189  60    23  846  30.1  0.398  59     1\n",
       "3   9   0             118  84    47  230  45.8  0.551  31     1\n",
       "4  10   1             103  30    38   83  43.3  0.183  33     0"
      ]
     },
     "execution_count": 4,
     "metadata": {},
     "output_type": "execute_result"
    }
   ],
   "source": [
    "test_df.head()"
   ]
  },
  {
   "cell_type": "code",
   "execution_count": 5,
   "id": "80a76ec7",
   "metadata": {},
   "outputs": [],
   "source": [
    "labels=['정상','당뇨']"
   ]
  },
  {
   "cell_type": "code",
   "execution_count": 6,
   "id": "4e826f38",
   "metadata": {},
   "outputs": [],
   "source": [
    "x_train=train_df.drop(['ID','당뇨여부'],axis=1)\n",
    "x_test=test_df.drop(['ID','당뇨여부'],axis=1)\n",
    "y_train=train_df['당뇨여부']\n",
    "y_test=test_df['당뇨여부']"
   ]
  },
  {
   "cell_type": "code",
   "execution_count": 7,
   "id": "2d3a2166",
   "metadata": {},
   "outputs": [
    {
     "data": {
      "text/html": [
       "<div>\n",
       "<style scoped>\n",
       "    .dataframe tbody tr th:only-of-type {\n",
       "        vertical-align: middle;\n",
       "    }\n",
       "\n",
       "    .dataframe tbody tr th {\n",
       "        vertical-align: top;\n",
       "    }\n",
       "\n",
       "    .dataframe thead th {\n",
       "        text-align: right;\n",
       "    }\n",
       "</style>\n",
       "<table border=\"1\" class=\"dataframe\">\n",
       "  <thead>\n",
       "    <tr style=\"text-align: right;\">\n",
       "      <th></th>\n",
       "      <th>임신</th>\n",
       "      <th>글루코스(탄수화물 화합물)</th>\n",
       "      <th>혈압</th>\n",
       "      <th>피부두께</th>\n",
       "      <th>인슐린</th>\n",
       "      <th>BMI</th>\n",
       "      <th>가족력</th>\n",
       "      <th>나이</th>\n",
       "    </tr>\n",
       "  </thead>\n",
       "  <tbody>\n",
       "    <tr>\n",
       "      <th>0</th>\n",
       "      <td>6</td>\n",
       "      <td>148</td>\n",
       "      <td>72</td>\n",
       "      <td>35</td>\n",
       "      <td>0</td>\n",
       "      <td>33.6</td>\n",
       "      <td>0.627</td>\n",
       "      <td>50</td>\n",
       "    </tr>\n",
       "    <tr>\n",
       "      <th>1</th>\n",
       "      <td>1</td>\n",
       "      <td>89</td>\n",
       "      <td>66</td>\n",
       "      <td>23</td>\n",
       "      <td>94</td>\n",
       "      <td>28.1</td>\n",
       "      <td>0.167</td>\n",
       "      <td>21</td>\n",
       "    </tr>\n",
       "    <tr>\n",
       "      <th>2</th>\n",
       "      <td>0</td>\n",
       "      <td>137</td>\n",
       "      <td>40</td>\n",
       "      <td>35</td>\n",
       "      <td>168</td>\n",
       "      <td>43.1</td>\n",
       "      <td>2.288</td>\n",
       "      <td>33</td>\n",
       "    </tr>\n",
       "    <tr>\n",
       "      <th>3</th>\n",
       "      <td>2</td>\n",
       "      <td>197</td>\n",
       "      <td>70</td>\n",
       "      <td>45</td>\n",
       "      <td>543</td>\n",
       "      <td>30.5</td>\n",
       "      <td>0.158</td>\n",
       "      <td>53</td>\n",
       "    </tr>\n",
       "    <tr>\n",
       "      <th>4</th>\n",
       "      <td>5</td>\n",
       "      <td>166</td>\n",
       "      <td>72</td>\n",
       "      <td>19</td>\n",
       "      <td>175</td>\n",
       "      <td>25.8</td>\n",
       "      <td>0.587</td>\n",
       "      <td>51</td>\n",
       "    </tr>\n",
       "  </tbody>\n",
       "</table>\n",
       "</div>"
      ],
      "text/plain": [
       "   임신  글루코스(탄수화물 화합물)  혈압  피부두께  인슐린   BMI    가족력  나이\n",
       "0   6             148  72    35    0  33.6  0.627  50\n",
       "1   1              89  66    23   94  28.1  0.167  21\n",
       "2   0             137  40    35  168  43.1  2.288  33\n",
       "3   2             197  70    45  543  30.5  0.158  53\n",
       "4   5             166  72    19  175  25.8  0.587  51"
      ]
     },
     "execution_count": 7,
     "metadata": {},
     "output_type": "execute_result"
    }
   ],
   "source": [
    "x_train.head()"
   ]
  },
  {
   "cell_type": "markdown",
   "id": "fa72da72",
   "metadata": {},
   "source": [
    "#### 모델링"
   ]
  },
  {
   "cell_type": "markdown",
   "id": "506cf206",
   "metadata": {},
   "source": [
    "##### random forest(분류)"
   ]
  },
  {
   "cell_type": "code",
   "execution_count": 8,
   "id": "81eeff04",
   "metadata": {},
   "outputs": [
    {
     "data": {
      "text/plain": [
       "RandomForestClassifier(max_depth=3)"
      ]
     },
     "execution_count": 8,
     "metadata": {},
     "output_type": "execute_result"
    }
   ],
   "source": [
    "rf = RandomForestClassifier(max_depth=3)\n",
    "#모델 생성\n",
    "rf.fit(x_train,y_train)\n",
    "#모델 학습\n",
    "\n",
    "#과대 적합을 해소하기 위해서는 \n",
    "#max_depth나 learning_rate등의 하이퍼파라미터를 주면 된다."
   ]
  },
  {
   "cell_type": "code",
   "execution_count": 9,
   "id": "388c79b5",
   "metadata": {},
   "outputs": [
    {
     "data": {
      "text/plain": [
       "array([0, 0, 1, 0, 0, 0, 1, 1, 0, 0, 1, 1, 0, 0, 1, 0, 0, 0, 0, 0, 0, 0,\n",
       "       0, 0, 0, 0, 0, 0, 1, 0, 0, 0, 0, 0, 0, 0, 0, 0, 0, 0, 1, 1, 0, 1,\n",
       "       0, 0, 1, 0, 1, 1, 1, 0, 0, 1, 1, 0, 0, 0, 0, 0, 0, 1, 0, 0, 0, 0,\n",
       "       0, 0, 0, 0, 0, 0, 1, 0, 0, 0, 0, 0, 0, 1, 1, 0, 0, 0, 1, 0, 0, 0,\n",
       "       0, 0, 0, 1, 1, 0, 0, 0, 0, 0, 0, 0, 0, 1, 0, 0, 0, 0, 0, 0, 0, 0,\n",
       "       0, 0, 0, 1, 0, 0, 0, 1, 0, 1, 0, 0, 0, 1, 0, 0, 1, 1, 0, 0, 0, 0,\n",
       "       0, 0, 0, 0, 0, 0, 0, 1, 1, 0, 0, 0, 0, 1, 0, 1, 0, 0, 0, 0, 0, 0,\n",
       "       1, 0, 0, 1, 0, 0, 0], dtype=int64)"
      ]
     },
     "execution_count": 9,
     "metadata": {},
     "output_type": "execute_result"
    }
   ],
   "source": [
    "pred=rf.predict(x_test)\n",
    "pred\n",
    "#예측값 산출"
   ]
  },
  {
   "cell_type": "code",
   "execution_count": 10,
   "id": "7b793188",
   "metadata": {},
   "outputs": [
    {
     "data": {
      "text/plain": [
       "0.8351063829787234"
      ]
     },
     "execution_count": 10,
     "metadata": {},
     "output_type": "execute_result"
    }
   ],
   "source": [
    "rf.score(x_train,y_train)\n",
    "#분류모델이기 때문에 model.score()의 평가지표는 Accuracy(정확도)\n",
    "#과대 적합"
   ]
  },
  {
   "cell_type": "code",
   "execution_count": 11,
   "id": "8e8a7ee3",
   "metadata": {},
   "outputs": [
    {
     "data": {
      "text/plain": [
       "0.7515527950310559"
      ]
     },
     "execution_count": 11,
     "metadata": {},
     "output_type": "execute_result"
    }
   ],
   "source": [
    "rf.score(x_test,y_test)\n",
    "#분류모델이기 때문에 model.score()의 평가지표는 Accuracy(정확도)"
   ]
  },
  {
   "cell_type": "markdown",
   "id": "ad6cf9a2",
   "metadata": {},
   "source": [
    "#### ada boost"
   ]
  },
  {
   "cell_type": "markdown",
   "id": "54f85fd1",
   "metadata": {},
   "source": [
    "##### 분류모델"
   ]
  },
  {
   "cell_type": "code",
   "execution_count": 12,
   "id": "5701d6e3",
   "metadata": {},
   "outputs": [],
   "source": [
    "from sklearn.ensemble import AdaBoostClassifier"
   ]
  },
  {
   "cell_type": "code",
   "execution_count": 13,
   "id": "d10c3bdf",
   "metadata": {},
   "outputs": [],
   "source": [
    "ada = AdaBoostClassifier(n_estimators=1000,random_state=0,\n",
    "                         learning_rate=0.01).fit(x_train,y_train)\n",
    "#모델 선정,1000개의 트리,0번시드,학습률 0.01\n",
    "#모델 학습"
   ]
  },
  {
   "cell_type": "code",
   "execution_count": 14,
   "id": "bbd75870",
   "metadata": {},
   "outputs": [
    {
     "data": {
      "text/plain": [
       "array([0, 0, 1, 0, 0, 0, 1, 1, 0, 0, 1, 1, 0, 0, 1, 0, 0, 0, 0, 0, 0, 0,\n",
       "       0, 0, 0, 0, 0, 0, 1, 0, 0, 0, 0, 0, 0, 0, 0, 0, 0, 0, 1, 1, 0, 1,\n",
       "       0, 0, 1, 0, 1, 1, 1, 0, 0, 1, 1, 0, 0, 0, 0, 0, 0, 1, 0, 0, 0, 0,\n",
       "       0, 0, 0, 0, 0, 0, 1, 0, 0, 0, 0, 0, 0, 1, 1, 0, 0, 0, 1, 0, 0, 0,\n",
       "       0, 0, 0, 1, 1, 0, 0, 0, 0, 0, 0, 0, 0, 1, 0, 0, 0, 0, 0, 0, 0, 0,\n",
       "       0, 0, 0, 1, 0, 0, 0, 1, 0, 1, 0, 0, 0, 1, 0, 0, 1, 1, 0, 0, 0, 0,\n",
       "       0, 0, 0, 0, 0, 0, 0, 1, 1, 0, 0, 0, 0, 1, 0, 1, 0, 0, 0, 0, 0, 0,\n",
       "       1, 0, 0, 1, 0, 0, 0], dtype=int64)"
      ]
     },
     "execution_count": 14,
     "metadata": {},
     "output_type": "execute_result"
    }
   ],
   "source": [
    "pred=rf.predict(x_test)\n",
    "pred\n",
    "#예측값 산출"
   ]
  },
  {
   "cell_type": "code",
   "execution_count": 15,
   "id": "b841d85c",
   "metadata": {},
   "outputs": [
    {
     "data": {
      "text/plain": [
       "0.8297872340425532"
      ]
     },
     "execution_count": 15,
     "metadata": {},
     "output_type": "execute_result"
    }
   ],
   "source": [
    "ada.score(x_train,y_train)\n",
    "#분류모델이기 때문에 model.score()의 평가지표는 Accuracy(정확도)"
   ]
  },
  {
   "cell_type": "code",
   "execution_count": 16,
   "id": "c8eff2cc",
   "metadata": {},
   "outputs": [
    {
     "data": {
      "text/plain": [
       "0.7577639751552795"
      ]
     },
     "execution_count": 16,
     "metadata": {},
     "output_type": "execute_result"
    }
   ],
   "source": [
    "ada.score(x_test,y_test)\n",
    "#분류모델이기 때문에 model.score()의 평가지표는 Accuracy(정확도)"
   ]
  },
  {
   "cell_type": "markdown",
   "id": "2b31887f",
   "metadata": {},
   "source": [
    "##### 회귀모델"
   ]
  },
  {
   "cell_type": "code",
   "execution_count": 17,
   "id": "6150ec25",
   "metadata": {},
   "outputs": [],
   "source": [
    "from sklearn.ensemble import AdaBoostRegressor"
   ]
  },
  {
   "cell_type": "code",
   "execution_count": 18,
   "id": "c2a0cf41",
   "metadata": {},
   "outputs": [],
   "source": [
    "ada = AdaBoostRegressor(n_estimators=100,learning_rate=0.01,\n",
    "                          random_state=0).fit(x_train,y_train)"
   ]
  },
  {
   "cell_type": "code",
   "execution_count": 19,
   "id": "8a1ecfdd",
   "metadata": {},
   "outputs": [
    {
     "data": {
      "text/plain": [
       "array([0, 0, 1, 0, 0, 0, 1, 1, 0, 0, 1, 1, 0, 0, 1, 0, 0, 0, 0, 0, 0, 0,\n",
       "       0, 0, 0, 0, 0, 0, 1, 0, 0, 0, 0, 0, 0, 0, 0, 0, 0, 0, 1, 1, 0, 1,\n",
       "       0, 0, 1, 0, 1, 1, 1, 0, 0, 1, 1, 0, 0, 0, 0, 0, 0, 1, 0, 0, 0, 0,\n",
       "       0, 0, 0, 0, 0, 0, 1, 0, 0, 0, 0, 0, 0, 1, 1, 0, 0, 0, 1, 0, 0, 0,\n",
       "       0, 0, 0, 1, 1, 0, 0, 0, 0, 0, 0, 0, 0, 1, 0, 0, 0, 0, 0, 0, 0, 0,\n",
       "       0, 0, 0, 1, 0, 0, 0, 1, 0, 1, 0, 0, 0, 1, 0, 0, 1, 1, 0, 0, 0, 0,\n",
       "       0, 0, 0, 0, 0, 0, 0, 1, 1, 0, 0, 0, 0, 1, 0, 1, 0, 0, 0, 0, 0, 0,\n",
       "       1, 0, 0, 1, 0, 0, 0], dtype=int64)"
      ]
     },
     "execution_count": 19,
     "metadata": {},
     "output_type": "execute_result"
    }
   ],
   "source": [
    "pred=rf.predict(x_test)\n",
    "pred\n",
    "#예측값 산출"
   ]
  },
  {
   "cell_type": "code",
   "execution_count": 20,
   "id": "690848a6",
   "metadata": {},
   "outputs": [
    {
     "data": {
      "text/plain": [
       "0.49880271724608594"
      ]
     },
     "execution_count": 20,
     "metadata": {},
     "output_type": "execute_result"
    }
   ],
   "source": [
    "ada.score(x_train,y_train)\n",
    "#회귀모델의 model.score()=r2_score"
   ]
  },
  {
   "cell_type": "code",
   "execution_count": 21,
   "id": "d2697ce5",
   "metadata": {},
   "outputs": [
    {
     "data": {
      "text/plain": [
       "0.24518236016289818"
      ]
     },
     "execution_count": 21,
     "metadata": {},
     "output_type": "execute_result"
    }
   ],
   "source": [
    "ada.score(x_test,y_test)\n",
    "#회귀모델의 model.score()=r2_score"
   ]
  },
  {
   "cell_type": "markdown",
   "id": "b6224b74",
   "metadata": {},
   "source": [
    "#### Gradient Boosting Model"
   ]
  },
  {
   "cell_type": "code",
   "execution_count": 22,
   "id": "ccdd5af5",
   "metadata": {},
   "outputs": [],
   "source": [
    "from sklearn.ensemble import GradientBoostingClassifier"
   ]
  },
  {
   "cell_type": "code",
   "execution_count": 23,
   "id": "b53e4805",
   "metadata": {},
   "outputs": [],
   "source": [
    "gbm = GradientBoostingClassifier(n_estimators=1000\n",
    "                                 ,learning_rate=0.01,\n",
    "                                 max_depth=2,\n",
    "                                 random_state=0).fit(x_train,y_train)\n",
    "#모델 선정 및 학습"
   ]
  },
  {
   "cell_type": "code",
   "execution_count": 24,
   "id": "37690fc6",
   "metadata": {},
   "outputs": [
    {
     "data": {
      "text/plain": [
       "0.898936170212766"
      ]
     },
     "execution_count": 24,
     "metadata": {},
     "output_type": "execute_result"
    }
   ],
   "source": [
    "gbm.score(x_train,y_train)\n",
    "#분류모델의 기준 = Accuracy(정확도)"
   ]
  },
  {
   "cell_type": "code",
   "execution_count": 25,
   "id": "441b8e70",
   "metadata": {},
   "outputs": [
    {
     "data": {
      "text/plain": [
       "0.7515527950310559"
      ]
     },
     "execution_count": 25,
     "metadata": {},
     "output_type": "execute_result"
    }
   ],
   "source": [
    "gbm.score(x_test,y_test)\n",
    "#분류모델의 기준 = Accuracy(정확도)"
   ]
  },
  {
   "cell_type": "markdown",
   "id": "565058db",
   "metadata": {},
   "source": [
    "##### xgboost"
   ]
  },
  {
   "cell_type": "code",
   "execution_count": 26,
   "id": "c9f14472",
   "metadata": {},
   "outputs": [],
   "source": [
    "import xgboost as xgb"
   ]
  },
  {
   "cell_type": "code",
   "execution_count": 27,
   "id": "8d56e1f9",
   "metadata": {},
   "outputs": [],
   "source": [
    "xg = xgb.XGBClassifier(n_estimators=100,random_state=0\n",
    "                       ,learning_rate=0.01).fit(x_train,y_train)\n",
    "#모델 선정 및 학습"
   ]
  },
  {
   "cell_type": "code",
   "execution_count": 28,
   "id": "b3bbead0",
   "metadata": {},
   "outputs": [
    {
     "data": {
      "text/plain": [
       "0.9042553191489362"
      ]
     },
     "execution_count": 28,
     "metadata": {},
     "output_type": "execute_result"
    }
   ],
   "source": [
    "xg.score(x_train,y_train)\n",
    "#분류모델의 기준 = Accuracy(정확도)"
   ]
  },
  {
   "cell_type": "code",
   "execution_count": 29,
   "id": "b857bd2d",
   "metadata": {},
   "outputs": [
    {
     "data": {
      "text/plain": [
       "0.7763975155279503"
      ]
     },
     "execution_count": 29,
     "metadata": {},
     "output_type": "execute_result"
    }
   ],
   "source": [
    "xg.score(x_test,y_test)\n",
    "#분류모델의 기준 = Accuracy(정확도)"
   ]
  },
  {
   "cell_type": "markdown",
   "id": "8bcaedda",
   "metadata": {},
   "source": [
    "##### light GBM"
   ]
  },
  {
   "cell_type": "code",
   "execution_count": 30,
   "id": "20a91987",
   "metadata": {},
   "outputs": [],
   "source": [
    "from lightgbm import LGBMClassifier"
   ]
  },
  {
   "cell_type": "code",
   "execution_count": 31,
   "id": "baa90482",
   "metadata": {},
   "outputs": [],
   "source": [
    "lgb = LGBMClassifier(n_estimators=1000,random_state=0,\n",
    "                    learning_rate=0.01,max_depth=3).fit(x_train,y_train)"
   ]
  },
  {
   "cell_type": "code",
   "execution_count": 32,
   "id": "fac9a136",
   "metadata": {},
   "outputs": [
    {
     "data": {
      "text/plain": [
       "0.9069148936170213"
      ]
     },
     "execution_count": 32,
     "metadata": {},
     "output_type": "execute_result"
    }
   ],
   "source": [
    "lgb.score(x_train,y_train)\n",
    "#분류모델의 기준 = Accuracy(정확도)"
   ]
  },
  {
   "cell_type": "code",
   "execution_count": 33,
   "id": "fd59d67e",
   "metadata": {},
   "outputs": [
    {
     "data": {
      "text/plain": [
       "0.7763975155279503"
      ]
     },
     "execution_count": 33,
     "metadata": {},
     "output_type": "execute_result"
    }
   ],
   "source": [
    "lgb.score(x_test,y_test)\n",
    "#분류모델의 기준 = Accuracy(정확도)"
   ]
  },
  {
   "cell_type": "code",
   "execution_count": null,
   "id": "892a1840",
   "metadata": {},
   "outputs": [],
   "source": []
  }
 ],
 "metadata": {
  "kernelspec": {
   "display_name": "Python 3 (ipykernel)",
   "language": "python",
   "name": "python3"
  },
  "language_info": {
   "codemirror_mode": {
    "name": "ipython",
    "version": 3
   },
   "file_extension": ".py",
   "mimetype": "text/x-python",
   "name": "python",
   "nbconvert_exporter": "python",
   "pygments_lexer": "ipython3",
   "version": "3.9.12"
  }
 },
 "nbformat": 4,
 "nbformat_minor": 5
}
