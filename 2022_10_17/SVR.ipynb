{
 "cells": [
  {
   "cell_type": "code",
   "execution_count": 1,
   "id": "8d1dc452",
   "metadata": {},
   "outputs": [],
   "source": [
    "import pandas as pd\n",
    "import numpy as np\n",
    "from sklearn.svm import SVR\n",
    "from sklearn.datasets import load_boston,make_regression\n",
    "from sklearn.metrics import mean_squared_error\n",
    "from sklearn.model_selection import train_test_split,cross_val_score,GridSearchCV\n",
    "from sklearn.preprocessing import MinMaxScaler\n",
    "import matplotlib.pyplot as plt\n",
    "from matplotlib import rc"
   ]
  },
  {
   "cell_type": "code",
   "execution_count": 2,
   "id": "24bc9522",
   "metadata": {},
   "outputs": [
    {
     "name": "stderr",
     "output_type": "stream",
     "text": [
      "C:\\Users\\user\\anaconda3\\lib\\site-packages\\sklearn\\utils\\deprecation.py:87: FutureWarning: Function load_boston is deprecated; `load_boston` is deprecated in 1.0 and will be removed in 1.2.\n",
      "\n",
      "    The Boston housing prices dataset has an ethical problem. You can refer to\n",
      "    the documentation of this function for further details.\n",
      "\n",
      "    The scikit-learn maintainers therefore strongly discourage the use of this\n",
      "    dataset unless the purpose of the code is to study and educate about\n",
      "    ethical issues in data science and machine learning.\n",
      "\n",
      "    In this special case, you can fetch the dataset from the original\n",
      "    source::\n",
      "\n",
      "        import pandas as pd\n",
      "        import numpy as np\n",
      "\n",
      "\n",
      "        data_url = \"http://lib.stat.cmu.edu/datasets/boston\"\n",
      "        raw_df = pd.read_csv(data_url, sep=\"\\s+\", skiprows=22, header=None)\n",
      "        data = np.hstack([raw_df.values[::2, :], raw_df.values[1::2, :2]])\n",
      "        target = raw_df.values[1::2, 2]\n",
      "\n",
      "    Alternative datasets include the California housing dataset (i.e.\n",
      "    :func:`~sklearn.datasets.fetch_california_housing`) and the Ames housing\n",
      "    dataset. You can load the datasets as follows::\n",
      "\n",
      "        from sklearn.datasets import fetch_california_housing\n",
      "        housing = fetch_california_housing()\n",
      "\n",
      "    for the California housing dataset and::\n",
      "\n",
      "        from sklearn.datasets import fetch_openml\n",
      "        housing = fetch_openml(name=\"house_prices\", as_frame=True)\n",
      "\n",
      "    for the Ames housing dataset.\n",
      "    \n",
      "  warnings.warn(msg, category=FutureWarning)\n"
     ]
    }
   ],
   "source": [
    "boston=load_boston()\n",
    "x= boston.data\n",
    "y= boston.target"
   ]
  },
  {
   "cell_type": "code",
   "execution_count": 3,
   "id": "fc2f05b7",
   "metadata": {},
   "outputs": [],
   "source": [
    "#스케일러\n",
    "scaler = MinMaxScaler()\n",
    "x_scale = scaler.fit_transform(x)"
   ]
  },
  {
   "cell_type": "code",
   "execution_count": 4,
   "id": "4d45c7b4",
   "metadata": {},
   "outputs": [],
   "source": [
    "#train,test데이터 분할\n",
    "x_train,x_test,y_train,y_test=train_test_split(x_scale,y,\n",
    "                                              test_size=0.3,\n",
    "                                              random_state=0)"
   ]
  },
  {
   "cell_type": "code",
   "execution_count": 5,
   "id": "2a693ddb",
   "metadata": {},
   "outputs": [
    {
     "data": {
      "text/plain": [
       "(354, 13)"
      ]
     },
     "execution_count": 5,
     "metadata": {},
     "output_type": "execute_result"
    }
   ],
   "source": [
    "x_train.shape"
   ]
  },
  {
   "cell_type": "code",
   "execution_count": 6,
   "id": "022055b3",
   "metadata": {},
   "outputs": [
    {
     "data": {
      "text/plain": [
       "(354,)"
      ]
     },
     "execution_count": 6,
     "metadata": {},
     "output_type": "execute_result"
    }
   ],
   "source": [
    "y_train.shape"
   ]
  },
  {
   "cell_type": "code",
   "execution_count": 7,
   "id": "96ec2a24",
   "metadata": {},
   "outputs": [
    {
     "data": {
      "text/plain": [
       "(152, 13)"
      ]
     },
     "execution_count": 7,
     "metadata": {},
     "output_type": "execute_result"
    }
   ],
   "source": [
    "x_test.shape"
   ]
  },
  {
   "cell_type": "code",
   "execution_count": 8,
   "id": "86609cc0",
   "metadata": {},
   "outputs": [
    {
     "data": {
      "text/plain": [
       "(152,)"
      ]
     },
     "execution_count": 8,
     "metadata": {},
     "output_type": "execute_result"
    }
   ],
   "source": [
    "y_test.shape"
   ]
  },
  {
   "cell_type": "code",
   "execution_count": 9,
   "id": "daca1cd7",
   "metadata": {},
   "outputs": [],
   "source": [
    "#svr 모델 정의,학습\n",
    "#비선형 -가우시안, gamma='auto'\n",
    "svr = SVR(kernel='rbf',gamma='auto')"
   ]
  },
  {
   "cell_type": "code",
   "execution_count": 10,
   "id": "6343f1b6",
   "metadata": {},
   "outputs": [
    {
     "data": {
      "text/plain": [
       "SVR(gamma='auto')"
      ]
     },
     "execution_count": 10,
     "metadata": {},
     "output_type": "execute_result"
    }
   ],
   "source": [
    "#모델 학습\n",
    "svr.fit(x_train,y_train)"
   ]
  },
  {
   "cell_type": "code",
   "execution_count": 11,
   "id": "c8da8570",
   "metadata": {},
   "outputs": [
    {
     "name": "stdout",
     "output_type": "stream",
     "text": [
      "R-squared: 0.38714677444380763\n"
     ]
    }
   ],
   "source": [
    "#svr모델 스코어 뽑기\n",
    "scores = svr.score(x_train,y_train)\n",
    "#회귀모델이므로 model.score()의 기준 = r2_score\n",
    "print('R-squared:',scores)"
   ]
  },
  {
   "cell_type": "code",
   "execution_count": 12,
   "id": "6887849d",
   "metadata": {},
   "outputs": [
    {
     "name": "stdout",
     "output_type": "stream",
     "text": [
      "CV mean score 0.15191153352927586\n"
     ]
    }
   ],
   "source": [
    "cv_scores = cross_val_score(svr,x_scale,y,cv= 5)\n",
    "print('CV mean score',cv_scores.mean())\n",
    "#교차검증, cross_val_score(model,학습데이터,학습데이터 정답값,cv개수)"
   ]
  },
  {
   "cell_type": "code",
   "execution_count": 13,
   "id": "b77fdae9",
   "metadata": {},
   "outputs": [
    {
     "name": "stdout",
     "output_type": "stream",
     "text": [
      "MSE: 55.32889250645819\n"
     ]
    }
   ],
   "source": [
    "#예측값 산출\n",
    "pred = svr.predict(x_test)\n",
    "#mse(평균제곱오차)값 산출\n",
    "mse = mean_squared_error(y_test,pred)\n",
    "print('MSE:',mse)"
   ]
  },
  {
   "cell_type": "code",
   "execution_count": 14,
   "id": "9b7f0932",
   "metadata": {},
   "outputs": [
    {
     "data": {
      "image/png": "[encoded data removed]",
      "text/plain": [
       "<Figure size 432x288 with 1 Axes>"
      ]
     },
     "metadata": {
      "needs_background": "light"
     },
     "output_type": "display_data"
    }
   ],
   "source": [
    "#그래프 시각화\n",
    "x_ax = range(len(y_test))\n",
    "\n",
    "plt.plot(x_ax,y_test,label='original')\n",
    "plt.plot(x_ax,pred,label='predicted')\n",
    "plt.title('Boston test and predicted data')\n",
    "plt.legend()\n",
    "plt.show()"
   ]
  },
  {
   "cell_type": "markdown",
   "id": "92257a0a",
   "metadata": {},
   "source": [
    "### 그리드서치"
   ]
  },
  {
   "cell_type": "code",
   "execution_count": 15,
   "id": "2840ada6",
   "metadata": {},
   "outputs": [],
   "source": [
    "#모델 선정\n",
    "svm=SVR(kernel='rbf')\n",
    "#선정모델의 파라미터 딕셔너리화\n",
    "parameters={'C':[0.001,0.01,0.1,1,10,25,50,100],\n",
    "            'gamma':[0.001,0.01,0.1,1,10,25,50,100]}"
   ]
  },
  {
   "cell_type": "code",
   "execution_count": 16,
   "id": "aa47ad47",
   "metadata": {},
   "outputs": [],
   "source": [
    "#그리드서치\n",
    "grid_svm=GridSearchCV(svm,param_grid=parameters,cv=5)"
   ]
  },
  {
   "cell_type": "code",
   "execution_count": 17,
   "id": "c9ed6df2",
   "metadata": {},
   "outputs": [
    {
     "data": {
      "text/plain": [
       "GridSearchCV(cv=5, estimator=SVR(),\n",
       "             param_grid={'C': [0.001, 0.01, 0.1, 1, 10, 25, 50, 100],\n",
       "                         'gamma': [0.001, 0.01, 0.1, 1, 10, 25, 50, 100]})"
      ]
     },
     "execution_count": 17,
     "metadata": {},
     "output_type": "execute_result"
    }
   ],
   "source": [
    "#모델학습\n",
    "grid_svm.fit(x_scale,y)"
   ]
  },
  {
   "cell_type": "code",
   "execution_count": 18,
   "id": "cc22d380",
   "metadata": {},
   "outputs": [
    {
     "data": {
      "text/html": [
       "<div>\n",
       "<style scoped>\n",
       "    .dataframe tbody tr th:only-of-type {\n",
       "        vertical-align: middle;\n",
       "    }\n",
       "\n",
       "    .dataframe tbody tr th {\n",
       "        vertical-align: top;\n",
       "    }\n",
       "\n",
       "    .dataframe thead th {\n",
       "        text-align: right;\n",
       "    }\n",
       "</style>\n",
       "<table border=\"1\" class=\"dataframe\">\n",
       "  <thead>\n",
       "    <tr style=\"text-align: right;\">\n",
       "      <th></th>\n",
       "      <th>C</th>\n",
       "      <th>gamma</th>\n",
       "      <th>평균 score</th>\n",
       "    </tr>\n",
       "  </thead>\n",
       "  <tbody>\n",
       "    <tr>\n",
       "      <th>58</th>\n",
       "      <td>100.0</td>\n",
       "      <td>0.10</td>\n",
       "      <td>0.613716</td>\n",
       "    </tr>\n",
       "    <tr>\n",
       "      <th>50</th>\n",
       "      <td>50.0</td>\n",
       "      <td>0.10</td>\n",
       "      <td>0.610651</td>\n",
       "    </tr>\n",
       "    <tr>\n",
       "      <th>42</th>\n",
       "      <td>25.0</td>\n",
       "      <td>0.10</td>\n",
       "      <td>0.573947</td>\n",
       "    </tr>\n",
       "    <tr>\n",
       "      <th>34</th>\n",
       "      <td>10.0</td>\n",
       "      <td>0.10</td>\n",
       "      <td>0.518897</td>\n",
       "    </tr>\n",
       "    <tr>\n",
       "      <th>57</th>\n",
       "      <td>100.0</td>\n",
       "      <td>0.01</td>\n",
       "      <td>0.504687</td>\n",
       "    </tr>\n",
       "    <tr>\n",
       "      <th>...</th>\n",
       "      <td>...</td>\n",
       "      <td>...</td>\n",
       "      <td>...</td>\n",
       "    </tr>\n",
       "    <tr>\n",
       "      <th>46</th>\n",
       "      <td>25.0</td>\n",
       "      <td>50.00</td>\n",
       "      <td>-0.607953</td>\n",
       "    </tr>\n",
       "    <tr>\n",
       "      <th>39</th>\n",
       "      <td>10.0</td>\n",
       "      <td>100.00</td>\n",
       "      <td>-0.620004</td>\n",
       "    </tr>\n",
       "    <tr>\n",
       "      <th>55</th>\n",
       "      <td>50.0</td>\n",
       "      <td>100.00</td>\n",
       "      <td>-0.689042</td>\n",
       "    </tr>\n",
       "    <tr>\n",
       "      <th>63</th>\n",
       "      <td>100.0</td>\n",
       "      <td>100.00</td>\n",
       "      <td>-0.689042</td>\n",
       "    </tr>\n",
       "    <tr>\n",
       "      <th>47</th>\n",
       "      <td>25.0</td>\n",
       "      <td>100.00</td>\n",
       "      <td>-0.691222</td>\n",
       "    </tr>\n",
       "  </tbody>\n",
       "</table>\n",
       "<p>64 rows × 3 columns</p>\n",
       "</div>"
      ],
      "text/plain": [
       "        C   gamma  평균 score\n",
       "58  100.0    0.10  0.613716\n",
       "50   50.0    0.10  0.610651\n",
       "42   25.0    0.10  0.573947\n",
       "34   10.0    0.10  0.518897\n",
       "57  100.0    0.01  0.504687\n",
       "..    ...     ...       ...\n",
       "46   25.0   50.00 -0.607953\n",
       "39   10.0  100.00 -0.620004\n",
       "55   50.0  100.00 -0.689042\n",
       "63  100.0  100.00 -0.689042\n",
       "47   25.0  100.00 -0.691222\n",
       "\n",
       "[64 rows x 3 columns]"
      ]
     },
     "execution_count": 18,
     "metadata": {},
     "output_type": "execute_result"
    }
   ],
   "source": [
    "#데이터 프레임 생성\n",
    "result=pd.DataFrame(grid_svm.cv_results_['params'])\n",
    "#model.cv_results_에서 'params'열 추출해서 데이터프레임화(파라미터)\n",
    "result['평균 score'] = grid_svm.cv_results_['mean_test_score']\n",
    "#model.cv_results_에서 'params'열 추출해서 데이터프레임화(교차검증 평균값)\n",
    "result.sort_values(by='평균 score',ascending=False)\n",
    "#평균 score열이 큰값부터 정렬"
   ]
  },
  {
   "cell_type": "markdown",
   "id": "ec87aa36",
   "metadata": {},
   "source": [
    "### 최적의 모델"
   ]
  },
  {
   "cell_type": "code",
   "execution_count": 19,
   "id": "bee06fa1",
   "metadata": {},
   "outputs": [
    {
     "data": {
      "text/plain": [
       "SVR(C=100, gamma=0.1)"
      ]
     },
     "execution_count": 19,
     "metadata": {},
     "output_type": "execute_result"
    }
   ],
   "source": [
    "#모델 선정,학습\n",
    "svr = SVR(kernel='rbf',gamma=0.1,C=100)\n",
    "svr.fit(x_train,y_train)"
   ]
  },
  {
   "cell_type": "code",
   "execution_count": 20,
   "id": "2a303a0e",
   "metadata": {},
   "outputs": [],
   "source": [
    "#교차검증\n",
    "cv_score = cross_val_score(svr,x_scale,y,cv=5)"
   ]
  },
  {
   "cell_type": "code",
   "execution_count": 21,
   "id": "9d7f3d64",
   "metadata": {},
   "outputs": [
    {
     "name": "stdout",
     "output_type": "stream",
     "text": [
      "CV mean score: 0.6137158223739019\n"
     ]
    }
   ],
   "source": [
    "print('CV mean score:',cv_score.mean())"
   ]
  },
  {
   "cell_type": "code",
   "execution_count": 22,
   "id": "b6fb462e",
   "metadata": {},
   "outputs": [],
   "source": [
    "#예측값 산출\n",
    "pred = svr.predict(x_test)"
   ]
  },
  {
   "cell_type": "code",
   "execution_count": 23,
   "id": "dc4ef759",
   "metadata": {},
   "outputs": [
    {
     "data": {
      "image/png": "[encoded data removed]",
      "text/plain": [
       "<Figure size 432x288 with 1 Axes>"
      ]
     },
     "metadata": {
      "needs_background": "light"
     },
     "output_type": "display_data"
    }
   ],
   "source": [
    "#그래프 시각화\n",
    "x_ax=range(len(y_test))\n",
    "\n",
    "plt.plot(x_ax,y_test,label='original')\n",
    "plt.plot(x_ax,pred,label='predicted')\n",
    "plt.title(\"Boston test and predicted data\")\n",
    "plt.legend()\n",
    "plt.show()"
   ]
  },
  {
   "cell_type": "code",
   "execution_count": null,
   "id": "bfbf408d",
   "metadata": {},
   "outputs": [],
   "source": []
  }
 ],
 "metadata": {
  "kernelspec": {
   "display_name": "Python 3 (ipykernel)",
   "language": "python",
   "name": "python3"
  },
  "language_info": {
   "codemirror_mode": {
    "name": "ipython",
    "version": 3
   },
   "file_extension": ".py",
   "mimetype": "text/x-python",
   "name": "python",
   "nbconvert_exporter": "python",
   "pygments_lexer": "ipython3",
   "version": "3.9.12"
  }
 },
 "nbformat": 4,
 "nbformat_minor": 5
}
