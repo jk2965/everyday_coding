{
 "cells": [
  {
   "cell_type": "markdown",
   "id": "c1d192e7",
   "metadata": {},
   "source": [
    "## 1.iris 데이터를 활용하여 그리드서치 적용\n",
    "- 그리드서치는교차검증을 동시에 수행 "
   ]
  },
  {
   "cell_type": "code",
   "execution_count": 1,
   "id": "61997c5d",
   "metadata": {},
   "outputs": [],
   "source": [
    "import pandas as pd\n",
    "import numpy as np\n",
    "from sklearn.datasets import load_iris\n",
    "from sklearn.neighbors import KNeighborsClassifier\n",
    "from sklearn.tree import DecisionTreeClassifier\n",
    "from sklearn.model_selection import train_test_split\n",
    "from sklearn.model_selection import GridSearchCV"
   ]
  },
  {
   "cell_type": "code",
   "execution_count": 2,
   "id": "2dc1d7ee",
   "metadata": {},
   "outputs": [],
   "source": [
    "iris = load_iris()"
   ]
  },
  {
   "cell_type": "code",
   "execution_count": 3,
   "id": "7e3c696a",
   "metadata": {},
   "outputs": [
    {
     "data": {
      "text/plain": [
       "dict_keys(['data', 'target', 'frame', 'target_names', 'DESCR', 'feature_names', 'filename', 'data_module'])"
      ]
     },
     "execution_count": 3,
     "metadata": {},
     "output_type": "execute_result"
    }
   ],
   "source": [
    "iris.keys()"
   ]
  },
  {
   "cell_type": "code",
   "execution_count": 4,
   "id": "1fa7142b",
   "metadata": {},
   "outputs": [],
   "source": [
    "x_train,x_test,y_train,y_test = train_test_split(iris.data,iris.target,\n",
    "                                                test_size=0.3,\n",
    "                                                random_state=0)"
   ]
  },
  {
   "cell_type": "code",
   "execution_count": 5,
   "id": "842d5bbb",
   "metadata": {},
   "outputs": [
    {
     "data": {
      "text/plain": [
       "(105, 4)"
      ]
     },
     "execution_count": 5,
     "metadata": {},
     "output_type": "execute_result"
    }
   ],
   "source": [
    "x_train.shape"
   ]
  },
  {
   "cell_type": "code",
   "execution_count": 6,
   "id": "0d9b5661",
   "metadata": {},
   "outputs": [
    {
     "data": {
      "text/plain": [
       "(105,)"
      ]
     },
     "execution_count": 6,
     "metadata": {},
     "output_type": "execute_result"
    }
   ],
   "source": [
    "y_train.shape"
   ]
  },
  {
   "cell_type": "code",
   "execution_count": 7,
   "id": "3e4efc58",
   "metadata": {},
   "outputs": [
    {
     "data": {
      "text/plain": [
       "(45, 4)"
      ]
     },
     "execution_count": 7,
     "metadata": {},
     "output_type": "execute_result"
    }
   ],
   "source": [
    "x_test.shape"
   ]
  },
  {
   "cell_type": "code",
   "execution_count": 8,
   "id": "0ddb2c9b",
   "metadata": {},
   "outputs": [
    {
     "data": {
      "text/plain": [
       "(45,)"
      ]
     },
     "execution_count": 8,
     "metadata": {},
     "output_type": "execute_result"
    }
   ],
   "source": [
    "y_test.shape"
   ]
  },
  {
   "cell_type": "markdown",
   "id": "b7f1d0d2",
   "metadata": {},
   "source": [
    "### KNN 그리드서치 적용"
   ]
  },
  {
   "cell_type": "code",
   "execution_count": 9,
   "id": "57598b61",
   "metadata": {},
   "outputs": [],
   "source": [
    "param_knn = {'n_neighbors':range(1,10)}\n",
    "#knn모델에 쓸 파라미터를 딕셔너리 형태로 저장\n",
    "#각 파리미터의 범위를 list나 range로 줘야함"
   ]
  },
  {
   "cell_type": "code",
   "execution_count": 10,
   "id": "fb141462",
   "metadata": {},
   "outputs": [],
   "source": [
    "knn = GridSearchCV(KNeighborsClassifier(),\n",
    "                   param_knn,\n",
    "                   cv=10)\n",
    "#그리드서치(모델,그 모델의 파라미터 범위(딕셔너리 형태),교차검증수)"
   ]
  },
  {
   "cell_type": "code",
   "execution_count": 11,
   "id": "e6285eb2",
   "metadata": {},
   "outputs": [
    {
     "data": {
      "text/plain": [
       "GridSearchCV(cv=10, estimator=KNeighborsClassifier(),\n",
       "             param_grid={'n_neighbors': range(1, 10)})"
      ]
     },
     "execution_count": 11,
     "metadata": {},
     "output_type": "execute_result"
    }
   ],
   "source": [
    "knn.fit(x_train,y_train)\n",
    "#모델 학습"
   ]
  },
  {
   "cell_type": "code",
   "execution_count": 12,
   "id": "0cf86d2d",
   "metadata": {},
   "outputs": [
    {
     "name": "stdout",
     "output_type": "stream",
     "text": [
      "최적의 파라미터: {'n_neighbors': 6}\n"
     ]
    }
   ],
   "source": [
    "print('최적의 파라미터:',knn.best_params_)\n",
    "#최적의 파라미터를 가져오는 GridSearchCV의 내장함수 model.best_params_"
   ]
  },
  {
   "cell_type": "code",
   "execution_count": 13,
   "id": "afa7265d",
   "metadata": {},
   "outputs": [
    {
     "name": "stdout",
     "output_type": "stream",
     "text": [
      "최적의 교차검증 점수: 0.9609090909090909\n"
     ]
    }
   ],
   "source": [
    "print('최적의 교차검증 점수:',knn.best_score_)\n",
    "#최적의 교차검증 점수를 가져오는 GridSearchCV의 내장함수 model.best_score_"
   ]
  },
  {
   "cell_type": "code",
   "execution_count": 14,
   "id": "08a496d7",
   "metadata": {},
   "outputs": [
    {
     "name": "stdout",
     "output_type": "stream",
     "text": [
      "최고 성능 모델 : KNeighborsClassifier(n_neighbors=6)\n"
     ]
    }
   ],
   "source": [
    "print('최고 성능 모델 :',knn.best_estimator_)\n",
    "#최고 성능의 모델을 가져오는 GridSearchCV의 내장함수 model.best_estimator_"
   ]
  },
  {
   "cell_type": "code",
   "execution_count": 15,
   "id": "80969db5",
   "metadata": {},
   "outputs": [
    {
     "data": {
      "text/plain": [
       "array([2, 1, 0, 2, 0, 2, 0, 1, 1, 1, 2, 1, 1, 1, 1, 0, 1, 1, 0, 0, 2, 1,\n",
       "       0, 0, 2, 0, 0, 1, 1, 0, 2, 1, 0, 2, 2, 1, 0, 2, 1, 1, 2, 0, 2, 0,\n",
       "       0])"
      ]
     },
     "execution_count": 15,
     "metadata": {},
     "output_type": "execute_result"
    }
   ],
   "source": [
    "pred = knn.predict(x_test)\n",
    "pred\n",
    "#예측값 산출"
   ]
  },
  {
   "cell_type": "code",
   "execution_count": 16,
   "id": "5baff94b",
   "metadata": {},
   "outputs": [
    {
     "data": {
      "text/plain": [
       "0.9777777777777777"
      ]
     },
     "execution_count": 16,
     "metadata": {},
     "output_type": "execute_result"
    }
   ],
   "source": [
    "knn.score(x_test,y_test)\n",
    "#분류모델이므로 기준은 Acuracy"
   ]
  },
  {
   "cell_type": "markdown",
   "id": "03ff0b78",
   "metadata": {},
   "source": [
    "### Decision Tree로 Grid Search 진행"
   ]
  },
  {
   "cell_type": "code",
   "execution_count": 17,
   "id": "148adeb8",
   "metadata": {},
   "outputs": [],
   "source": [
    "param_dt={'max_depth':range(1,10),\n",
    "         'max_leaf_nodes':range(1,10),\n",
    "         'min_samples_leaf':range(1,10)}\n",
    "\n",
    "#모델에서 쓸 파라미터 딕셔너리 생성\n",
    "#각 파리미터의 범위를 list나 range로 줘야함"
   ]
  },
  {
   "cell_type": "code",
   "execution_count": 18,
   "id": "38c7dd82",
   "metadata": {},
   "outputs": [],
   "source": [
    "dt= GridSearchCV(DecisionTreeClassifier(),param_dt,cv=10)\n",
    "#모델 선정(그리드서치(의사결정나무 사용,cv=10))"
   ]
  },
  {
   "cell_type": "code",
   "execution_count": 19,
   "id": "48649168",
   "metadata": {},
   "outputs": [
    {
     "name": "stderr",
     "output_type": "stream",
     "text": [
      "C:\\Users\\user\\anaconda3\\lib\\site-packages\\sklearn\\model_selection\\_validation.py:372: FitFailedWarning: \n",
      "810 fits failed out of a total of 7290.\n",
      "The score on these train-test partitions for these parameters will be set to nan.\n",
      "If these failures are not expected, you can try to debug them by setting error_score='raise'.\n",
      "\n",
      "Below are more details about the failures:\n",
      "--------------------------------------------------------------------------------\n",
      "810 fits failed with the following error:\n",
      "Traceback (most recent call last):\n",
      "  File \"C:\\Users\\user\\anaconda3\\lib\\site-packages\\sklearn\\model_selection\\_validation.py\", line 680, in _fit_and_score\n",
      "    estimator.fit(X_train, y_train, **fit_params)\n",
      "  File \"C:\\Users\\user\\anaconda3\\lib\\site-packages\\sklearn\\tree\\_classes.py\", line 937, in fit\n",
      "    super().fit(\n",
      "  File \"C:\\Users\\user\\anaconda3\\lib\\site-packages\\sklearn\\tree\\_classes.py\", line 314, in fit\n",
      "    raise ValueError(\n",
      "ValueError: max_leaf_nodes 1 must be either None or larger than 1\n",
      "\n",
      "  warnings.warn(some_fits_failed_message, FitFailedWarning)\n",
      "C:\\Users\\user\\anaconda3\\lib\\site-packages\\sklearn\\model_selection\\_search.py:969: UserWarning: One or more of the test scores are non-finite: [       nan        nan        nan        nan        nan        nan\n",
      "        nan        nan        nan 0.69545455 0.69545455 0.69545455\n",
      " 0.69545455 0.69545455 0.69545455 0.69545455 0.69545455 0.69545455\n",
      " 0.69545455 0.69545455 0.69545455 0.69545455 0.69545455 0.69545455\n",
      " 0.69545455 0.69545455 0.69545455 0.69545455 0.69545455 0.69545455\n",
      " 0.69545455 0.69545455 0.69545455 0.69545455 0.69545455 0.69545455\n",
      " 0.69545455 0.69545455 0.69545455 0.69545455 0.69545455 0.69545455\n",
      " 0.69545455 0.69545455 0.69545455 0.69545455 0.69545455 0.69545455\n",
      " 0.69545455 0.69545455 0.69545455 0.69545455 0.69545455 0.69545455\n",
      " 0.69545455 0.69545455 0.69545455 0.69545455 0.69545455 0.69545455\n",
      " 0.69545455 0.69545455 0.69545455 0.69545455 0.69545455 0.69545455\n",
      " 0.69545455 0.69545455 0.69545455 0.69545455 0.69545455 0.69545455\n",
      " 0.69545455 0.69545455 0.69545455 0.69545455 0.69545455 0.69545455\n",
      " 0.69545455 0.69545455 0.69545455        nan        nan        nan\n",
      "        nan        nan        nan        nan        nan        nan\n",
      " 0.69545455 0.69545455 0.69545455 0.69545455 0.69545455 0.69545455\n",
      " 0.69545455 0.69545455 0.69545455 0.93272727 0.94272727 0.93272727\n",
      " 0.93272727 0.94272727 0.93272727 0.94181818 0.94272727 0.93272727\n",
      " 0.95181818 0.94181818 0.94181818 0.94272727 0.95181818 0.93272727\n",
      " 0.93272727 0.95181818 0.93272727 0.94272727 0.95181818 0.93272727\n",
      " 0.95181818 0.93272727 0.93272727 0.95181818 0.94181818 0.93272727\n",
      " 0.94272727 0.94272727 0.94272727 0.95181818 0.93272727 0.93272727\n",
      " 0.94272727 0.94272727 0.95181818 0.94272727 0.94272727 0.94181818\n",
      " 0.94181818 0.94181818 0.94272727 0.95181818 0.94272727 0.95181818\n",
      " 0.94181818 0.93272727 0.93272727 0.95181818 0.95181818 0.94181818\n",
      " 0.94181818 0.94272727 0.94272727 0.95181818 0.94272727 0.94181818\n",
      " 0.94181818 0.93272727 0.94181818 0.94272727 0.94272727 0.94272727\n",
      "        nan        nan        nan        nan        nan        nan\n",
      "        nan        nan        nan 0.69545455 0.69545455 0.69545455\n",
      " 0.69545455 0.69545455 0.69545455 0.69545455 0.69545455 0.69545455\n",
      " 0.95181818 0.94181818 0.94181818 0.94272727 0.94272727 0.94272727\n",
      " 0.94272727 0.94272727 0.93272727 0.97090909 0.98       0.98\n",
      " 0.95181818 0.94272727 0.93272727 0.94272727 0.93272727 0.93272727\n",
      " 0.98       0.97090909 0.98       0.94181818 0.94272727 0.93272727\n",
      " 0.95181818 0.93272727 0.93272727 0.97090909 0.97090909 0.98\n",
      " 0.95181818 0.94272727 0.93272727 0.93272727 0.94272727 0.94272727\n",
      " 0.97090909 0.98       0.98       0.94272727 0.94272727 0.94181818\n",
      " 0.93272727 0.93272727 0.94181818 0.98       0.98       0.98\n",
      " 0.95181818 0.94272727 0.95181818 0.94272727 0.94272727 0.95181818\n",
      " 0.97090909 0.98       0.98       0.93272727 0.94272727 0.93272727\n",
      " 0.95181818 0.94181818 0.94272727        nan        nan        nan\n",
      "        nan        nan        nan        nan        nan        nan\n",
      " 0.69545455 0.69545455 0.69545455 0.69545455 0.69545455 0.69545455\n",
      " 0.69545455 0.69545455 0.69545455 0.95181818 0.95181818 0.95181818\n",
      " 0.94272727 0.93272727 0.93272727 0.94181818 0.93272727 0.93272727\n",
      " 0.98       0.97090909 0.98       0.94181818 0.94272727 0.94181818\n",
      " 0.95181818 0.95181818 0.95181818 0.97       0.98       0.98\n",
      " 0.93272727 0.93272727 0.94272727 0.95181818 0.94181818 0.93272727\n",
      " 0.96090909 0.98       0.98       0.94272727 0.94272727 0.93272727\n",
      " 0.94272727 0.94181818 0.94272727 0.94181818 0.97090909 0.98\n",
      " 0.94272727 0.93272727 0.94181818 0.94272727 0.95181818 0.94181818\n",
      " 0.96090909 0.97090909 0.98       0.94272727 0.93272727 0.95181818\n",
      " 0.94181818 0.94272727 0.93272727 0.95090909 0.97090909 0.98\n",
      " 0.93272727 0.93272727 0.94272727 0.94272727 0.93272727 0.94272727\n",
      "        nan        nan        nan        nan        nan        nan\n",
      "        nan        nan        nan 0.69545455 0.69545455 0.69545455\n",
      " 0.69545455 0.69545455 0.69545455 0.69545455 0.69545455 0.69545455\n",
      " 0.93272727 0.94181818 0.95181818 0.94272727 0.94272727 0.94272727\n",
      " 0.94272727 0.95181818 0.93272727 0.97090909 0.97090909 0.98\n",
      " 0.93272727 0.94272727 0.94272727 0.94181818 0.94181818 0.95181818\n",
      " 0.97       0.97090909 0.98       0.93272727 0.93272727 0.93272727\n",
      " 0.94181818 0.94181818 0.93272727 0.95090909 0.97090909 0.98\n",
      " 0.94181818 0.93272727 0.95181818 0.95181818 0.94181818 0.95181818\n",
      " 0.95181818 0.97090909 0.98       0.93272727 0.94272727 0.93272727\n",
      " 0.93272727 0.95181818 0.95181818 0.95090909 0.97090909 0.98\n",
      " 0.93272727 0.94272727 0.95181818 0.95181818 0.94181818 0.94272727\n",
      " 0.96090909 0.97090909 0.98       0.95181818 0.94272727 0.94272727\n",
      " 0.93272727 0.93272727 0.94272727        nan        nan        nan\n",
      "        nan        nan        nan        nan        nan        nan\n",
      " 0.69545455 0.69545455 0.69545455 0.69545455 0.69545455 0.69545455\n",
      " 0.69545455 0.69545455 0.69545455 0.95181818 0.94181818 0.93272727\n",
      " 0.93272727 0.94181818 0.93272727 0.93272727 0.93272727 0.94272727\n",
      " 0.98       0.97090909 0.98       0.95181818 0.94272727 0.94181818\n",
      " 0.94181818 0.94272727 0.95181818 0.96090909 0.97090909 0.98\n",
      " 0.95181818 0.94272727 0.93272727 0.95181818 0.93272727 0.95181818\n",
      " 0.95090909 0.98       0.98       0.94181818 0.94272727 0.93272727\n",
      " 0.95181818 0.94181818 0.93272727 0.94181818 0.97090909 0.98\n",
      " 0.93272727 0.94272727 0.93272727 0.95181818 0.94181818 0.93272727\n",
      " 0.96090909 0.98       0.98       0.95181818 0.93272727 0.94181818\n",
      " 0.93272727 0.94272727 0.94181818 0.95090909 0.97090909 0.98\n",
      " 0.94272727 0.94272727 0.94272727 0.93272727 0.94272727 0.94181818\n",
      "        nan        nan        nan        nan        nan        nan\n",
      "        nan        nan        nan 0.69545455 0.69545455 0.69545455\n",
      " 0.69545455 0.69545455 0.69545455 0.69545455 0.69545455 0.69545455\n",
      " 0.93272727 0.93272727 0.94272727 0.95181818 0.93272727 0.94181818\n",
      " 0.93272727 0.95181818 0.93272727 0.97090909 0.98       0.98\n",
      " 0.94272727 0.93272727 0.93272727 0.94181818 0.94181818 0.93272727\n",
      " 0.96090909 0.98       0.98       0.95181818 0.93272727 0.93272727\n",
      " 0.93272727 0.94272727 0.95181818 0.96090909 0.98       0.98\n",
      " 0.94272727 0.93272727 0.94272727 0.94272727 0.94272727 0.94272727\n",
      " 0.94181818 0.97090909 0.98       0.94272727 0.94272727 0.95181818\n",
      " 0.93272727 0.94272727 0.93272727 0.95090909 0.97090909 0.98\n",
      " 0.94181818 0.94272727 0.94181818 0.95181818 0.94181818 0.94181818\n",
      " 0.95090909 0.97090909 0.98       0.94272727 0.93272727 0.93272727\n",
      " 0.95181818 0.94181818 0.93272727        nan        nan        nan\n",
      "        nan        nan        nan        nan        nan        nan\n",
      " 0.69545455 0.69545455 0.69545455 0.69545455 0.69545455 0.69545455\n",
      " 0.69545455 0.69545455 0.69545455 0.94181818 0.94181818 0.95181818\n",
      " 0.95181818 0.95181818 0.94181818 0.95181818 0.95181818 0.94272727\n",
      " 0.97090909 0.97090909 0.98       0.93272727 0.94272727 0.95181818\n",
      " 0.94181818 0.93272727 0.95181818 0.95181818 0.97090909 0.98\n",
      " 0.93272727 0.94272727 0.94181818 0.94181818 0.93272727 0.94181818\n",
      " 0.96090909 0.98       0.98       0.95181818 0.93272727 0.94272727\n",
      " 0.93272727 0.94181818 0.94272727 0.96090909 0.98       0.98\n",
      " 0.94181818 0.93272727 0.95181818 0.93272727 0.95181818 0.93272727\n",
      " 0.96090909 0.98       0.98       0.94272727 0.94272727 0.94272727\n",
      " 0.93272727 0.94181818 0.95181818 0.94181818 0.98       0.98\n",
      " 0.93272727 0.93272727 0.95181818 0.95181818 0.94272727 0.93272727\n",
      "        nan        nan        nan        nan        nan        nan\n",
      "        nan        nan        nan 0.69545455 0.69545455 0.69545455\n",
      " 0.69545455 0.69545455 0.69545455 0.69545455 0.69545455 0.69545455\n",
      " 0.93272727 0.93272727 0.93272727 0.93272727 0.94272727 0.93272727\n",
      " 0.94181818 0.95181818 0.95181818 0.97090909 0.98       0.98\n",
      " 0.93272727 0.94272727 0.93272727 0.93272727 0.95181818 0.93272727\n",
      " 0.97       0.98       0.98       0.95181818 0.94272727 0.94272727\n",
      " 0.94272727 0.94181818 0.94272727 0.96       0.97090909 0.98\n",
      " 0.93272727 0.94272727 0.95181818 0.94272727 0.94181818 0.93272727\n",
      " 0.95090909 0.98       0.98       0.94181818 0.94272727 0.95181818\n",
      " 0.95181818 0.94272727 0.93272727 0.97       0.98       0.98\n",
      " 0.94181818 0.94272727 0.94272727 0.94272727 0.95181818 0.94181818\n",
      " 0.96090909 0.97090909 0.98       0.95181818 0.93272727 0.94181818\n",
      " 0.93272727 0.94181818 0.94272727]\n",
      "  warnings.warn(\n"
     ]
    },
    {
     "data": {
      "text/plain": [
       "GridSearchCV(cv=10, estimator=DecisionTreeClassifier(),\n",
       "             param_grid={'max_depth': range(1, 10),\n",
       "                         'max_leaf_nodes': range(1, 10),\n",
       "                         'min_samples_leaf': range(1, 10)})"
      ]
     },
     "execution_count": 19,
     "metadata": {},
     "output_type": "execute_result"
    }
   ],
   "source": [
    "dt.fit(x_train,y_train)\n",
    "#모델 학습"
   ]
  },
  {
   "cell_type": "code",
   "execution_count": 20,
   "id": "07876531",
   "metadata": {},
   "outputs": [
    {
     "name": "stdout",
     "output_type": "stream",
     "text": [
      "최적 파라미터: {'max_depth': 3, 'max_leaf_nodes': 4, 'min_samples_leaf': 2}\n"
     ]
    }
   ],
   "source": [
    "print('최적 파라미터:',dt.best_params_)\n",
    "#최적 파라미터 = model.best_params_"
   ]
  },
  {
   "cell_type": "code",
   "execution_count": 21,
   "id": "de9179ae",
   "metadata": {},
   "outputs": [
    {
     "name": "stdout",
     "output_type": "stream",
     "text": [
      "최고 교차검증 점수: 0.9800000000000001\n"
     ]
    }
   ],
   "source": [
    "print('최고 교차검증 점수:',dt.best_score_)\n",
    "#최고 교차검증 점수=model.best_score_"
   ]
  },
  {
   "cell_type": "code",
   "execution_count": 22,
   "id": "19c8c1cc",
   "metadata": {},
   "outputs": [
    {
     "name": "stdout",
     "output_type": "stream",
     "text": [
      "최고 성능 모델: DecisionTreeClassifier(max_depth=3, max_leaf_nodes=4, min_samples_leaf=2)\n"
     ]
    }
   ],
   "source": [
    "print('최고 성능 모델:',dt.best_estimator_)\n",
    "#최고 교차검증 점수=model.best_estimator_"
   ]
  },
  {
   "cell_type": "code",
   "execution_count": 23,
   "id": "f23c778c",
   "metadata": {},
   "outputs": [
    {
     "data": {
      "text/plain": [
       "array([2, 1, 0, 2, 0, 2, 0, 1, 1, 1, 2, 1, 1, 1, 1, 0, 1, 1, 0, 0, 2, 1,\n",
       "       0, 0, 2, 0, 0, 1, 1, 0, 2, 1, 0, 2, 2, 1, 0, 2, 1, 1, 2, 0, 2, 0,\n",
       "       0])"
      ]
     },
     "execution_count": 23,
     "metadata": {},
     "output_type": "execute_result"
    }
   ],
   "source": [
    "pred=dt.predict(x_test)\n",
    "pred\n",
    "#예측값 산출"
   ]
  },
  {
   "cell_type": "code",
   "execution_count": 24,
   "id": "ed7108d1",
   "metadata": {
    "scrolled": true
   },
   "outputs": [
    {
     "data": {
      "text/plain": [
       "0.9777777777777777"
      ]
     },
     "execution_count": 24,
     "metadata": {},
     "output_type": "execute_result"
    }
   ],
   "source": [
    "dt.score(x_test,y_test)\n",
    "#분류 모델이므로 model.score의 기준은 Accuracy"
   ]
  },
  {
   "cell_type": "code",
   "execution_count": null,
   "id": "1f3939e4",
   "metadata": {},
   "outputs": [],
   "source": []
  }
 ],
 "metadata": {
  "kernelspec": {
   "display_name": "Python 3 (ipykernel)",
   "language": "python",
   "name": "python3"
  },
  "language_info": {
   "codemirror_mode": {
    "name": "ipython",
    "version": 3
   },
   "file_extension": ".py",
   "mimetype": "text/x-python",
   "name": "python",
   "nbconvert_exporter": "python",
   "pygments_lexer": "ipython3",
   "version": "3.9.12"
  }
 },
 "nbformat": 4,
 "nbformat_minor": 5
}
