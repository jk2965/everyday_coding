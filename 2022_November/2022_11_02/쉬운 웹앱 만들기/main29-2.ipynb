{
 "cells": [
  {
   "cell_type": "code",
   "execution_count": 1,
   "id": "ea529ccc",
   "metadata": {},
   "outputs": [
    {
     "name": "stderr",
     "output_type": "stream",
     "text": [
      "2022-11-01 19:03:21.823 \n",
      "  \u001b[33m\u001b[1mWarning:\u001b[0m to view this Streamlit app on a browser, run it with the following\n",
      "  command:\n",
      "\n",
      "    streamlit run C:\\Users\\user\\anaconda3\\lib\\site-packages\\ipykernel_launcher.py [ARGUMENTS]\n"
     ]
    }
   ],
   "source": [
    "import streamlit as st\n",
    "import datetime\n",
    "\n",
    "#달력으로 날짜 입력받기\n",
    "d = st.date_input(\"날짜를 선택하세요\",datetime.date.today())\n",
    "\n",
    "#선택한 날짜 출력\n",
    "st.write('선택한 날짜:',d)"
   ]
  },
  {
   "cell_type": "markdown",
   "id": "6c272826",
   "metadata": {},
   "source": [
    "이 코드를 주피터 노트북 자체에서 실행하는것은 불가능하다.\n",
    "\n",
    "Anaconda powershell prompt에서 실행이 가능하다.\n",
    "\n",
    "cd \"(실행파일이 있는 폴더명)\"으로 파일 경로를 이동한다.\n",
    "\n",
    "streamlit run 파일명.py(py 확장자만 실행 가능한 듯 하다.) 명령어를 입력하면 웹앱 프로그램이 실행이 된다."
   ]
  },
  {
   "cell_type": "code",
   "execution_count": null,
   "id": "ef3efa93",
   "metadata": {},
   "outputs": [],
   "source": []
  }
 ],
 "metadata": {
  "kernelspec": {
   "display_name": "Python 3 (ipykernel)",
   "language": "python",
   "name": "python3"
  },
  "language_info": {
   "codemirror_mode": {
    "name": "ipython",
    "version": 3
   },
   "file_extension": ".py",
   "mimetype": "text/x-python",
   "name": "python",
   "nbconvert_exporter": "python",
   "pygments_lexer": "ipython3",
   "version": "3.9.12"
  }
 },
 "nbformat": 4,
 "nbformat_minor": 5
}
