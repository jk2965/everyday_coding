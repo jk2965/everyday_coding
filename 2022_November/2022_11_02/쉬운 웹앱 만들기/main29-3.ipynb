{
 "cells": [
  {
   "cell_type": "code",
   "execution_count": 1,
   "id": "6e783b16",
   "metadata": {},
   "outputs": [
    {
     "name": "stderr",
     "output_type": "stream",
     "text": [
      "2022-11-01 19:17:24.621 \n",
      "  \u001b[33m\u001b[1mWarning:\u001b[0m to view this Streamlit app on a browser, run it with the following\n",
      "  command:\n",
      "\n",
      "    streamlit run C:\\Users\\user\\anaconda3\\lib\\site-packages\\ipykernel_launcher.py [ARGUMENTS]\n"
     ]
    },
    {
     "data": {
      "text/plain": [
       "DeltaGenerator(_root_container=0, _provided_cursor=None, _parent=None, _block_type=None, _form_data=None)"
      ]
     },
     "execution_count": 1,
     "metadata": {},
     "output_type": "execute_result"
    }
   ],
   "source": [
    "import streamlit as st\n",
    "import datetime\n",
    "import pyupbit\n",
    "\n",
    "#달력으로 날짜를 입력받습니다.\n",
    "d = st.date_input(\n",
    "\"날짜를 선택하세요\",\n",
    "datetime.date.today())\n",
    "\n",
    "\n",
    "st.write('비트코인 일일차트')\n",
    "\n",
    "#비트코인의 1시간 데이터를 24개 가져옵니다.\n",
    "ticker = \"KRW-BTC\"\n",
    "\n",
    "interval = 'minute60'\n",
    "\n",
    "#입력한 날짜에 하루를 더해줍니다.\n",
    "#이전 데이터 24개를 가지고 오기 때문에 만약 12월 6일의 값을 알고 싶다면 \n",
    "#12월 7일부터 이전 24개의 데이터를 가지고 오면 됩니다.\n",
    "to= str(d+datetime.timedelta(days=1))\n",
    "count = 24\n",
    "price_now = pyupbit.get_ohlcv(ticker=ticker,interval=interval,to=to,count=count)\n",
    "\n",
    "#그래프를 그려줍니다.\n",
    "st.line_chart(price_now.close)"
   ]
  },
  {
   "cell_type": "markdown",
   "id": "04e9ccea",
   "metadata": {},
   "source": [
    "이 코드를 주피터 노트북 자체에서 실행하는것은 불가능하다.\n",
    "\n",
    "Anaconda powershell prompt에서 실행이 가능하다.\n",
    "\n",
    "cd \"(실행파일이 있는 폴더명)\"으로 파일 경로를 이동한다.\n",
    "\n",
    "streamlit run 파일명.py(py 확장자만 실행 가능한 듯 하다.) 명령어를 입력하면 웹앱 프로그램이 실행이 된다."
   ]
  },
  {
   "cell_type": "code",
   "execution_count": null,
   "id": "be23330b",
   "metadata": {},
   "outputs": [],
   "source": []
  }
 ],
 "metadata": {
  "kernelspec": {
   "display_name": "Python 3 (ipykernel)",
   "language": "python",
   "name": "python3"
  },
  "language_info": {
   "codemirror_mode": {
    "name": "ipython",
    "version": 3
   },
   "file_extension": ".py",
   "mimetype": "text/x-python",
   "name": "python",
   "nbconvert_exporter": "python",
   "pygments_lexer": "ipython3",
   "version": "3.9.12"
  }
 },
 "nbformat": 4,
 "nbformat_minor": 5
}
