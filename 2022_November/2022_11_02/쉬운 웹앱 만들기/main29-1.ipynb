{
 "cells": [
  {
   "cell_type": "code",
   "execution_count": 2,
   "id": "26eb0c78",
   "metadata": {},
   "outputs": [
    {
     "name": "stderr",
     "output_type": "stream",
     "text": [
      "2022-11-01 19:07:21.171 \n",
      "  \u001b[33m\u001b[1mWarning:\u001b[0m to view this Streamlit app on a browser, run it with the following\n",
      "  command:\n",
      "\n",
      "    streamlit run C:\\Users\\user\\anaconda3\\lib\\site-packages\\ipykernel_launcher.py [ARGUMENTS]\n"
     ]
    },
    {
     "data": {
      "text/plain": [
       "DeltaGenerator(_root_container=0, _provided_cursor=None, _parent=None, _block_type=None, _form_data=None)"
      ]
     },
     "execution_count": 2,
     "metadata": {},
     "output_type": "execute_result"
    }
   ],
   "source": [
    "import streamlit as st\n",
    "\n",
    "#차트에 넣을 데이터 생성\n",
    "data_list = {1,2,3,4,5,6,7,8,9,10}\n",
    "st.write('''\n",
    "샘플데이터\n",
    "''')\n",
    "\n",
    "#차트를 생성합니다.\n",
    "st.line_chart(data_list)"
   ]
  },
  {
   "cell_type": "markdown",
   "id": "f0592441",
   "metadata": {},
   "source": [
    "이 코드를 주피터 노트북 자체에서 실행하는것은 불가능하다.\n",
    "\n",
    "Anaconda powershell prompt에서 실행이 가능하다.\n",
    "\n",
    "cd \"(실행파일이 있는 폴더명)\"으로 파일 경로를 이동한다.\n",
    "\n",
    "streamlit run 파일명.py(py 확장자만 실행 가능한 듯 하다.) 명령어를 입력하면 웹앱 프로그램이 실행이 된다.\n"
   ]
  },
  {
   "cell_type": "code",
   "execution_count": null,
   "id": "bc6ece2c",
   "metadata": {},
   "outputs": [],
   "source": []
  }
 ],
 "metadata": {
  "kernelspec": {
   "display_name": "Python 3 (ipykernel)",
   "language": "python",
   "name": "python3"
  },
  "language_info": {
   "codemirror_mode": {
    "name": "ipython",
    "version": 3
   },
   "file_extension": ".py",
   "mimetype": "text/x-python",
   "name": "python",
   "nbconvert_exporter": "python",
   "pygments_lexer": "ipython3",
   "version": "3.9.12"
  }
 },
 "nbformat": 4,
 "nbformat_minor": 5
}
