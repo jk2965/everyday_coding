{
 "cells": [
  {
   "cell_type": "code",
   "execution_count": 1,
   "id": "502fe8eb",
   "metadata": {},
   "outputs": [],
   "source": [
    "import tkinter as tk #tkinter 임포트\n",
    "\n",
    "window = tk.Tk() #윈도우 객체 생성\n",
    "window.title(\"가상화폐 금액표시\") #타이틀 정의 \n",
    "window.geometry(\"400x200\") #window 객체의 가로 길이, 세로길이 정의\n",
    "window.resizable(False,False) #사이즈 재조정 불가능하게 만듬\n",
    "\n",
    "#문자열 hello를 가진 라벨 생성 및 출력\n",
    "label=tk.Label(window,text=\"hello\") \n",
    "label.pack() \n",
    "\n",
    "#GUI를 계속 실행하기 위해 mainloop 실행\n",
    "window.mainloop()"
   ]
  },
  {
   "cell_type": "code",
   "execution_count": null,
   "id": "7eaa908c",
   "metadata": {},
   "outputs": [],
   "source": []
  }
 ],
 "metadata": {
  "kernelspec": {
   "display_name": "Python 3 (ipykernel)",
   "language": "python",
   "name": "python3"
  },
  "language_info": {
   "codemirror_mode": {
    "name": "ipython",
    "version": 3
   },
   "file_extension": ".py",
   "mimetype": "text/x-python",
   "name": "python",
   "nbconvert_exporter": "python",
   "pygments_lexer": "ipython3",
   "version": "3.9.12"
  }
 },
 "nbformat": 4,
 "nbformat_minor": 5
}
