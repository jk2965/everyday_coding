{
 "cells": [
  {
   "cell_type": "code",
   "execution_count": null,
   "id": "62180808",
   "metadata": {},
   "outputs": [],
   "source": [
    "import tkinter as tk #tkinter 임포트\n",
    "import tkinter.font #tkinter.font 임포트\n",
    "\n",
    "window = tk.Tk() #윈도우 객체 생성\n",
    "window.title(\"가상화폐 금액표시\") #타이틀 정의 \n",
    "window.geometry(\"400x200\") #window 객체의 가로 길이, 세로길이 정의\n",
    "window.resizable(False,False) #사이즈 재조정 불가능하게 만듬\n",
    "\n",
    "#폰트 적용\n",
    "font=tk.font.Font(size=30)\n",
    "\n",
    "#문자열 hello를 가진 라벨 생성 및 출력\n",
    "label=tk.Label(window,text=\"hello\",font=font) \n",
    "label.pack() \n",
    "\n",
    "#전역변수 선언\n",
    "cnt = 0\n",
    "\n",
    "#1초마다 코인의 정보를 가져오는 함수 생성\n",
    "def get_coin_1sec():\n",
    "    global cnt #함수 안에서 전역변수 cnt를 사용하기 위해 cnt 선언\n",
    "    now_btc_price = str(cnt)\n",
    "    cnt(cnt+1)\n",
    "    \n",
    "    #라벨의 텍스트를 변경\n",
    "    label.config(text=now_btc_price)\n",
    "    \n",
    "    #1초 후에 get_coin_1sec함수를 불러옵니다. 1초마다 반복하기 위함\n",
    "    window.after(1000,get_coin_1sec) \n",
    "\n",
    "#get_coin_1sec함수 실행\n",
    "get_coin_1sec()\n",
    "\n",
    "#GUI를 계속 실행하기 위해 mainloop 실행\n",
    "window.mainloop()"
   ]
  }
 ],
 "metadata": {
  "kernelspec": {
   "display_name": "Python 3 (ipykernel)",
   "language": "python",
   "name": "python3"
  },
  "language_info": {
   "codemirror_mode": {
    "name": "ipython",
    "version": 3
   },
   "file_extension": ".py",
   "mimetype": "text/x-python",
   "name": "python",
   "nbconvert_exporter": "python",
   "pygments_lexer": "ipython3",
   "version": "3.9.12"
  }
 },
 "nbformat": 4,
 "nbformat_minor": 5
}
