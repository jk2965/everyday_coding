{
 "cells": [
  {
   "cell_type": "code",
   "execution_count": 4,
   "id": "5be32c52",
   "metadata": {},
   "outputs": [],
   "source": [
    "import tkinter as tk #tkinter 임포트\n",
    "import tkinter.font #tkinter.font 임포트\n",
    "import pyupbit\n",
    "import threading\n",
    "import time\n",
    "\n",
    "coin_price = 0\n",
    "\n",
    "#코인의 값을 가져오기 위한 함수 선언\n",
    "def get_coin_price():\n",
    "    #함수 안에서 전역변수 coin_price를 사용하기 위해 coin_price 선언\n",
    "    global coin_price\n",
    "    while True:\n",
    "        #1초마다 업비트에서 비트코인의 현재 가격을 가져옵니다. \n",
    "        coin_price = pyupbit.get_current_price(\"KRW-BTC\")\n",
    "        time.sleep(1.0)\n",
    "\n",
    "#데몬 스레드로 생성하여 메인 프로그램이 종료되면 함께 종료됩니다. \n",
    "t1 = threading.Thread(target = get_coin_price)\n",
    "t1.daemon = True\n",
    "t1.start()\n",
    "\n",
    "window = tk.Tk() #윈도우 객체 생성\n",
    "window.title(\"비트코인 실시간 가격\") #타이틀 정의 \n",
    "window.geometry(\"400x50\") #window 객체의 가로 길이, 세로길이 정의\n",
    "window.resizable(False,False) #사이즈 재조정 불가능하게 만듬\n",
    "\n",
    "#폰트 적용\n",
    "font=tk.font.Font(size=30)\n",
    "\n",
    "#문자열 hello를 가진 라벨 생성 및 출력\n",
    "label=tk.Label(window,text=\"\",font=font) \n",
    "label.pack() \n",
    "\n",
    "#전역변수 선언\n",
    "cnt = 0\n",
    "\n",
    "#1초마다 코인의 정보를 수정하기 위한 함수 생성\n",
    "def get_coin_1sec():\n",
    "    global coin_price #함수 안에서 전역변수 coin_price를 사용하기 위해 coin_price 선언\n",
    "    now_btc_price = str(coin_price)\n",
    "    \n",
    "    #라벨의 텍스트를 변경\n",
    "    label.config(text=now_btc_price)\n",
    "    \n",
    "    #1초 후에 get_coin_1sec함수를 불러옵니다. 1초마다 반복하기 위함\n",
    "    window.after(1000,get_coin_1sec) \n",
    "\n",
    "#get_coin_1sec함수 실행\n",
    "get_coin_1sec()\n",
    "\n",
    "#GUI를 계속 실행하기 위해 mainloop 실행\n",
    "window.mainloop()"
   ]
  },
  {
   "cell_type": "code",
   "execution_count": null,
   "id": "ff146b21",
   "metadata": {},
   "outputs": [],
   "source": []
  }
 ],
 "metadata": {
  "kernelspec": {
   "display_name": "Python 3 (ipykernel)",
   "language": "python",
   "name": "python3"
  },
  "language_info": {
   "codemirror_mode": {
    "name": "ipython",
    "version": 3
   },
   "file_extension": ".py",
   "mimetype": "text/x-python",
   "name": "python",
   "nbconvert_exporter": "python",
   "pygments_lexer": "ipython3",
   "version": "3.9.12"
  }
 },
 "nbformat": 4,
 "nbformat_minor": 5
}
