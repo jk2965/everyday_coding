{
 "cells": [
  {
   "cell_type": "code",
   "execution_count": 2,
   "id": "26878bff",
   "metadata": {},
   "outputs": [
    {
     "name": "stdout",
     "output_type": "stream",
     "text": [
      "행복하세요 → Be happy\n",
      "i'm happy → 나는 행복하다\n"
     ]
    }
   ],
   "source": [
    "import googletrans #googletrans 라이브러리 임포트 \n",
    "\n",
    "translator = googletrans.Translator() #Translator 정의\n",
    "\n",
    "str1 = \"행복하세요\" #번역할 문자열\n",
    "\n",
    "#번역 결과를 보기위한 코드\n",
    "#translator.translate(번역할 문자열 , 번역될 언어,번역할 언어)\n",
    "#src는 auto가 디폴트 값\n",
    "result1 = translator.translate(str1,dest = 'en', src = 'auto') #한국어를 영어로\n",
    "\n",
    "#f-string 사용\n",
    "#f-string은 문자열을 포매팅할때 사용하며 문자열 앞에 f자를 붙여주고\n",
    "#중괄호 안에 출력하고 싶은 것이나 변수 등등을 넣으면 됩니다.\n",
    "#html의 ${param} 을 배웠을 때와 비슷한 듯 하다. \n",
    "print(f\"행복하세요 → {result1.text}\")\n",
    "\n",
    "#번역 결과를 보기위한 코드\n",
    "str2 = \"I'm happy\"\n",
    "result2 = translator.translate(str2, dest='ko', src = 'en') #영어를 한국어로\n",
    "print(f\"i'm happy → {result2.text}\")"
   ]
  },
  {
   "cell_type": "code",
   "execution_count": null,
   "id": "92f8e960",
   "metadata": {},
   "outputs": [],
   "source": []
  }
 ],
 "metadata": {
  "kernelspec": {
   "display_name": "Python 3 (ipykernel)",
   "language": "python",
   "name": "python3"
  },
  "language_info": {
   "codemirror_mode": {
    "name": "ipython",
    "version": 3
   },
   "file_extension": ".py",
   "mimetype": "text/x-python",
   "name": "python",
   "nbconvert_exporter": "python",
   "pygments_lexer": "ipython3",
   "version": "3.9.12"
  }
 },
 "nbformat": 4,
 "nbformat_minor": 5
}
