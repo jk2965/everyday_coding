{
 "cells": [
  {
   "cell_type": "markdown",
   "id": "b9648f65",
   "metadata": {},
   "source": [
    "!pip install googletrans==4.0.0-rc1\n",
    "\n",
    "#googletran: 구글 번역기를 사용하기 위한 라이브러리\n",
    "#2021년11월 기준으로 안정적 동작  "
   ]
  },
  {
   "cell_type": "code",
   "execution_count": null,
   "id": "8852db31",
   "metadata": {},
   "outputs": [],
   "source": []
  }
 ],
 "metadata": {
  "kernelspec": {
   "display_name": "Python 3 (ipykernel)",
   "language": "python",
   "name": "python3"
  },
  "language_info": {
   "codemirror_mode": {
    "name": "ipython",
    "version": 3
   },
   "file_extension": ".py",
   "mimetype": "text/x-python",
   "name": "python",
   "nbconvert_exporter": "python",
   "pygments_lexer": "ipython3",
   "version": "3.9.12"
  }
 },
 "nbformat": 4,
 "nbformat_minor": 5
}
