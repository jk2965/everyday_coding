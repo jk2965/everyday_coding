{
 "cells": [
  {
   "cell_type": "code",
   "execution_count": 3,
   "id": "aed25d12",
   "metadata": {},
   "outputs": [
    {
     "name": "stdout",
     "output_type": "stream",
     "text": [
      "성공은 결코 영구적이지 않으며 실패는 결코 최종적이지 않습니다.-Mike Ditka\n",
      "나는 미래를 결코 생각하지 않습니다.곧옵니다.- 알버트 아인슈타인\n",
      "모든 것을 존중하고, 두려워하지 않습니다.- 익명의\n"
     ]
    }
   ],
   "source": [
    "from os import linesep #os 라이브러리에서 linesep api를 임포트\n",
    "import googletrans # googletrans 임포트\n",
    "\n",
    "translator = googletrans.Translator() #번역기 정의\n",
    "\n",
    "#읽어올 파일 경로 지정\n",
    "read_file_path = r\"C:\\Users\\user\\영어 문서를 한글로 자동 번역\\영어파일.txt\"\n",
    "#번역 내용을 받아올 파일 경로 지정\n",
    "write_file_path = r\"C:\\Users\\user\\영어 문서를 한글로 자동 번역\\한글파일.txt\"\n",
    "\n",
    "#파일에서 줄별로 읽어 readlines에 리스트 형태로 바인딩한다.\n",
    "with open(read_file_path,'r') as f:\n",
    "    readLines = f.readlines()\n",
    "\n",
    "#리스트 형태로 지정된 readlines에서 한 줄씩 한글로 변환하여 출력합니다.\n",
    "for lines in readLines:\n",
    "    result1 = translator.translate(lines, dest='ko')\n",
    "    print(result1.text)\n",
    "    \n",
    "    #파일을 저장. 한글 사용을 위해 utf-8으로 인코딩\n",
    "    with open(write_file_path,'a',encoding=\"UTF-8\") as f:\n",
    "        f.write(result1.text+ '\\n') #한줄을 쓴 다음 줄바꿈\n",
    "        "
   ]
  },
  {
   "cell_type": "markdown",
   "id": "08a3ad5f",
   "metadata": {},
   "source": [
    "# 같이 보면 좋은 개념\n",
    "\n",
    "with문이란?\n",
    "\n",
    "일반적으로 파이썬 내에서는 open() 함수를 통해서 파일을 열거나, 쓸 때 꼭 close() 를 해주어야 한다.\n",
    "\n",
    "하지만 with문을 이용해서 파일을 열거나 쓰고나면 close를 하지 않아도 되는 장점이 있습니다. 이는 파이썬이 with ~ as 문장을 실행하고 나면 자동으로 close()를 호출하기 때문입니다.\n",
    "\n",
    "문자열 앞에 r 또는 R을 붙이면 raw 문자열이 됩니다. 이 raw 문자열은 이스케이프 시퀀스를 그대로 저장할 때 사용합니다. 즉, 다음과 같이 \\를 \\\\로 두 번 쓰지 않고 한 번만 써도 됩니다.\n",
    "\n",
    "사용 예시 : print(r'C:\\Users\\dojang\\AppData\\Local\\Programs\\Python\\Python36-32\\python.exe')\n",
    "\n",
    "결과: C:\\Users\\dojang\\AppData\\Local\\Programs\\Python\\Python36-32\\python.exe\n",
    "\n",
    "raw는 가공되지 않고 있는 그대로라는 뜻입니다. 따라서 이스케이프 시퀀스를 문자 그대로 표현합니다. \n",
    "\n",
    "raw 문자열에 제어 문자를 입력해보면 제어 문자가 동작하지 않는 것을 볼 수 있습니다."
   ]
  },
  {
   "cell_type": "code",
   "execution_count": null,
   "id": "5fc21e14",
   "metadata": {},
   "outputs": [],
   "source": []
  }
 ],
 "metadata": {
  "kernelspec": {
   "display_name": "Python 3 (ipykernel)",
   "language": "python",
   "name": "python3"
  },
  "language_info": {
   "codemirror_mode": {
    "name": "ipython",
    "version": 3
   },
   "file_extension": ".py",
   "mimetype": "text/x-python",
   "name": "python",
   "nbconvert_exporter": "python",
   "pygments_lexer": "ipython3",
   "version": "3.9.12"
  }
 },
 "nbformat": 4,
 "nbformat_minor": 5
}
