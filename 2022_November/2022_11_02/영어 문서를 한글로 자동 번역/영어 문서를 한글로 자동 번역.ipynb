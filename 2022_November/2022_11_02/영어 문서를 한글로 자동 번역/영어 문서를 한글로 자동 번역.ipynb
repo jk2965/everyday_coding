{
 "cells": [
  {
   "cell_type": "markdown",
   "id": "d81bb57f",
   "metadata": {},
   "source": [
    "!pip install googletrans==4.0.0-rc1\n",
    "\n",
    "#googletran: 구글 번역기를 사용하기 위한 라이브러리\n",
    "#2021년11월 기준으로 안정적 동작  "
   ]
  },
  {
   "cell_type": "markdown",
   "id": "b097f029",
   "metadata": {},
   "source": [
    "## 번역 테스트"
   ]
  },
  {
   "cell_type": "code",
   "execution_count": 1,
   "id": "049a2531",
   "metadata": {},
   "outputs": [
    {
     "name": "stdout",
     "output_type": "stream",
     "text": [
      "행복하세요 → Be happy\n",
      "i'm happy → 나는 행복하다\n"
     ]
    }
   ],
   "source": [
    "import googletrans #googletrans 라이브러리 임포트 \n",
    "\n",
    "translator = googletrans.Translator() #Translator 정의\n",
    "\n",
    "str1 = \"행복하세요\" #번역할 문자열\n",
    "\n",
    "#번역 결과를 보기위한 코드\n",
    "#translator.translate(번역할 문자열 , 번역될 언어,번역할 언어)\n",
    "#src는 auto가 디폴트 값\n",
    "result1 = translator.translate(str1,dest = 'en', src = 'auto') #한국어를 영어로\n",
    "\n",
    "#f-string 사용\n",
    "#f-string은 문자열을 포매팅할때 사용하며 문자열 앞에 f자를 붙여주고\n",
    "#중괄호 안에 출력하고 싶은 것이나 변수 등등을 넣으면 됩니다.\n",
    "#html의 ${param} 을 배웠을 때와 비슷한 듯 하다. \n",
    "print(f\"행복하세요 → {result1.text}\")\n",
    "\n",
    "#번역 결과를 보기위한 코드\n",
    "str2 = \"I'm happy\"\n",
    "result2 = translator.translate(str2, dest='ko', src = 'en') #영어를 한국어로\n",
    "print(f\"i'm happy → {result2.text}\")"
   ]
  },
  {
   "cell_type": "markdown",
   "id": "4f2429a7",
   "metadata": {},
   "source": [
    "## 사용 가능 언어의 종류 확인"
   ]
  },
  {
   "cell_type": "code",
   "execution_count": 2,
   "id": "2924e343",
   "metadata": {},
   "outputs": [
    {
     "name": "stdout",
     "output_type": "stream",
     "text": [
      "{'af': 'afrikaans', 'sq': 'albanian', 'am': 'amharic', 'ar': 'arabic', 'hy': 'armenian', 'az': 'azerbaijani', 'eu': 'basque', 'be': 'belarusian', 'bn': 'bengali', 'bs': 'bosnian', 'bg': 'bulgarian', 'ca': 'catalan', 'ceb': 'cebuano', 'ny': 'chichewa', 'zh-cn': 'chinese (simplified)', 'zh-tw': 'chinese (traditional)', 'co': 'corsican', 'hr': 'croatian', 'cs': 'czech', 'da': 'danish', 'nl': 'dutch', 'en': 'english', 'eo': 'esperanto', 'et': 'estonian', 'tl': 'filipino', 'fi': 'finnish', 'fr': 'french', 'fy': 'frisian', 'gl': 'galician', 'ka': 'georgian', 'de': 'german', 'el': 'greek', 'gu': 'gujarati', 'ht': 'haitian creole', 'ha': 'hausa', 'haw': 'hawaiian', 'iw': 'hebrew', 'he': 'hebrew', 'hi': 'hindi', 'hmn': 'hmong', 'hu': 'hungarian', 'is': 'icelandic', 'ig': 'igbo', 'id': 'indonesian', 'ga': 'irish', 'it': 'italian', 'ja': 'japanese', 'jw': 'javanese', 'kn': 'kannada', 'kk': 'kazakh', 'km': 'khmer', 'ko': 'korean', 'ku': 'kurdish (kurmanji)', 'ky': 'kyrgyz', 'lo': 'lao', 'la': 'latin', 'lv': 'latvian', 'lt': 'lithuanian', 'lb': 'luxembourgish', 'mk': 'macedonian', 'mg': 'malagasy', 'ms': 'malay', 'ml': 'malayalam', 'mt': 'maltese', 'mi': 'maori', 'mr': 'marathi', 'mn': 'mongolian', 'my': 'myanmar (burmese)', 'ne': 'nepali', 'no': 'norwegian', 'or': 'odia', 'ps': 'pashto', 'fa': 'persian', 'pl': 'polish', 'pt': 'portuguese', 'pa': 'punjabi', 'ro': 'romanian', 'ru': 'russian', 'sm': 'samoan', 'gd': 'scots gaelic', 'sr': 'serbian', 'st': 'sesotho', 'sn': 'shona', 'sd': 'sindhi', 'si': 'sinhala', 'sk': 'slovak', 'sl': 'slovenian', 'so': 'somali', 'es': 'spanish', 'su': 'sundanese', 'sw': 'swahili', 'sv': 'swedish', 'tg': 'tajik', 'ta': 'tamil', 'te': 'telugu', 'th': 'thai', 'tr': 'turkish', 'uk': 'ukrainian', 'ur': 'urdu', 'ug': 'uyghur', 'uz': 'uzbek', 'vi': 'vietnamese', 'cy': 'welsh', 'xh': 'xhosa', 'yi': 'yiddish', 'yo': 'yoruba', 'zu': 'zulu'}\n"
     ]
    }
   ],
   "source": [
    "import googletrans\n",
    "\n",
    "#사용가능한 언어를 출력합니다. \n",
    "lang = googletrans.LANGUAGES\n",
    "print(lang)"
   ]
  },
  {
   "cell_type": "markdown",
   "id": "3adef0fc",
   "metadata": {},
   "source": [
    "## 영어 파일 문구 번역"
   ]
  },
  {
   "cell_type": "code",
   "execution_count": 3,
   "id": "0d353407",
   "metadata": {},
   "outputs": [
    {
     "name": "stdout",
     "output_type": "stream",
     "text": [
      "성공은 결코 영구적이지 않으며 실패는 결코 최종적이지 않습니다.-Mike Ditka\n",
      "나는 미래를 결코 생각하지 않습니다.곧옵니다.- 알버트 아인슈타인\n",
      "모든 것을 존중하고, 두려워하지 않습니다.- 익명의\n"
     ]
    }
   ],
   "source": [
    "from os import linesep #os 라이브러리에서 linesep api를 임포트\n",
    "import googletrans # googletrans 임포트\n",
    "\n",
    "translator = googletrans.Translator() #번역기 정의\n",
    "\n",
    "#경로 지정\n",
    "read_file_path = r\"C:\\Users\\user\\영어 문서를 한글로 자동 번역\\영어파일.txt\"\n",
    "\n",
    "#파일에서 줄별로 읽어 readlines에 리스트 형태로 바인딩한다.\n",
    "with open(read_file_path,'r') as f:\n",
    "    #readlines 함수는 파일의 모든 줄을 읽어서 각각의 줄을 요소로 갖는 리스트로 돌려준다.\n",
    "    readLines = f.readlines() \n",
    "\n",
    "#리스트 형태로 지정된 readlines에서 한 줄씩 한글로 변환하여 출력합니다.\n",
    "for lines in readLines:\n",
    "    result1 = translator.translate(lines, dest='ko')\n",
    "    print(result1.text)"
   ]
  },
  {
   "cell_type": "markdown",
   "id": "f1266041",
   "metadata": {},
   "source": [
    "## 한글 파일에 영어 파일 문구 번역 후 저장"
   ]
  },
  {
   "cell_type": "code",
   "execution_count": 4,
   "id": "a2a2c539",
   "metadata": {},
   "outputs": [
    {
     "name": "stdout",
     "output_type": "stream",
     "text": [
      "성공은 결코 영구적이지 않으며 실패는 결코 최종적이지 않습니다.-Mike Ditka\n",
      "나는 미래를 결코 생각하지 않습니다.곧옵니다.- 알버트 아인슈타인\n",
      "모든 것을 존중하고, 두려워하지 않습니다.- 익명의\n"
     ]
    }
   ],
   "source": [
    "from os import linesep #os 라이브러리에서 linesep api를 임포트\n",
    "import googletrans # googletrans 임포트\n",
    "\n",
    "translator = googletrans.Translator() #번역기 정의\n",
    "\n",
    "#읽어올 파일 경로 지정\n",
    "read_file_path = r\"C:\\Users\\user\\영어 문서를 한글로 자동 번역\\영어파일.txt\"\n",
    "#번역 내용을 받아올 파일 경로 지정\n",
    "write_file_path = r\"C:\\Users\\user\\영어 문서를 한글로 자동 번역\\한글파일.txt\"\n",
    "\n",
    "#파일에서 줄별로 읽어 readlines에 리스트 형태로 바인딩한다.\n",
    "with open(read_file_path,'r') as f:\n",
    "    readLines = f.readlines()\n",
    "\n",
    "#리스트 형태로 지정된 readlines에서 한 줄씩 한글로 변환하여 출력합니다.\n",
    "for lines in readLines:\n",
    "    result1 = translator.translate(lines, dest='ko')\n",
    "    print(result1.text)\n",
    "    \n",
    "    #파일을 저장. 한글 사용을 위해 utf-8으로 인코딩\n",
    "    with open(write_file_path,'a',encoding=\"UTF-8\") as f:\n",
    "        f.write(result1.text+ '\\n') #한줄을 쓴 다음 줄바꿈"
   ]
  },
  {
   "cell_type": "markdown",
   "id": "2cbecc46",
   "metadata": {},
   "source": [
    "# 같이 보면 좋은 개념\n",
    "\n",
    "os.linesep\n",
    "\n",
    "현재 플랫폼에서 행을 분리(또는 종료)하는 데 사용되는 문자열. 이는 POSIX의 '\\n'와 같은 단일 문자이거나, 윈도우의 '\\r\\n'와 같은 여러 문자일 수 있습니다. 텍스트 모드로 열린(기본값) 파일에 쓸 때 줄 종결자로 os.linesep를 사용하지 마십시오; 대신 모든 플랫폼에서 단일 '\\n'를 사용하십시오.\n",
    "\n",
    "os.read(fd, n, /)\n",
    "파일 기술자 fd에서 최대 n 바이트를 읽습니다.\n",
    "\n",
    "읽어들인 바이트를 포함하는 바이트열을 돌려줍니다. fd 에 의해 참조된 파일의 끝에 도달하면, 빈 바이트열 객체가 반환됩니다.\n",
    "\n",
    "참고: 이 함수는 저수준 I/O를 위한 것이며 os.open() 이나 pipe()에 의해 반환된 파일 기술자에 적용되어야 합니다. 내장 함수 open() 이나 popen() 또는 fdopen()에 의해 반환된 “파일 객체”나 sys.stdin을 읽으려면, 그것의 read() 나 readline() 메서드를 사용하십시오.\n",
    "\n",
    "버전 3.5에서 변경: 시스템 호출이 인터럽트 되고 시그널 처리기가 예외를 발생시키지 않으면, 함수는 이제 InterruptedError 예외를 일으키는 대신 시스템 호출을 재시도합니다\n",
    "\n",
    "with문이란?\n",
    "\n",
    "일반적으로 파이썬 내에서는 open() 함수를 통해서 파일을 열거나, 쓸 때 꼭 close() 를 해주어야 한다.\n",
    "\n",
    "하지만 with문을 이용해서 파일을 열거나 쓰고나면 close를 하지 않아도 되는 장점이 있습니다. 이는 파이썬이 with ~ as 문장을 실행하고 나면 자동으로 close()를 호출하기 때문입니다.\n",
    "\n",
    "문자열 앞에 r 또는 R을 붙이면 raw 문자열이 됩니다. 이 raw 문자열은 이스케이프 시퀀스를 그대로 저장할 때 사용합니다. 즉, 다음과 같이 \\를 \\\\로 두 번 쓰지 않고 한 번만 써도 됩니다.\n",
    "\n",
    "사용 예시 : print(r'C:\\Users\\dojang\\AppData\\Local\\Programs\\Python\\Python36-32\\python.exe')\n",
    "\n",
    "결과: C:\\Users\\dojang\\AppData\\Local\\Programs\\Python\\Python36-32\\python.exe\n",
    "\n",
    "raw는 가공되지 않고 있는 그대로라는 뜻입니다. 따라서 이스케이프 시퀀스를 문자 그대로 표현합니다. \n",
    "raw 문자열에 제어 문자를 입력해보면 제어 문자가 동작하지 않는 것을 볼 수 있습니다."
   ]
  },
  {
   "cell_type": "code",
   "execution_count": null,
   "id": "555fa73e",
   "metadata": {},
   "outputs": [],
   "source": []
  }
 ],
 "metadata": {
  "kernelspec": {
   "display_name": "Python 3 (ipykernel)",
   "language": "python",
   "name": "python3"
  },
  "language_info": {
   "codemirror_mode": {
    "name": "ipython",
    "version": 3
   },
   "file_extension": ".py",
   "mimetype": "text/x-python",
   "name": "python",
   "nbconvert_exporter": "python",
   "pygments_lexer": "ipython3",
   "version": "3.9.12"
  }
 },
 "nbformat": 4,
 "nbformat_minor": 5
}
