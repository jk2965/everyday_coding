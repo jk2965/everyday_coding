{
 "cells": [
  {
   "cell_type": "code",
   "execution_count": 5,
   "id": "a1451970",
   "metadata": {},
   "outputs": [
    {
     "name": "stdout",
     "output_type": "stream",
     "text": [
      "Requirement already satisfied: openpyxl in c:\\users\\user\\anaconda3\\lib\\site-packages (3.0.9)\n",
      "Requirement already satisfied: et-xmlfile in c:\\users\\user\\anaconda3\\lib\\site-packages (from openpyxl) (1.1.0)\n"
     ]
    }
   ],
   "source": [
    "!pip install openpyxl\n",
    "\n",
    "#openpyxl은 엑셀을 사용하기 위한 라이브러리입니다. "
   ]
  },
  {
   "cell_type": "code",
   "execution_count": 3,
   "id": "82e9fbd1",
   "metadata": {},
   "outputs": [
    {
     "name": "stdout",
     "output_type": "stream",
     "text": [
      "Requirement already satisfied: python-docx in c:\\users\\user\\anaconda3\\lib\\site-packages (0.8.11)\n",
      "Requirement already satisfied: lxml>=2.3.2 in c:\\users\\user\\anaconda3\\lib\\site-packages (from python-docx) (4.8.0)\n"
     ]
    }
   ],
   "source": [
    "!pip install python-docx\n",
    "\n",
    "#python-docx는 워드를 사용하기 위한 라이브러리입니다."
   ]
  },
  {
   "cell_type": "code",
   "execution_count": 6,
   "id": "d0930974",
   "metadata": {},
   "outputs": [
    {
     "name": "stdout",
     "output_type": "stream",
     "text": [
      "Collecting docx2pdf\n",
      "  Downloading docx2pdf-0.1.8-py3-none-any.whl (6.7 kB)\n",
      "Requirement already satisfied: tqdm>=4.41.0 in c:\\users\\user\\anaconda3\\lib\\site-packages (from docx2pdf) (4.64.0)\n",
      "Requirement already satisfied: pywin32>=227 in c:\\users\\user\\anaconda3\\lib\\site-packages (from docx2pdf) (302)\n",
      "Requirement already satisfied: colorama in c:\\users\\user\\anaconda3\\lib\\site-packages (from tqdm>=4.41.0->docx2pdf) (0.4.4)\n",
      "Installing collected packages: docx2pdf\n",
      "Successfully installed docx2pdf-0.1.8\n"
     ]
    }
   ],
   "source": [
    "!pip install docx2pdf\n",
    "\n",
    "#docx2pdf는 워드 파일을 pdf 파일로 변환하기 위한 라이브러리입니다."
   ]
  },
  {
   "cell_type": "code",
   "execution_count": null,
   "id": "3d2c0645",
   "metadata": {},
   "outputs": [],
   "source": []
  }
 ],
 "metadata": {
  "kernelspec": {
   "display_name": "Python 3 (ipykernel)",
   "language": "python",
   "name": "python3"
  },
  "language_info": {
   "codemirror_mode": {
    "name": "ipython",
    "version": 3
   },
   "file_extension": ".py",
   "mimetype": "text/x-python",
   "name": "python",
   "nbconvert_exporter": "python",
   "pygments_lexer": "ipython3",
   "version": "3.9.12"
  }
 },
 "nbformat": 4,
 "nbformat_minor": 5
}
