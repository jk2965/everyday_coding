{
 "cells": [
  {
   "cell_type": "code",
   "execution_count": 1,
   "id": "dc6aedd7",
   "metadata": {},
   "outputs": [
    {
     "name": "stdout",
     "output_type": "stream",
     "text": [
      "['홍길동', '김민준', '김철수', '김영희', '이서준', '장다인']\n",
      "['1990.01.02', '1990.05.06', '2000.08.08', '2000.09.09', '2010.10.10', '2017.12.12']\n",
      "['2021-0001', '2021-0002', '2021-0003', '2021-0004', '2021-0005', '2021-0006']\n"
     ]
    }
   ],
   "source": [
    "#openpyxl 라이브러리에서 load_workbook api를 임포트\n",
    "from openpyxl import load_workbook\n",
    "\n",
    "#지정된 경로의 엑셀 파일을 읽어옵니다. \n",
    "load_wb = load_workbook(r'C:\\Users\\user\\엑셀의 정보를 불러와 수료증 자동 생성\\수료증명단.xlsx')\n",
    "\n",
    "#읽어온 엑셀 파일에서 활성화 된 시트를 불러옵니다.  \n",
    "load_ws = load_wb.active\n",
    "\n",
    "#이름, 생일, 번호 리스트 생성\n",
    "name_list = [] #이름 리스트\n",
    "birthday_list = [] #생일 리스트\n",
    "ho_list = [] #번호 리스트\n",
    "\n",
    "#for문을 실행하여 각각 바인딩합니다.\n",
    "for i in range(1,load_ws.max_row +1):\n",
    "    \n",
    "    #1행의 이름 값을 name_list에 추가\n",
    "    name_list.append(load_ws.cell(i,1).value)\n",
    "    \n",
    "    #2행의 생일 값을 birthday_list에 추가\n",
    "    birthday_list.append((load_ws.cell(i,2).value))\n",
    "    \n",
    "    #3행의 번호 값을 ho_list에 추가\n",
    "    ho_list.append(load_ws.cell(i,3).value)\n",
    "\n",
    "#출력\n",
    "print(name_list)\n",
    "print(birthday_list)\n",
    "print(ho_list)"
   ]
  },
  {
   "cell_type": "markdown",
   "id": "92761229",
   "metadata": {},
   "source": [
    "# 같이보면 좋은 개념\n",
    "\n",
    "openpyxl.load_workbook(파일명)\n",
    "\n",
    "openpyxl.load_workbook(파일명) 메소드는 파일명을 인수로 하여, 워크북의 객체로 반환한다. 경로 혹은 파일명에 해당하는 Excel파일이 없다면, 에러가 발생한다. "
   ]
  },
  {
   "cell_type": "code",
   "execution_count": null,
   "id": "560f7abc",
   "metadata": {},
   "outputs": [],
   "source": []
  }
 ],
 "metadata": {
  "kernelspec": {
   "display_name": "Python 3 (ipykernel)",
   "language": "python",
   "name": "python3"
  },
  "language_info": {
   "codemirror_mode": {
    "name": "ipython",
    "version": 3
   },
   "file_extension": ".py",
   "mimetype": "text/x-python",
   "name": "python",
   "nbconvert_exporter": "python",
   "pygments_lexer": "ipython3",
   "version": "3.9.12"
  }
 },
 "nbformat": 4,
 "nbformat_minor": 5
}
