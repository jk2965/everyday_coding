{
 "cells": [
  {
   "cell_type": "code",
   "execution_count": 1,
   "id": "8787c287",
   "metadata": {},
   "outputs": [
    {
     "name": "stdout",
     "output_type": "stream",
     "text": [
      "     0           1          2\n",
      "0  홍길동  1990.01.02  2021-0001\n",
      "1  김민준  1990.05.06  2021-0002\n",
      "2  김철수  2000.08.08  2021-0003\n",
      "3  김영희  2000.09.09  2021-0004\n",
      "4  이서준  2010.10.10  2021-0005\n",
      "5  장다인  2017.12.12  2021-0006\n"
     ]
    }
   ],
   "source": [
    "import pandas as pd #pandas 라이브러리를 pd라는 이름으로 불러옴\n",
    "\n",
    "#엑셀 파일을 생성하기 위한 데이터프레임 생성\n",
    "df = pd.DataFrame([[\"홍길동\",\"1990.01.02\",\"2021-0001\"],\n",
    "                  [\"김민준\",\"1990.05.06\",\"2021-0002\"],\n",
    "                  [\"김철수\",\"2000.08.08\",\"2021-0003\"],\n",
    "                  [\"김영희\",\"2000.09.09\",\"2021-0004\"],\n",
    "                  [\"이서준\",\"2010.10.10\",\"2021-0005\"],\n",
    "                  [\"장다인\",\"2017.12.12\",\"2021-0006\"]])\n",
    "\n",
    "#데이터프레임 출력\n",
    "print(df)\n",
    "\n",
    "#지정한 경로에 데이터프레임을 엑셀(.xlsx) 파일로 저장, 인덱스와 헤더 저장 x \n",
    "df.to_excel(r'C:\\Users\\user\\엑셀의 정보를 불러와 수료증 자동 생성\\수료증명단.xlsx',\n",
    "           index=None, header=None)"
   ]
  },
  {
   "cell_type": "code",
   "execution_count": null,
   "id": "591e7813",
   "metadata": {},
   "outputs": [],
   "source": []
  }
 ],
 "metadata": {
  "kernelspec": {
   "display_name": "Python 3 (ipykernel)",
   "language": "python",
   "name": "python3"
  },
  "language_info": {
   "codemirror_mode": {
    "name": "ipython",
    "version": 3
   },
   "file_extension": ".py",
   "mimetype": "text/x-python",
   "name": "python",
   "nbconvert_exporter": "python",
   "pygments_lexer": "ipython3",
   "version": "3.9.12"
  }
 },
 "nbformat": 4,
 "nbformat_minor": 5
}
