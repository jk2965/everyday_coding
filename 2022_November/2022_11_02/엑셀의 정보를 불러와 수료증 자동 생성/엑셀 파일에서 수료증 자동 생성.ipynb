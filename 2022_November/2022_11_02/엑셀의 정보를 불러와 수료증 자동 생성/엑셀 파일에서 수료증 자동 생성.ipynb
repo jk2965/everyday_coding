{
 "cells": [
  {
   "cell_type": "markdown",
   "id": "59a8bc2b",
   "metadata": {},
   "source": [
    "!pip install openpyxl\n",
    "\n",
    "#openpyxl은 엑셀을 사용하기 위한 라이브러리입니다. "
   ]
  },
  {
   "cell_type": "markdown",
   "id": "ca9dd4a6",
   "metadata": {},
   "source": [
    "!pip install python-docx\n",
    "\n",
    "#python-docx는 워드를 사용하기 위한 라이브러리입니다."
   ]
  },
  {
   "cell_type": "markdown",
   "id": "39685d72",
   "metadata": {},
   "source": [
    "!pip install docx2pdf\n",
    "\n",
    "#docx2pdf는 워드 파일을 pdf 파일로 변환하기 위한 라이브러리입니다."
   ]
  },
  {
   "cell_type": "markdown",
   "id": "be6dec8d",
   "metadata": {},
   "source": [
    "### 데이터 프레임 생성(엑셀파일 대용)"
   ]
  },
  {
   "cell_type": "code",
   "execution_count": 1,
   "id": "08f23c1c",
   "metadata": {},
   "outputs": [
    {
     "name": "stdout",
     "output_type": "stream",
     "text": [
      "     0           1          2\n",
      "0  홍길동  1990.01.02  2021-0001\n",
      "1  김민준  1990.05.06  2021-0002\n",
      "2  김철수  2000.08.08  2021-0003\n",
      "3  김영희  2000.09.09  2021-0004\n",
      "4  이서준  2010.10.10  2021-0005\n",
      "5  장다인  2017.12.12  2021-0006\n"
     ]
    }
   ],
   "source": [
    "import pandas as pd #pandas 라이브러리를 pd라는 이름으로 불러옴\n",
    "\n",
    "#엑셀 파일을 생성하기 위한 데이터프레임 생성\n",
    "df = pd.DataFrame([[\"홍길동\",\"1990.01.02\",\"2021-0001\"],\n",
    "                  [\"김민준\",\"1990.05.06\",\"2021-0002\"],\n",
    "                  [\"김철수\",\"2000.08.08\",\"2021-0003\"],\n",
    "                  [\"김영희\",\"2000.09.09\",\"2021-0004\"],\n",
    "                  [\"이서준\",\"2010.10.10\",\"2021-0005\"],\n",
    "                  [\"장다인\",\"2017.12.12\",\"2021-0006\"]])\n",
    "\n",
    "#데이터프레임 출력\n",
    "print(df)\n",
    "\n",
    "#지정한 경로에 데이터프레임을 엑셀(.xlsx) 파일로 저장, 인덱스와 헤더 저장 x \n",
    "df.to_excel(r'C:\\Users\\user\\엑셀의 정보를 불러와 수료증 자동 생성\\수료증명단.xlsx',\n",
    "           index=None, header=None)"
   ]
  },
  {
   "cell_type": "code",
   "execution_count": 3,
   "id": "4d9e0286",
   "metadata": {},
   "outputs": [
    {
     "name": "stdout",
     "output_type": "stream",
     "text": [
      "['홍길동', '김민준', '김철수', '김영희', '이서준', '장다인']\n",
      "['1990.01.02', '1990.05.06', '2000.08.08', '2000.09.09', '2010.10.10', '2017.12.12']\n",
      "['2021-0001', '2021-0002', '2021-0003', '2021-0004', '2021-0005', '2021-0006']\n"
     ]
    },
    {
     "data": {
      "application/vnd.jupyter.widget-view+json": {
       "model_id": "79486760687b4404a1d1b364a7d35392",
       "version_major": 2,
       "version_minor": 0
      },
      "text/plain": [
       "  0%|          | 0/1 [00:00<?, ?it/s]"
      ]
     },
     "metadata": {},
     "output_type": "display_data"
    },
    {
     "data": {
      "application/vnd.jupyter.widget-view+json": {
       "model_id": "c35eb4ee5f2d4217a1fec26d8766551c",
       "version_major": 2,
       "version_minor": 0
      },
      "text/plain": [
       "  0%|          | 0/1 [00:00<?, ?it/s]"
      ]
     },
     "metadata": {},
     "output_type": "display_data"
    },
    {
     "data": {
      "application/vnd.jupyter.widget-view+json": {
       "model_id": "76be10da3cc84f96973c8b13337ff4e6",
       "version_major": 2,
       "version_minor": 0
      },
      "text/plain": [
       "  0%|          | 0/1 [00:00<?, ?it/s]"
      ]
     },
     "metadata": {},
     "output_type": "display_data"
    },
    {
     "data": {
      "application/vnd.jupyter.widget-view+json": {
       "model_id": "d7c45b2b5f2840339f10cf0b08bd79f6",
       "version_major": 2,
       "version_minor": 0
      },
      "text/plain": [
       "  0%|          | 0/1 [00:00<?, ?it/s]"
      ]
     },
     "metadata": {},
     "output_type": "display_data"
    },
    {
     "data": {
      "application/vnd.jupyter.widget-view+json": {
       "model_id": "7796490e8384442aa624df54a7932f6a",
       "version_major": 2,
       "version_minor": 0
      },
      "text/plain": [
       "  0%|          | 0/1 [00:00<?, ?it/s]"
      ]
     },
     "metadata": {},
     "output_type": "display_data"
    },
    {
     "data": {
      "application/vnd.jupyter.widget-view+json": {
       "model_id": "a702541e48964de598b341a6d86e6dda",
       "version_major": 2,
       "version_minor": 0
      },
      "text/plain": [
       "  0%|          | 0/1 [00:00<?, ?it/s]"
      ]
     },
     "metadata": {},
     "output_type": "display_data"
    }
   ],
   "source": [
    "#docx 라이브러리에서 Document api 불러오기\n",
    "from docx import Document \n",
    "#openpyxl 라이브러리에서 load_workbook api 불러오기\n",
    "from openpyxl import load_workbook \n",
    "import docx #docx 라이브러리 임포트\n",
    "#docx.oxml.ns에서 qn 함수 임포트 (한글 폰트 사용을 위함)\n",
    "from docx.oxml.ns import qn \n",
    "#docx.enum.text에서 WD_ALIGN_PARAGRAPH 임포트 (정렬)\n",
    "from docx.enum.text import WD_ALIGN_PARAGRAPH  \n",
    "#docx2pdf 라이브러리에서 convert api 불러오기 (pdf 변환) \n",
    "from docx2pdf import convert\n",
    "\n",
    "#지정된 경로의 엑셀 파일을 읽어옵니다. \n",
    "load_wb = load_workbook(r'C:\\Users\\user\\엑셀의 정보를 불러와 수료증 자동 생성\\수료증명단.xlsx')\n",
    "\n",
    "#읽어온 엑셀 파일에서 활성화 된 시트를 불러옵니다.  \n",
    "load_ws = load_wb.active\n",
    "\n",
    "#이름,생일,번호 리스트 생성\n",
    "name_list = [] #이름 리스트\n",
    "birthday_list = [] #생일 리스트\n",
    "ho_list = [] #번호 리스트\n",
    "\n",
    "#for문을 실행하여 각각 바인딩합니다.\n",
    "for i in range(1,load_ws.max_row +1):\n",
    "    \n",
    "    #1행의 이름 값을 name_list에 추가\n",
    "    name_list.append(load_ws.cell(i,1).value)\n",
    "    \n",
    "    #2행의 생일 값을 birthday_list에 추가\n",
    "    birthday_list.append((load_ws.cell(i,2).value))\n",
    "    \n",
    "    #3행의 번호 값을 ho_list에 추가\n",
    "    ho_list.append(load_ws.cell(i,3).value)\n",
    "\n",
    "#출력\n",
    "print(name_list)\n",
    "print(birthday_list)\n",
    "print(ho_list)\n",
    "\n",
    "for i in range(len(name_list)):\n",
    "    #지정된 경로의 파일을 읽습니다.\n",
    "    doc = docx.Document(r'C:\\Users\\user\\엑셀의 정보를 불러와 수료증 자동 생성\\수료증양식.docx')\n",
    "    \n",
    "    #폰트와 글씨크기 정의\n",
    "    style = doc.styles['Normal']\n",
    "    style.font.name = '나눔고딕' #글꼴 이름\n",
    "    style._element.rPr.rFonts.set(qn('w:eastAsia'),'나눔고딕')\n",
    "    style.font.size = docx.shared.Pt(12) #글꼴 크기\n",
    "\n",
    "    #문단을 생성하고 글씨를 입력 후 폰트와 글씨 크기를 정하여 내용을 채웁니다.\n",
    "    para = doc.add_paragraph() #문단 생성\n",
    "    run = para.add_run(' 제'+ho_list[i]+'호\\n')#문자열 생성\n",
    "    run.font.name= '나눔고딕' #사용 폰트 이름\n",
    "    #한글폰트 변환을 위해 문자체계와 바꿀 폰트 이름을 지정\n",
    "    run._element.rPr.rFonts.set(qn(\"w:eastAsia\"),'나눔고딕') \n",
    "    run.font.size =docx.shared.Pt(20) #폰트 사이즈 변경\n",
    "\n",
    "    para = doc.add_paragraph()\n",
    "    run = para.add_run('\\n\\n')\n",
    "    run = para.add_run(' 수 료 증')\n",
    "    run.font.name= '나눔고딕'\n",
    "    run.bold = True #볼드체 변환\n",
    "    run._element.rPr.rFonts.set(qn(\"w:eastAsia\"),'나눔고딕')\n",
    "    run.font.size =docx.shared.Pt(40)\n",
    "    para.alignment = WD_ALIGN_PARAGRAPH.CENTER #문단을 가운데 정렬\n",
    "\n",
    "    para = doc.add_paragraph()\n",
    "    run = para.add_run('\\n\\n')\n",
    "    run = para.add_run(' 성 명: '+name_list[i]+'\\n')\n",
    "    run.font.name= '나눔고딕'\n",
    "    run._element.rPr.rFonts.set(qn(\"w:eastAsia\"),'나눔고딕')\n",
    "    run.font.size =docx.shared.Pt(20)\n",
    "    run = para.add_run(' 생 년 월 일: '+birthday_list[i]+'\\n')\n",
    "    run.font.name= '나눔고딕'\n",
    "    run._element.rPr.rFonts.set(qn(\"w:eastAsia\"),'나눔고딕')\n",
    "    run.font.size =docx.shared.Pt(20)\n",
    "    run = para.add_run(' 교 육 과 정: 파이썬과 40개의 작품들\\n')\n",
    "    run.font.name= '나눔고딕'\n",
    "    run._element.rPr.rFonts.set(qn(\"w:eastAsia\"),'나눔고딕')\n",
    "    run.font.size =docx.shared.Pt(20)\n",
    "    run = para.add_run(' 교 육 날 짜: 2021.08.05~2021.09.09\\n')\n",
    "    run.font.name= '나눔고딕'\n",
    "    run._element.rPr.rFonts.set(qn(\"w:eastAsia\"),'나눔고딕')\n",
    "    run.font.size =docx.shared.Pt(20)\n",
    "\n",
    "    para = doc.add_paragraph()\n",
    "    run = para.add_run('\\n\\n')\n",
    "    run = para.add_run(' 위 사람은 파이썬과 40개의 작품들 교육과정을 \\n')\n",
    "    run.font.name= '나눔고딕'\n",
    "    run._element.rPr.rFonts.set(qn(\"w:eastAsia\"),'나눔고딕')\n",
    "    run.font.size =docx.shared.Pt(20)\n",
    "    run = para.add_run(' 이수하였으므로 이 증서를 수여 합니다.  \\n')\n",
    "    run.font.name= '나눔고딕'\n",
    "    run._element.rPr.rFonts.set(qn(\"w:eastAsia\"),'나눔고딕')\n",
    "    run.font.size =docx.shared.Pt(20)\n",
    "\n",
    "    para = doc.add_paragraph()\n",
    "    run = para.add_run('\\n\\n')\n",
    "    run = para.add_run('2021.09.19')\n",
    "    run.font.name= '나눔고딕'\n",
    "    run._element.rPr.rFonts.set(qn(\"w:eastAsia\"),'나눔고딕')\n",
    "    run.font.size =docx.shared.Pt(20)\n",
    "    para.alignment = WD_ALIGN_PARAGRAPH.CENTER\n",
    "\n",
    "    para = doc.add_paragraph()\n",
    "    run = para.add_run('\\n\\n')\n",
    "    run = para.add_run('파이썬교육기관장')\n",
    "    run.font.name= '나눔고딕'\n",
    "    run.bold = True\n",
    "    run._element.rPr.rFonts.set(qn(\"w:eastAsia\"),'나눔고딕')\n",
    "    run.font.size =docx.shared.Pt(20)\n",
    "    para.alignment = WD_ALIGN_PARAGRAPH.CENTER\n",
    "    \n",
    "    #지정된 경로의 워드파일을 생성합니다.\n",
    "    doc.save(r\"C:\\Users\\user\\엑셀의 정보를 불러와 수료증 자동 생성\\\\\"+name_list[i]+\".docx\")\n",
    "    #지정된 경로의 워드 파일을 읽어와 pdf로 변환합니다.\n",
    "    convert(r\"C:\\Users\\user\\엑셀의 정보를 불러와 수료증 자동 생성\\\\\"+name_list[i]+\".docx\",\n",
    "           r\"C:\\Users\\user\\엑셀의 정보를 불러와 수료증 자동 생성\\\\\"+name_list[i]+\".pdf\")"
   ]
  },
  {
   "cell_type": "markdown",
   "id": "abc6a6a8",
   "metadata": {},
   "source": [
    "# 같이보면 좋은 개념\n",
    "\n",
    "openpyxl.load_workbook(파일명)\n",
    "\n",
    "openpyxl.load_workbook(파일명) 메소드는 파일명을 인수로 하여, 워크북의 객체로 반환한다. 경로 혹은 파일명에 해당하는 Excel파일이 없다면, 에러가 발생한다. \n",
    "\n",
    "Document 개체에 단락을 추가할 때 add_paragraph 메서드를 사용합니다.\n",
    "\n",
    "add_paragraph 메서드 사용이후 add_run( ) 함수로 글짜를 추가해줍니다.\n",
    "\n",
    "run._element.rPr.rFonts.set(qn(\"w:eastAsia\"),'나눔고딕') = 한글은 영어와 문자 체계가 달라 일반적인 방법으로 폰트 지정이 되지 않습니다. 한글의 폰트를 지정하기 위해서는 문자 체계를 알려줘야 하는데 한글은 'eastAsia'로 지정됩니다. 여기서 핵심은 qn 함수를 불러와서 문자체계정보와 함께 바꾸고 싶은 폰트를 지정해야합니다"
   ]
  },
  {
   "cell_type": "code",
   "execution_count": null,
   "id": "922cb272",
   "metadata": {},
   "outputs": [],
   "source": []
  }
 ],
 "metadata": {
  "kernelspec": {
   "display_name": "Python 3 (ipykernel)",
   "language": "python",
   "name": "python3"
  },
  "language_info": {
   "codemirror_mode": {
    "name": "ipython",
    "version": 3
   },
   "file_extension": ".py",
   "mimetype": "text/x-python",
   "name": "python",
   "nbconvert_exporter": "python",
   "pygments_lexer": "ipython3",
   "version": "3.9.12"
  }
 },
 "nbformat": 4,
 "nbformat_minor": 5
}
