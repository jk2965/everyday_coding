{
 "cells": [
  {
   "cell_type": "code",
   "execution_count": 2,
   "id": "129cde49",
   "metadata": {},
   "outputs": [
    {
     "name": "stdout",
     "output_type": "stream",
     "text": [
      "['홍길동', '김민준', '김철수', '김영희', '이서준', '장다인']\n",
      "['1990.01.02', '1990.05.06', '2000.08.08', '2000.09.09', '2010.10.10', '2017.12.12']\n",
      "['2021-0001', '2021-0002', '2021-0003', '2021-0004', '2021-0005', '2021-0006']\n"
     ]
    },
    {
     "data": {
      "application/vnd.jupyter.widget-view+json": {
       "model_id": "70e39c007e444fc68a9c3dcd645a0bca",
       "version_major": 2,
       "version_minor": 0
      },
      "text/plain": [
       "  0%|          | 0/1 [00:00<?, ?it/s]"
      ]
     },
     "metadata": {},
     "output_type": "display_data"
    },
    {
     "data": {
      "application/vnd.jupyter.widget-view+json": {
       "model_id": "67592f1604314a3f8abaad1dcb637b6b",
       "version_major": 2,
       "version_minor": 0
      },
      "text/plain": [
       "  0%|          | 0/1 [00:00<?, ?it/s]"
      ]
     },
     "metadata": {},
     "output_type": "display_data"
    },
    {
     "data": {
      "application/vnd.jupyter.widget-view+json": {
       "model_id": "232f190822e340ac97b35af39b492a47",
       "version_major": 2,
       "version_minor": 0
      },
      "text/plain": [
       "  0%|          | 0/1 [00:00<?, ?it/s]"
      ]
     },
     "metadata": {},
     "output_type": "display_data"
    },
    {
     "data": {
      "application/vnd.jupyter.widget-view+json": {
       "model_id": "458c3763f9c24b4ba2fda04f92610b8b",
       "version_major": 2,
       "version_minor": 0
      },
      "text/plain": [
       "  0%|          | 0/1 [00:00<?, ?it/s]"
      ]
     },
     "metadata": {},
     "output_type": "display_data"
    },
    {
     "data": {
      "application/vnd.jupyter.widget-view+json": {
       "model_id": "69b7ee0513bd42e4af2a68eaef495918",
       "version_major": 2,
       "version_minor": 0
      },
      "text/plain": [
       "  0%|          | 0/1 [00:00<?, ?it/s]"
      ]
     },
     "metadata": {},
     "output_type": "display_data"
    },
    {
     "data": {
      "application/vnd.jupyter.widget-view+json": {
       "model_id": "3f030e1ba85c4a27ae156dddff389b17",
       "version_major": 2,
       "version_minor": 0
      },
      "text/plain": [
       "  0%|          | 0/1 [00:00<?, ?it/s]"
      ]
     },
     "metadata": {},
     "output_type": "display_data"
    }
   ],
   "source": [
    "#docx 라이브러리에서 Document api 불러오기\n",
    "from docx import Document \n",
    "#openpyxl 라이브러리에서 load_workbook api 불러오기\n",
    "from openpyxl import load_workbook \n",
    "import docx #docx 라이브러리 임포트\n",
    "#docx.oxml.ns에서 qn 함수 임포트 (한글 폰트 사용을 위함)\n",
    "from docx.oxml.ns import qn \n",
    "#docx.enum.text에서 WD_ALIGN_PARAGRAPH 임포트 (정렬)\n",
    "from docx.enum.text import WD_ALIGN_PARAGRAPH  \n",
    "#docx2pdf 라이브러리에서 convert api 불러오기 (pdf 변환) \n",
    "from docx2pdf import convert\n",
    "\n",
    "#지정된 경로의 엑셀 파일을 읽어옵니다. \n",
    "load_wb = load_workbook(r'C:\\Users\\user\\엑셀의 정보를 불러와 수료증 자동 생성\\수료증명단.xlsx')\n",
    "\n",
    "#읽어온 엑셀 파일에서 활성화 된 시트를 불러옵니다.  \n",
    "load_ws = load_wb.active\n",
    "\n",
    "#이름,생일,번호 리스트 생성\n",
    "name_list = [] #이름 리스트\n",
    "birthday_list = [] #생일 리스트\n",
    "ho_list = [] #번호 리스트\n",
    "\n",
    "#for문을 실행하여 각각 바인딩합니다.\n",
    "for i in range(1,load_ws.max_row +1):\n",
    "    \n",
    "    #1행의 이름 값을 name_list에 추가\n",
    "    name_list.append(load_ws.cell(i,1).value)\n",
    "    \n",
    "    #2행의 생일 값을 birthday_list에 추가\n",
    "    birthday_list.append((load_ws.cell(i,2).value))\n",
    "    \n",
    "    #3행의 번호 값을 ho_list에 추가\n",
    "    ho_list.append(load_ws.cell(i,3).value)\n",
    "\n",
    "#출력\n",
    "print(name_list)\n",
    "print(birthday_list)\n",
    "print(ho_list)\n",
    "\n",
    "for i in range(len(name_list)):\n",
    "    #지정된 경로의 파일을 읽습니다.\n",
    "    doc = docx.Document(r'C:\\Users\\user\\엑셀의 정보를 불러와 수료증 자동 생성\\수료증양식.docx')\n",
    "\n",
    "    #폰트와 글씨크기 정의\n",
    "    style = doc.styles['Normal']\n",
    "    style.font.name = '나눔고딕' #글꼴 이름\n",
    "    style._element.rPr.rFonts.set(qn('w:eastAsia'),'나눔고딕')\n",
    "    style.font.size = docx.shared.Pt(12) #글꼴 크기\n",
    "\n",
    "    #문단을 생성하고 글씨를 입력 후 폰트와 글씨 크기를 정하여 내용을 채웁니다.\n",
    "    para = doc.add_paragraph() #문단 생성\n",
    "\n",
    "    run = para.add_run(' 제'+ho_list[i]+'호\\n')#문자열 생성\n",
    "    run.font.name= '나눔고딕' #사용 폰트 이름\n",
    "    #한글폰트 변환을 위해 문자체계와 바꿀 폰트 이름을 지정\n",
    "    run._element.rPr.rFonts.set(qn(\"w:eastAsia\"),'나눔고딕') \n",
    "    run.font.size =docx.shared.Pt(20) #폰트 사이즈 변경\n",
    "\n",
    "    para = doc.add_paragraph()\n",
    "    run = para.add_run('\\n\\n')\n",
    "    run = para.add_run(' 수 료 증')\n",
    "    run.font.name= '나눔고딕'\n",
    "    run.bold = True #볼드체 변환\n",
    "    run._element.rPr.rFonts.set(qn(\"w:eastAsia\"),'나눔고딕')\n",
    "    run.font.size =docx.shared.Pt(40)\n",
    "    para.alignment = WD_ALIGN_PARAGRAPH.CENTER #문단을 가운데 정렬\n",
    "\n",
    "    para = doc.add_paragraph()\n",
    "    run = para.add_run('\\n\\n')\n",
    "    run = para.add_run(' 성 명: '+name_list[i]+'\\n')\n",
    "    run.font.name= '나눔고딕'\n",
    "    run._element.rPr.rFonts.set(qn(\"w:eastAsia\"),'나눔고딕')\n",
    "    run.font.size =docx.shared.Pt(20)\n",
    "    run = para.add_run(' 생 년 월 일: '+birthday_list[i]+'\\n')\n",
    "    run.font.name= '나눔고딕'\n",
    "    run._element.rPr.rFonts.set(qn(\"w:eastAsia\"),'나눔고딕')\n",
    "    run.font.size =docx.shared.Pt(20)\n",
    "    run = para.add_run(' 교 육 과 정: 파이썬과 40개의 작품들\\n')\n",
    "    run.font.name= '나눔고딕'\n",
    "    run._element.rPr.rFonts.set(qn(\"w:eastAsia\"),'나눔고딕')\n",
    "    run.font.size =docx.shared.Pt(20)\n",
    "    run = para.add_run(' 교 육 날 짜: 2021.08.05~2021.09.09\\n')\n",
    "    run.font.name= '나눔고딕'\n",
    "    run._element.rPr.rFonts.set(qn(\"w:eastAsia\"),'나눔고딕')\n",
    "    run.font.size =docx.shared.Pt(20)\n",
    "\n",
    "    para = doc.add_paragraph()\n",
    "    run = para.add_run('\\n\\n')\n",
    "    run = para.add_run(' 위 사람은 파이썬과 40개의 작품들 교육과정을 \\n')\n",
    "    run.font.name= '나눔고딕'\n",
    "    run._element.rPr.rFonts.set(qn(\"w:eastAsia\"),'나눔고딕')\n",
    "    run.font.size =docx.shared.Pt(20)\n",
    "    run = para.add_run(' 이수하였으므로 이 증서를 수여 합니다.  \\n')\n",
    "    run.font.name= '나눔고딕'\n",
    "    run._element.rPr.rFonts.set(qn(\"w:eastAsia\"),'나눔고딕')\n",
    "    run.font.size =docx.shared.Pt(20)\n",
    "\n",
    "    para = doc.add_paragraph()\n",
    "    run = para.add_run('\\n\\n')\n",
    "    run = para.add_run('2021.09.19')\n",
    "    run.font.name= '나눔고딕'\n",
    "    run._element.rPr.rFonts.set(qn(\"w:eastAsia\"),'나눔고딕')\n",
    "    run.font.size =docx.shared.Pt(20)\n",
    "    para.alignment = WD_ALIGN_PARAGRAPH.CENTER\n",
    "\n",
    "    para = doc.add_paragraph()\n",
    "    run = para.add_run('\\n\\n')\n",
    "    run = para.add_run('파이썬교육기관장')\n",
    "    run.font.name= '나눔고딕'\n",
    "    run.bold = True\n",
    "    run._element.rPr.rFonts.set(qn(\"w:eastAsia\"),'나눔고딕')\n",
    "    run.font.size =docx.shared.Pt(20)\n",
    "    para.alignment = WD_ALIGN_PARAGRAPH.CENTER\n",
    "    \n",
    "    #지정된 경로의 워드파일을 생성합니다.\n",
    "    doc.save(r\"C:\\Users\\user\\엑셀의 정보를 불러와 수료증 자동 생성\\\\\"+name_list[i]+\".docx\")\n",
    "    #지정된 경로의 워드 파일을 읽어와 pdf로 변환합니다.\n",
    "    convert(r\"C:\\Users\\user\\엑셀의 정보를 불러와 수료증 자동 생성\\\\\"+name_list[i]+\".docx\",\n",
    "           r\"C:\\Users\\user\\엑셀의 정보를 불러와 수료증 자동 생성\\\\\"+name_list[i]+\".pdf\")"
   ]
  },
  {
   "cell_type": "code",
   "execution_count": null,
   "id": "9e76f606",
   "metadata": {},
   "outputs": [],
   "source": []
  }
 ],
 "metadata": {
  "kernelspec": {
   "display_name": "Python 3 (ipykernel)",
   "language": "python",
   "name": "python3"
  },
  "language_info": {
   "codemirror_mode": {
    "name": "ipython",
    "version": 3
   },
   "file_extension": ".py",
   "mimetype": "text/x-python",
   "name": "python",
   "nbconvert_exporter": "python",
   "pygments_lexer": "ipython3",
   "version": "3.9.12"
  }
 },
 "nbformat": 4,
 "nbformat_minor": 5
}
