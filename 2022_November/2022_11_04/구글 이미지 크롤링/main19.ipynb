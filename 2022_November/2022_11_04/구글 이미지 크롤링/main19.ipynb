{
 "cells": [
  {
   "cell_type": "markdown",
   "id": "d5efb047",
   "metadata": {},
   "source": [
    "# 사전 지식 \n",
    "\n",
    "크롤링은 주피터 노트북 형식으로 파이썬 코드를 작성하고 테스트하는 것을 추천합니다. 이유는 우리가 크롤링하는 대부분의 사이트들은 사람이 아닌 기계(컴퓨터)의 접속을 극도로 싫어합니다. 자주 반복하여 접속하고 또 접속을 종료하고 다시 접속하면 사람이 아닌 기계(컴퓨터)가 접속하였다고 판단하여 더 이상 접속해도 응답을 하지 않을 수 있습니다.\n",
    "\n",
    ".py의 형식으로 파이썬코드를 만들고 크롤링을 진행하면 한 번의 코드 실수로 인해 다시 접속해야 합니다. .ipynb의 주피터 노트북 방식을 사용하여 접속하는 부분까지는 한 번 진행하고 접속해둔 상태에서 내가 찾고자 하는 데이터 부분을 상황마다 수정하여 진행하면 다시 접속하지 않고 웹상에서 데이터를 찾을 수 있습니다. 크롤링을 할 때 코드를 잘 만드는 것도 중요하지만 크롤링을 어떻게 조심스럽게 사람이 접속한 것처럼 하는 것도 중요합니다. \n",
    "\n",
    "크롬드라이버를 사용하므로 구글크롬이 다운받아져 있어야 합니다."
   ]
  },
  {
   "cell_type": "markdown",
   "id": "8c8f278a",
   "metadata": {},
   "source": [
    "### 크롬 드라이버를 자동으로 설치하는 코드 만들기"
   ]
  },
  {
   "cell_type": "code",
   "execution_count": 2,
   "id": "c1fb333c",
   "metadata": {},
   "outputs": [],
   "source": [
    "#구글 크롬 드라이버의 자동설치를 위한 라이브러리를 불러옵니다.\n",
    "from webdriver_manager.chrome import ChromeDriverManager\n",
    "#구글 드라이버의 제어를 위해 selenium 라이브러리를 불러옵니다.\n",
    "from selenium import webdriver\n",
    "\n",
    "#크롬 드라이버를 시작합니다. \n",
    "#만약 프로그램이 설치되지 않았다면 프로그램을 자동으로 설치합니다. \n",
    "driver = webdriver.Chrome(ChromeDriverManager().install())\n",
    "\n",
    "#url 경로지정\n",
    "URL='https://www.google.co.kr/imghp'\n",
    "#driver에 url정보를 줘서 이미지검색 사이트로 이동합니다.\n",
    "driver.get(url=URL)\n",
    "\n",
    "#사이트로 이동할 때까지 최대 10초 동안 기다립니다. \n",
    "driver.implicitly_wait(time_to_wait=10)"
   ]
  },
  {
   "cell_type": "markdown",
   "id": "3929a8d6",
   "metadata": {},
   "source": [
    "### 구글 상에서 이미지 크롤링하는 코드 만들기"
   ]
  },
  {
   "cell_type": "code",
   "execution_count": 7,
   "id": "b94cb9f1",
   "metadata": {},
   "outputs": [],
   "source": [
    "#키 입력을 위한 라이브러리를 불러옵니다.\n",
    "from selenium.webdriver.common.keys import Keys\n",
    "#selenium의 css_selector를 통해 원소를 찾습니다.\n",
    "elem = driver.find_element_by_css_selector(\"body > div.L3eUgb > div.o3j99.ikrT4e.om7nvf > form > div:nth-child(1) > div.A8SBwf > div.RNNXgb > div > div.a4bIc > input\")\n",
    "#검색할 사진인 바다를 입력합니다.\n",
    "elem.send_keys(\"바다\")\n",
    "#엔터키를 입력하여 검색합니다.\n",
    "elem.send_keys(Keys.RETURN)"
   ]
  },
  {
   "cell_type": "markdown",
   "id": "80f930cd",
   "metadata": {},
   "source": [
    "### 스크롤"
   ]
  },
  {
   "cell_type": "code",
   "execution_count": 15,
   "id": "144227a4",
   "metadata": {},
   "outputs": [],
   "source": [
    "#시간을 제어하기 위해 time 라이브러리 임포트\n",
    "import time\n",
    "\n",
    "#body tag를 찾습니다.\n",
    "elem= driver.find_element_by_tag_name(\"body\")\n",
    "#페이지 다운을 60회 눌러 사진이 계속 보이게 합니다.\n",
    "for i in range(60):\n",
    "    elem.send_keys(Keys.PAGE_DOWN)\n",
    "    time.sleep(0.1)\n",
    "    \n",
    "try:\n",
    "    #중간에 결과더보기 버튼이 있다면 눌러서 계속 사진이 보이도록 합니다.\n",
    "    #css_selector로 결과더보기 버튼의 css_selector를 가져옴\n",
    "    driver.find_element_by_css_selector('#islmp > div > div > div > div.gBPM8 > div.qvfT1 > div.YstHxe > input').click()\n",
    "    \n",
    "    #결과 더보기 버튼이 눌린 후 페이지 다운키를 60회 눌러 사진이 계속 보이도록 합니다. \n",
    "    for i in range(60):\n",
    "        esend_keys(Keys.PAGE_DOWN)\n",
    "        time.sleep(0.1)\n",
    "except:\n",
    "    pass"
   ]
  },
  {
   "cell_type": "markdown",
   "id": "8a3f4d80",
   "metadata": {},
   "source": [
    "### 이미지 담기"
   ]
  },
  {
   "cell_type": "code",
   "execution_count": 18,
   "id": "7d820720",
   "metadata": {},
   "outputs": [
    {
     "name": "stdout",
     "output_type": "stream",
     "text": [
      "찾은 이미지 개수: 376\n"
     ]
    }
   ],
   "source": [
    "#이미지를 담을 빈리스트 작성 \n",
    "links=[] \n",
    "#이미지의 원소를 모두 찾습니다.\n",
    "images = driver.find_elements_by_css_selector(\"#islrg > div.islrc > div > a.wXeWr.islib.nfEiy > div.bRMDJf.islir > img\")\n",
    "\n",
    "#찾은 이미지의 수만큼 반복합니다.\n",
    "for image in images:\n",
    "    #이미지에서 링크 주소가 있다면 참, 없다면 거짓.\n",
    "    #링크 주소는 src에 저장되어 있습니다.\n",
    "    if image.get_attribute('src') is not None:\n",
    "        #이미지의 다운로드 링크 주소를 links 리스트에 추가합니다.\n",
    "        links.append(image.get_attribute('src'))\n",
    "#links 리스트의 길이를 가져와 찾은 이미지 개수를 출력합니다.        \n",
    "print('찾은 이미지 개수:',len(links))"
   ]
  },
  {
   "cell_type": "markdown",
   "id": "bf4f2946",
   "metadata": {},
   "source": [
    "### 크롤링한 이미지 다운로드받는 코드 만들기"
   ]
  },
  {
   "cell_type": "code",
   "execution_count": 23,
   "id": "16b89656",
   "metadata": {},
   "outputs": [],
   "source": [
    "#사진을 다운로드 받기 위해 request 라이브러리를 불러옵니다.\n",
    "import urllib.request\n",
    "\n",
    "#links의 리스트를 enumerate하여 반복합니다. k값은 번호, i값은 links 리스트의 원소값입니다.\n",
    "for k,i in enumerate(links):\n",
    "    url = i\n",
    "    #사진을 다운로드 합니다. 다운로드 받을 경로의 절대 경로로 지정합니다.\n",
    "    urllib.request.urlretrieve(url,r'C:\\Users\\user\\구글 이미지 크롤링\\사진다운로드\\ '+ str(k)+ \".jpg\")\n",
    "\n",
    "#다운로드 다 되면 메세지 출력\n",
    "print('다운로드 완료')"
   ]
  },
  {
   "cell_type": "markdown",
   "id": "2ef6015e",
   "metadata": {},
   "source": [
    "### 주피터 노트북 코드를 py 코드로 변경"
   ]
  },
  {
   "cell_type": "markdown",
   "id": "1220542f",
   "metadata": {},
   "source": [
    "!pip install nbconvert\n",
    "\n",
    "nbconvert는 ipynb파일을 .py파일로 변환합니다."
   ]
  },
  {
   "cell_type": "markdown",
   "id": "212017eb",
   "metadata": {},
   "source": [
    "jupiter nbconvert --to script main19.ipynb\n",
    "\n",
    "main19.ipynb 파일을 .py 파일로 변환하는 코드"
   ]
  },
  {
   "cell_type": "code",
   "execution_count": null,
   "id": "19292895",
   "metadata": {},
   "outputs": [],
   "source": []
  }
 ],
 "metadata": {
  "kernelspec": {
   "display_name": "Python 3 (ipykernel)",
   "language": "python",
   "name": "python3"
  },
  "language_info": {
   "codemirror_mode": {
    "name": "ipython",
    "version": 3
   },
   "file_extension": ".py",
   "mimetype": "text/x-python",
   "name": "python",
   "nbconvert_exporter": "python",
   "pygments_lexer": "ipython3",
   "version": "3.9.12"
  }
 },
 "nbformat": 4,
 "nbformat_minor": 5
}
