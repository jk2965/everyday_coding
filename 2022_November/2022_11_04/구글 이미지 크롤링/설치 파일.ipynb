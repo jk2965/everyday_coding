{
 "cells": [
  {
   "cell_type": "markdown",
   "id": "086257f0",
   "metadata": {},
   "source": [
    "!pip install selenium\n",
    "\n",
    "#selenium은 웹을 제어하는 유명한 라이브러리로 크롤링을 할 때 사용한다."
   ]
  },
  {
   "cell_type": "markdown",
   "id": "61328c16",
   "metadata": {},
   "source": [
    "!pip install webddriver-manager\n",
    "\n",
    "#webdriver-manager는 웹드라이버에 사용하는 크롬 드라이버 파일을 손쉽게 다운로드 할 수 있는 라이브러리입니다."
   ]
  },
  {
   "cell_type": "code",
   "execution_count": null,
   "id": "fb43f60d",
   "metadata": {},
   "outputs": [],
   "source": []
  }
 ],
 "metadata": {
  "kernelspec": {
   "display_name": "Python 3 (ipykernel)",
   "language": "python",
   "name": "python3"
  },
  "language_info": {
   "codemirror_mode": {
    "name": "ipython",
    "version": 3
   },
   "file_extension": ".py",
   "mimetype": "text/x-python",
   "name": "python",
   "nbconvert_exporter": "python",
   "pygments_lexer": "ipython3",
   "version": "3.9.12"
  }
 },
 "nbformat": 4,
 "nbformat_minor": 5
}
