{
 "cells": [
  {
   "cell_type": "markdown",
   "id": "880f44c3",
   "metadata": {},
   "source": [
    "# 당첨번호의 빈도수를 출력하는 코드 만들기"
   ]
  },
  {
   "cell_type": "code",
   "execution_count": 3,
   "id": "f2273424",
   "metadata": {},
   "outputs": [
    {
     "name": "stdout",
     "output_type": "stream",
     "text": [
      "[(34, 160), (18, 154), (12, 151), (27, 151), (39, 149), (14, 148), (17, 148), (13, 148), (45, 147), (1, 146), (43, 146), (37, 145), (20, 144), (33, 144), (40, 144), (15, 142), (11, 142), (2, 140), (10, 140), (4, 140), (44, 140), (24, 139), (31, 139), (36, 139), (3, 138), (21, 138), (26, 137), (19, 137), (38, 137), (42, 137), (7, 136), (5, 136), (16, 136), (8, 135), (25, 133), (35, 133), (29, 131), (6, 130), (41, 130), (28, 125), (23, 124), (30, 124), (22, 120), (32, 119), (9, 112)]\n"
     ]
    }
   ],
   "source": [
    "#데이터 값을 읽어오기 위해 pandas 임포트\n",
    "import pandas as pd\n",
    "\n",
    "#숫자를 세기 위해 collection 라이브러리의 Counter 메서드를 임포트\n",
    "from collections import Counter\n",
    "\n",
    "#파일의 경로 지정\n",
    "file_path = r'C:\\Users\\user\\로또번호 시각화하기\\lotto.xlsx'\n",
    "\n",
    "#openpyxl을 엔진으로 사용하여 pandas의 데이터프레임으로 엑셀 파일을 불러옵니다.\n",
    "df_from_excel = pd.read_excel(file_path,engine='openpyxl')\n",
    "\n",
    "#데이터프레임의 0번,1번 인덱스를 삭제합니다.\n",
    "df_from_excel = df_from_excel.drop(index=[0,1])\n",
    "\n",
    "#columns의 이름 재정의\n",
    "df_from_excel.columns =[\n",
    "    '년도','회차','추첨일','1등당첨자수','1등당첨금액',\n",
    "    '2등당첨자수','2등당첨금액','3등당첨자수','3등당첨금액',\n",
    "    '4등당첨자수','4등당첨금액','5등당첨자수','5등당첨금액',\n",
    "    '당첨번호1','당첨번호2','당첨번호3','당첨번호4',\n",
    "    '당첨번호5','당첨번호6','보너스번호'\n",
    "]\n",
    "\n",
    "#6개의 번호를 숫자형 타입으로 읽어 num_list 리스트에 더해줍니다.\n",
    "#DataFrame.astype() 메서드는 열의 요소의 dtype을 변경하는함수 입니다.\n",
    "numlist = list(df_from_excel['당첨번호1'].astype(int))\n",
    "numlist += list(df_from_excel['당첨번호2'].astype(int))\n",
    "numlist += list(df_from_excel['당첨번호3'].astype(int))\n",
    "numlist += list(df_from_excel['당첨번호4'].astype(int))\n",
    "numlist += list(df_from_excel['당첨번호5'].astype(int))\n",
    "numlist += list(df_from_excel['당첨번호6'].astype(int))\n",
    "\n",
    "#숫자를 세기 위한 Counter 객체 선언 \n",
    "count = Counter(numlist)\n",
    "#가장 많이 나온 숫자 45개를 찾습니다.\n",
    "most_num = count.most_common(45)\n",
    "#출력\n",
    "print(most_num)"
   ]
  },
  {
   "cell_type": "code",
   "execution_count": null,
   "id": "2a3b65c7",
   "metadata": {},
   "outputs": [],
   "source": []
  }
 ],
 "metadata": {
  "kernelspec": {
   "display_name": "Python 3 (ipykernel)",
   "language": "python",
   "name": "python3"
  },
  "language_info": {
   "codemirror_mode": {
    "name": "ipython",
    "version": 3
   },
   "file_extension": ".py",
   "mimetype": "text/x-python",
   "name": "python",
   "nbconvert_exporter": "python",
   "pygments_lexer": "ipython3",
   "version": "3.9.12"
  }
 },
 "nbformat": 4,
 "nbformat_minor": 5
}
