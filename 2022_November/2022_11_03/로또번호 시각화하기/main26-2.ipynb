{
 "cells": [
  {
   "cell_type": "markdown",
   "id": "3e753892",
   "metadata": {},
   "source": [
    "# 그래프로 시각화 해보기"
   ]
  },
  {
   "cell_type": "code",
   "execution_count": 8,
   "id": "d785cd08",
   "metadata": {},
   "outputs": [
    {
     "name": "stdout",
     "output_type": "stream",
     "text": [
      "          1등당첨금액     2등당첨금액   3등당첨금액  4등당첨금액  5등당첨금액\n",
      "2     1585019672   52833990  1524241   50000    5000\n",
      "3     1627457225   52839521  1209466   50000    5000\n",
      "4     1708576825   54762078  1574435   50000    5000\n",
      "5     2837323167   66499762  1641337   50000    5000\n",
      "6     3231193735   60679695  1512732   50000    5000\n",
      "...          ...        ...      ...     ...     ...\n",
      "1036           0          0  6033800  166500   10000\n",
      "1037           0  211191200  7282400  152100   10000\n",
      "1038  2000000000          0  1174100   54900   10000\n",
      "1039  2002006800   94866800  1842000  100800   10000\n",
      "1040           0  143934100  5140500  113400   10000\n",
      "\n",
      "[1039 rows x 5 columns]\n"
     ]
    },
    {
     "name": "stderr",
     "output_type": "stream",
     "text": [
      "C:\\Users\\user\\anaconda3\\lib\\site-packages\\IPython\\core\\pylabtools.py:151: UserWarning: Glyph 54924 (\\N{HANGUL SYLLABLE HOE}) missing from current font.\n",
      "  fig.canvas.print_figure(bytes_io, **kw)\n",
      "C:\\Users\\user\\anaconda3\\lib\\site-packages\\IPython\\core\\pylabtools.py:151: UserWarning: Glyph 52264 (\\N{HANGUL SYLLABLE CA}) missing from current font.\n",
      "  fig.canvas.print_figure(bytes_io, **kw)\n",
      "C:\\Users\\user\\anaconda3\\lib\\site-packages\\IPython\\core\\pylabtools.py:151: UserWarning: Glyph 45817 (\\N{HANGUL SYLLABLE DANG}) missing from current font.\n",
      "  fig.canvas.print_figure(bytes_io, **kw)\n",
      "C:\\Users\\user\\anaconda3\\lib\\site-packages\\IPython\\core\\pylabtools.py:151: UserWarning: Glyph 52392 (\\N{HANGUL SYLLABLE CEOM}) missing from current font.\n",
      "  fig.canvas.print_figure(bytes_io, **kw)\n",
      "C:\\Users\\user\\anaconda3\\lib\\site-packages\\IPython\\core\\pylabtools.py:151: UserWarning: Glyph 44552 (\\N{HANGUL SYLLABLE GEUM}) missing from current font.\n",
      "  fig.canvas.print_figure(bytes_io, **kw)\n",
      "C:\\Users\\user\\anaconda3\\lib\\site-packages\\IPython\\core\\pylabtools.py:151: UserWarning: Glyph 50529 (\\N{HANGUL SYLLABLE AEG}) missing from current font.\n",
      "  fig.canvas.print_figure(bytes_io, **kw)\n",
      "C:\\Users\\user\\anaconda3\\lib\\site-packages\\IPython\\core\\pylabtools.py:151: UserWarning: Glyph 45800 (\\N{HANGUL SYLLABLE DAN}) missing from current font.\n",
      "  fig.canvas.print_figure(bytes_io, **kw)\n",
      "C:\\Users\\user\\anaconda3\\lib\\site-packages\\IPython\\core\\pylabtools.py:151: UserWarning: Glyph 50948 (\\N{HANGUL SYLLABLE WI}) missing from current font.\n",
      "  fig.canvas.print_figure(bytes_io, **kw)\n",
      "C:\\Users\\user\\anaconda3\\lib\\site-packages\\IPython\\core\\pylabtools.py:151: UserWarning: Glyph 50613 (\\N{HANGUL SYLLABLE EOG}) missing from current font.\n",
      "  fig.canvas.print_figure(bytes_io, **kw)\n",
      "C:\\Users\\user\\anaconda3\\lib\\site-packages\\IPython\\core\\pylabtools.py:151: UserWarning: Glyph 50896 (\\N{HANGUL SYLLABLE WEON}) missing from current font.\n",
      "  fig.canvas.print_figure(bytes_io, **kw)\n"
     ]
    },
    {
     "data": {
      "image/png": "[encoded data removed]",
      "text/plain": [
       "<Figure size 720x432 with 1 Axes>"
      ]
     },
     "metadata": {
      "needs_background": "light"
     },
     "output_type": "display_data"
    }
   ],
   "source": [
    "#데이터 값을 읽어오기 위해 pandas 임포트\n",
    "import pandas as pd\n",
    "#그래프로 시각화하기 위하여 matplotlib.pyplot 임포트\n",
    "import matplotlib.pyplot as plt\n",
    "\n",
    "from matplotlib import rc,font_manager\n",
    "\n",
    "#파일의 경로 지정\n",
    "file_path = r'C:\\Users\\user\\로또번호 시각화하기\\lotto.xlsx'\n",
    "#openpyxl을 엔진으로 사용하여 pandas의 데이터프레임으로 엑셀 파일을 불러옵니다.\n",
    "df_from_excel = pd.read_excel(file_path,engine='openpyxl')\n",
    "#데이터프레임의 0번,1번 인덱스를 삭제합니다.\n",
    "df_from_excel = df_from_excel.drop(index=[0,1])\n",
    "\n",
    "#columns의 이름 재정의\n",
    "df_from_excel.columns =[\n",
    "    '년도','회차','추첨일','1등당첨자수','1등당첨금액',\n",
    "    '2등당첨자수','2등당첨금액','3등당첨자수','3등당첨금액',\n",
    "    '4등당첨자수','4등당첨금액','5등당첨자수','5등당첨금액',\n",
    "    '당첨번호1','당첨번호2','당첨번호3','당첨번호4',\n",
    "    '당첨번호5','당첨번호6','보너스번호'\n",
    "]\n",
    "\n",
    "#엑셀 파일을 확인하면 당첨금액이 숫자+,+원 형태로 되어있어 ,와 원을 제거(정구표현식 사용)\n",
    "df_from_excel['1등당첨금액']=df_from_excel['1등당첨금액'].str.replace(pat=r'[ㄱ-ㅣ가-힣,]+',repl=r'',\n",
    "                                                            regex=True)\n",
    "df_from_excel['2등당첨금액']=df_from_excel['2등당첨금액'].str.replace(pat=r'[ㄱ-ㅣ가-힣,]+',repl=r'',\n",
    "                                                            regex=True)\n",
    "df_from_excel['3등당첨금액']=df_from_excel['3등당첨금액'].str.replace(pat=r'[ㄱ-ㅣ가-힣,]+',repl=r'',\n",
    "                                                            regex=True)\n",
    "df_from_excel['4등당첨금액']=df_from_excel['4등당첨금액'].str.replace(pat=r'[ㄱ-ㅣ가-힣,]+',repl=r'',\n",
    "                                                            regex=True)\n",
    "df_from_excel['5등당첨금액']=df_from_excel['5등당첨금액'].str.replace(pat=r'[ㄱ-ㅣ가-힣,]+',repl=r'',\n",
    "                                                            regex=True)\n",
    "\n",
    "#값을 숫자 형태로 다시 데이터프레임에 저장합니다.\n",
    "#(엑셀 파일이 수정되는게 아닌 불러온 데이터프레임 형식에서 수정됩니다.)\n",
    "df_from_excel['1등당첨금액'] = pd.to_numeric(df_from_excel['1등당첨금액'])\n",
    "df_from_excel['2등당첨금액'] = pd.to_numeric(df_from_excel['2등당첨금액'])\n",
    "df_from_excel['3등당첨금액'] = pd.to_numeric(df_from_excel['3등당첨금액'])\n",
    "df_from_excel['4등당첨금액'] = pd.to_numeric(df_from_excel['4등당첨금액'])\n",
    "df_from_excel['5등당첨금액'] = pd.to_numeric(df_from_excel['5등당첨금액'])\n",
    "\n",
    "#데이터프레임의 1등~5등당첨금액 열의 값들을 출력\n",
    "print(df_from_excel[['1등당첨금액','2등당첨금액','3등당첨금액','4등당첨금액','5등당첨금액']])\n",
    "\n",
    "#폰트 설정\n",
    "font_path = r'C:\\Windows\\Fonts\\NGULIM.TTF'\n",
    "font = font_manager.FontProperties(fname=font_path).get_name()\n",
    "#한글폰트 사용을 위한 설정\n",
    "rc('font',family=font)\n",
    "\n",
    "#회차 열의 마지막 100개의 데이터만 사용\n",
    "x=df_from_excel['회차'].iloc[:100].values\n",
    "#1등당첨금액 열의 마지막 100개 데이터만 사용, \n",
    "price = df_from_excel['1등당첨금액'].iloc[:100].values/100000000\n",
    "\n",
    "#그래프 시각화\n",
    "#그래프 초기 표시 크기 설정\n",
    "plt.figure(figsize=(10,6))\n",
    "#x축 이름 설정\n",
    "plt.xlabel('회차')\n",
    "#y축 이름 변경\n",
    "plt.ylabel('당첨금액(단위:억원)')\n",
    "#바 그래프의 x,y값과 바 그래프의 폭을 지정해 그래프를 그립니다.\n",
    "plt.bar(x,price,width=0.4)\n",
    "#그래프 출력\n",
    "plt.show()"
   ]
  },
  {
   "cell_type": "markdown",
   "id": "74d82a1f",
   "metadata": {},
   "source": [
    "## 같이보면 좋은 개념\n",
    "\n",
    "matplotlib.font_manager\n",
    "여러 플랫폼에서 글꼴을 찾고, 관리하고, 사용하기 위한 모듈입니다.\n",
    "\n",
    "matplotlib.font_manager. FontProperties()\n",
    "글꼴 속성을 저장하고 조작하기 위한 클래스입니다.\n",
    "\n",
    "matplotlib.font_manager.FontProperties().get_name()\n",
    "글꼴 속성과 가장 일치하는 글꼴의 이름을 반환합니다.\n",
    "\n",
    "str.replace(): 문자열에서 발견되는 지정된 문자 또는 String을 다른 유니코드 문자나 String으로 변환\n",
    "pat= 바꾸고 싶은 문자열 패턴, repl = 바꿀 문자열, regex= 지정된 패턴이 정규표현식인지에 대한 여부 "
   ]
  },
  {
   "cell_type": "code",
   "execution_count": null,
   "id": "6235fa01",
   "metadata": {},
   "outputs": [],
   "source": []
  }
 ],
 "metadata": {
  "kernelspec": {
   "display_name": "Python 3 (ipykernel)",
   "language": "python",
   "name": "python3"
  },
  "language_info": {
   "codemirror_mode": {
    "name": "ipython",
    "version": 3
   },
   "file_extension": ".py",
   "mimetype": "text/x-python",
   "name": "python",
   "nbconvert_exporter": "python",
   "pygments_lexer": "ipython3",
   "version": "3.9.12"
  }
 },
 "nbformat": 4,
 "nbformat_minor": 5
}
