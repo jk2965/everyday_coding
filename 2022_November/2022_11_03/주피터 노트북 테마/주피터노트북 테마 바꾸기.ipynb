{
 "cells": [
  {
   "cell_type": "markdown",
   "id": "bd597b5a",
   "metadata": {},
   "source": [
    "# jupyterteme 패키지 설치\n",
    "!pip install jupyterthemes"
   ]
  },
  {
   "cell_type": "markdown",
   "id": "aaa386f4",
   "metadata": {},
   "source": [
    "## 다크모드\n",
    "\n",
    "jt -t chesterish"
   ]
  },
  {
   "cell_type": "markdown",
   "id": "95ad4edc",
   "metadata": {},
   "source": [
    "## 혹시라도 기본테마로 바꾸고 싶을 때\n",
    "\n",
    "jt -r"
   ]
  },
  {
   "cell_type": "markdown",
   "id": "8a424a80",
   "metadata": {},
   "source": [
    "주의 사항: 이 코드를 Anaconda Prompt에서 실행하여야 한다. "
   ]
  },
  {
   "cell_type": "code",
   "execution_count": null,
   "id": "8e202b78",
   "metadata": {},
   "outputs": [],
   "source": []
  }
 ],
 "metadata": {
  "kernelspec": {
   "display_name": "Python 3 (ipykernel)",
   "language": "python",
   "name": "python3"
  },
  "language_info": {
   "codemirror_mode": {
    "name": "ipython",
    "version": 3
   },
   "file_extension": ".py",
   "mimetype": "text/x-python",
   "name": "python",
   "nbconvert_exporter": "python",
   "pygments_lexer": "ipython3",
   "version": "3.9.12"
  }
 },
 "nbformat": 4,
 "nbformat_minor": 5
}
