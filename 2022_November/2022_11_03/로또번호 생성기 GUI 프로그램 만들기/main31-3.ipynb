{
 "cells": [
  {
   "cell_type": "markdown",
   "id": "9d77cdfe",
   "metadata": {},
   "source": [
    "# 번호를 누르면 번호를 자동 생성하여 GUI에 표시하는 코드 만들기 "
   ]
  },
  {
   "cell_type": "code",
   "execution_count": 4,
   "id": "f7950c72",
   "metadata": {},
   "outputs": [
    {
     "name": "stdout",
     "output_type": "stream",
     "text": [
      "1회: 34,10,45,18,31,8\n",
      "2회: 41,11,14,5,9,17\n",
      "3회: 15,16,20,45,12,24\n",
      "4회: 22,1,36,24,11,13\n",
      "5회: 28,15,43,32,22,36\n"
     ]
    }
   ],
   "source": [
    "#GUi 생성을위해 tkinter 라이브러리 임포트\n",
    "import tkinter as tk\n",
    "#tkinter의 폰트 수정을 위해 tkinter.font 라이브러리 임포트\n",
    "import tkinter.font\n",
    "#난수 생성을 위해 random 라이브러리 임포트\n",
    "import random\n",
    "\n",
    "#1~45사이 번호를 생성\n",
    "lotto_num = range(1,46)\n",
    "\n",
    "#버튼을 누르면 동작하는 함수 생성\n",
    "def btn_click():\n",
    "    #6개의 번호를 랜덤하게 5회 추출하여 출력 및 listbox에 입력(중복값 x)\n",
    "    for i in range(5):\n",
    "        #랜덤으로 생성된 번호 6개를 map 함수를 변환하여 문자열로 변환 \n",
    "        lottopick = map(str,random.sample(lotto_num,6))\n",
    "        #문자열 리스트를 join() 메서드를 사용하여 합쳐서 하나의 문자열로 변환, 중간에 콤마를 추가\n",
    "        lottopick = ','.join(lottopick)\n",
    "        #몇 회차인지 명시하기 위한 코드\n",
    "        lottopick = str(i+1)+\"회: \"+lottopick\n",
    "        #출력\n",
    "        print(lottopick)\n",
    "        #리스트박스에 값을 저장\n",
    "        listbox.insert(i,lottopick)\n",
    "    \n",
    "    listbox.pack()\n",
    "\n",
    "#GUI 설정\n",
    "#윈도우 창 생성\n",
    "window = tk.Tk()\n",
    "#타이틀 변경\n",
    "window.title(\"lotto\")\n",
    "#창의 크기와 최초 생성 위치 지정\n",
    "window.geometry(\"400x200+800+300\")\n",
    "#창 크기 재조절 여부 설정\n",
    "window.resizable(False,False)\n",
    "\n",
    "#버튼 생성\n",
    "button = tk.Button(window,overrelief=\"solid\",text=\"번호확인\",width = 15, \n",
    "                   command=btn_click,repeatdelay=1000,repeatinterval=100)\n",
    "#버튼을 표시함\n",
    "button.pack()\n",
    "\n",
    "font = tk.font.Font(size=20)\n",
    "\n",
    "#tkinter 리스트박스 생성 후 값 추가\n",
    "listbox = tk.Listbox(window, selectmode='extended',height=5,font=font)\n",
    "listbox.insert(0,\"1회:\")\n",
    "listbox.insert(1,\"2회:\")\n",
    "listbox.insert(2,\"3회:\")\n",
    "listbox.insert(3,\"4회:\")\n",
    "listbox.insert(4,\"5회:\")\n",
    "#리스트박스 표시\n",
    "listbox.pack()\n",
    "#윈도우가 닫히기 전까지 반복\n",
    "window.mainloop()"
   ]
  },
  {
   "cell_type": "markdown",
   "id": "fbd7d122",
   "metadata": {},
   "source": [
    "## 같이 보면 좋은 개념\n",
    "\n",
    "tkinter.Listbox(리스트박스): Listbox을 이용하여 목록을 불러와 추가, 제거 또는 선택하기 위한 리스트박스를 생성할 수 있습니다\n",
    "\n",
    "selectmode:리스트박스의 항목 선택 방법\n",
    "\n",
    "selectmode 매개변수\n",
    "browse : 단일 선택, 방향키 이동 시 선택\n",
    "single : 단일 선택, 방향키 이동 후 스페이스바로 선택\n",
    "multiple : 다중 선택, 마우스 클릭이나 방향키 이동 후 스페이스바로 선택\n",
    "extended : 다중 선택, 마우스 드래그나 쉬프트키 + 방향키 이동으로 선택"
   ]
  },
  {
   "cell_type": "code",
   "execution_count": null,
   "id": "c9bf08fc",
   "metadata": {},
   "outputs": [],
   "source": []
  }
 ],
 "metadata": {
  "kernelspec": {
   "display_name": "Python 3 (ipykernel)",
   "language": "python",
   "name": "python3"
  },
  "language_info": {
   "codemirror_mode": {
    "name": "ipython",
    "version": 3
   },
   "file_extension": ".py",
   "mimetype": "text/x-python",
   "name": "python",
   "nbconvert_exporter": "python",
   "pygments_lexer": "ipython3",
   "version": "3.9.12"
  }
 },
 "nbformat": 4,
 "nbformat_minor": 5
}
