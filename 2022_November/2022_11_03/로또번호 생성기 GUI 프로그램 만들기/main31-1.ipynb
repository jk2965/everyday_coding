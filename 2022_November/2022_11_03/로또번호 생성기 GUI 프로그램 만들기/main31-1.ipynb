{
 "cells": [
  {
   "cell_type": "markdown",
   "id": "97e4fad3",
   "metadata": {},
   "source": [
    "# 랜덤 번호 중 6개의 번호를 출력하는 코드 만들기"
   ]
  },
  {
   "cell_type": "code",
   "execution_count": 1,
   "id": "a277a5e8",
   "metadata": {},
   "outputs": [
    {
     "name": "stdout",
     "output_type": "stream",
     "text": [
      "[14, 8, 12, 33, 40, 30]\n",
      "[27, 34, 13, 25, 4, 45]\n",
      "[21, 38, 43, 32, 11, 14]\n",
      "[19, 11, 8, 41, 33, 7]\n",
      "[45, 19, 29, 14, 42, 1]\n"
     ]
    }
   ],
   "source": [
    "#랜덤 값을 사용하기 위한 random 라이브러리 임포트\n",
    "import random\n",
    "\n",
    "# 1~45 사이에 숫자값을 설정\n",
    "lotto_num = range(1,46)\n",
    "\n",
    "#5번 반복\n",
    "for i in range(5):\n",
    "    #sample을 이용하여 1~45의 숫자값 중에 6개의 값을 뽑습니다. sample은 중복값을 제외하고 가져옵니다.\n",
    "    print(random.sample(lotto_num,6))"
   ]
  },
  {
   "cell_type": "markdown",
   "id": "9184fcea",
   "metadata": {},
   "source": [
    "random.sample() 함수\n",
    "\n",
    "sequence에서 지정한 숫자만큼의 요소들을 랜덤으로 뽑아 리스트로 반환해주는 함수"
   ]
  },
  {
   "cell_type": "code",
   "execution_count": null,
   "id": "03125af5",
   "metadata": {},
   "outputs": [],
   "source": []
  }
 ],
 "metadata": {
  "kernelspec": {
   "display_name": "Python 3 (ipykernel)",
   "language": "python",
   "name": "python3"
  },
  "language_info": {
   "codemirror_mode": {
    "name": "ipython",
    "version": 3
   },
   "file_extension": ".py",
   "mimetype": "text/x-python",
   "name": "python",
   "nbconvert_exporter": "python",
   "pygments_lexer": "ipython3",
   "version": "3.9.12"
  }
 },
 "nbformat": 4,
 "nbformat_minor": 5
}
