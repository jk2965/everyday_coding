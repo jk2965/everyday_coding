{
 "cells": [
  {
   "cell_type": "code",
   "execution_count": 6,
   "id": "e3a740da",
   "metadata": {},
   "outputs": [],
   "source": [
    "import numpy as np\n",
    "import cv2\n",
    "\n",
    "ff = np.fromfile(r'C:\\Users\\user\\사진을 그림으로 변환(Open CV)\\img.png',np.uint8)\n",
    "img = cv2.imdecode(ff,cv2.IMREAD_UNCHANGED)\n",
    "img = cv2.resize(img ,dsize=(0,0), fx=1.0,fy=1.0,interpolation = cv2.INTER_LINEAR)\n",
    "\n",
    "cartoon_img = cv2.stylization(img,sigma_s = 100, sigma_r=0.1)\n",
    "\n",
    "cv2.imshow('cartoon view',cartoon_img)\n",
    "cv2.waitKey(0)\n",
    "cv2.destroyAllWindows()"
   ]
  },
  {
   "cell_type": "code",
   "execution_count": null,
   "id": "f89544f3",
   "metadata": {},
   "outputs": [],
   "source": []
  }
 ],
 "metadata": {
  "kernelspec": {
   "display_name": "Python 3 (ipykernel)",
   "language": "python",
   "name": "python3"
  },
  "language_info": {
   "codemirror_mode": {
    "name": "ipython",
    "version": 3
   },
   "file_extension": ".py",
   "mimetype": "text/x-python",
   "name": "python",
   "nbconvert_exporter": "python",
   "pygments_lexer": "ipython3",
   "version": "3.9.12"
  }
 },
 "nbformat": 4,
 "nbformat_minor": 5
}
