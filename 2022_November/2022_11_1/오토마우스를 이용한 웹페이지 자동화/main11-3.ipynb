{
 "cells": [
  {
   "cell_type": "code",
   "execution_count": 1,
   "id": "333d7645",
   "metadata": {},
   "outputs": [
    {
     "name": "stdout",
     "output_type": "stream",
     "text": [
      "Box(left=1067, top=249, width=387, height=78)\n",
      "None\n",
      "None\n"
     ]
    },
    {
     "name": "stderr",
     "output_type": "stream",
     "text": [
      "Exception in thread Thread-5:\n",
      "Traceback (most recent call last):\n",
      "  File \"C:\\Users\\user\\anaconda3\\lib\\threading.py\", line 973, in _bootstrap_inner\n",
      "    self.run()\n",
      "  File \"C:\\Users\\user\\anaconda3\\lib\\threading.py\", line 1299, in run\n",
      "    self.function(*self.args, **self.kwargs)\n",
      "  File \"C:\\Users\\user\\AppData\\Local\\Temp\\ipykernel_14800\\3932337988.py\", line 29, in send_message\n",
      "  File \"C:\\Users\\user\\anaconda3\\lib\\site-packages\\pyscreeze\\__init__.py\", line 582, in center\n",
      "    return Point(coords[0] + int(coords[2] / 2), coords[1] + int(coords[3] / 2))\n",
      "TypeError: 'NoneType' object is not subscriptable\n"
     ]
    },
    {
     "name": "stdout",
     "output_type": "stream",
     "text": [
      "None\n",
      "None\n",
      "None\n"
     ]
    },
    {
     "name": "stderr",
     "output_type": "stream",
     "text": [
      "Exception in thread Thread-6:\n",
      "Traceback (most recent call last):\n",
      "  File \"C:\\Users\\user\\anaconda3\\lib\\threading.py\", line 973, in _bootstrap_inner\n",
      "    self.run()\n",
      "  File \"C:\\Users\\user\\anaconda3\\lib\\threading.py\", line 1299, in run\n",
      "    self.function(*self.args, **self.kwargs)\n",
      "  File \"C:\\Users\\user\\AppData\\Local\\Temp\\ipykernel_14800\\3932337988.py\", line 29, in send_message\n",
      "  File \"C:\\Users\\user\\anaconda3\\lib\\site-packages\\pyscreeze\\__init__.py\", line 582, in center\n",
      "    return Point(coords[0] + int(coords[2] / 2), coords[1] + int(coords[3] / 2))\n",
      "TypeError: 'NoneType' object is not subscriptable\n"
     ]
    },
    {
     "name": "stdout",
     "output_type": "stream",
     "text": [
      "None\n",
      "None\n",
      "None\n",
      "Box(left=1070, top=244, width=387, height=87)\n",
      "None\n",
      "None\n",
      "Box(left=1070, top=244, width=387, height=87)\n"
     ]
    }
   ],
   "source": [
    "import pyautogui\n",
    "import pyperclip\n",
    "import time\n",
    "import threading\n",
    "import os\n",
    "\n",
    "#경로를 .py 파일의 실행경로로 이동, 현재 경로로 이동\n",
    "#이미지에서 좌표를 찾습니다.\n",
    "os.chdir(os.path.dirname(os.path.abspath(\"main11-2\")))\n",
    "\n",
    "#send_message함수 작성\n",
    "def send_message():\n",
    "    #send_message 함수를 실행합니다. \n",
    "    #자기자신을 불러오기 때문에 10초마다 반복됩니다.\n",
    "    threading.Timer(10,send_message).start() \n",
    "    \n",
    "    picPosition = pyautogui.locateOnScreen(\"mypic1.png\")\n",
    "    print(picPosition)\n",
    "\n",
    "    if picPosition is None:\n",
    "        picPosition = pyautogui.locateOnScreen(\"mypic2.png\")\n",
    "        print(picPosition)\n",
    "\n",
    "    if picPosition is None:\n",
    "        picPosition = pyautogui.locateOnScreen(\"mypic3.png\")\n",
    "        print(picPosition)\n",
    "\n",
    "    #이미지에서 찾은좌표의 중간 좌표값을 찾습니다.  \n",
    "    clickPosition = pyautogui.center(picPosition)\n",
    "    pyautogui.doubleClick(clickPosition)\n",
    "\n",
    "    #이 메세지는 자동으로 보내는 메세지입니다를 붙여넣은 후 1초 기다립니다. \n",
    "    pyperclip.copy(\"이 메세지는 자동으로 보내는 메세지입니다!!\")\n",
    "    pyautogui.hotkey(\"ctrl\",\"v\")\n",
    "    time.sleep(1.0)\n",
    "\n",
    "    #엔터 입력후 1초 기다립니다.\n",
    "    pyautogui.write(['enter'])\n",
    "    time.sleep(1.0)\n",
    "\n",
    "    #esc키를 눌러 창을 닫고 1초 기다립니다.\n",
    "    pyautogui.write(['enter'])\n",
    "    time.sleep(1.0)\n",
    "\n",
    "#처음 한번 send_message함수를 실행합니다. \n",
    "#이후에는 threading.Timer()에 의해 10초마다 불려집니다.\n",
    "send_message()"
   ]
  },
  {
   "cell_type": "code",
   "execution_count": null,
   "id": "2063069f",
   "metadata": {},
   "outputs": [],
   "source": []
  }
 ],
 "metadata": {
  "kernelspec": {
   "display_name": "Python 3 (ipykernel)",
   "language": "python",
   "name": "python3"
  },
  "language_info": {
   "codemirror_mode": {
    "name": "ipython",
    "version": 3
   },
   "file_extension": ".py",
   "mimetype": "text/x-python",
   "name": "python",
   "nbconvert_exporter": "python",
   "pygments_lexer": "ipython3",
   "version": "3.9.12"
  }
 },
 "nbformat": 4,
 "nbformat_minor": 5
}
