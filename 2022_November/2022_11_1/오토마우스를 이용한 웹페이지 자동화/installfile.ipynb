{
 "cells": [
  {
   "cell_type": "code",
   "execution_count": null,
   "id": "a297dd70",
   "metadata": {},
   "outputs": [],
   "source": [
    "!pip install schedule \n",
    "\n",
    "#schedule 라이브러리는 일정시간마다 함수를 동작시킬 때 사용됩니다."
   ]
  },
  {
   "cell_type": "code",
   "execution_count": null,
   "id": "ee1e9016",
   "metadata": {},
   "outputs": [],
   "source": [
    "!pip install pyperclip \n",
    "\n",
    "#클립보드 값을 복사하거나 붙여넣기 위해 사용되는 라이브러리 설치\n",
    "\n",
    "#pyautogui에는 한글이 지원되지 않으므로 검색에 필요한 한글을 클립보드를 이용해 사용하기 위해 사용합니다.\n",
    "#아나콘다 사용시 기본으로 설치되어있음"
   ]
  },
  {
   "cell_type": "code",
   "execution_count": null,
   "id": "2c65f5d8",
   "metadata": {},
   "outputs": [],
   "source": [
    "!pip install pyautogui\n",
    "\n",
    "#마우스와 키보드를 자동으로 제어하기 위한 pyautogui 라이브러리 설치"
   ]
  }
 ],
 "metadata": {
  "kernelspec": {
   "display_name": "Python 3 (ipykernel)",
   "language": "python",
   "name": "python3"
  },
  "language_info": {
   "codemirror_mode": {
    "name": "ipython",
    "version": 3
   },
   "file_extension": ".py",
   "mimetype": "text/x-python",
   "name": "python",
   "nbconvert_exporter": "python",
   "pygments_lexer": "ipython3",
   "version": "3.9.12"
  }
 },
 "nbformat": 4,
 "nbformat_minor": 5
}
