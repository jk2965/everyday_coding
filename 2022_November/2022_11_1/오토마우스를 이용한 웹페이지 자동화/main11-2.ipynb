{
 "cells": [
  {
   "cell_type": "code",
   "execution_count": 4,
   "id": "584a4baa",
   "metadata": {},
   "outputs": [
    {
     "name": "stdout",
     "output_type": "stream",
     "text": [
      "None\n",
      "None\n",
      "None\n"
     ]
    },
    {
     "ename": "TypeError",
     "evalue": "'NoneType' object is not subscriptable",
     "output_type": "error",
     "traceback": [
      "\u001b[1;31m---------------------------------------------------------------------------\u001b[0m",
      "\u001b[1;31mTypeError\u001b[0m                                 Traceback (most recent call last)",
      "Input \u001b[1;32mIn [4]\u001b[0m, in \u001b[0;36m<cell line: 22>\u001b[1;34m()\u001b[0m\n\u001b[0;32m     19\u001b[0m     \u001b[38;5;28mprint\u001b[39m(picPosition)\n\u001b[0;32m     21\u001b[0m \u001b[38;5;66;03m#이미지에서 찾은좌표의 중간 좌표값을 찾습니다.  \u001b[39;00m\n\u001b[1;32m---> 22\u001b[0m clickPosition \u001b[38;5;241m=\u001b[39m \u001b[43mpyautogui\u001b[49m\u001b[38;5;241;43m.\u001b[39;49m\u001b[43mcenter\u001b[49m\u001b[43m(\u001b[49m\u001b[43mpicPosition\u001b[49m\u001b[43m)\u001b[49m\n\u001b[0;32m     23\u001b[0m pyautogui\u001b[38;5;241m.\u001b[39mdoubleClick(clickPosition)\n\u001b[0;32m     25\u001b[0m \u001b[38;5;66;03m#이 메세지는 자동으로 보내는 메세지입니다를 붙여넣은 후 1초 기다립니다. \u001b[39;00m\n",
      "File \u001b[1;32m~\\anaconda3\\lib\\site-packages\\pyscreeze\\__init__.py:582\u001b[0m, in \u001b[0;36mcenter\u001b[1;34m(coords)\u001b[0m\n\u001b[0;32m    566\u001b[0m \u001b[38;5;124;03m\"\"\"\u001b[39;00m\n\u001b[0;32m    567\u001b[0m \u001b[38;5;124;03mReturns a `Point` object with the x and y set to an integer determined by the format of `coords`.\u001b[39;00m\n\u001b[0;32m    568\u001b[0m \n\u001b[1;32m   (...)\u001b[0m\n\u001b[0;32m    578\u001b[0m \u001b[38;5;124;03mPoint(x=14, y=15)\u001b[39;00m\n\u001b[0;32m    579\u001b[0m \u001b[38;5;124;03m\"\"\"\u001b[39;00m\n\u001b[0;32m    581\u001b[0m \u001b[38;5;66;03m# TODO - one day, add code to handle a Box namedtuple.\u001b[39;00m\n\u001b[1;32m--> 582\u001b[0m \u001b[38;5;28;01mreturn\u001b[39;00m Point(\u001b[43mcoords\u001b[49m\u001b[43m[\u001b[49m\u001b[38;5;241;43m0\u001b[39;49m\u001b[43m]\u001b[49m \u001b[38;5;241m+\u001b[39m \u001b[38;5;28mint\u001b[39m(coords[\u001b[38;5;241m2\u001b[39m] \u001b[38;5;241m/\u001b[39m \u001b[38;5;241m2\u001b[39m), coords[\u001b[38;5;241m1\u001b[39m] \u001b[38;5;241m+\u001b[39m \u001b[38;5;28mint\u001b[39m(coords[\u001b[38;5;241m3\u001b[39m] \u001b[38;5;241m/\u001b[39m \u001b[38;5;241m2\u001b[39m))\n",
      "\u001b[1;31mTypeError\u001b[0m: 'NoneType' object is not subscriptable"
     ]
    }
   ],
   "source": [
    "import pyautogui\n",
    "import pyperclip\n",
    "import time\n",
    "import os\n",
    "\n",
    "#경로를 .py 파일의 실행경로로 이동, 현재 경로로 이동\n",
    "#이미지에서 좌표를 찾습니다.\n",
    "os.chdir(os.path.dirname(os.path.abspath(\"main11-2\")))\n",
    "\n",
    "picPosition = pyautogui.locateOnScreen(\"mypic1.png\")\n",
    "print(picPosition)\n",
    "\n",
    "if picPosition is None:\n",
    "    picPosition = pyautogui.locateOnScreen(\"mypic2.png\")\n",
    "    print(picPosition)\n",
    "    \n",
    "if picPosition is None:\n",
    "    picPosition = pyautogui.locateOnScreen(\"mypic3.png\")\n",
    "    print(picPosition)\n",
    "\n",
    "#이미지에서 찾은좌표의 중간 좌표값을 찾습니다.  \n",
    "clickPosition = pyautogui.center(picPosition)\n",
    "pyautogui.doubleClick(clickPosition)\n",
    "\n",
    "#이 메세지는 자동으로 보내는 메세지입니다를 붙여넣은 후 1초 기다립니다. \n",
    "pyperclip.copy(\"이 메세지는 자동으로 보내는 메세지입니다!!\")\n",
    "pyautogui.hotkey(\"ctrl\",\"v\")\n",
    "time.sleep(1.0)\n",
    "\n",
    "#엔터 입력후 1초 기다립니다.\n",
    "pyautogui.write(['enter'])\n",
    "time.sleep(1.0)\n",
    "\n",
    "#esc키를 눌러 창을 닫고 1초 기다립니다.\n",
    "pyautogui.write(['enter'])\n",
    "time.sleep(1.0)"
   ]
  },
  {
   "cell_type": "code",
   "execution_count": null,
   "id": "5de4e553",
   "metadata": {},
   "outputs": [],
   "source": []
  },
  {
   "cell_type": "code",
   "execution_count": null,
   "id": "2b7a0d7f",
   "metadata": {},
   "outputs": [],
   "source": []
  }
 ],
 "metadata": {
  "kernelspec": {
   "display_name": "Python 3 (ipykernel)",
   "language": "python",
   "name": "python3"
  },
  "language_info": {
   "codemirror_mode": {
    "name": "ipython",
    "version": 3
   },
   "file_extension": ".py",
   "mimetype": "text/x-python",
   "name": "python",
   "nbconvert_exporter": "python",
   "pygments_lexer": "ipython3",
   "version": "3.9.12"
  }
 },
 "nbformat": 4,
 "nbformat_minor": 5
}
