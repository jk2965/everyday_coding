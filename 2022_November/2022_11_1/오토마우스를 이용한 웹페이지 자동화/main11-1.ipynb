{
 "cells": [
  {
   "cell_type": "code",
   "execution_count": 1,
   "id": "661f7db6",
   "metadata": {},
   "outputs": [
    {
     "ename": "NameError",
     "evalue": "name '__file__' is not defined",
     "output_type": "error",
     "traceback": [
      "\u001b[1;31m---------------------------------------------------------------------------\u001b[0m",
      "\u001b[1;31mNameError\u001b[0m                                 Traceback (most recent call last)",
      "Input \u001b[1;32mIn [1]\u001b[0m, in \u001b[0;36m<cell line: 5>\u001b[1;34m()\u001b[0m\n\u001b[0;32m      2\u001b[0m \u001b[38;5;28;01mimport\u001b[39;00m \u001b[38;5;21;01mos\u001b[39;00m\n\u001b[0;32m      4\u001b[0m \u001b[38;5;66;03m#경로를  .py파일의 실행경로로 이동, 현재 경로로 이동\u001b[39;00m\n\u001b[1;32m----> 5\u001b[0m os\u001b[38;5;241m.\u001b[39mchdir(os\u001b[38;5;241m.\u001b[39mpath\u001b[38;5;241m.\u001b[39mdirname(os\u001b[38;5;241m.\u001b[39mpath\u001b[38;5;241m.\u001b[39mabspath(\u001b[38;5;18;43m__file__\u001b[39;49m)))\n\u001b[0;32m      7\u001b[0m \u001b[38;5;66;03m#mypic1.png와 동일한 그림을 찾아 좌표를 출력합니다.\u001b[39;00m\n\u001b[0;32m      8\u001b[0m picPosition \u001b[38;5;241m=\u001b[39m pyautogui\u001b[38;5;241m.\u001b[39mlocateOnScreen(\u001b[38;5;124m'\u001b[39m\u001b[38;5;124mmypic1.png\u001b[39m\u001b[38;5;124m'\u001b[39m) \n",
      "\u001b[1;31mNameError\u001b[0m: name '__file__' is not defined"
     ]
    }
   ],
   "source": [
    "import pyautogui\n",
    "import os\n",
    "\n",
    "#경로를 파일의 실행경로로 이동, 현재 경로로 이동 (파일의 이름 넣기)\n",
    "os.chdir(os.path.dirname(os.path.abspath(\"main11-1\")))\n",
    "\n",
    "#mypic1.png와 동일한 그림을 찾아 좌표를 출력합니다.\n",
    "picPosition = pyautogui.locateOnScreen('mypic1.png') \n",
    "print(picPosition)\n",
    "\n",
    "#앞에서 사진을 찾지 못했다면 mypic2.png와 동일한 그림을 찾아 좌표를 출력합니다.\n",
    "if picPosition is None:\n",
    "    picPosition = pyautogui.locateOnScreen('mypic2.png') \n",
    "    print(picPosition)\n",
    "\n",
    "#앞에서 사진을 찾지 못했다면 mypic3.png와 동일한 그림을 찾아 좌표를 출력합니다.\n",
    "if picPosition is None:\n",
    "    picPosition = pyautogui.locateOnScreen('mypic3.png')\n",
    "    print(picPosition)"
   ]
  },
  {
   "cell_type": "code",
   "execution_count": null,
   "id": "416f259c",
   "metadata": {},
   "outputs": [],
   "source": []
  },
  {
   "cell_type": "code",
   "execution_count": null,
   "id": "28ec7337",
   "metadata": {},
   "outputs": [],
   "source": []
  }
 ],
 "metadata": {
  "kernelspec": {
   "display_name": "Python 3 (ipykernel)",
   "language": "python",
   "name": "python3"
  },
  "language_info": {
   "codemirror_mode": {
    "name": "ipython",
    "version": 3
   },
   "file_extension": ".py",
   "mimetype": "text/x-python",
   "name": "python",
   "nbconvert_exporter": "python",
   "pygments_lexer": "ipython3",
   "version": "3.9.12"
  }
 },
 "nbformat": 4,
 "nbformat_minor": 5
}
