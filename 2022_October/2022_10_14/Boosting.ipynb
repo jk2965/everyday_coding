{
 "cells": [
  {
   "cell_type": "markdown",
   "id": "783ab661",
   "metadata": {},
   "source": [
    "## Ada Boosting"
   ]
  },
  {
   "cell_type": "markdown",
   "id": "431bfe06",
   "metadata": {},
   "source": [
    "### 분류모델"
   ]
  },
  {
   "cell_type": "code",
   "execution_count": 1,
   "id": "00930291",
   "metadata": {},
   "outputs": [],
   "source": [
    "import pandas as pd\n",
    "import numpy as np\n",
    "import matplotlib.pyplot as plt\n",
    "from matplotlib import rc\n",
    "plt.rc('font',family=\"Malgun Gothic\")\n",
    "plt.rcParams[\"axes.unicode_minus\"]=False\n",
    "from sklearn.ensemble import AdaBoostClassifier\n",
    "from sklearn.model_selection import train_test_split\n",
    "from sklearn.datasets import load_breast_cancer"
   ]
  },
  {
   "cell_type": "code",
   "execution_count": 2,
   "id": "60f4e0d4",
   "metadata": {},
   "outputs": [],
   "source": [
    "cancer = load_breast_cancer()\n",
    "x_train,x_test,y_train,y_test = train_test_split(cancer.data,\n",
    "                                                 cancer.target,\n",
    "                                                 random_state=0)\n",
    "#데이터 수집, 분할"
   ]
  },
  {
   "cell_type": "code",
   "execution_count": 3,
   "id": "81d4af4a",
   "metadata": {},
   "outputs": [],
   "source": [
    "ada = AdaBoostClassifier(n_estimators=100,random_state=42)\n",
    "#모델 생성, 100개의 트리, 42번 시드"
   ]
  },
  {
   "cell_type": "code",
   "execution_count": 4,
   "id": "59416ff3",
   "metadata": {},
   "outputs": [
    {
     "data": {
      "text/plain": [
       "AdaBoostClassifier(n_estimators=100, random_state=42)"
      ]
     },
     "execution_count": 4,
     "metadata": {},
     "output_type": "execute_result"
    }
   ],
   "source": [
    "ada.fit(x_train,y_train)\n",
    "#모델 학습"
   ]
  },
  {
   "cell_type": "code",
   "execution_count": 5,
   "id": "1853a0e7",
   "metadata": {},
   "outputs": [
    {
     "data": {
      "text/plain": [
       "1.0"
      ]
     },
     "execution_count": 5,
     "metadata": {},
     "output_type": "execute_result"
    }
   ],
   "source": [
    "ada.score(x_train,y_train)\n",
    "#분류모델이므로 model.score() 기준은 Accuracy"
   ]
  },
  {
   "cell_type": "code",
   "execution_count": 6,
   "id": "58cf460a",
   "metadata": {},
   "outputs": [
    {
     "data": {
      "text/plain": [
       "0.986013986013986"
      ]
     },
     "execution_count": 6,
     "metadata": {},
     "output_type": "execute_result"
    }
   ],
   "source": [
    "ada.score(x_test,y_test)\n",
    "#분류모델이므로 model.score() 기준은 Accuracy"
   ]
  },
  {
   "cell_type": "code",
   "execution_count": 7,
   "id": "04eceaab",
   "metadata": {},
   "outputs": [],
   "source": [
    "n_features =cancer.data.shape[1]"
   ]
  },
  {
   "cell_type": "code",
   "execution_count": 8,
   "id": "5e53a572",
   "metadata": {},
   "outputs": [
    {
     "data": {
      "image/png": "[encoded data removed]",
      "text/plain": [
       "<Figure size 432x288 with 1 Axes>"
      ]
     },
     "metadata": {
      "needs_background": "light"
     },
     "output_type": "display_data"
    }
   ],
   "source": [
    "#특성중요도를 보여주는 그래프 시각화\n",
    "plt.barh(range(n_features),ada.feature_importances_,align='center')\n",
    "plt.yticks(np.arange(n_features),cancer.feature_names)\n",
    "plt.xlabel('특성중요도')\n",
    "plt.ylabel('특성')\n",
    "plt.ylim(-1,n_features)\n",
    "plt.show()"
   ]
  },
  {
   "cell_type": "markdown",
   "id": "d6e02f51",
   "metadata": {},
   "source": [
    "### 회귀모델"
   ]
  },
  {
   "cell_type": "code",
   "execution_count": 9,
   "id": "f67e80b8",
   "metadata": {},
   "outputs": [],
   "source": [
    "from sklearn.datasets import load_boston\n",
    "from sklearn.ensemble import AdaBoostRegressor\n",
    "from sklearn.metrics import explained_variance_score\n",
    "from sklearn.metrics import mean_absolute_error\n",
    "from sklearn.metrics import mean_squared_error\n",
    "from sklearn.metrics import r2_score"
   ]
  },
  {
   "cell_type": "code",
   "execution_count": 10,
   "id": "76cec7f5",
   "metadata": {},
   "outputs": [
    {
     "name": "stderr",
     "output_type": "stream",
     "text": [
      "C:\\Users\\user\\anaconda3\\lib\\site-packages\\sklearn\\utils\\deprecation.py:87: FutureWarning: Function load_boston is deprecated; `load_boston` is deprecated in 1.0 and will be removed in 1.2.\n",
      "\n",
      "    The Boston housing prices dataset has an ethical problem. You can refer to\n",
      "    the documentation of this function for further details.\n",
      "\n",
      "    The scikit-learn maintainers therefore strongly discourage the use of this\n",
      "    dataset unless the purpose of the code is to study and educate about\n",
      "    ethical issues in data science and machine learning.\n",
      "\n",
      "    In this special case, you can fetch the dataset from the original\n",
      "    source::\n",
      "\n",
      "        import pandas as pd\n",
      "        import numpy as np\n",
      "\n",
      "\n",
      "        data_url = \"http://lib.stat.cmu.edu/datasets/boston\"\n",
      "        raw_df = pd.read_csv(data_url, sep=\"\\s+\", skiprows=22, header=None)\n",
      "        data = np.hstack([raw_df.values[::2, :], raw_df.values[1::2, :2]])\n",
      "        target = raw_df.values[1::2, 2]\n",
      "\n",
      "    Alternative datasets include the California housing dataset (i.e.\n",
      "    :func:`~sklearn.datasets.fetch_california_housing`) and the Ames housing\n",
      "    dataset. You can load the datasets as follows::\n",
      "\n",
      "        from sklearn.datasets import fetch_california_housing\n",
      "        housing = fetch_california_housing()\n",
      "\n",
      "    for the California housing dataset and::\n",
      "\n",
      "        from sklearn.datasets import fetch_openml\n",
      "        housing = fetch_openml(name=\"house_prices\", as_frame=True)\n",
      "\n",
      "    for the Ames housing dataset.\n",
      "    \n",
      "  warnings.warn(msg, category=FutureWarning)\n"
     ]
    }
   ],
   "source": [
    "boston = load_boston()\n",
    "x_train,x_test,y_train,y_test = train_test_split(boston.data,\n",
    "                                                boston.target,\n",
    "                                                test_size=0.3)\n",
    "#데이터 수집,분할"
   ]
  },
  {
   "cell_type": "code",
   "execution_count": 11,
   "id": "f523b9ce",
   "metadata": {},
   "outputs": [],
   "source": [
    "ada = AdaBoostRegressor(n_estimators=100,random_state=0)\n",
    "#모델 선정, 트리 100개, 0번 시드"
   ]
  },
  {
   "cell_type": "code",
   "execution_count": 12,
   "id": "fe143bb3",
   "metadata": {},
   "outputs": [
    {
     "data": {
      "text/plain": [
       "AdaBoostRegressor(n_estimators=100, random_state=0)"
      ]
     },
     "execution_count": 12,
     "metadata": {},
     "output_type": "execute_result"
    }
   ],
   "source": [
    "ada.fit(x_train,y_train)\n",
    "#모델 학습"
   ]
  },
  {
   "cell_type": "code",
   "execution_count": 13,
   "id": "b4b586ba",
   "metadata": {},
   "outputs": [
    {
     "data": {
      "text/plain": [
       "array([12.96428571, 12.03414634, 18.52553191, 17.39833333, 46.98852459,\n",
       "       17.85263158, 27.59658537, 18.77864078, 20.48390805, 34.04545455,\n",
       "       11.85      , 23.8671875 , 22.3       , 20.63333333, 45.371875  ,\n",
       "       19.21288344, 28.08502994, 26.31825397, 11.22545455, 20.43636364,\n",
       "       11.96451613, 19.55443787, 13.1       , 15.7       , 21.47647059,\n",
       "       20.63333333, 20.43636364, 11.16315789, 17.6       , 25.52121212,\n",
       "       27.43021978, 26.63971631, 14.95833333, 21.64234234, 28.08502994,\n",
       "       26.17313433, 27.47970297, 25.52121212, 35.01971154, 15.48888889,\n",
       "       28.11948052, 26.31825397, 20.48390805, 29.0552    , 29.58823529,\n",
       "       27.88211921, 26.17428571, 33.82916667, 21.78125   , 33.65390625,\n",
       "       45.371875  , 24.18721461, 20.06315789, 17.7       , 23.8671875 ,\n",
       "       22.7537037 , 11.971875  , 20.48390805, 20.61967213, 43.81      ,\n",
       "       20.48059701, 28.72871795, 12.41639344, 11.7983871 , 13.0475    ,\n",
       "       16.11111111, 28.16909091, 20.35555556, 24.79302326, 13.0475    ,\n",
       "       13.0475    , 17.82222222, 20.21714286, 22.43793103, 25.06768293,\n",
       "       34.14852941, 20.48390805, 20.8427027 , 12.4125    , 30.53191489,\n",
       "       23.78148148, 26.16      , 24.73333333, 13.0475    , 20.61967213,\n",
       "       20.696875  , 27.1768595 , 13.8       , 23.26280992, 21.66888889,\n",
       "       20.43636364, 44.32318841, 19.23333333, 25.40714286, 21.4       ,\n",
       "       14.53333333, 17.29101124, 27.1768595 , 18.68235294, 20.00526316,\n",
       "       21.4       , 21.66888889, 17.29101124, 19.48373494, 34.14852941,\n",
       "       11.22545455, 28.11948052, 25.52121212, 15.05      , 18.68235294,\n",
       "       18.16923077, 20.8427027 , 34.14852941, 46.96086957, 15.842     ,\n",
       "       28.11948052, 19.74797688, 11.63414634, 26.16      , 26.17313433,\n",
       "       12.412     , 24.18721461, 24.79302326, 26.63971631, 24.98307692,\n",
       "       18.52553191, 18.77864078, 20.00526316, 25.52083333, 24.98307692,\n",
       "       28.284     , 24.18721461, 21.64234234, 21.42142857, 12.74545455,\n",
       "       25.52121212, 22.05214286, 27.1768595 , 20.63333333, 28.72871795,\n",
       "       11.96451613, 25.94871795, 24.39325843, 25.52121212, 20.63023256,\n",
       "       18.52553191, 22.3       , 19.42394366, 21.19      , 21.64234234,\n",
       "       26.63971631, 20.00526316])"
      ]
     },
     "execution_count": 13,
     "metadata": {},
     "output_type": "execute_result"
    }
   ],
   "source": [
    "pred = ada.predict(x_test)\n",
    "pred"
   ]
  },
  {
   "cell_type": "code",
   "execution_count": 14,
   "id": "f07dceab",
   "metadata": {},
   "outputs": [
    {
     "data": {
      "text/plain": [
       "0.9155228401572902"
      ]
     },
     "execution_count": 14,
     "metadata": {},
     "output_type": "execute_result"
    }
   ],
   "source": [
    "ada.score(x_train,y_train)"
   ]
  },
  {
   "cell_type": "code",
   "execution_count": 15,
   "id": "3249f5f5",
   "metadata": {},
   "outputs": [
    {
     "data": {
      "text/plain": [
       "0.8224442477212422"
      ]
     },
     "execution_count": 15,
     "metadata": {},
     "output_type": "execute_result"
    }
   ],
   "source": [
    "ada.score(x_test,y_test)\n",
    "#회귀모델이므로 model.score()의 기준 = r2_score"
   ]
  },
  {
   "cell_type": "markdown",
   "id": "4d01b635",
   "metadata": {},
   "source": [
    "## Gradient Boosting"
   ]
  },
  {
   "cell_type": "markdown",
   "id": "5b0afa09",
   "metadata": {},
   "source": [
    "### 분류모델"
   ]
  },
  {
   "cell_type": "code",
   "execution_count": 16,
   "id": "9fc79873",
   "metadata": {},
   "outputs": [],
   "source": [
    "from sklearn.ensemble import GradientBoostingClassifier"
   ]
  },
  {
   "cell_type": "code",
   "execution_count": 17,
   "id": "a48c24b9",
   "metadata": {},
   "outputs": [],
   "source": [
    "cancer = load_breast_cancer()\n",
    "x_train,x_test,y_train,y_test = train_test_split(cancer.data,\n",
    "                                                 cancer.target,\n",
    "                                                 random_state=0)\n",
    "#데이터 수집, 분할"
   ]
  },
  {
   "cell_type": "code",
   "execution_count": 18,
   "id": "24b9933c",
   "metadata": {},
   "outputs": [],
   "source": [
    "gb = GradientBoostingClassifier(n_estimators=100,random_state=0)\n",
    "#모델 선정,트리 100개,0번시드"
   ]
  },
  {
   "cell_type": "code",
   "execution_count": 19,
   "id": "32458acc",
   "metadata": {},
   "outputs": [
    {
     "data": {
      "text/plain": [
       "GradientBoostingClassifier(random_state=0)"
      ]
     },
     "execution_count": 19,
     "metadata": {},
     "output_type": "execute_result"
    }
   ],
   "source": [
    "gb.fit(x_train,y_train)\n",
    "#모델 학습"
   ]
  },
  {
   "cell_type": "code",
   "execution_count": 20,
   "id": "bb4df05a",
   "metadata": {},
   "outputs": [
    {
     "data": {
      "text/plain": [
       "1.0"
      ]
     },
     "execution_count": 20,
     "metadata": {},
     "output_type": "execute_result"
    }
   ],
   "source": [
    "gb.score(x_train,y_train)\n",
    "#분류모델이므로 model.score() 기준은 Accuracy"
   ]
  },
  {
   "cell_type": "code",
   "execution_count": 21,
   "id": "0075c0a7",
   "metadata": {},
   "outputs": [
    {
     "data": {
      "text/plain": [
       "0.965034965034965"
      ]
     },
     "execution_count": 21,
     "metadata": {},
     "output_type": "execute_result"
    }
   ],
   "source": [
    "gb.score(x_test,y_test)\n",
    "#분류모델이므로 model.score() 기준은 Accuracy"
   ]
  },
  {
   "cell_type": "markdown",
   "id": "397e7302",
   "metadata": {},
   "source": [
    "### 사전 가지치기"
   ]
  },
  {
   "cell_type": "code",
   "execution_count": 22,
   "id": "465acbc0",
   "metadata": {},
   "outputs": [],
   "source": [
    "gb = GradientBoostingClassifier(random_state = 0, n_estimators = 100,\n",
    "                               max_depth = 1)\n",
    "#기존 Gradient 부스팅 모델에 max_depth 하이퍼파라미터 추가"
   ]
  },
  {
   "cell_type": "code",
   "execution_count": 23,
   "id": "3d439c9a",
   "metadata": {},
   "outputs": [
    {
     "data": {
      "text/plain": [
       "GradientBoostingClassifier(max_depth=1, random_state=0)"
      ]
     },
     "execution_count": 23,
     "metadata": {},
     "output_type": "execute_result"
    }
   ],
   "source": [
    "gb.fit(x_train,y_train)\n",
    "#모델 학습"
   ]
  },
  {
   "cell_type": "code",
   "execution_count": 24,
   "id": "8e7e2330",
   "metadata": {},
   "outputs": [
    {
     "data": {
      "text/plain": [
       "0.9906103286384976"
      ]
     },
     "execution_count": 24,
     "metadata": {},
     "output_type": "execute_result"
    }
   ],
   "source": [
    "gb.score(x_train,y_train)\n",
    "#분류모델이므로 model.score() 기준은 Accuracy"
   ]
  },
  {
   "cell_type": "code",
   "execution_count": 25,
   "id": "39096483",
   "metadata": {},
   "outputs": [
    {
     "data": {
      "text/plain": [
       "0.972027972027972"
      ]
     },
     "execution_count": 25,
     "metadata": {},
     "output_type": "execute_result"
    }
   ],
   "source": [
    "gb.score(x_test,y_test)\n",
    "#분류모델이므로 model.score() 기준은 Accuracy"
   ]
  },
  {
   "cell_type": "markdown",
   "id": "ea1370a4",
   "metadata": {},
   "source": [
    "### 학습률 낮추기"
   ]
  },
  {
   "cell_type": "code",
   "execution_count": 26,
   "id": "508e7658",
   "metadata": {},
   "outputs": [],
   "source": [
    "gb = GradientBoostingClassifier(n_estimators=100, random_state=0,\n",
    "                               learning_rate=0.01)\n",
    "#기존 Gradient 부스팅에서 learning_rate 하이퍼 파라미터를 추가해 학습률 조정"
   ]
  },
  {
   "cell_type": "code",
   "execution_count": 27,
   "id": "ad889fa8",
   "metadata": {},
   "outputs": [
    {
     "data": {
      "text/plain": [
       "GradientBoostingClassifier(learning_rate=0.01, random_state=0)"
      ]
     },
     "execution_count": 27,
     "metadata": {},
     "output_type": "execute_result"
    }
   ],
   "source": [
    "gb.fit(x_train,y_train)\n",
    "#모델 학습"
   ]
  },
  {
   "cell_type": "code",
   "execution_count": 28,
   "id": "ebcdaba1",
   "metadata": {},
   "outputs": [
    {
     "data": {
      "text/plain": [
       "0.9882629107981221"
      ]
     },
     "execution_count": 28,
     "metadata": {},
     "output_type": "execute_result"
    }
   ],
   "source": [
    "gb.score(x_train,y_train)\n",
    "#분류모델이므로 model.score() 기준은 Accuracy"
   ]
  },
  {
   "cell_type": "code",
   "execution_count": 29,
   "id": "aac10c45",
   "metadata": {},
   "outputs": [
    {
     "data": {
      "text/plain": [
       "0.965034965034965"
      ]
     },
     "execution_count": 29,
     "metadata": {},
     "output_type": "execute_result"
    }
   ],
   "source": [
    "gb.score(x_test,y_test)\n",
    "#분류모델이므로 model.score() 기준은 Accuracy"
   ]
  },
  {
   "cell_type": "markdown",
   "id": "ae3ea68b",
   "metadata": {},
   "source": [
    "### 회귀모델"
   ]
  },
  {
   "cell_type": "code",
   "execution_count": 30,
   "id": "1d92252f",
   "metadata": {},
   "outputs": [
    {
     "name": "stderr",
     "output_type": "stream",
     "text": [
      "C:\\Users\\user\\anaconda3\\lib\\site-packages\\sklearn\\utils\\deprecation.py:87: FutureWarning: Function load_boston is deprecated; `load_boston` is deprecated in 1.0 and will be removed in 1.2.\n",
      "\n",
      "    The Boston housing prices dataset has an ethical problem. You can refer to\n",
      "    the documentation of this function for further details.\n",
      "\n",
      "    The scikit-learn maintainers therefore strongly discourage the use of this\n",
      "    dataset unless the purpose of the code is to study and educate about\n",
      "    ethical issues in data science and machine learning.\n",
      "\n",
      "    In this special case, you can fetch the dataset from the original\n",
      "    source::\n",
      "\n",
      "        import pandas as pd\n",
      "        import numpy as np\n",
      "\n",
      "\n",
      "        data_url = \"http://lib.stat.cmu.edu/datasets/boston\"\n",
      "        raw_df = pd.read_csv(data_url, sep=\"\\s+\", skiprows=22, header=None)\n",
      "        data = np.hstack([raw_df.values[::2, :], raw_df.values[1::2, :2]])\n",
      "        target = raw_df.values[1::2, 2]\n",
      "\n",
      "    Alternative datasets include the California housing dataset (i.e.\n",
      "    :func:`~sklearn.datasets.fetch_california_housing`) and the Ames housing\n",
      "    dataset. You can load the datasets as follows::\n",
      "\n",
      "        from sklearn.datasets import fetch_california_housing\n",
      "        housing = fetch_california_housing()\n",
      "\n",
      "    for the California housing dataset and::\n",
      "\n",
      "        from sklearn.datasets import fetch_openml\n",
      "        housing = fetch_openml(name=\"house_prices\", as_frame=True)\n",
      "\n",
      "    for the Ames housing dataset.\n",
      "    \n",
      "  warnings.warn(msg, category=FutureWarning)\n"
     ]
    }
   ],
   "source": [
    "boston = load_boston()\n",
    "x_train,x_test,y_train,y_test = train_test_split(boston.data,\n",
    "                                                boston.target,\n",
    "                                                test_size=0.3)\n",
    "#데이터 수집,분할"
   ]
  },
  {
   "cell_type": "code",
   "execution_count": 31,
   "id": "84b7532a",
   "metadata": {},
   "outputs": [],
   "source": [
    "from sklearn.ensemble import GradientBoostingRegressor"
   ]
  },
  {
   "cell_type": "code",
   "execution_count": 32,
   "id": "9e4d26e4",
   "metadata": {},
   "outputs": [],
   "source": [
    "gb = GradientBoostingRegressor(n_estimators=100,\n",
    "                               random_state=0,\n",
    "                              criterion='mse')\n",
    "#모델 학습, 트리 100개, 0번 시드, 오차를 줄이기위한 지표(criterion) = mse"
   ]
  },
  {
   "cell_type": "code",
   "execution_count": 33,
   "id": "7b5205e4",
   "metadata": {},
   "outputs": [
    {
     "name": "stderr",
     "output_type": "stream",
     "text": [
      "C:\\Users\\user\\anaconda3\\lib\\site-packages\\sklearn\\ensemble\\_gb.py:471: FutureWarning: Criterion 'mse' was deprecated in v1.0 and will be removed in version 1.2. Use `criterion='squared_error'` which is equivalent.\n",
      "  warnings.warn(\n",
      "C:\\Users\\user\\anaconda3\\lib\\site-packages\\sklearn\\tree\\_classes.py:359: FutureWarning: Criterion 'mse' was deprecated in v1.0 and will be removed in version 1.2. Use `criterion='squared_error'` which is equivalent.\n",
      "  warnings.warn(\n",
      "C:\\Users\\user\\anaconda3\\lib\\site-packages\\sklearn\\tree\\_classes.py:359: FutureWarning: Criterion 'mse' was deprecated in v1.0 and will be removed in version 1.2. Use `criterion='squared_error'` which is equivalent.\n",
      "  warnings.warn(\n",
      "C:\\Users\\user\\anaconda3\\lib\\site-packages\\sklearn\\tree\\_classes.py:359: FutureWarning: Criterion 'mse' was deprecated in v1.0 and will be removed in version 1.2. Use `criterion='squared_error'` which is equivalent.\n",
      "  warnings.warn(\n",
      "C:\\Users\\user\\anaconda3\\lib\\site-packages\\sklearn\\tree\\_classes.py:359: FutureWarning: Criterion 'mse' was deprecated in v1.0 and will be removed in version 1.2. Use `criterion='squared_error'` which is equivalent.\n",
      "  warnings.warn(\n",
      "C:\\Users\\user\\anaconda3\\lib\\site-packages\\sklearn\\tree\\_classes.py:359: FutureWarning: Criterion 'mse' was deprecated in v1.0 and will be removed in version 1.2. Use `criterion='squared_error'` which is equivalent.\n",
      "  warnings.warn(\n",
      "C:\\Users\\user\\anaconda3\\lib\\site-packages\\sklearn\\tree\\_classes.py:359: FutureWarning: Criterion 'mse' was deprecated in v1.0 and will be removed in version 1.2. Use `criterion='squared_error'` which is equivalent.\n",
      "  warnings.warn(\n",
      "C:\\Users\\user\\anaconda3\\lib\\site-packages\\sklearn\\tree\\_classes.py:359: FutureWarning: Criterion 'mse' was deprecated in v1.0 and will be removed in version 1.2. Use `criterion='squared_error'` which is equivalent.\n",
      "  warnings.warn(\n",
      "C:\\Users\\user\\anaconda3\\lib\\site-packages\\sklearn\\tree\\_classes.py:359: FutureWarning: Criterion 'mse' was deprecated in v1.0 and will be removed in version 1.2. Use `criterion='squared_error'` which is equivalent.\n",
      "  warnings.warn(\n",
      "C:\\Users\\user\\anaconda3\\lib\\site-packages\\sklearn\\tree\\_classes.py:359: FutureWarning: Criterion 'mse' was deprecated in v1.0 and will be removed in version 1.2. Use `criterion='squared_error'` which is equivalent.\n",
      "  warnings.warn(\n",
      "C:\\Users\\user\\anaconda3\\lib\\site-packages\\sklearn\\tree\\_classes.py:359: FutureWarning: Criterion 'mse' was deprecated in v1.0 and will be removed in version 1.2. Use `criterion='squared_error'` which is equivalent.\n",
      "  warnings.warn(\n",
      "C:\\Users\\user\\anaconda3\\lib\\site-packages\\sklearn\\tree\\_classes.py:359: FutureWarning: Criterion 'mse' was deprecated in v1.0 and will be removed in version 1.2. Use `criterion='squared_error'` which is equivalent.\n",
      "  warnings.warn(\n",
      "C:\\Users\\user\\anaconda3\\lib\\site-packages\\sklearn\\tree\\_classes.py:359: FutureWarning: Criterion 'mse' was deprecated in v1.0 and will be removed in version 1.2. Use `criterion='squared_error'` which is equivalent.\n",
      "  warnings.warn(\n",
      "C:\\Users\\user\\anaconda3\\lib\\site-packages\\sklearn\\tree\\_classes.py:359: FutureWarning: Criterion 'mse' was deprecated in v1.0 and will be removed in version 1.2. Use `criterion='squared_error'` which is equivalent.\n",
      "  warnings.warn(\n",
      "C:\\Users\\user\\anaconda3\\lib\\site-packages\\sklearn\\tree\\_classes.py:359: FutureWarning: Criterion 'mse' was deprecated in v1.0 and will be removed in version 1.2. Use `criterion='squared_error'` which is equivalent.\n",
      "  warnings.warn(\n",
      "C:\\Users\\user\\anaconda3\\lib\\site-packages\\sklearn\\tree\\_classes.py:359: FutureWarning: Criterion 'mse' was deprecated in v1.0 and will be removed in version 1.2. Use `criterion='squared_error'` which is equivalent.\n",
      "  warnings.warn(\n",
      "C:\\Users\\user\\anaconda3\\lib\\site-packages\\sklearn\\tree\\_classes.py:359: FutureWarning: Criterion 'mse' was deprecated in v1.0 and will be removed in version 1.2. Use `criterion='squared_error'` which is equivalent.\n",
      "  warnings.warn(\n",
      "C:\\Users\\user\\anaconda3\\lib\\site-packages\\sklearn\\tree\\_classes.py:359: FutureWarning: Criterion 'mse' was deprecated in v1.0 and will be removed in version 1.2. Use `criterion='squared_error'` which is equivalent.\n",
      "  warnings.warn(\n",
      "C:\\Users\\user\\anaconda3\\lib\\site-packages\\sklearn\\tree\\_classes.py:359: FutureWarning: Criterion 'mse' was deprecated in v1.0 and will be removed in version 1.2. Use `criterion='squared_error'` which is equivalent.\n",
      "  warnings.warn(\n",
      "C:\\Users\\user\\anaconda3\\lib\\site-packages\\sklearn\\tree\\_classes.py:359: FutureWarning: Criterion 'mse' was deprecated in v1.0 and will be removed in version 1.2. Use `criterion='squared_error'` which is equivalent.\n",
      "  warnings.warn(\n",
      "C:\\Users\\user\\anaconda3\\lib\\site-packages\\sklearn\\tree\\_classes.py:359: FutureWarning: Criterion 'mse' was deprecated in v1.0 and will be removed in version 1.2. Use `criterion='squared_error'` which is equivalent.\n",
      "  warnings.warn(\n",
      "C:\\Users\\user\\anaconda3\\lib\\site-packages\\sklearn\\tree\\_classes.py:359: FutureWarning: Criterion 'mse' was deprecated in v1.0 and will be removed in version 1.2. Use `criterion='squared_error'` which is equivalent.\n",
      "  warnings.warn(\n",
      "C:\\Users\\user\\anaconda3\\lib\\site-packages\\sklearn\\tree\\_classes.py:359: FutureWarning: Criterion 'mse' was deprecated in v1.0 and will be removed in version 1.2. Use `criterion='squared_error'` which is equivalent.\n",
      "  warnings.warn(\n",
      "C:\\Users\\user\\anaconda3\\lib\\site-packages\\sklearn\\tree\\_classes.py:359: FutureWarning: Criterion 'mse' was deprecated in v1.0 and will be removed in version 1.2. Use `criterion='squared_error'` which is equivalent.\n",
      "  warnings.warn(\n",
      "C:\\Users\\user\\anaconda3\\lib\\site-packages\\sklearn\\tree\\_classes.py:359: FutureWarning: Criterion 'mse' was deprecated in v1.0 and will be removed in version 1.2. Use `criterion='squared_error'` which is equivalent.\n",
      "  warnings.warn(\n",
      "C:\\Users\\user\\anaconda3\\lib\\site-packages\\sklearn\\tree\\_classes.py:359: FutureWarning: Criterion 'mse' was deprecated in v1.0 and will be removed in version 1.2. Use `criterion='squared_error'` which is equivalent.\n",
      "  warnings.warn(\n",
      "C:\\Users\\user\\anaconda3\\lib\\site-packages\\sklearn\\tree\\_classes.py:359: FutureWarning: Criterion 'mse' was deprecated in v1.0 and will be removed in version 1.2. Use `criterion='squared_error'` which is equivalent.\n",
      "  warnings.warn(\n",
      "C:\\Users\\user\\anaconda3\\lib\\site-packages\\sklearn\\tree\\_classes.py:359: FutureWarning: Criterion 'mse' was deprecated in v1.0 and will be removed in version 1.2. Use `criterion='squared_error'` which is equivalent.\n",
      "  warnings.warn(\n",
      "C:\\Users\\user\\anaconda3\\lib\\site-packages\\sklearn\\tree\\_classes.py:359: FutureWarning: Criterion 'mse' was deprecated in v1.0 and will be removed in version 1.2. Use `criterion='squared_error'` which is equivalent.\n",
      "  warnings.warn(\n",
      "C:\\Users\\user\\anaconda3\\lib\\site-packages\\sklearn\\tree\\_classes.py:359: FutureWarning: Criterion 'mse' was deprecated in v1.0 and will be removed in version 1.2. Use `criterion='squared_error'` which is equivalent.\n",
      "  warnings.warn(\n",
      "C:\\Users\\user\\anaconda3\\lib\\site-packages\\sklearn\\tree\\_classes.py:359: FutureWarning: Criterion 'mse' was deprecated in v1.0 and will be removed in version 1.2. Use `criterion='squared_error'` which is equivalent.\n",
      "  warnings.warn(\n",
      "C:\\Users\\user\\anaconda3\\lib\\site-packages\\sklearn\\tree\\_classes.py:359: FutureWarning: Criterion 'mse' was deprecated in v1.0 and will be removed in version 1.2. Use `criterion='squared_error'` which is equivalent.\n",
      "  warnings.warn(\n",
      "C:\\Users\\user\\anaconda3\\lib\\site-packages\\sklearn\\tree\\_classes.py:359: FutureWarning: Criterion 'mse' was deprecated in v1.0 and will be removed in version 1.2. Use `criterion='squared_error'` which is equivalent.\n",
      "  warnings.warn(\n",
      "C:\\Users\\user\\anaconda3\\lib\\site-packages\\sklearn\\tree\\_classes.py:359: FutureWarning: Criterion 'mse' was deprecated in v1.0 and will be removed in version 1.2. Use `criterion='squared_error'` which is equivalent.\n",
      "  warnings.warn(\n",
      "C:\\Users\\user\\anaconda3\\lib\\site-packages\\sklearn\\tree\\_classes.py:359: FutureWarning: Criterion 'mse' was deprecated in v1.0 and will be removed in version 1.2. Use `criterion='squared_error'` which is equivalent.\n",
      "  warnings.warn(\n",
      "C:\\Users\\user\\anaconda3\\lib\\site-packages\\sklearn\\tree\\_classes.py:359: FutureWarning: Criterion 'mse' was deprecated in v1.0 and will be removed in version 1.2. Use `criterion='squared_error'` which is equivalent.\n",
      "  warnings.warn(\n",
      "C:\\Users\\user\\anaconda3\\lib\\site-packages\\sklearn\\tree\\_classes.py:359: FutureWarning: Criterion 'mse' was deprecated in v1.0 and will be removed in version 1.2. Use `criterion='squared_error'` which is equivalent.\n",
      "  warnings.warn(\n",
      "C:\\Users\\user\\anaconda3\\lib\\site-packages\\sklearn\\tree\\_classes.py:359: FutureWarning: Criterion 'mse' was deprecated in v1.0 and will be removed in version 1.2. Use `criterion='squared_error'` which is equivalent.\n",
      "  warnings.warn(\n",
      "C:\\Users\\user\\anaconda3\\lib\\site-packages\\sklearn\\tree\\_classes.py:359: FutureWarning: Criterion 'mse' was deprecated in v1.0 and will be removed in version 1.2. Use `criterion='squared_error'` which is equivalent.\n",
      "  warnings.warn(\n",
      "C:\\Users\\user\\anaconda3\\lib\\site-packages\\sklearn\\tree\\_classes.py:359: FutureWarning: Criterion 'mse' was deprecated in v1.0 and will be removed in version 1.2. Use `criterion='squared_error'` which is equivalent.\n",
      "  warnings.warn(\n",
      "C:\\Users\\user\\anaconda3\\lib\\site-packages\\sklearn\\tree\\_classes.py:359: FutureWarning: Criterion 'mse' was deprecated in v1.0 and will be removed in version 1.2. Use `criterion='squared_error'` which is equivalent.\n",
      "  warnings.warn(\n",
      "C:\\Users\\user\\anaconda3\\lib\\site-packages\\sklearn\\tree\\_classes.py:359: FutureWarning: Criterion 'mse' was deprecated in v1.0 and will be removed in version 1.2. Use `criterion='squared_error'` which is equivalent.\n",
      "  warnings.warn(\n",
      "C:\\Users\\user\\anaconda3\\lib\\site-packages\\sklearn\\tree\\_classes.py:359: FutureWarning: Criterion 'mse' was deprecated in v1.0 and will be removed in version 1.2. Use `criterion='squared_error'` which is equivalent.\n",
      "  warnings.warn(\n",
      "C:\\Users\\user\\anaconda3\\lib\\site-packages\\sklearn\\tree\\_classes.py:359: FutureWarning: Criterion 'mse' was deprecated in v1.0 and will be removed in version 1.2. Use `criterion='squared_error'` which is equivalent.\n",
      "  warnings.warn(\n",
      "C:\\Users\\user\\anaconda3\\lib\\site-packages\\sklearn\\tree\\_classes.py:359: FutureWarning: Criterion 'mse' was deprecated in v1.0 and will be removed in version 1.2. Use `criterion='squared_error'` which is equivalent.\n",
      "  warnings.warn(\n",
      "C:\\Users\\user\\anaconda3\\lib\\site-packages\\sklearn\\tree\\_classes.py:359: FutureWarning: Criterion 'mse' was deprecated in v1.0 and will be removed in version 1.2. Use `criterion='squared_error'` which is equivalent.\n",
      "  warnings.warn(\n",
      "C:\\Users\\user\\anaconda3\\lib\\site-packages\\sklearn\\tree\\_classes.py:359: FutureWarning: Criterion 'mse' was deprecated in v1.0 and will be removed in version 1.2. Use `criterion='squared_error'` which is equivalent.\n",
      "  warnings.warn(\n",
      "C:\\Users\\user\\anaconda3\\lib\\site-packages\\sklearn\\tree\\_classes.py:359: FutureWarning: Criterion 'mse' was deprecated in v1.0 and will be removed in version 1.2. Use `criterion='squared_error'` which is equivalent.\n",
      "  warnings.warn(\n",
      "C:\\Users\\user\\anaconda3\\lib\\site-packages\\sklearn\\tree\\_classes.py:359: FutureWarning: Criterion 'mse' was deprecated in v1.0 and will be removed in version 1.2. Use `criterion='squared_error'` which is equivalent.\n",
      "  warnings.warn(\n",
      "C:\\Users\\user\\anaconda3\\lib\\site-packages\\sklearn\\tree\\_classes.py:359: FutureWarning: Criterion 'mse' was deprecated in v1.0 and will be removed in version 1.2. Use `criterion='squared_error'` which is equivalent.\n",
      "  warnings.warn(\n",
      "C:\\Users\\user\\anaconda3\\lib\\site-packages\\sklearn\\tree\\_classes.py:359: FutureWarning: Criterion 'mse' was deprecated in v1.0 and will be removed in version 1.2. Use `criterion='squared_error'` which is equivalent.\n",
      "  warnings.warn(\n",
      "C:\\Users\\user\\anaconda3\\lib\\site-packages\\sklearn\\tree\\_classes.py:359: FutureWarning: Criterion 'mse' was deprecated in v1.0 and will be removed in version 1.2. Use `criterion='squared_error'` which is equivalent.\n",
      "  warnings.warn(\n",
      "C:\\Users\\user\\anaconda3\\lib\\site-packages\\sklearn\\tree\\_classes.py:359: FutureWarning: Criterion 'mse' was deprecated in v1.0 and will be removed in version 1.2. Use `criterion='squared_error'` which is equivalent.\n",
      "  warnings.warn(\n",
      "C:\\Users\\user\\anaconda3\\lib\\site-packages\\sklearn\\tree\\_classes.py:359: FutureWarning: Criterion 'mse' was deprecated in v1.0 and will be removed in version 1.2. Use `criterion='squared_error'` which is equivalent.\n",
      "  warnings.warn(\n",
      "C:\\Users\\user\\anaconda3\\lib\\site-packages\\sklearn\\tree\\_classes.py:359: FutureWarning: Criterion 'mse' was deprecated in v1.0 and will be removed in version 1.2. Use `criterion='squared_error'` which is equivalent.\n",
      "  warnings.warn(\n",
      "C:\\Users\\user\\anaconda3\\lib\\site-packages\\sklearn\\tree\\_classes.py:359: FutureWarning: Criterion 'mse' was deprecated in v1.0 and will be removed in version 1.2. Use `criterion='squared_error'` which is equivalent.\n",
      "  warnings.warn(\n",
      "C:\\Users\\user\\anaconda3\\lib\\site-packages\\sklearn\\tree\\_classes.py:359: FutureWarning: Criterion 'mse' was deprecated in v1.0 and will be removed in version 1.2. Use `criterion='squared_error'` which is equivalent.\n",
      "  warnings.warn(\n",
      "C:\\Users\\user\\anaconda3\\lib\\site-packages\\sklearn\\tree\\_classes.py:359: FutureWarning: Criterion 'mse' was deprecated in v1.0 and will be removed in version 1.2. Use `criterion='squared_error'` which is equivalent.\n",
      "  warnings.warn(\n",
      "C:\\Users\\user\\anaconda3\\lib\\site-packages\\sklearn\\tree\\_classes.py:359: FutureWarning: Criterion 'mse' was deprecated in v1.0 and will be removed in version 1.2. Use `criterion='squared_error'` which is equivalent.\n",
      "  warnings.warn(\n",
      "C:\\Users\\user\\anaconda3\\lib\\site-packages\\sklearn\\tree\\_classes.py:359: FutureWarning: Criterion 'mse' was deprecated in v1.0 and will be removed in version 1.2. Use `criterion='squared_error'` which is equivalent.\n",
      "  warnings.warn(\n",
      "C:\\Users\\user\\anaconda3\\lib\\site-packages\\sklearn\\tree\\_classes.py:359: FutureWarning: Criterion 'mse' was deprecated in v1.0 and will be removed in version 1.2. Use `criterion='squared_error'` which is equivalent.\n",
      "  warnings.warn(\n",
      "C:\\Users\\user\\anaconda3\\lib\\site-packages\\sklearn\\tree\\_classes.py:359: FutureWarning: Criterion 'mse' was deprecated in v1.0 and will be removed in version 1.2. Use `criterion='squared_error'` which is equivalent.\n",
      "  warnings.warn(\n",
      "C:\\Users\\user\\anaconda3\\lib\\site-packages\\sklearn\\tree\\_classes.py:359: FutureWarning: Criterion 'mse' was deprecated in v1.0 and will be removed in version 1.2. Use `criterion='squared_error'` which is equivalent.\n",
      "  warnings.warn(\n",
      "C:\\Users\\user\\anaconda3\\lib\\site-packages\\sklearn\\tree\\_classes.py:359: FutureWarning: Criterion 'mse' was deprecated in v1.0 and will be removed in version 1.2. Use `criterion='squared_error'` which is equivalent.\n",
      "  warnings.warn(\n",
      "C:\\Users\\user\\anaconda3\\lib\\site-packages\\sklearn\\tree\\_classes.py:359: FutureWarning: Criterion 'mse' was deprecated in v1.0 and will be removed in version 1.2. Use `criterion='squared_error'` which is equivalent.\n",
      "  warnings.warn(\n",
      "C:\\Users\\user\\anaconda3\\lib\\site-packages\\sklearn\\tree\\_classes.py:359: FutureWarning: Criterion 'mse' was deprecated in v1.0 and will be removed in version 1.2. Use `criterion='squared_error'` which is equivalent.\n",
      "  warnings.warn(\n",
      "C:\\Users\\user\\anaconda3\\lib\\site-packages\\sklearn\\tree\\_classes.py:359: FutureWarning: Criterion 'mse' was deprecated in v1.0 and will be removed in version 1.2. Use `criterion='squared_error'` which is equivalent.\n",
      "  warnings.warn(\n",
      "C:\\Users\\user\\anaconda3\\lib\\site-packages\\sklearn\\tree\\_classes.py:359: FutureWarning: Criterion 'mse' was deprecated in v1.0 and will be removed in version 1.2. Use `criterion='squared_error'` which is equivalent.\n",
      "  warnings.warn(\n",
      "C:\\Users\\user\\anaconda3\\lib\\site-packages\\sklearn\\tree\\_classes.py:359: FutureWarning: Criterion 'mse' was deprecated in v1.0 and will be removed in version 1.2. Use `criterion='squared_error'` which is equivalent.\n",
      "  warnings.warn(\n",
      "C:\\Users\\user\\anaconda3\\lib\\site-packages\\sklearn\\tree\\_classes.py:359: FutureWarning: Criterion 'mse' was deprecated in v1.0 and will be removed in version 1.2. Use `criterion='squared_error'` which is equivalent.\n",
      "  warnings.warn(\n",
      "C:\\Users\\user\\anaconda3\\lib\\site-packages\\sklearn\\tree\\_classes.py:359: FutureWarning: Criterion 'mse' was deprecated in v1.0 and will be removed in version 1.2. Use `criterion='squared_error'` which is equivalent.\n",
      "  warnings.warn(\n",
      "C:\\Users\\user\\anaconda3\\lib\\site-packages\\sklearn\\tree\\_classes.py:359: FutureWarning: Criterion 'mse' was deprecated in v1.0 and will be removed in version 1.2. Use `criterion='squared_error'` which is equivalent.\n",
      "  warnings.warn(\n",
      "C:\\Users\\user\\anaconda3\\lib\\site-packages\\sklearn\\tree\\_classes.py:359: FutureWarning: Criterion 'mse' was deprecated in v1.0 and will be removed in version 1.2. Use `criterion='squared_error'` which is equivalent.\n",
      "  warnings.warn(\n",
      "C:\\Users\\user\\anaconda3\\lib\\site-packages\\sklearn\\tree\\_classes.py:359: FutureWarning: Criterion 'mse' was deprecated in v1.0 and will be removed in version 1.2. Use `criterion='squared_error'` which is equivalent.\n",
      "  warnings.warn(\n",
      "C:\\Users\\user\\anaconda3\\lib\\site-packages\\sklearn\\tree\\_classes.py:359: FutureWarning: Criterion 'mse' was deprecated in v1.0 and will be removed in version 1.2. Use `criterion='squared_error'` which is equivalent.\n",
      "  warnings.warn(\n",
      "C:\\Users\\user\\anaconda3\\lib\\site-packages\\sklearn\\tree\\_classes.py:359: FutureWarning: Criterion 'mse' was deprecated in v1.0 and will be removed in version 1.2. Use `criterion='squared_error'` which is equivalent.\n",
      "  warnings.warn(\n",
      "C:\\Users\\user\\anaconda3\\lib\\site-packages\\sklearn\\tree\\_classes.py:359: FutureWarning: Criterion 'mse' was deprecated in v1.0 and will be removed in version 1.2. Use `criterion='squared_error'` which is equivalent.\n",
      "  warnings.warn(\n",
      "C:\\Users\\user\\anaconda3\\lib\\site-packages\\sklearn\\tree\\_classes.py:359: FutureWarning: Criterion 'mse' was deprecated in v1.0 and will be removed in version 1.2. Use `criterion='squared_error'` which is equivalent.\n",
      "  warnings.warn(\n",
      "C:\\Users\\user\\anaconda3\\lib\\site-packages\\sklearn\\tree\\_classes.py:359: FutureWarning: Criterion 'mse' was deprecated in v1.0 and will be removed in version 1.2. Use `criterion='squared_error'` which is equivalent.\n",
      "  warnings.warn(\n",
      "C:\\Users\\user\\anaconda3\\lib\\site-packages\\sklearn\\tree\\_classes.py:359: FutureWarning: Criterion 'mse' was deprecated in v1.0 and will be removed in version 1.2. Use `criterion='squared_error'` which is equivalent.\n",
      "  warnings.warn(\n",
      "C:\\Users\\user\\anaconda3\\lib\\site-packages\\sklearn\\tree\\_classes.py:359: FutureWarning: Criterion 'mse' was deprecated in v1.0 and will be removed in version 1.2. Use `criterion='squared_error'` which is equivalent.\n",
      "  warnings.warn(\n",
      "C:\\Users\\user\\anaconda3\\lib\\site-packages\\sklearn\\tree\\_classes.py:359: FutureWarning: Criterion 'mse' was deprecated in v1.0 and will be removed in version 1.2. Use `criterion='squared_error'` which is equivalent.\n",
      "  warnings.warn(\n",
      "C:\\Users\\user\\anaconda3\\lib\\site-packages\\sklearn\\tree\\_classes.py:359: FutureWarning: Criterion 'mse' was deprecated in v1.0 and will be removed in version 1.2. Use `criterion='squared_error'` which is equivalent.\n",
      "  warnings.warn(\n",
      "C:\\Users\\user\\anaconda3\\lib\\site-packages\\sklearn\\tree\\_classes.py:359: FutureWarning: Criterion 'mse' was deprecated in v1.0 and will be removed in version 1.2. Use `criterion='squared_error'` which is equivalent.\n",
      "  warnings.warn(\n",
      "C:\\Users\\user\\anaconda3\\lib\\site-packages\\sklearn\\tree\\_classes.py:359: FutureWarning: Criterion 'mse' was deprecated in v1.0 and will be removed in version 1.2. Use `criterion='squared_error'` which is equivalent.\n",
      "  warnings.warn(\n",
      "C:\\Users\\user\\anaconda3\\lib\\site-packages\\sklearn\\tree\\_classes.py:359: FutureWarning: Criterion 'mse' was deprecated in v1.0 and will be removed in version 1.2. Use `criterion='squared_error'` which is equivalent.\n",
      "  warnings.warn(\n",
      "C:\\Users\\user\\anaconda3\\lib\\site-packages\\sklearn\\tree\\_classes.py:359: FutureWarning: Criterion 'mse' was deprecated in v1.0 and will be removed in version 1.2. Use `criterion='squared_error'` which is equivalent.\n",
      "  warnings.warn(\n",
      "C:\\Users\\user\\anaconda3\\lib\\site-packages\\sklearn\\tree\\_classes.py:359: FutureWarning: Criterion 'mse' was deprecated in v1.0 and will be removed in version 1.2. Use `criterion='squared_error'` which is equivalent.\n",
      "  warnings.warn(\n",
      "C:\\Users\\user\\anaconda3\\lib\\site-packages\\sklearn\\tree\\_classes.py:359: FutureWarning: Criterion 'mse' was deprecated in v1.0 and will be removed in version 1.2. Use `criterion='squared_error'` which is equivalent.\n",
      "  warnings.warn(\n",
      "C:\\Users\\user\\anaconda3\\lib\\site-packages\\sklearn\\tree\\_classes.py:359: FutureWarning: Criterion 'mse' was deprecated in v1.0 and will be removed in version 1.2. Use `criterion='squared_error'` which is equivalent.\n",
      "  warnings.warn(\n",
      "C:\\Users\\user\\anaconda3\\lib\\site-packages\\sklearn\\tree\\_classes.py:359: FutureWarning: Criterion 'mse' was deprecated in v1.0 and will be removed in version 1.2. Use `criterion='squared_error'` which is equivalent.\n",
      "  warnings.warn(\n",
      "C:\\Users\\user\\anaconda3\\lib\\site-packages\\sklearn\\tree\\_classes.py:359: FutureWarning: Criterion 'mse' was deprecated in v1.0 and will be removed in version 1.2. Use `criterion='squared_error'` which is equivalent.\n",
      "  warnings.warn(\n",
      "C:\\Users\\user\\anaconda3\\lib\\site-packages\\sklearn\\tree\\_classes.py:359: FutureWarning: Criterion 'mse' was deprecated in v1.0 and will be removed in version 1.2. Use `criterion='squared_error'` which is equivalent.\n",
      "  warnings.warn(\n",
      "C:\\Users\\user\\anaconda3\\lib\\site-packages\\sklearn\\tree\\_classes.py:359: FutureWarning: Criterion 'mse' was deprecated in v1.0 and will be removed in version 1.2. Use `criterion='squared_error'` which is equivalent.\n",
      "  warnings.warn(\n",
      "C:\\Users\\user\\anaconda3\\lib\\site-packages\\sklearn\\tree\\_classes.py:359: FutureWarning: Criterion 'mse' was deprecated in v1.0 and will be removed in version 1.2. Use `criterion='squared_error'` which is equivalent.\n",
      "  warnings.warn(\n",
      "C:\\Users\\user\\anaconda3\\lib\\site-packages\\sklearn\\tree\\_classes.py:359: FutureWarning: Criterion 'mse' was deprecated in v1.0 and will be removed in version 1.2. Use `criterion='squared_error'` which is equivalent.\n",
      "  warnings.warn(\n",
      "C:\\Users\\user\\anaconda3\\lib\\site-packages\\sklearn\\tree\\_classes.py:359: FutureWarning: Criterion 'mse' was deprecated in v1.0 and will be removed in version 1.2. Use `criterion='squared_error'` which is equivalent.\n",
      "  warnings.warn(\n",
      "C:\\Users\\user\\anaconda3\\lib\\site-packages\\sklearn\\tree\\_classes.py:359: FutureWarning: Criterion 'mse' was deprecated in v1.0 and will be removed in version 1.2. Use `criterion='squared_error'` which is equivalent.\n",
      "  warnings.warn(\n",
      "C:\\Users\\user\\anaconda3\\lib\\site-packages\\sklearn\\tree\\_classes.py:359: FutureWarning: Criterion 'mse' was deprecated in v1.0 and will be removed in version 1.2. Use `criterion='squared_error'` which is equivalent.\n",
      "  warnings.warn(\n",
      "C:\\Users\\user\\anaconda3\\lib\\site-packages\\sklearn\\tree\\_classes.py:359: FutureWarning: Criterion 'mse' was deprecated in v1.0 and will be removed in version 1.2. Use `criterion='squared_error'` which is equivalent.\n",
      "  warnings.warn(\n",
      "C:\\Users\\user\\anaconda3\\lib\\site-packages\\sklearn\\tree\\_classes.py:359: FutureWarning: Criterion 'mse' was deprecated in v1.0 and will be removed in version 1.2. Use `criterion='squared_error'` which is equivalent.\n",
      "  warnings.warn(\n"
     ]
    },
    {
     "data": {
      "text/plain": [
       "GradientBoostingRegressor(criterion='mse', random_state=0)"
      ]
     },
     "execution_count": 33,
     "metadata": {},
     "output_type": "execute_result"
    }
   ],
   "source": [
    "gb.fit(x_train,y_train)\n",
    "#모델 학습"
   ]
  },
  {
   "cell_type": "code",
   "execution_count": 34,
   "id": "496b6650",
   "metadata": {},
   "outputs": [
    {
     "data": {
      "text/plain": [
       "array([22.83587373, 14.31363856, 42.26472406, 19.98168418, 20.55795137,\n",
       "       28.64632959, 10.7164367 , 20.3533835 , 19.46497185, 16.6051054 ,\n",
       "       20.39265665,  7.79324353, 34.38245333, 19.04777003, 13.58903693,\n",
       "       23.95455246, 31.04811949, 16.84437399, 33.2253058 , 24.9795885 ,\n",
       "       17.01903539, 19.02137792, 17.26273649, 13.70554584, 14.63531787,\n",
       "       31.62355261, 23.5919438 , 16.73107513, 20.56842195, 32.83946703,\n",
       "       33.61150655, 43.72252959, 18.45270347, 21.66023818, 13.81892189,\n",
       "       33.41051503, 31.44229777, 18.12849506, 23.46138492, 32.04208385,\n",
       "       22.52283466, 19.66464228, 12.02486756, 14.71622467, 25.84171294,\n",
       "       27.20115412, 27.71469925, 20.56957767, 21.06758184, 22.2896685 ,\n",
       "       20.21318089, 14.16905353, 16.2211166 , 18.47306555, 22.27074264,\n",
       "       23.72191846, 45.32563779, 24.32533038, 20.69755935, 11.36836645,\n",
       "       21.58351356, 19.60242907, 15.52402234, 42.0954391 , 20.20048509,\n",
       "       22.66137869, 20.05525649,  6.73915962, 33.83906644, 23.88819476,\n",
       "       15.89860645, 22.028476  , 21.11013034, 30.20283881, 33.83595311,\n",
       "       17.5172876 , 21.93823954, 22.75486383, 25.85558249, 16.80313258,\n",
       "       10.31772662, 23.32303521, 19.38300203, 16.76365183, 36.36353847,\n",
       "       15.32066072, 16.35624392, 13.81388522,  9.76562444, 23.26515121,\n",
       "       14.4438976 , 31.57093003, 15.34837288, 13.96034032, 21.42368372,\n",
       "       16.99336724, 28.573129  , 20.23815583, 25.35043545, 45.19413426,\n",
       "       20.28349898, 31.20364156, 15.05022589, 46.94811466, 24.72891917,\n",
       "       12.27513488, 24.68747727, 21.15414561, 20.24757572, 21.21216674,\n",
       "       33.61119804, 30.5300905 , 18.7145701 , 19.35180364, 20.9340067 ,\n",
       "       15.81955205, 17.18063152, 19.56648221, 22.83308017, 13.65801948,\n",
       "       14.87770831, 23.45382991, 20.25181863, 10.92073843, 20.09500355,\n",
       "       34.81268835, 19.83764174, 18.8922597 , 21.28225989, 22.57849962,\n",
       "       15.8255405 , 10.65123423, 17.70159053, 18.35461028, 27.41619504,\n",
       "       11.00588647, 21.21360139, 14.71355699, 28.11647619, 28.79478777,\n",
       "       26.3267165 , 11.52497458, 18.27049878, 26.07674287, 48.52392334,\n",
       "       29.28495376, 23.89777293, 22.02120766, 16.06900249, 20.77890562,\n",
       "       19.7849377 , 20.66496088])"
      ]
     },
     "execution_count": 34,
     "metadata": {},
     "output_type": "execute_result"
    }
   ],
   "source": [
    "pred = gb.predict(x_test)\n",
    "pred"
   ]
  },
  {
   "cell_type": "code",
   "execution_count": 35,
   "id": "54897d2e",
   "metadata": {},
   "outputs": [
    {
     "data": {
      "text/plain": [
       "0.9828905738729614"
      ]
     },
     "execution_count": 35,
     "metadata": {},
     "output_type": "execute_result"
    }
   ],
   "source": [
    "gb.score(x_train,y_train)\n",
    "#회귀모델이므로 model.score()의 기준 = r2_score"
   ]
  },
  {
   "cell_type": "code",
   "execution_count": 36,
   "id": "f8c61994",
   "metadata": {},
   "outputs": [
    {
     "data": {
      "text/plain": [
       "0.8278000836850291"
      ]
     },
     "execution_count": 36,
     "metadata": {},
     "output_type": "execute_result"
    }
   ],
   "source": [
    "gb.score(x_test,y_test)\n",
    "#회귀모델이므로 model.score()의 기준 = r2_score"
   ]
  },
  {
   "cell_type": "markdown",
   "id": "cf02d447",
   "metadata": {},
   "source": [
    "## XGBoosting"
   ]
  },
  {
   "cell_type": "markdown",
   "id": "f89ac141",
   "metadata": {},
   "source": [
    "### 분류모델"
   ]
  },
  {
   "cell_type": "code",
   "execution_count": 37,
   "id": "c8758604",
   "metadata": {},
   "outputs": [],
   "source": [
    "cancer = load_breast_cancer()\n",
    "x_train,x_test,y_train,y_test = train_test_split(cancer.data,\n",
    "                                                 cancer.target,\n",
    "                                                 random_state=0)\n",
    "#데이터 수집, 분할"
   ]
  },
  {
   "cell_type": "markdown",
   "id": "684a8cac",
   "metadata": {},
   "source": [
    "!pip install xgboost\n",
    "- 설치코드"
   ]
  },
  {
   "cell_type": "code",
   "execution_count": 38,
   "id": "3c846181",
   "metadata": {},
   "outputs": [],
   "source": [
    "import xgboost as xgb"
   ]
  },
  {
   "cell_type": "code",
   "execution_count": 39,
   "id": "9267911b",
   "metadata": {},
   "outputs": [],
   "source": [
    "xgb = xgb.XGBClassifier(random_state=0)\n",
    "#모델 선정"
   ]
  },
  {
   "cell_type": "code",
   "execution_count": 40,
   "id": "19083321",
   "metadata": {},
   "outputs": [
    {
     "data": {
      "text/plain": [
       "XGBClassifier(base_score=0.5, booster='gbtree', callbacks=None,\n",
       "              colsample_bylevel=1, colsample_bynode=1, colsample_bytree=1,\n",
       "              early_stopping_rounds=None, enable_categorical=False,\n",
       "              eval_metric=None, gamma=0, gpu_id=-1, grow_policy='depthwise',\n",
       "              importance_type=None, interaction_constraints='',\n",
       "              learning_rate=0.300000012, max_bin=256, max_cat_to_onehot=4,\n",
       "              max_delta_step=0, max_depth=6, max_leaves=0, min_child_weight=1,\n",
       "              missing=nan, monotone_constraints='()', n_estimators=100,\n",
       "              n_jobs=0, num_parallel_tree=1, predictor='auto', random_state=0,\n",
       "              reg_alpha=0, reg_lambda=1, ...)"
      ]
     },
     "execution_count": 40,
     "metadata": {},
     "output_type": "execute_result"
    }
   ],
   "source": [
    "xgb.fit(x_train,y_train)"
   ]
  },
  {
   "cell_type": "code",
   "execution_count": 41,
   "id": "3d981669",
   "metadata": {},
   "outputs": [
    {
     "data": {
      "text/plain": [
       "array([0, 1, 1, 1, 1, 1, 1, 1, 1, 1, 1, 1, 1, 1, 0, 0, 1, 0, 0, 0, 0, 0,\n",
       "       1, 1, 0, 1, 1, 0, 1, 0, 1, 0, 1, 0, 1, 0, 1, 0, 1, 0, 0, 1, 0, 1,\n",
       "       1, 0, 1, 1, 1, 0, 0, 0, 0, 1, 1, 1, 1, 1, 1, 0, 0, 0, 1, 1, 0, 1,\n",
       "       0, 0, 0, 1, 1, 0, 1, 0, 0, 1, 1, 1, 1, 1, 0, 0, 0, 1, 0, 1, 1, 1,\n",
       "       0, 0, 1, 1, 1, 0, 1, 1, 0, 1, 1, 1, 1, 1, 1, 1, 0, 1, 0, 1, 0, 0,\n",
       "       1, 0, 0, 1, 1, 1, 1, 1, 1, 1, 1, 1, 0, 1, 0, 1, 1, 1, 1, 1, 0, 1,\n",
       "       1, 1, 1, 1, 1, 0, 0, 1, 1, 1, 0])"
      ]
     },
     "execution_count": 41,
     "metadata": {},
     "output_type": "execute_result"
    }
   ],
   "source": [
    "pred = xgb.predict(x_test)\n",
    "pred\n",
    "#모델 예측"
   ]
  },
  {
   "cell_type": "code",
   "execution_count": 42,
   "id": "1094e821",
   "metadata": {},
   "outputs": [
    {
     "data": {
      "text/plain": [
       "1.0"
      ]
     },
     "execution_count": 42,
     "metadata": {},
     "output_type": "execute_result"
    }
   ],
   "source": [
    "xgb.score(x_train,y_train)\n",
    "#분류모델이므로 model.score() 기준은 Accuracy"
   ]
  },
  {
   "cell_type": "code",
   "execution_count": 43,
   "id": "ac0c30e9",
   "metadata": {},
   "outputs": [
    {
     "data": {
      "text/plain": [
       "0.986013986013986"
      ]
     },
     "execution_count": 43,
     "metadata": {},
     "output_type": "execute_result"
    }
   ],
   "source": [
    "xgb.score(x_test,y_test)\n",
    "#분류모델이므로 model.score() 기준은 Accuracy"
   ]
  },
  {
   "cell_type": "markdown",
   "id": "dedda7ca",
   "metadata": {},
   "source": [
    "### 사전 가지치기"
   ]
  },
  {
   "cell_type": "code",
   "execution_count": 44,
   "id": "6b95b79c",
   "metadata": {},
   "outputs": [],
   "source": [
    "import xgboost as xgb"
   ]
  },
  {
   "cell_type": "code",
   "execution_count": 45,
   "id": "d1c252fb",
   "metadata": {},
   "outputs": [],
   "source": [
    "xgb = xgb.XGBClassifier(random_state=0,max_depth=1)\n",
    "#모델 선정, 기존 모델에 max_depth 추가"
   ]
  },
  {
   "cell_type": "code",
   "execution_count": 46,
   "id": "63079d1d",
   "metadata": {},
   "outputs": [
    {
     "data": {
      "text/plain": [
       "XGBClassifier(base_score=0.5, booster='gbtree', callbacks=None,\n",
       "              colsample_bylevel=1, colsample_bynode=1, colsample_bytree=1,\n",
       "              early_stopping_rounds=None, enable_categorical=False,\n",
       "              eval_metric=None, gamma=0, gpu_id=-1, grow_policy='depthwise',\n",
       "              importance_type=None, interaction_constraints='',\n",
       "              learning_rate=0.300000012, max_bin=256, max_cat_to_onehot=4,\n",
       "              max_delta_step=0, max_depth=1, max_leaves=0, min_child_weight=1,\n",
       "              missing=nan, monotone_constraints='()', n_estimators=100,\n",
       "              n_jobs=0, num_parallel_tree=1, predictor='auto', random_state=0,\n",
       "              reg_alpha=0, reg_lambda=1, ...)"
      ]
     },
     "execution_count": 46,
     "metadata": {},
     "output_type": "execute_result"
    }
   ],
   "source": [
    "xgb.fit(x_train,y_train)\n",
    "#모델 학습"
   ]
  },
  {
   "cell_type": "code",
   "execution_count": 47,
   "id": "41cd954c",
   "metadata": {},
   "outputs": [
    {
     "data": {
      "text/plain": [
       "array([0, 1, 1, 1, 1, 1, 1, 1, 1, 1, 1, 1, 1, 1, 1, 0, 1, 0, 0, 0, 0, 0,\n",
       "       1, 1, 0, 1, 1, 0, 1, 0, 1, 0, 1, 0, 1, 0, 1, 0, 1, 0, 0, 1, 0, 1,\n",
       "       1, 0, 1, 1, 1, 0, 0, 0, 0, 1, 1, 1, 1, 1, 1, 0, 0, 0, 1, 1, 0, 1,\n",
       "       0, 0, 0, 1, 1, 0, 1, 1, 0, 1, 1, 1, 1, 1, 0, 0, 0, 1, 0, 1, 1, 1,\n",
       "       0, 0, 1, 1, 1, 0, 1, 1, 0, 1, 1, 1, 1, 1, 1, 1, 0, 1, 0, 1, 0, 0,\n",
       "       1, 0, 0, 1, 1, 1, 1, 1, 1, 1, 1, 1, 0, 1, 0, 1, 1, 1, 1, 1, 0, 1,\n",
       "       1, 1, 1, 1, 1, 0, 0, 1, 1, 1, 0])"
      ]
     },
     "execution_count": 47,
     "metadata": {},
     "output_type": "execute_result"
    }
   ],
   "source": [
    "pred = xgb.predict(x_test)\n",
    "pred\n",
    "#모델 예측"
   ]
  },
  {
   "cell_type": "code",
   "execution_count": 48,
   "id": "2b0b67bc",
   "metadata": {},
   "outputs": [
    {
     "data": {
      "text/plain": [
       "0.9976525821596244"
      ]
     },
     "execution_count": 48,
     "metadata": {},
     "output_type": "execute_result"
    }
   ],
   "source": [
    "xgb.score(x_train,y_train)\n",
    "#분류모델이므로 model.score() 기준은 Accuracy"
   ]
  },
  {
   "cell_type": "code",
   "execution_count": 49,
   "id": "41b04804",
   "metadata": {},
   "outputs": [
    {
     "data": {
      "text/plain": [
       "0.986013986013986"
      ]
     },
     "execution_count": 49,
     "metadata": {},
     "output_type": "execute_result"
    }
   ],
   "source": [
    "xgb.score(x_test,y_test)\n",
    "#분류모델이므로 model.score() 기준은 Accuracy"
   ]
  },
  {
   "cell_type": "markdown",
   "id": "261b4e62",
   "metadata": {},
   "source": [
    "### 학습률 낮추기"
   ]
  },
  {
   "cell_type": "code",
   "execution_count": 50,
   "id": "cba945cc",
   "metadata": {},
   "outputs": [],
   "source": [
    "import xgboost as xgb"
   ]
  },
  {
   "cell_type": "code",
   "execution_count": 51,
   "id": "0b33d89b",
   "metadata": {},
   "outputs": [],
   "source": [
    "xgb = xgb.XGBClassifier(random_state=0,learning_rate=0.01)\n",
    "#모델 선정, 기존 모델에 learning_rate 추가하여 학습률 조정"
   ]
  },
  {
   "cell_type": "code",
   "execution_count": 52,
   "id": "99adc4ab",
   "metadata": {},
   "outputs": [
    {
     "data": {
      "text/plain": [
       "XGBClassifier(base_score=0.5, booster='gbtree', callbacks=None,\n",
       "              colsample_bylevel=1, colsample_bynode=1, colsample_bytree=1,\n",
       "              early_stopping_rounds=None, enable_categorical=False,\n",
       "              eval_metric=None, gamma=0, gpu_id=-1, grow_policy='depthwise',\n",
       "              importance_type=None, interaction_constraints='',\n",
       "              learning_rate=0.01, max_bin=256, max_cat_to_onehot=4,\n",
       "              max_delta_step=0, max_depth=6, max_leaves=0, min_child_weight=1,\n",
       "              missing=nan, monotone_constraints='()', n_estimators=100,\n",
       "              n_jobs=0, num_parallel_tree=1, predictor='auto', random_state=0,\n",
       "              reg_alpha=0, reg_lambda=1, ...)"
      ]
     },
     "execution_count": 52,
     "metadata": {},
     "output_type": "execute_result"
    }
   ],
   "source": [
    "xgb.fit(x_train,y_train)\n",
    "#모델 학습"
   ]
  },
  {
   "cell_type": "code",
   "execution_count": 53,
   "id": "4737150e",
   "metadata": {},
   "outputs": [
    {
     "data": {
      "text/plain": [
       "array([0, 1, 1, 1, 1, 1, 1, 1, 1, 1, 0, 1, 1, 0, 0, 0, 1, 0, 0, 0, 0, 0,\n",
       "       1, 1, 0, 1, 1, 0, 1, 0, 1, 0, 1, 0, 1, 0, 1, 0, 1, 0, 0, 1, 0, 1,\n",
       "       1, 0, 1, 1, 1, 0, 0, 0, 0, 1, 1, 1, 1, 1, 1, 0, 0, 0, 1, 1, 0, 1,\n",
       "       0, 0, 0, 1, 1, 0, 1, 0, 0, 1, 1, 1, 1, 1, 0, 0, 0, 1, 0, 1, 1, 1,\n",
       "       0, 0, 1, 1, 1, 0, 1, 1, 0, 1, 1, 1, 1, 1, 1, 1, 0, 1, 0, 1, 0, 0,\n",
       "       1, 0, 0, 0, 1, 1, 1, 1, 1, 1, 1, 1, 0, 1, 0, 1, 1, 1, 1, 1, 0, 1,\n",
       "       1, 1, 1, 1, 1, 0, 0, 1, 1, 1, 0])"
      ]
     },
     "execution_count": 53,
     "metadata": {},
     "output_type": "execute_result"
    }
   ],
   "source": [
    "pred = xgb.predict(x_test)\n",
    "pred\n",
    "#모델 예측"
   ]
  },
  {
   "cell_type": "code",
   "execution_count": 54,
   "id": "2a857f62",
   "metadata": {},
   "outputs": [
    {
     "data": {
      "text/plain": [
       "0.9953051643192489"
      ]
     },
     "execution_count": 54,
     "metadata": {},
     "output_type": "execute_result"
    }
   ],
   "source": [
    "xgb.score(x_train,y_train)\n",
    "#분류모델이므로 model.score() 기준은 Accuracy"
   ]
  },
  {
   "cell_type": "code",
   "execution_count": 55,
   "id": "42e22c21",
   "metadata": {},
   "outputs": [
    {
     "data": {
      "text/plain": [
       "0.965034965034965"
      ]
     },
     "execution_count": 55,
     "metadata": {},
     "output_type": "execute_result"
    }
   ],
   "source": [
    "xgb.score(x_test,y_test)\n",
    "#분류모델이므로 model.score() 기준은 Accur"
   ]
  },
  {
   "cell_type": "markdown",
   "id": "ef3eea45",
   "metadata": {},
   "source": [
    "### 회귀모델"
   ]
  },
  {
   "cell_type": "code",
   "execution_count": 56,
   "id": "0af84bf3",
   "metadata": {},
   "outputs": [
    {
     "name": "stderr",
     "output_type": "stream",
     "text": [
      "C:\\Users\\user\\anaconda3\\lib\\site-packages\\sklearn\\utils\\deprecation.py:87: FutureWarning: Function load_boston is deprecated; `load_boston` is deprecated in 1.0 and will be removed in 1.2.\n",
      "\n",
      "    The Boston housing prices dataset has an ethical problem. You can refer to\n",
      "    the documentation of this function for further details.\n",
      "\n",
      "    The scikit-learn maintainers therefore strongly discourage the use of this\n",
      "    dataset unless the purpose of the code is to study and educate about\n",
      "    ethical issues in data science and machine learning.\n",
      "\n",
      "    In this special case, you can fetch the dataset from the original\n",
      "    source::\n",
      "\n",
      "        import pandas as pd\n",
      "        import numpy as np\n",
      "\n",
      "\n",
      "        data_url = \"http://lib.stat.cmu.edu/datasets/boston\"\n",
      "        raw_df = pd.read_csv(data_url, sep=\"\\s+\", skiprows=22, header=None)\n",
      "        data = np.hstack([raw_df.values[::2, :], raw_df.values[1::2, :2]])\n",
      "        target = raw_df.values[1::2, 2]\n",
      "\n",
      "    Alternative datasets include the California housing dataset (i.e.\n",
      "    :func:`~sklearn.datasets.fetch_california_housing`) and the Ames housing\n",
      "    dataset. You can load the datasets as follows::\n",
      "\n",
      "        from sklearn.datasets import fetch_california_housing\n",
      "        housing = fetch_california_housing()\n",
      "\n",
      "    for the California housing dataset and::\n",
      "\n",
      "        from sklearn.datasets import fetch_openml\n",
      "        housing = fetch_openml(name=\"house_prices\", as_frame=True)\n",
      "\n",
      "    for the Ames housing dataset.\n",
      "    \n",
      "  warnings.warn(msg, category=FutureWarning)\n"
     ]
    }
   ],
   "source": [
    "boston = load_boston()\n",
    "x_train,x_test,y_train,y_test = train_test_split(boston.data,\n",
    "                                                boston.target,\n",
    "                                                test_size=0.3)\n",
    "#데이터 수집,분할"
   ]
  },
  {
   "cell_type": "code",
   "execution_count": 57,
   "id": "eb533032",
   "metadata": {},
   "outputs": [],
   "source": [
    "import xgboost as xgb"
   ]
  },
  {
   "cell_type": "code",
   "execution_count": 58,
   "id": "001d7bc3",
   "metadata": {},
   "outputs": [],
   "source": [
    "r = xgb.XGBRegressor(n_estimators=100, learning_rate=0.01,\n",
    "                    gamma=0, max_depth=3,random_state=0)\n",
    "#모델 선정\n",
    "#100개의 트리,학습률 0.01, 0번시드"
   ]
  },
  {
   "cell_type": "code",
   "execution_count": 59,
   "id": "8298d458",
   "metadata": {},
   "outputs": [
    {
     "data": {
      "text/plain": [
       "XGBRegressor(base_score=0.5, booster='gbtree', callbacks=None,\n",
       "             colsample_bylevel=1, colsample_bynode=1, colsample_bytree=1,\n",
       "             early_stopping_rounds=None, enable_categorical=False,\n",
       "             eval_metric=None, gamma=0, gpu_id=-1, grow_policy='depthwise',\n",
       "             importance_type=None, interaction_constraints='',\n",
       "             learning_rate=0.01, max_bin=256, max_cat_to_onehot=4,\n",
       "             max_delta_step=0, max_depth=3, max_leaves=0, min_child_weight=1,\n",
       "             missing=nan, monotone_constraints='()', n_estimators=100, n_jobs=0,\n",
       "             num_parallel_tree=1, predictor='auto', random_state=0, reg_alpha=0,\n",
       "             reg_lambda=1, ...)"
      ]
     },
     "execution_count": 59,
     "metadata": {},
     "output_type": "execute_result"
    }
   ],
   "source": [
    "r.fit(x_train,y_train)\n",
    "#모델 학습"
   ]
  },
  {
   "cell_type": "code",
   "execution_count": 60,
   "id": "77d5aa82",
   "metadata": {},
   "outputs": [
    {
     "data": {
      "text/plain": [
       "<AxesSubplot:title={'center':'Feature importance'}, xlabel='F score', ylabel='Features'>"
      ]
     },
     "execution_count": 60,
     "metadata": {},
     "output_type": "execute_result"
    },
    {
     "data": {
      "image/png": "[encoded data removed]",
      "text/plain": [
       "<Figure size 432x288 with 1 Axes>"
      ]
     },
     "metadata": {
      "needs_background": "light"
     },
     "output_type": "display_data"
    }
   ],
   "source": [
    "#특성중요도를 시각화하기 위한 그래프\n",
    "xgb.plot_importance(r)"
   ]
  },
  {
   "cell_type": "code",
   "execution_count": 61,
   "id": "e5249677",
   "metadata": {},
   "outputs": [
    {
     "data": {
      "text/plain": [
       "array([15.46302  , 15.516097 , 11.061654 , 11.852107 , 10.369858 ,\n",
       "       14.750596 , 13.648107 , 14.750596 , 28.882225 , 17.199392 ,\n",
       "       16.870583 , 11.417551 , 16.870583 ,  7.453892 , 16.229898 ,\n",
       "       11.549519 , 13.169251 , 27.747072 , 10.277534 , 15.692105 ,\n",
       "       19.000164 , 11.476816 , 15.446939 , 13.244722 , 10.783131 ,\n",
       "       18.509815 , 10.060974 ,  9.799319 , 13.503477 , 15.516097 ,\n",
       "       13.648107 , 13.033164 , 13.957148 , 11.7342415, 21.340248 ,\n",
       "       10.718425 ,  7.161585 ,  8.351408 , 20.067154 , 10.119064 ,\n",
       "       13.169251 , 14.605967 , 10.311232 , 20.93955  , 13.033164 ,\n",
       "        8.152153 ,  9.382362 , 18.045036 , 15.516097 , 15.516097 ,\n",
       "       21.620708 , 17.099237 , 28.882225 ,  6.9092054,  9.50247  ,\n",
       "        9.0476465,  7.161585 , 12.957693 , 20.678818 , 13.169251 ,\n",
       "       15.516097 , 13.169251 , 12.957693 , 13.169251 , 10.311232 ,\n",
       "       10.387165 , 13.503477 , 20.678818 , 13.648107 , 14.605967 ,\n",
       "       10.369858 , 13.503477 , 11.476816 , 13.503477 , 14.750596 ,\n",
       "       13.169251 , 14.605967 , 18.427904 ,  8.068627 , 17.478077 ,\n",
       "       20.21404  ,  8.530025 , 14.605967 , 14.681438 , 13.169251 ,\n",
       "       11.457013 , 17.931017 ,  7.161585 ,  7.1460824, 13.244722 ,\n",
       "       13.503477 , 15.798776 , 10.311232 , 14.605967 , 13.169251 ,\n",
       "       15.379631 , 13.648107 , 15.516097 , 11.685606 , 18.509815 ,\n",
       "        9.235099 ,  8.134226 , 13.244722 , 10.191242 ,  7.834199 ,\n",
       "        8.134226 , 16.870583 , 15.516097 , 16.970352 , 13.169251 ,\n",
       "       14.605967 ,  9.564119 , 13.244722 , 13.648107 , 19.000164 ,\n",
       "       13.033164 ,  9.681087 , 15.516097 , 15.446939 , 28.882225 ,\n",
       "       13.244722 , 28.373995 , 15.516097 , 14.639214 ,  7.9735374,\n",
       "        8.656223 , 13.169251 , 13.648107 , 10.982907 , 17.51137  ,\n",
       "        7.161585 ,  9.564119 , 14.750596 , 13.169251 , 28.255302 ,\n",
       "       19.368397 ,  6.9092054, 20.678818 ,  7.6617923, 15.516097 ,\n",
       "       11.476816 , 11.852107 , 14.605967 , 13.169251 , 19.225523 ,\n",
       "       10.267556 , 11.516278 ,  8.547195 , 13.503477 , 28.255302 ,\n",
       "       18.788496 , 14.750596 ], dtype=float32)"
      ]
     },
     "execution_count": 61,
     "metadata": {},
     "output_type": "execute_result"
    }
   ],
   "source": [
    "pred = r.predict(x_test)\n",
    "pred\n",
    "#예측값 산출"
   ]
  },
  {
   "cell_type": "code",
   "execution_count": 62,
   "id": "33d266ff",
   "metadata": {},
   "outputs": [
    {
     "data": {
      "text/plain": [
       "-0.047434934976234855"
      ]
     },
     "execution_count": 62,
     "metadata": {},
     "output_type": "execute_result"
    }
   ],
   "source": [
    "r.score(x_train,y_train)\n"
   ]
  },
  {
   "cell_type": "code",
   "execution_count": 63,
   "id": "2557810b",
   "metadata": {},
   "outputs": [
    {
     "data": {
      "text/plain": [
       "-0.20738273822676478"
      ]
     },
     "execution_count": 63,
     "metadata": {},
     "output_type": "execute_result"
    }
   ],
   "source": [
    "r.score(x_test,y_test)"
   ]
  },
  {
   "cell_type": "markdown",
   "id": "c74ad3e7",
   "metadata": {},
   "source": [
    "## Light GBM"
   ]
  },
  {
   "cell_type": "markdown",
   "id": "1d6afa08",
   "metadata": {},
   "source": [
    "!pip install lightgbm\n",
    "- 설치 코드"
   ]
  },
  {
   "cell_type": "markdown",
   "id": "0c9a3433",
   "metadata": {},
   "source": [
    "### 분류모델"
   ]
  },
  {
   "cell_type": "code",
   "execution_count": 64,
   "id": "921bdecc",
   "metadata": {},
   "outputs": [],
   "source": [
    "from lightgbm import LGBMClassifier\n",
    "import mglearn"
   ]
  },
  {
   "cell_type": "code",
   "execution_count": 65,
   "id": "1bffdd20",
   "metadata": {},
   "outputs": [],
   "source": [
    "cancer = load_breast_cancer()\n",
    "x_train,x_test,y_train,y_test = train_test_split(cancer.data,\n",
    "                                                 cancer.target,\n",
    "                                                 random_state=0)\n",
    "#데이터 수집, 분할"
   ]
  },
  {
   "cell_type": "code",
   "execution_count": 66,
   "id": "3eef4930",
   "metadata": {},
   "outputs": [],
   "source": [
    "lgb = LGBMClassifier(n_estimators=100,random_state=0)\n",
    "#모델 선정, 트리 100개,0번 시드"
   ]
  },
  {
   "cell_type": "code",
   "execution_count": 67,
   "id": "0e816fe3",
   "metadata": {},
   "outputs": [
    {
     "data": {
      "text/plain": [
       "LGBMClassifier(random_state=0)"
      ]
     },
     "execution_count": 67,
     "metadata": {},
     "output_type": "execute_result"
    }
   ],
   "source": [
    "lgb.fit(x_train,y_train)\n",
    "#모델 학습"
   ]
  },
  {
   "cell_type": "code",
   "execution_count": 68,
   "id": "d02fa6eb",
   "metadata": {},
   "outputs": [
    {
     "data": {
      "text/plain": [
       "array([0, 1, 1, 1, 1, 1, 1, 1, 1, 1, 1, 1, 1, 1, 1, 0, 1, 0, 0, 0, 0, 0,\n",
       "       1, 1, 0, 1, 1, 0, 1, 0, 1, 0, 1, 0, 1, 0, 1, 0, 1, 0, 1, 1, 1, 1,\n",
       "       1, 0, 1, 1, 1, 0, 0, 0, 0, 1, 1, 1, 1, 1, 1, 0, 0, 0, 1, 1, 0, 1,\n",
       "       0, 0, 0, 1, 1, 0, 1, 0, 0, 1, 1, 1, 1, 1, 0, 0, 0, 1, 0, 1, 1, 1,\n",
       "       0, 0, 1, 1, 1, 0, 1, 1, 0, 1, 1, 1, 1, 1, 1, 1, 0, 1, 0, 1, 0, 0,\n",
       "       1, 0, 0, 1, 1, 1, 1, 1, 1, 1, 1, 1, 0, 1, 0, 1, 1, 1, 1, 1, 0, 1,\n",
       "       1, 1, 1, 1, 1, 1, 0, 1, 1, 1, 0])"
      ]
     },
     "execution_count": 68,
     "metadata": {},
     "output_type": "execute_result"
    }
   ],
   "source": [
    "pred = lgb.predict(x_test)\n",
    "pred\n",
    "#예측값 산출"
   ]
  },
  {
   "cell_type": "code",
   "execution_count": 69,
   "id": "8820425f",
   "metadata": {},
   "outputs": [
    {
     "data": {
      "text/plain": [
       "1.0"
      ]
     },
     "execution_count": 69,
     "metadata": {},
     "output_type": "execute_result"
    }
   ],
   "source": [
    "lgb.score(x_train,y_train)\n",
    "#분류모델이기 때문에 model.score()의 기준은 Accuracy(정확도) \n",
    "#과대적합이 의심됨"
   ]
  },
  {
   "cell_type": "code",
   "execution_count": 70,
   "id": "4bbf1466",
   "metadata": {},
   "outputs": [
    {
     "data": {
      "text/plain": [
       "0.972027972027972"
      ]
     },
     "execution_count": 70,
     "metadata": {},
     "output_type": "execute_result"
    }
   ],
   "source": [
    "lgb.score(x_test,y_test)\n",
    "#분류모델이기 때문에 model.score()의 기준은 Accuracy(정확도) "
   ]
  },
  {
   "cell_type": "markdown",
   "id": "a4460889",
   "metadata": {},
   "source": [
    "### 사전가지치기"
   ]
  },
  {
   "cell_type": "code",
   "execution_count": 71,
   "id": "f8fac73f",
   "metadata": {},
   "outputs": [],
   "source": [
    "lgb = LGBMClassifier(random_state=42, max_depth=1)\n",
    "#모델 선정,42번 시드,max_depth = 1 추가"
   ]
  },
  {
   "cell_type": "code",
   "execution_count": 72,
   "id": "33e89535",
   "metadata": {},
   "outputs": [
    {
     "data": {
      "text/plain": [
       "LGBMClassifier(max_depth=1, random_state=42)"
      ]
     },
     "execution_count": 72,
     "metadata": {},
     "output_type": "execute_result"
    }
   ],
   "source": [
    "lgb.fit(x_train,y_train)\n",
    "#모델 학습"
   ]
  },
  {
   "cell_type": "code",
   "execution_count": 73,
   "id": "c55d9bca",
   "metadata": {},
   "outputs": [
    {
     "data": {
      "text/plain": [
       "array([0, 1, 1, 1, 1, 1, 1, 1, 1, 1, 1, 1, 1, 0, 1, 0, 1, 0, 0, 0, 0, 0,\n",
       "       1, 1, 0, 1, 1, 0, 1, 0, 1, 0, 1, 0, 1, 0, 1, 0, 1, 0, 1, 1, 0, 1,\n",
       "       1, 0, 1, 1, 1, 0, 0, 0, 0, 1, 1, 1, 1, 1, 1, 0, 0, 0, 1, 1, 0, 1,\n",
       "       0, 0, 0, 1, 1, 0, 1, 1, 0, 1, 1, 1, 1, 1, 0, 0, 0, 1, 0, 1, 1, 1,\n",
       "       0, 0, 1, 1, 1, 0, 1, 1, 0, 1, 1, 1, 1, 1, 1, 1, 0, 1, 0, 1, 1, 0,\n",
       "       1, 0, 0, 1, 1, 1, 1, 1, 1, 1, 1, 1, 0, 1, 0, 1, 1, 1, 1, 1, 0, 1,\n",
       "       1, 1, 1, 1, 1, 0, 0, 1, 1, 1, 0])"
      ]
     },
     "execution_count": 73,
     "metadata": {},
     "output_type": "execute_result"
    }
   ],
   "source": [
    "pred = lgb.predict(x_test)\n",
    "pred\n",
    "#예측값 산출"
   ]
  },
  {
   "cell_type": "code",
   "execution_count": 74,
   "id": "b1588505",
   "metadata": {},
   "outputs": [
    {
     "data": {
      "text/plain": [
       "0.9882629107981221"
      ]
     },
     "execution_count": 74,
     "metadata": {},
     "output_type": "execute_result"
    }
   ],
   "source": [
    "lgb.score(x_train,y_train)\n",
    "#분류모델이기 때문에 model.score()의 기준은 Accuracy(정확도) "
   ]
  },
  {
   "cell_type": "code",
   "execution_count": 75,
   "id": "8d5daa87",
   "metadata": {},
   "outputs": [
    {
     "data": {
      "text/plain": [
       "0.965034965034965"
      ]
     },
     "execution_count": 75,
     "metadata": {},
     "output_type": "execute_result"
    }
   ],
   "source": [
    "lgb.score(x_test,y_test)\n",
    "#분류모델이기 때문에 model.score()의 기준은 Accuracy(정확도) "
   ]
  },
  {
   "cell_type": "markdown",
   "id": "ee9e6098",
   "metadata": {},
   "source": [
    "### 학습률 낮추기"
   ]
  },
  {
   "cell_type": "code",
   "execution_count": 76,
   "id": "9e205e6a",
   "metadata": {},
   "outputs": [],
   "source": [
    "lgb = LGBMClassifier(random_state=42,learning_rate=0.01)\n",
    "#모델 선정, 42번 시드, 학습률=0.01"
   ]
  },
  {
   "cell_type": "code",
   "execution_count": 77,
   "id": "b62e0486",
   "metadata": {},
   "outputs": [
    {
     "data": {
      "text/plain": [
       "LGBMClassifier(learning_rate=0.01, random_state=42)"
      ]
     },
     "execution_count": 77,
     "metadata": {},
     "output_type": "execute_result"
    }
   ],
   "source": [
    "lgb.fit(x_train,y_train)\n",
    "#모델 학습"
   ]
  },
  {
   "cell_type": "code",
   "execution_count": 78,
   "id": "9676b527",
   "metadata": {},
   "outputs": [
    {
     "data": {
      "text/plain": [
       "array([0, 1, 1, 1, 1, 1, 1, 1, 1, 1, 1, 1, 1, 1, 1, 0, 1, 0, 0, 0, 0, 0,\n",
       "       1, 1, 0, 1, 1, 0, 1, 0, 1, 0, 1, 0, 1, 0, 1, 0, 1, 0, 1, 1, 1, 1,\n",
       "       1, 0, 1, 1, 1, 0, 0, 0, 0, 1, 1, 1, 1, 1, 1, 0, 0, 0, 1, 1, 0, 1,\n",
       "       0, 0, 0, 1, 1, 0, 1, 1, 0, 1, 1, 1, 1, 1, 0, 0, 0, 1, 0, 1, 1, 1,\n",
       "       0, 0, 1, 0, 1, 0, 1, 1, 0, 1, 1, 1, 1, 1, 1, 1, 0, 1, 0, 1, 1, 0,\n",
       "       1, 0, 0, 1, 1, 1, 0, 1, 1, 1, 1, 1, 0, 1, 0, 1, 1, 1, 1, 1, 0, 1,\n",
       "       1, 1, 1, 1, 1, 1, 0, 1, 1, 1, 0])"
      ]
     },
     "execution_count": 78,
     "metadata": {},
     "output_type": "execute_result"
    }
   ],
   "source": [
    "pred = lgb.predict(x_test)\n",
    "pred\n",
    "#예측값 산출"
   ]
  },
  {
   "cell_type": "code",
   "execution_count": 79,
   "id": "35452d68",
   "metadata": {},
   "outputs": [
    {
     "data": {
      "text/plain": [
       "0.9812206572769953"
      ]
     },
     "execution_count": 79,
     "metadata": {},
     "output_type": "execute_result"
    }
   ],
   "source": [
    "lgb.score(x_train,y_train)\n",
    "#분류모델이기 때문에 model.score()의 기준은 Accuracy(정확도) "
   ]
  },
  {
   "cell_type": "code",
   "execution_count": 80,
   "id": "6ae5ba81",
   "metadata": {},
   "outputs": [
    {
     "data": {
      "text/plain": [
       "0.958041958041958"
      ]
     },
     "execution_count": 80,
     "metadata": {},
     "output_type": "execute_result"
    }
   ],
   "source": [
    "lgb.score(x_test,y_test)\n",
    "#분류모델이기 때문에 model.score()의 기준은 Accuracy(정확도) "
   ]
  },
  {
   "cell_type": "markdown",
   "id": "1940780e",
   "metadata": {},
   "source": [
    "### 특성중요도 시각화 "
   ]
  },
  {
   "cell_type": "code",
   "execution_count": 81,
   "id": "ff47f2aa",
   "metadata": {},
   "outputs": [
    {
     "data": {
      "image/png": "[encoded data removed]",
      "text/plain": [
       "<Figure size 432x288 with 1 Axes>"
      ]
     },
     "metadata": {
      "needs_background": "light"
     },
     "output_type": "display_data"
    }
   ],
   "source": [
    "#특성중요도 시각화 코드\n",
    "n_features = cancer.data.shape[1]\n",
    "#데이터의 행의 개수\n",
    "plt.barh(np.arange(n_features),lgb.feature_importances_, align='center')\n",
    "plt.yticks(np.arange(n_features),cancer.feature_names)\n",
    "plt.xlabel('특성중요도')\n",
    "plt.ylabel('특성')\n",
    "plt.ylim(-1,n_features)\n",
    "plt.show()"
   ]
  },
  {
   "cell_type": "markdown",
   "id": "3e36c0e1",
   "metadata": {},
   "source": [
    "### 회귀모델"
   ]
  },
  {
   "cell_type": "code",
   "execution_count": 82,
   "id": "43f8295a",
   "metadata": {},
   "outputs": [
    {
     "name": "stderr",
     "output_type": "stream",
     "text": [
      "C:\\Users\\user\\anaconda3\\lib\\site-packages\\sklearn\\utils\\deprecation.py:87: FutureWarning: Function load_boston is deprecated; `load_boston` is deprecated in 1.0 and will be removed in 1.2.\n",
      "\n",
      "    The Boston housing prices dataset has an ethical problem. You can refer to\n",
      "    the documentation of this function for further details.\n",
      "\n",
      "    The scikit-learn maintainers therefore strongly discourage the use of this\n",
      "    dataset unless the purpose of the code is to study and educate about\n",
      "    ethical issues in data science and machine learning.\n",
      "\n",
      "    In this special case, you can fetch the dataset from the original\n",
      "    source::\n",
      "\n",
      "        import pandas as pd\n",
      "        import numpy as np\n",
      "\n",
      "\n",
      "        data_url = \"http://lib.stat.cmu.edu/datasets/boston\"\n",
      "        raw_df = pd.read_csv(data_url, sep=\"\\s+\", skiprows=22, header=None)\n",
      "        data = np.hstack([raw_df.values[::2, :], raw_df.values[1::2, :2]])\n",
      "        target = raw_df.values[1::2, 2]\n",
      "\n",
      "    Alternative datasets include the California housing dataset (i.e.\n",
      "    :func:`~sklearn.datasets.fetch_california_housing`) and the Ames housing\n",
      "    dataset. You can load the datasets as follows::\n",
      "\n",
      "        from sklearn.datasets import fetch_california_housing\n",
      "        housing = fetch_california_housing()\n",
      "\n",
      "    for the California housing dataset and::\n",
      "\n",
      "        from sklearn.datasets import fetch_openml\n",
      "        housing = fetch_openml(name=\"house_prices\", as_frame=True)\n",
      "\n",
      "    for the Ames housing dataset.\n",
      "    \n",
      "  warnings.warn(msg, category=FutureWarning)\n"
     ]
    }
   ],
   "source": [
    "boston = load_boston()\n",
    "x_train,x_test,y_train,y_test = train_test_split(boston.data,\n",
    "                                                boston.target,\n",
    "                                                test_size=0.3)\n",
    "#데이터 수집,분할"
   ]
  },
  {
   "cell_type": "code",
   "execution_count": 83,
   "id": "2797ee2b",
   "metadata": {},
   "outputs": [],
   "source": [
    "from lightgbm import LGBMRegressor\n",
    "import xgboost"
   ]
  },
  {
   "cell_type": "code",
   "execution_count": 84,
   "id": "49984e6d",
   "metadata": {},
   "outputs": [],
   "source": [
    "lgb = LGBMRegressor(n_estimators=100,learning_rate=0.01,\n",
    "                    random_state=0,max_depth=3)\n",
    "#모델 선정, 트리 100개,학습률 0.01, 0번시드 , 최대깊이 3"
   ]
  },
  {
   "cell_type": "code",
   "execution_count": 85,
   "id": "6a7380c2",
   "metadata": {},
   "outputs": [
    {
     "data": {
      "text/plain": [
       "LGBMRegressor(learning_rate=0.01, max_depth=3, random_state=0)"
      ]
     },
     "execution_count": 85,
     "metadata": {},
     "output_type": "execute_result"
    }
   ],
   "source": [
    "lgb.fit(x_train,y_train)"
   ]
  },
  {
   "cell_type": "code",
   "execution_count": 86,
   "id": "7b3ade5b",
   "metadata": {},
   "outputs": [
    {
     "data": {
      "image/png": "[encoded data removed]",
      "text/plain": [
       "<Figure size 432x288 with 1 Axes>"
      ]
     },
     "metadata": {
      "needs_background": "light"
     },
     "output_type": "display_data"
    }
   ],
   "source": [
    "#특성중요도 시각화 코드\n",
    "n_features = boston.data.shape[1]\n",
    "#데이터의 행의 개수\n",
    "plt.barh(np.arange(n_features),lgb.feature_importances_, align='center')\n",
    "plt.yticks(np.arange(n_features),boston.feature_names)\n",
    "plt.xlabel('특성중요도')\n",
    "plt.ylabel('특성')\n",
    "plt.ylim(-1,n_features)\n",
    "plt.show()"
   ]
  },
  {
   "cell_type": "code",
   "execution_count": 87,
   "id": "65c03cd5",
   "metadata": {},
   "outputs": [
    {
     "data": {
      "text/plain": [
       "array([19.00046452, 25.72410521, 20.85974119, 15.47963167, 19.67409348,\n",
       "       22.65999129, 23.06742113, 22.79607426, 30.80273076, 19.26278514,\n",
       "       20.93774028, 18.4399834 , 28.06172145, 21.58987396, 17.67344348,\n",
       "       23.37892152, 19.10035212, 15.01972467, 16.96976609, 15.4066705 ,\n",
       "       17.69420883, 21.56901403, 16.36345617, 21.7167296 , 35.58490412,\n",
       "       21.38755221, 29.12503958, 36.28753092, 18.76365456, 20.14777227,\n",
       "       17.69910679, 23.6077938 , 22.76483948, 28.09712892, 22.76483948,\n",
       "       15.59356289, 21.38755221, 17.79387198, 16.37142942, 23.42114034,\n",
       "       21.7167296 , 23.00133698, 21.26069656, 21.91446227, 19.67409348,\n",
       "       22.76483948, 21.21847775, 37.43108065, 29.62942334, 15.47963167,\n",
       "       18.95347342, 23.37892152, 23.6077938 , 27.06606323, 21.38755221,\n",
       "       23.37892152, 18.45485891, 21.58987396, 17.71516091, 17.48705105,\n",
       "       19.50260918, 19.88870023, 17.86602117, 24.49107807, 15.47963167,\n",
       "       16.29852769, 26.55502832, 19.37545953, 27.34726267, 26.55502832,\n",
       "       17.2486251 , 15.22798106, 18.75610447, 21.56901403, 16.96976609,\n",
       "       21.51182744, 21.38755221, 21.58528487, 21.7167296 , 19.41050072,\n",
       "       20.0364158 , 15.4066705 , 36.28753092, 21.7167296 , 16.96976609,\n",
       "       36.28753092, 22.87448133, 21.79074851, 26.11454598, 21.38755221,\n",
       "       21.39650588, 35.9842045 , 27.69446749, 18.22371487, 30.13799797,\n",
       "       21.1000143 , 21.58528487, 21.58987396, 21.55079703, 15.22798106,\n",
       "       23.66177854, 22.70221011, 18.01469304, 26.94213578, 22.84916841,\n",
       "       19.71494834, 25.55617   , 16.49035417, 19.42506079, 28.03984394,\n",
       "       19.24684314, 37.43108065, 19.67409348, 22.74605717, 19.87182614,\n",
       "       37.43108065, 21.56901403, 23.37574929, 20.97995909, 21.58528487,\n",
       "       23.54260232, 23.49721127, 19.10035212, 21.63868308, 23.54260232,\n",
       "       24.32066129, 22.5801246 , 15.261646  , 17.9465004 , 17.94226581,\n",
       "       21.38755221, 23.21161131, 24.44084263, 24.23095387, 19.39952226,\n",
       "       22.50447745, 22.76483948, 19.90956016, 22.65999129, 17.35412186,\n",
       "       20.51429296, 20.0364158 , 19.42506079, 36.15970007, 22.70221011,\n",
       "       17.83676905, 22.3776218 , 36.28753092, 29.40625104, 23.37892152,\n",
       "       22.97400485, 15.79850542])"
      ]
     },
     "execution_count": 87,
     "metadata": {},
     "output_type": "execute_result"
    }
   ],
   "source": [
    "pred = lgb.predict(x_test)\n",
    "pred\n",
    "#예측값 산출"
   ]
  },
  {
   "cell_type": "code",
   "execution_count": 88,
   "id": "6c5f6013",
   "metadata": {},
   "outputs": [
    {
     "data": {
      "text/plain": [
       "0.716809859360789"
      ]
     },
     "execution_count": 88,
     "metadata": {},
     "output_type": "execute_result"
    }
   ],
   "source": [
    "lgb.score(x_train,y_train)\n",
    "#회귀모델이기 때문에 model.score()의 평가 지표는 r2_score"
   ]
  },
  {
   "cell_type": "code",
   "execution_count": 89,
   "id": "ce249338",
   "metadata": {},
   "outputs": [
    {
     "data": {
      "text/plain": [
       "0.6725683548449286"
      ]
     },
     "execution_count": 89,
     "metadata": {},
     "output_type": "execute_result"
    }
   ],
   "source": [
    "lgb.score(x_test,y_test)\n",
    "#회귀모델이기 때문에 model.score()의 평가 지표는 r2_score"
   ]
  },
  {
   "cell_type": "code",
   "execution_count": null,
   "id": "2f2511db",
   "metadata": {},
   "outputs": [],
   "source": []
  },
  {
   "cell_type": "code",
   "execution_count": null,
   "id": "ea081501",
   "metadata": {},
   "outputs": [],
   "source": []
  }
 ],
 "metadata": {
  "kernelspec": {
   "display_name": "Python 3 (ipykernel)",
   "language": "python",
   "name": "python3"
  },
  "language_info": {
   "codemirror_mode": {
    "name": "ipython",
    "version": 3
   },
   "file_extension": ".py",
   "mimetype": "text/x-python",
   "name": "python",
   "nbconvert_exporter": "python",
   "pygments_lexer": "ipython3",
   "version": "3.9.12"
  }
 },
 "nbformat": 4,
 "nbformat_minor": 5
}
