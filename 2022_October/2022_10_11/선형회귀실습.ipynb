{
 "cells": [
  {
   "cell_type": "code",
   "execution_count": 1,
   "id": "35e18e2d",
   "metadata": {},
   "outputs": [],
   "source": [
    "import numpy as np\n",
    "import pandas as pd\n",
    "import matplotlib.pyplot as plt\n",
    "\n",
    "import mglearn\n",
    "from sklearn.linear_model import LinearRegression\n",
    "from sklearn.model_selection import train_test_split"
   ]
  },
  {
   "cell_type": "code",
   "execution_count": 2,
   "id": "58093ad8",
   "metadata": {},
   "outputs": [],
   "source": [
    "x,y = mglearn.datasets.make_wave(n_samples=60)\n",
    "#데이터 가져오기"
   ]
  },
  {
   "cell_type": "code",
   "execution_count": 3,
   "id": "ce8e4786",
   "metadata": {},
   "outputs": [],
   "source": [
    "x_train,x_test,y_train,y_test = train_test_split(x,y,random_state=0)"
   ]
  },
  {
   "cell_type": "code",
   "execution_count": 4,
   "id": "0e538da9",
   "metadata": {},
   "outputs": [],
   "source": [
    "lr=LinearRegression()"
   ]
  },
  {
   "cell_type": "code",
   "execution_count": 5,
   "id": "bb128da0",
   "metadata": {},
   "outputs": [
    {
     "data": {
      "text/plain": [
       "LinearRegression()"
      ]
     },
     "execution_count": 5,
     "metadata": {},
     "output_type": "execute_result"
    }
   ],
   "source": [
    "lr.fit(x_train,y_train)"
   ]
  },
  {
   "cell_type": "code",
   "execution_count": 6,
   "id": "a6ad25fb",
   "metadata": {},
   "outputs": [
    {
     "data": {
      "text/plain": [
       "array([0.44153666])"
      ]
     },
     "execution_count": 6,
     "metadata": {},
     "output_type": "execute_result"
    }
   ],
   "source": [
    "lr.coef_\n",
    "#가중치 확인"
   ]
  },
  {
   "cell_type": "code",
   "execution_count": 7,
   "id": "d573dbac",
   "metadata": {},
   "outputs": [
    {
     "data": {
      "text/plain": [
       "-0.01711124414733381"
      ]
     },
     "execution_count": 7,
     "metadata": {},
     "output_type": "execute_result"
    }
   ],
   "source": [
    "lr.intercept_\n",
    "#편향 확인"
   ]
  },
  {
   "cell_type": "markdown",
   "id": "8cabe5f2",
   "metadata": {},
   "source": [
    "### y = 0.44153666x -0.01711124414733381"
   ]
  },
  {
   "cell_type": "code",
   "execution_count": 8,
   "id": "03c47197",
   "metadata": {},
   "outputs": [],
   "source": [
    "train = lr.score(x_train,y_train)\n",
    "test = lr.score(x_test,y_test)\n",
    "#선형회귀에서 model.score() 기준은 r2_score"
   ]
  },
  {
   "cell_type": "code",
   "execution_count": 9,
   "id": "6b646d6c",
   "metadata": {},
   "outputs": [
    {
     "name": "stdout",
     "output_type": "stream",
     "text": [
      "훈련 데이터셋 점수: 0.6592061059587275\n",
      "테스트 데이터셋 점수: 0.6932519118518163\n"
     ]
    }
   ],
   "source": [
    "print('훈련 데이터셋 점수:',train)\n",
    "print('테스트 데이터셋 점수:',test)"
   ]
  },
  {
   "cell_type": "markdown",
   "id": "767e22a7",
   "metadata": {},
   "source": [
    "### 보스턴 주택가격 - 선형회귀"
   ]
  },
  {
   "cell_type": "code",
   "execution_count": 10,
   "id": "19eb77bb",
   "metadata": {},
   "outputs": [],
   "source": [
    "import warnings\n",
    "warnings.filterwarnings('ignore',category=FutureWarning)"
   ]
  },
  {
   "cell_type": "code",
   "execution_count": 11,
   "id": "9ab29086",
   "metadata": {},
   "outputs": [],
   "source": [
    "x,y = mglearn.datasets.load_extended_boston()"
   ]
  },
  {
   "cell_type": "code",
   "execution_count": 12,
   "id": "539636dd",
   "metadata": {},
   "outputs": [],
   "source": [
    "x_train,x_test,y_train,y_test = train_test_split(x,y,\n",
    "                                                test_size=0.2,\n",
    "                                                random_state=0)"
   ]
  },
  {
   "cell_type": "code",
   "execution_count": 13,
   "id": "3d759edd",
   "metadata": {},
   "outputs": [],
   "source": [
    "lr = LinearRegression().fit(x_train,y_train)\n",
    "#한줄로 모델 생성부터 학습까지 진행"
   ]
  },
  {
   "cell_type": "code",
   "execution_count": 14,
   "id": "490100fe",
   "metadata": {},
   "outputs": [],
   "source": [
    "train = lr.score(x_train,y_train)\n",
    "test = lr.score(x_test,y_test)\n",
    "#r2_score"
   ]
  },
  {
   "cell_type": "code",
   "execution_count": 15,
   "id": "8fefa0af",
   "metadata": {},
   "outputs": [
    {
     "name": "stdout",
     "output_type": "stream",
     "text": [
      "훈련 데이터셋 점수: 0.9490240966612832\n",
      "테스터 데이터셋 점수: 0.615885858407885\n"
     ]
    }
   ],
   "source": [
    "print('훈련 데이터셋 점수:',train)\n",
    "print('테스터 데이터셋 점수:',test)\n",
    "#과대적합"
   ]
  },
  {
   "cell_type": "markdown",
   "id": "83f9b3d1",
   "metadata": {},
   "source": [
    "### Ridge 회귀"
   ]
  },
  {
   "cell_type": "code",
   "execution_count": 16,
   "id": "0d2eb50c",
   "metadata": {},
   "outputs": [],
   "source": [
    "from sklearn.linear_model import Ridge\n",
    "#Ridge임포트"
   ]
  },
  {
   "cell_type": "code",
   "execution_count": 17,
   "id": "ee1c8a44",
   "metadata": {},
   "outputs": [],
   "source": [
    "ridge = Ridge().fit(x_train,y_train)\n",
    "#모델 생성+모델 학습\n",
    "#기본 α값을 사용"
   ]
  },
  {
   "cell_type": "code",
   "execution_count": 18,
   "id": "8d9c3f98",
   "metadata": {},
   "outputs": [],
   "source": [
    "train = ridge.score(x_train,y_train)\n",
    "test = ridge.score(x_test,y_test)"
   ]
  },
  {
   "cell_type": "code",
   "execution_count": 19,
   "id": "2594408d",
   "metadata": {},
   "outputs": [
    {
     "name": "stdout",
     "output_type": "stream",
     "text": [
      "훈련 데이터셋 점수: 0.8858089292103583\n",
      "테스터 데이터셋 점수: 0.7214499108060967\n"
     ]
    }
   ],
   "source": [
    "print('훈련 데이터셋 점수:',train)\n",
    "print('테스터 데이터셋 점수:',test)"
   ]
  },
  {
   "cell_type": "code",
   "execution_count": 20,
   "id": "82306543",
   "metadata": {},
   "outputs": [],
   "source": [
    "ridge10 = Ridge(alpha = 10).fit(x_train,y_train)\n",
    "#모델 생성+모델 학습\n",
    "#Ridge 회귀의 α값은 10"
   ]
  },
  {
   "cell_type": "code",
   "execution_count": 21,
   "id": "35c91785",
   "metadata": {},
   "outputs": [],
   "source": [
    "train10 = ridge10.score(x_train,y_train)\n",
    "test10 = ridge10.score(x_test,y_test)"
   ]
  },
  {
   "cell_type": "code",
   "execution_count": 22,
   "id": "9ae37451",
   "metadata": {},
   "outputs": [
    {
     "name": "stdout",
     "output_type": "stream",
     "text": [
      "훈련 데이터셋 점수: 0.7934484752213662\n",
      "테스터 데이터셋 점수: 0.5886807784434768\n"
     ]
    }
   ],
   "source": [
    "print('훈련 데이터셋 점수:',train10)\n",
    "print('테스터 데이터셋 점수:',test10)"
   ]
  },
  {
   "cell_type": "code",
   "execution_count": 23,
   "id": "b9fd5b31",
   "metadata": {},
   "outputs": [],
   "source": [
    "ridge01 = Ridge(alpha = 0.1).fit(x_train,y_train)\n",
    "#모델 생성+모델 학습\n",
    "#Ridge 회귀의 α값은 0.1"
   ]
  },
  {
   "cell_type": "code",
   "execution_count": 24,
   "id": "417bf966",
   "metadata": {},
   "outputs": [],
   "source": [
    "train01 = ridge01.score(x_train,y_train)\n",
    "test01 = ridge01.score(x_test,y_test)"
   ]
  },
  {
   "cell_type": "code",
   "execution_count": 25,
   "id": "92694d7e",
   "metadata": {},
   "outputs": [
    {
     "name": "stdout",
     "output_type": "stream",
     "text": [
      "훈련 데이터셋 점수: 0.9261926604874957\n",
      "테스터 데이터셋 점수: 0.7463824108919292\n"
     ]
    }
   ],
   "source": [
    "print('훈련 데이터셋 점수:',train01)\n",
    "print('테스터 데이터셋 점수:',test01)"
   ]
  },
  {
   "cell_type": "markdown",
   "id": "6008e20f",
   "metadata": {},
   "source": [
    "### Lasso"
   ]
  },
  {
   "cell_type": "code",
   "execution_count": 26,
   "id": "31e545e2",
   "metadata": {},
   "outputs": [],
   "source": [
    "from sklearn.linear_model import Lasso\n",
    "#Lasso 임포트"
   ]
  },
  {
   "cell_type": "code",
   "execution_count": 27,
   "id": "813cdf1e",
   "metadata": {},
   "outputs": [],
   "source": [
    "lasso = Lasso().fit(x_train,y_train)\n",
    "#Lasso 학습 및 사용 α값 = 기본, 반복수: 기본"
   ]
  },
  {
   "cell_type": "code",
   "execution_count": 28,
   "id": "b360bb84",
   "metadata": {},
   "outputs": [],
   "source": [
    "train = lasso.score(x_train,y_train)\n",
    "test = lasso.score(x_test,y_test)"
   ]
  },
  {
   "cell_type": "code",
   "execution_count": 29,
   "id": "7b224f0f",
   "metadata": {},
   "outputs": [
    {
     "name": "stdout",
     "output_type": "stream",
     "text": [
      "훈련 데이터셋 점수: 0.30173392764195583\n",
      "테스트 데이터셋 점수 0.18559880937915907\n"
     ]
    }
   ],
   "source": [
    "print('훈련 데이터셋 점수:',train)\n",
    "print('테스트 데이터셋 점수',test)"
   ]
  },
  {
   "cell_type": "code",
   "execution_count": 30,
   "id": "4fb2b20e",
   "metadata": {},
   "outputs": [
    {
     "name": "stdout",
     "output_type": "stream",
     "text": [
      "사용한 특성의 개수: 4\n"
     ]
    }
   ],
   "source": [
    "print('사용한 특성의 개수:',np.sum(lasso.coef_!=0))\n",
    "#가중치가 0이 아닌 특성의 개수"
   ]
  },
  {
   "cell_type": "code",
   "execution_count": 31,
   "id": "0a0380fa",
   "metadata": {},
   "outputs": [],
   "source": [
    "lasso001 = Lasso(alpha=0.01,max_iter=10000).fit(x_train,y_train)\n",
    "#Lasso 학습 및 사용\n",
    "#Lasso 회귀의 α값은 0.01,10000 번 반복\n",
    "#alpha 속성= 알파값, max_iter 속성 = 반복수"
   ]
  },
  {
   "cell_type": "code",
   "execution_count": 32,
   "id": "7a379946",
   "metadata": {},
   "outputs": [],
   "source": [
    "train = lasso001.score(x_train,y_train)\n",
    "test = lasso001.score(x_test,y_test)"
   ]
  },
  {
   "cell_type": "code",
   "execution_count": 33,
   "id": "b00fc81b",
   "metadata": {},
   "outputs": [
    {
     "name": "stdout",
     "output_type": "stream",
     "text": [
      "훈련 데이터셋 점수: 0.8940116521466668\n",
      "테스트 데이터셋 점수 0.7360953366341125\n"
     ]
    }
   ],
   "source": [
    "print('훈련 데이터셋 점수:',train)\n",
    "print('테스트 데이터셋 점수',test)"
   ]
  },
  {
   "cell_type": "code",
   "execution_count": 34,
   "id": "d2aae2ad",
   "metadata": {},
   "outputs": [
    {
     "name": "stdout",
     "output_type": "stream",
     "text": [
      "사용한 특성의 개수: 34\n"
     ]
    }
   ],
   "source": [
    "print('사용한 특성의 개수:',np.sum(lasso001.coef_!=0))\n",
    "#가중치가 0이 아닌 특성의 개수"
   ]
  },
  {
   "cell_type": "code",
   "execution_count": 35,
   "id": "e5bb2dea",
   "metadata": {},
   "outputs": [
    {
     "name": "stderr",
     "output_type": "stream",
     "text": [
      "C:\\Users\\user\\anaconda3\\lib\\site-packages\\sklearn\\linear_model\\_coordinate_descent.py:647: ConvergenceWarning: Objective did not converge. You might want to increase the number of iterations, check the scale of the features or consider increasing regularisation. Duality gap: 3.481e+00, tolerance: 3.440e+00\n",
      "  model = cd_fast.enet_coordinate_descent(\n"
     ]
    }
   ],
   "source": [
    "lasso00001 = Lasso(alpha=0.0001,max_iter=50000).fit(x_train,y_train)\n",
    "#Lasso 학습 및 사용\n",
    "#Lasso 회귀의 α값은 0.0001,10000 번 반복\n"
   ]
  },
  {
   "cell_type": "code",
   "execution_count": 36,
   "id": "9a7972e1",
   "metadata": {},
   "outputs": [],
   "source": [
    "train = lasso00001.score(x_train,y_train)\n",
    "test = lasso00001.score(x_test,y_test)"
   ]
  },
  {
   "cell_type": "code",
   "execution_count": 37,
   "id": "a9527eac",
   "metadata": {},
   "outputs": [
    {
     "name": "stdout",
     "output_type": "stream",
     "text": [
      "훈련 데이터셋 점수: 0.9478035785798402\n",
      "테스트 데이터셋 점수 0.6453342633073322\n"
     ]
    }
   ],
   "source": [
    "print('훈련 데이터셋 점수:',train)\n",
    "print('테스트 데이터셋 점수',test)"
   ]
  },
  {
   "cell_type": "code",
   "execution_count": 38,
   "id": "d07e7270",
   "metadata": {},
   "outputs": [
    {
     "name": "stdout",
     "output_type": "stream",
     "text": [
      "사용한 특성의 개수: 96\n"
     ]
    }
   ],
   "source": [
    "print('사용한 특성의 개수:',np.sum(lasso00001.coef_!=0))\n",
    "#가중치가 0이 아닌 특성의 개수"
   ]
  },
  {
   "cell_type": "code",
   "execution_count": null,
   "id": "ecf1a9b8",
   "metadata": {},
   "outputs": [],
   "source": []
  }
 ],
 "metadata": {
  "kernelspec": {
   "display_name": "Python 3 (ipykernel)",
   "language": "python",
   "name": "python3"
  },
  "language_info": {
   "codemirror_mode": {
    "name": "ipython",
    "version": 3
   },
   "file_extension": ".py",
   "mimetype": "text/x-python",
   "name": "python",
   "nbconvert_exporter": "python",
   "pygments_lexer": "ipython3",
   "version": "3.9.12"
  }
 },
 "nbformat": 4,
 "nbformat_minor": 5
}
