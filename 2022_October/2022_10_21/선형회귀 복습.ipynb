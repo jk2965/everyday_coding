{
 "cells": [
  {
   "cell_type": "code",
   "execution_count": 1,
   "id": "e9955515",
   "metadata": {},
   "outputs": [],
   "source": [
    "import numpy as np\n",
    "import pandas as pd\n",
    "import matplotlib.pyplot as plt\n",
    "plt.rcParams['font.family']='Malgun Gothic'\n",
    "plt.rcParams['axes.unicode_minus']=False"
   ]
  },
  {
   "cell_type": "code",
   "execution_count": 2,
   "id": "8fd0c812",
   "metadata": {},
   "outputs": [],
   "source": [
    "from sklearn.linear_model import LinearRegression\n",
    "import mglearn"
   ]
  },
  {
   "cell_type": "code",
   "execution_count": 3,
   "id": "40735c33",
   "metadata": {},
   "outputs": [
    {
     "name": "stderr",
     "output_type": "stream",
     "text": [
      "C:\\Users\\user\\anaconda3\\lib\\site-packages\\sklearn\\utils\\deprecation.py:87: FutureWarning: Function load_boston is deprecated; `load_boston` is deprecated in 1.0 and will be removed in 1.2.\n",
      "\n",
      "    The Boston housing prices dataset has an ethical problem. You can refer to\n",
      "    the documentation of this function for further details.\n",
      "\n",
      "    The scikit-learn maintainers therefore strongly discourage the use of this\n",
      "    dataset unless the purpose of the code is to study and educate about\n",
      "    ethical issues in data science and machine learning.\n",
      "\n",
      "    In this special case, you can fetch the dataset from the original\n",
      "    source::\n",
      "\n",
      "        import pandas as pd\n",
      "        import numpy as np\n",
      "\n",
      "\n",
      "        data_url = \"http://lib.stat.cmu.edu/datasets/boston\"\n",
      "        raw_df = pd.read_csv(data_url, sep=\"\\s+\", skiprows=22, header=None)\n",
      "        data = np.hstack([raw_df.values[::2, :], raw_df.values[1::2, :2]])\n",
      "        target = raw_df.values[1::2, 2]\n",
      "\n",
      "    Alternative datasets include the California housing dataset (i.e.\n",
      "    :func:`~sklearn.datasets.fetch_california_housing`) and the Ames housing\n",
      "    dataset. You can load the datasets as follows::\n",
      "\n",
      "        from sklearn.datasets import fetch_california_housing\n",
      "        housing = fetch_california_housing()\n",
      "\n",
      "    for the California housing dataset and::\n",
      "\n",
      "        from sklearn.datasets import fetch_openml\n",
      "        housing = fetch_openml(name=\"house_prices\", as_frame=True)\n",
      "\n",
      "    for the Ames housing dataset.\n",
      "    \n",
      "  warnings.warn(msg, category=FutureWarning)\n"
     ]
    }
   ],
   "source": [
    "x,y = mglearn.datasets.load_extended_boston()\n",
    "#mglearn의 extended_boston데이터를 테스트 데이터로 가져옴."
   ]
  },
  {
   "cell_type": "code",
   "execution_count": 4,
   "id": "5dc0534b",
   "metadata": {},
   "outputs": [],
   "source": [
    "from sklearn.model_selection import train_test_split\n",
    "\n",
    "x_train,x_test,y_train,y_test =train_test_split(x,y,random_state=0)\n",
    "#데이터 분할, 시드 = 0"
   ]
  },
  {
   "cell_type": "markdown",
   "id": "e179fe32",
   "metadata": {},
   "source": [
    "# 선형회귀"
   ]
  },
  {
   "cell_type": "code",
   "execution_count": 5,
   "id": "a4617592",
   "metadata": {},
   "outputs": [],
   "source": [
    "lr = LinearRegression().fit(x_train,y_train)\n",
    "#모델 선정(선형회귀,기본값), 모델 학습"
   ]
  },
  {
   "cell_type": "code",
   "execution_count": 6,
   "id": "563bfa7f",
   "metadata": {},
   "outputs": [
    {
     "name": "stdout",
     "output_type": "stream",
     "text": [
      "가중치: [-4.12710947e+02 -5.22432068e+01 -1.31898815e+02 -1.20041365e+01\n",
      " -1.55107129e+01  2.87163342e+01  5.47040992e+01 -4.95346659e+01\n",
      "  2.65823927e+01  3.70620316e+01 -1.18281674e+01 -1.80581965e+01\n",
      " -1.95246830e+01  1.22025403e+01  2.98078144e+03  1.50084257e+03\n",
      "  1.14187325e+02 -1.69700520e+01  4.09613691e+01 -2.42636646e+01\n",
      "  5.76157466e+01  1.27812142e+03 -2.23986944e+03  2.22825472e+02\n",
      " -2.18201083e+00  4.29960320e+01 -1.33981515e+01 -1.93893485e+01\n",
      " -2.57541277e+00 -8.10130128e+01  9.66019367e+00  4.91423718e+00\n",
      " -8.12114800e-01 -7.64694179e+00  3.37837099e+01 -1.14464390e+01\n",
      "  6.85083979e+01 -1.73753604e+01  4.28128204e+01  1.13988209e+00\n",
      " -7.72696840e-01  5.68255921e+01  1.42875996e+01  5.39551110e+01\n",
      " -3.21709644e+01  1.92709675e+01 -1.38852338e+01  6.06343266e+01\n",
      " -1.23153942e+01 -1.20041365e+01 -1.77243899e+01 -3.39868183e+01\n",
      "  7.08999816e+00 -9.22538241e+00  1.71980268e+01 -1.27718431e+01\n",
      " -1.19727581e+01  5.73871915e+01 -1.75331865e+01  4.10103194e+00\n",
      "  2.93666477e+01 -1.76611772e+01  7.84049424e+01 -3.19098015e+01\n",
      "  4.81752461e+01 -3.95344813e+01  5.22959055e+00  2.19982410e+01\n",
      "  2.56483934e+01 -4.99982035e+01  2.91457545e+01  8.94267456e+00\n",
      " -7.16599297e+01 -2.28147862e+01  8.40660981e+00 -5.37905422e+00\n",
      "  1.20137322e+00 -5.20877186e+00  4.11452351e+01 -3.78250760e+01\n",
      " -2.67163851e+00 -2.55217108e+01 -3.33982030e+01  4.62272693e+01\n",
      " -2.41509169e+01 -1.77532970e+01 -1.39723701e+01 -2.35522208e+01\n",
      "  3.68353800e+01 -9.46890859e+01  1.44302810e+02 -1.51158659e+01\n",
      " -1.49513436e+01 -2.87729579e+01 -3.17673192e+01  2.49551594e+01\n",
      " -1.84384534e+01  3.65073948e+00  1.73101122e+00  3.53617137e+01\n",
      "  1.19553429e+01  6.77025947e-01  2.73452009e+00  3.03720012e+01]\n",
      "편향 30.934563673639325\n"
     ]
    }
   ],
   "source": [
    "print(\"가중치:\",lr.coef_)\n",
    "print(\"편향\",lr.intercept_)\n",
    "#lr.coef_ = 선형회귀모델의 가중치, lr.intercept _ = 선형회귀모델의 편향\n",
    "#다중 선형회귀이기 때문에 coef_"
   ]
  },
  {
   "cell_type": "code",
   "execution_count": 7,
   "id": "16f326fc",
   "metadata": {},
   "outputs": [
    {
     "name": "stdout",
     "output_type": "stream",
     "text": [
      "훈련 세트 점수:0.95\n",
      "테스트 세트 점수:0.61\n"
     ]
    }
   ],
   "source": [
    "print(\"훈련 세트 점수:{:.2f}\".format(lr.score(x_train,y_train)))\n",
    "print(\"테스트 세트 점수:{:.2f}\".format(lr.score(x_test,y_test)))\n",
    "#회귀 모델이므로 model.score()의 기준은 r2_score이다."
   ]
  },
  {
   "cell_type": "markdown",
   "id": "717f8690",
   "metadata": {},
   "source": [
    "훈련 데이터 셋과 테스트 데이터 셋의 r2_score가 차이가 매우 많이나므로 과대적합이 의심된다."
   ]
  },
  {
   "cell_type": "markdown",
   "id": "030efa80",
   "metadata": {},
   "source": [
    "# Ridge"
   ]
  },
  {
   "cell_type": "code",
   "execution_count": 8,
   "id": "1171e236",
   "metadata": {},
   "outputs": [],
   "source": [
    "from sklearn.linear_model import Ridge\n",
    "\n",
    "ridge = Ridge().fit(x_train,y_train)\n",
    "#모델 선정(릿지, 기본값) 및 모델 학습 "
   ]
  },
  {
   "cell_type": "code",
   "execution_count": 9,
   "id": "3e93c583",
   "metadata": {},
   "outputs": [
    {
     "name": "stdout",
     "output_type": "stream",
     "text": [
      "훈련 세트 점수:0.89\n",
      "테스트 세트 점수:0.75\n"
     ]
    }
   ],
   "source": [
    "print(\"훈련 세트 점수:{:.2f}\".format(ridge.score(x_train,y_train)))\n",
    "print(\"테스트 세트 점수:{:.2f}\".format(ridge.score(x_test,y_test)))\n",
    "#회귀 모델이므로 model.score()의 기준은 r2_score이다."
   ]
  },
  {
   "cell_type": "markdown",
   "id": "4f9de2fc",
   "metadata": {},
   "source": [
    "훈련 세트의 r2_score와 테스트 세트의 r2_score의 차이가 줄어들었다.\n",
    "\n",
    "이것으로 과대적합이 적어졌다는 것을 알수 있고, 우리가 원하는 점수는 테스트 세트에 대한 성능이기 때문에\n",
    "이 데이터에서는 일반 선형회귀 모델보다 릿지 모델을 선택하는게 낫다는 것을 알 수 있다. "
   ]
  },
  {
   "cell_type": "code",
   "execution_count": 10,
   "id": "054a5172",
   "metadata": {},
   "outputs": [
    {
     "name": "stdout",
     "output_type": "stream",
     "text": [
      "훈련 세트 점수:0.79\n",
      "테스트 세트 점수:0.64\n"
     ]
    }
   ],
   "source": [
    "ridge10 = Ridge(alpha=10).fit(x_train,y_train)\n",
    "#모델 선정(릿지, alpha=10) 및 모델 학습 \n",
    "print(\"훈련 세트 점수:{:.2f}\".format(ridge10.score(x_train,y_train)))\n",
    "print(\"테스트 세트 점수:{:.2f}\".format(ridge10.score(x_test,y_test)))\n",
    "#회귀 모델이므로 model.score()의 기준은 r2_score이다.\n",
    "#alpha를 증가시켜 규제를 강하게 줌"
   ]
  },
  {
   "cell_type": "code",
   "execution_count": 11,
   "id": "1a338292",
   "metadata": {},
   "outputs": [
    {
     "name": "stdout",
     "output_type": "stream",
     "text": [
      "훈련 세트 점수:0.93\n",
      "테스트 세트 점수:0.77\n"
     ]
    }
   ],
   "source": [
    "ridge01 = Ridge(alpha=0.1).fit(x_train,y_train)\n",
    "#모델 선정(릿지, alpha=0.1) 및 모델 학습 \n",
    "print(\"훈련 세트 점수:{:.2f}\".format(ridge01.score(x_train,y_train)))\n",
    "print(\"테스트 세트 점수:{:.2f}\".format(ridge01.score(x_test,y_test)))\n",
    "#회귀 모델이므로 model.score()의 기준은 r2_score이다.\n",
    "#alpha를 줄여서 규제를 약하게 줌"
   ]
  },
  {
   "cell_type": "markdown",
   "id": "e4998c9d",
   "metadata": {},
   "source": [
    "### ridge 모델의 alpha값에 따라 가중치 값 비교하기"
   ]
  },
  {
   "cell_type": "code",
   "execution_count": 12,
   "id": "a705fd33",
   "metadata": {},
   "outputs": [
    {
     "data": {
      "image/png": "[encoded data removed]",
      "text/plain": [
       "<Figure size 432x288 with 1 Axes>"
      ]
     },
     "metadata": {
      "needs_background": "light"
     },
     "output_type": "display_data"
    }
   ],
   "source": [
    "#시각화\n",
    "plt.plot(ridge10.coef_,'^',label='Ridge alpha=10')\n",
    "plt.plot(ridge.coef_,'s',label='Ridge alpha=1')\n",
    "plt.plot(ridge01.coef_,'v',label='Ridge alpha=0.1')\n",
    "plt.plot(lr.coef_,'o',label='LinearRegression')\n",
    "\n",
    "plt.xlabel('계수 목록')\n",
    "plt.ylabel('계수 크기')\n",
    "xlims = plt.xlim()\n",
    "plt.hlines(0,xlims[0],xlims[1])\n",
    "plt.xlim(xlims)\n",
    "plt.ylim(-25,25)\n",
    "plt.legend()\n",
    "plt.show()"
   ]
  },
  {
   "cell_type": "markdown",
   "id": "4615afed",
   "metadata": {},
   "source": [
    "- 이 그림의 x축은 coef_의 원소를 위치대로 나열한 것이고 y축은 각 계수의 수치를 나타낸다.\n",
    "- 규제의 효과를 이해하는 또 다른 방법은 alpha값을 고정하고 훈련데이터의 크리를 변화시켜 보는 것이 있다.\n",
    "- 데이터셋의 크기에 따른 모델의 성능 변화를 나타낸 그래프를 학습 곡선(learning curve)이라고 한다."
   ]
  },
  {
   "cell_type": "code",
   "execution_count": 13,
   "id": "617239e3",
   "metadata": {},
   "outputs": [
    {
     "name": "stderr",
     "output_type": "stream",
     "text": [
      "C:\\Users\\user\\anaconda3\\lib\\site-packages\\sklearn\\utils\\deprecation.py:87: FutureWarning: Function load_boston is deprecated; `load_boston` is deprecated in 1.0 and will be removed in 1.2.\n",
      "\n",
      "    The Boston housing prices dataset has an ethical problem. You can refer to\n",
      "    the documentation of this function for further details.\n",
      "\n",
      "    The scikit-learn maintainers therefore strongly discourage the use of this\n",
      "    dataset unless the purpose of the code is to study and educate about\n",
      "    ethical issues in data science and machine learning.\n",
      "\n",
      "    In this special case, you can fetch the dataset from the original\n",
      "    source::\n",
      "\n",
      "        import pandas as pd\n",
      "        import numpy as np\n",
      "\n",
      "\n",
      "        data_url = \"http://lib.stat.cmu.edu/datasets/boston\"\n",
      "        raw_df = pd.read_csv(data_url, sep=\"\\s+\", skiprows=22, header=None)\n",
      "        data = np.hstack([raw_df.values[::2, :], raw_df.values[1::2, :2]])\n",
      "        target = raw_df.values[1::2, 2]\n",
      "\n",
      "    Alternative datasets include the California housing dataset (i.e.\n",
      "    :func:`~sklearn.datasets.fetch_california_housing`) and the Ames housing\n",
      "    dataset. You can load the datasets as follows::\n",
      "\n",
      "        from sklearn.datasets import fetch_california_housing\n",
      "        housing = fetch_california_housing()\n",
      "\n",
      "    for the California housing dataset and::\n",
      "\n",
      "        from sklearn.datasets import fetch_openml\n",
      "        housing = fetch_openml(name=\"house_prices\", as_frame=True)\n",
      "\n",
      "    for the Ames housing dataset.\n",
      "    \n",
      "  warnings.warn(msg, category=FutureWarning)\n"
     ]
    },
    {
     "data": {
      "image/png": "[encoded data removed]",
      "text/plain": [
       "<Figure size 432x288 with 1 Axes>"
      ]
     },
     "metadata": {
      "needs_background": "light"
     },
     "output_type": "display_data"
    }
   ],
   "source": [
    "mglearn.plots.plot_ridge_n_samples()"
   ]
  },
  {
   "cell_type": "markdown",
   "id": "4c30e6b9",
   "metadata": {},
   "source": [
    "이 그래프는 보스턴 주택가격 데이터셋에 대한 리지회귀와 선형회귀의 학습곡선이다\n",
    "\n",
    "- 여기서 배울수 있는 것은 데이터를 충분히 주면 규제 항은 덜 중요해져서 리지 회귀와 선형회귀의 성능이 비슷해 질 수 있다는 것이다."
   ]
  },
  {
   "cell_type": "markdown",
   "id": "30236514",
   "metadata": {},
   "source": [
    "## note\n",
    "\n",
    "Ridge 클래스의 solver 매개 변수에서는 여러가지 알고리즘을 지정할 수 있다. \n",
    "\n",
    "기본값은 'auto'로 훈련 데이터가 희소 행렬이면 켤레기울기법인 'sparse_cg'를 사용하고 그렇지 않으면 해석적으로 문제의 해를 구하는 방법인 'cholesky'를 사용한다. \n",
    "\n",
    "계수 값을 양수로 강제하기 위해 positive 매개변수를 TRUE로 지정하면 L-BFGS-B 알고리즘인 'lbfgs'가 사용된다. 이 외에도 확률적 평균 경사 하강법인 'sag'와 sag의 개선 버전인 'saga'를 사용 가능합니다.\n",
    "\n",
    "이 두 방식은 특성과 샘플이 많은 경우 종종 다른 알고리즘보다 속도가 빠릅니다,\n",
    "\n",
    "'sparse_cg'의 경우 반복 횟수인 max_iter 매개변수의 기본 값은 샘플 개수의 10배로 지정됩니다.\n",
    "'sag','saga'의 경우는 1000이고 'lbfgs'의 경우에는 15,000입니다.\n",
    "\n",
    "실제 반복횟수는 Ridge 클래스 객체의 n_iter_ 속성에서 확인이 가능합니다."
   ]
  },
  {
   "cell_type": "markdown",
   "id": "e82cf71a",
   "metadata": {},
   "source": [
    "# Lasso"
   ]
  },
  {
   "cell_type": "code",
   "execution_count": 14,
   "id": "76b45839",
   "metadata": {},
   "outputs": [],
   "source": [
    "from sklearn.linear_model import Lasso"
   ]
  },
  {
   "cell_type": "code",
   "execution_count": 15,
   "id": "1017c84c",
   "metadata": {},
   "outputs": [
    {
     "name": "stdout",
     "output_type": "stream",
     "text": [
      "훈련 세트 점수:0.29\n",
      "테스트 세트 점수:0.21\n",
      "사용한 특성의 개수: 4\n"
     ]
    }
   ],
   "source": [
    "lasso = Lasso().fit(x_train,y_train)\n",
    "print(\"훈련 세트 점수:{:.2f}\".format(lasso.score(x_train,y_train)))\n",
    "print(\"테스트 세트 점수:{:.2f}\".format(lasso.score(x_test,y_test)))\n",
    "print('사용한 특성의 개수:',np.sum(lasso.coef_!=0))\n",
    "#lasso모델의 가중치가 0이 아닌 특성의 갯수 합.\n",
    "#회귀 모델이므로 model.score()의 기준은 r2_score이다."
   ]
  },
  {
   "cell_type": "code",
   "execution_count": 16,
   "id": "92463274",
   "metadata": {},
   "outputs": [
    {
     "name": "stdout",
     "output_type": "stream",
     "text": [
      "훈련 세트 점수:0.90\n",
      "테스트 세트 점수:0.77\n",
      "사용한 특성의 개수: 4\n"
     ]
    }
   ],
   "source": [
    "#max_iter 값을 증가시키지 않으면 max_iter 값을 늘리라는 경고가 발생\n",
    "lasso001 = Lasso(alpha=0.01,max_iter=50000).fit(x_train,y_train)\n",
    "print(\"훈련 세트 점수:{:.2f}\".format(lasso001.score(x_train,y_train)))\n",
    "print(\"테스트 세트 점수:{:.2f}\".format(lasso001.score(x_test,y_test)))\n",
    "print('사용한 특성의 개수:',np.sum(lasso.coef_!=0))\n",
    "#lasso모델의 가중치가 0이 아닌 특성의 갯수 합.\n",
    "#회귀 모델이므로 model.score()의 기준은 r2_score이다."
   ]
  },
  {
   "cell_type": "code",
   "execution_count": 17,
   "id": "c5de22ff",
   "metadata": {},
   "outputs": [
    {
     "name": "stdout",
     "output_type": "stream",
     "text": [
      "훈련 세트 점수:0.95\n",
      "테스트 세트 점수:0.64\n",
      "사용한 특성의 개수: 4\n"
     ]
    }
   ],
   "source": [
    "#max_iter 값을 증가시키지 않으면 max_iter 값을 늘리라는 경고가 발생\n",
    "lasso00001 = Lasso(alpha=0.0001,max_iter=50000).fit(x_train,y_train)\n",
    "print(\"훈련 세트 점수:{:.2f}\".format(lasso00001.score(x_train,y_train)))\n",
    "print(\"테스트 세트 점수:{:.2f}\".format(lasso00001.score(x_test,y_test)))\n",
    "print('사용한 특성의 개수:',np.sum(lasso.coef_!=0))\n",
    "#lasso모델의 가중치가 0이 아닌 특성의 갯수 합.\n",
    "#회귀 모델이므로 model.score()의 기준은 r2_score이다."
   ]
  },
  {
   "cell_type": "markdown",
   "id": "722ddf5d",
   "metadata": {},
   "source": [
    "### lasso 모델의 alpha값에 따라 가중치 값 비교하기"
   ]
  },
  {
   "cell_type": "code",
   "execution_count": 18,
   "id": "d3a2f677",
   "metadata": {},
   "outputs": [
    {
     "data": {
      "image/png": "[encoded data removed]",
      "text/plain": [
       "<Figure size 432x288 with 1 Axes>"
      ]
     },
     "metadata": {
      "needs_background": "light"
     },
     "output_type": "display_data"
    }
   ],
   "source": [
    "#시각화\n",
    "plt.plot(lasso.coef_,'^',label='Lasso alpha=1')\n",
    "plt.plot(lasso.coef_,'s',label='Lasso alpha=0.01')\n",
    "plt.plot(lasso00001.coef_,'v',label='Lasso alpha=0.0001')\n",
    "plt.plot(ridge01.coef_,'o',label='Ridge alpha=0.1')\n",
    "\n",
    "plt.xlabel('계수 목록')\n",
    "plt.ylabel('계수 크기')\n",
    "plt.ylim(-25,25)\n",
    "plt.legend(ncol=2,loc=(0,1.05))\n",
    "plt.show()"
   ]
  },
  {
   "cell_type": "markdown",
   "id": "463e1904",
   "metadata": {},
   "source": [
    "## note\n",
    "\n",
    "LinearRegression,Ridge,Lasso,ElasticNet(L1규제와,L2규제의 패널티를 결합)등의 선형 모델에서 제공하는 normalize 매개변수를 True로 지정하면 훈련 데이터에서 평균을 빼고 L2 노름으로 나누어 정규화합니다.\n",
    "\n",
    "하지만 fit_intercept 매개변수가 기본값 True이면 normalize 매개변수는 아무런 영향을 미치지 않습니다.\n",
    "normalize 매개 변수는 1.0버전에서 삭제되며 훈련 데이터를 정규화하려면 StandardScaler를 이용할 수 잇습니다."
   ]
  },
  {
   "cell_type": "markdown",
   "id": "03c8aa74",
   "metadata": {},
   "source": [
    "# QuantileRegressor\n",
    "\n",
    "scikit-learn 버전에서 하나의 예측값이 아닌 예측의 백분위 간격을 구하는 데 사용할 수 있는 QuantileRegressor 클래스가 추가되었습니다.\n",
    "\n",
    "quantile 매개변수에 예측하려는 백분위수를 ~ 사이로 지정합니다. 기본값은 0.5로 중간값을 예측합니다.\n",
    "\n",
    "Lasso 모델과 비슷하게 alpha 매개변수로 L1 규제를조정합니다. alpha 매개변수의 기본값은 1.0이고 커질수록 규제가 강해져 과소적합된 모델을 만듭니다"
   ]
  },
  {
   "cell_type": "markdown",
   "id": "96a6da66",
   "metadata": {},
   "source": [
    "### wave 데이터셋을 사용해 훈련세트에서 학습한 90%,50%,10% 백분위 범위를 테스트 세트와 함꼐 출력하기"
   ]
  },
  {
   "cell_type": "code",
   "execution_count": 19,
   "id": "81158d3e",
   "metadata": {},
   "outputs": [],
   "source": [
    "from sklearn.linear_model import QuantileRegressor"
   ]
  },
  {
   "cell_type": "code",
   "execution_count": 20,
   "id": "c30514a9",
   "metadata": {},
   "outputs": [],
   "source": [
    "x,y = mglearn.datasets.make_wave(n_samples=60)\n",
    "x_train,x_test,y_train,y_test = train_test_split(x,y,random_state=42)\n",
    "# x,y = wave 데이터 셋 , 42번 시드, train,test 데이터셋으로 분할"
   ]
  },
  {
   "cell_type": "code",
   "execution_count": 21,
   "id": "34403ff0",
   "metadata": {},
   "outputs": [],
   "source": [
    "pred_up=QuantileRegressor(quantile=0.9,alpha=0.01).fit(x_train,y_train).predict(x_test)\n",
    "#모델선정 (90%),학습,예측"
   ]
  },
  {
   "cell_type": "code",
   "execution_count": 22,
   "id": "2cee161e",
   "metadata": {},
   "outputs": [],
   "source": [
    "pred_med=QuantileRegressor(quantile=0.5,alpha=0.01).fit(x_train,y_train).predict(x_test)\n",
    "#모델선정(50%),학습,예측"
   ]
  },
  {
   "cell_type": "code",
   "execution_count": 23,
   "id": "8d995943",
   "metadata": {},
   "outputs": [],
   "source": [
    "pred_low=QuantileRegressor(quantile=0.1,alpha=0.01).fit(x_train,y_train).predict(x_test)\n",
    "#모델선정(10%),학습,예측"
   ]
  },
  {
   "cell_type": "code",
   "execution_count": 24,
   "id": "3672a144",
   "metadata": {},
   "outputs": [
    {
     "data": {
      "image/png": "[encoded data removed]",
      "text/plain": [
       "<Figure size 432x288 with 1 Axes>"
      ]
     },
     "metadata": {
      "needs_background": "light"
     },
     "output_type": "display_data"
    }
   ],
   "source": [
    "#시각화\n",
    "plt.scatter(x_train,y_train,label='훈련 데이터')\n",
    "plt.scatter(x_test,y_test,label='테스트 데이터')\n",
    "plt.plot(x_test,pred_up,label=\"백분위:90%\")\n",
    "plt.plot(x_test,pred_med,label=\"백분위:50%\")\n",
    "plt.plot(x_test,pred_low,label=\"백분위:10%\")\n",
    "plt.legend()\n",
    "plt.show()"
   ]
  },
  {
   "cell_type": "code",
   "execution_count": null,
   "id": "33513d37",
   "metadata": {},
   "outputs": [],
   "source": []
  }
 ],
 "metadata": {
  "kernelspec": {
   "display_name": "Python 3 (ipykernel)",
   "language": "python",
   "name": "python3"
  },
  "language_info": {
   "codemirror_mode": {
    "name": "ipython",
    "version": 3
   },
   "file_extension": ".py",
   "mimetype": "text/x-python",
   "name": "python",
   "nbconvert_exporter": "python",
   "pygments_lexer": "ipython3",
   "version": "3.9.12"
  }
 },
 "nbformat": 4,
 "nbformat_minor": 5
}
