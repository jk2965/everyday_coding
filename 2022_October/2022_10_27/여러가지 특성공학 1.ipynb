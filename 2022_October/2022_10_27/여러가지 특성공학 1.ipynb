{
 "cells": [
  {
   "cell_type": "markdown",
   "id": "e0a24fb9",
   "metadata": {},
   "source": [
    "데이터를 가장 잘 표현하는 방법은 데이터가 가진 의미뿐 아니라 어떤 모델을 사용하는지에 따라 다릅니다.\n",
    "아주 폭넓게 사용하는 두 알고리즘인 선형 모델과 트리 기반 모델(결정 트리,그레이디언트 부스팅 트리, 랜덤포레스트 등)은 특성의 표현 방식으로 인해 미치는 영향이 매우 다릅니다."
   ]
  },
  {
   "cell_type": "code",
   "execution_count": 1,
   "id": "d33281ea",
   "metadata": {},
   "outputs": [],
   "source": [
    "import pandas as pd\n",
    "import numpy as np\n",
    "import matplotlib.pyplot as plt\n",
    "plt.rcParams['font.family']='Malgun Gothic'\n",
    "plt.rcParams['axes.unicode_minus']=False\n",
    "import mglearn\n",
    "from sklearn.model_selection import train_test_split\n",
    "from sklearn.preprocessing import OneHotEncoder\n",
    "from sklearn.linear_model import LinearRegression,LogisticRegression\n",
    "from sklearn.tree import DecisionTreeRegressor"
   ]
  },
  {
   "cell_type": "markdown",
   "id": "f2f4cf64",
   "metadata": {},
   "source": [
    "# 구간분할,이산화"
   ]
  },
  {
   "cell_type": "code",
   "execution_count": 2,
   "id": "5ac6c030",
   "metadata": {},
   "outputs": [
    {
     "data": {
      "image/png": "[encoded data removed]",
      "text/plain": [
       "<Figure size 432x288 with 1 Axes>"
      ]
     },
     "metadata": {
      "needs_background": "light"
     },
     "output_type": "display_data"
    }
   ],
   "source": [
    "x,y = mglearn.datasets.make_wave(n_samples=120)\n",
    "line = np.linspace(-3,3,1000,endpoint=False).reshape(-1,1)\n",
    "\n",
    "reg=DecisionTreeRegressor(min_samples_leaf=3).fit(x,y)\n",
    "plt.plot(line,reg.predict(line),label='결정 트리')\n",
    "\n",
    "reg = LinearRegression().fit(x,y)\n",
    "plt.plot(line,reg.predict(line),'--',label=\"선형 회귀\")\n",
    "\n",
    "plt.plot(x[:,0],y,'o',c='k')\n",
    "plt.ylabel(\"회귀 출력\")\n",
    "plt.xlabel(\"입력 특성\")\n",
    "plt.show()"
   ]
  },
  {
   "cell_type": "markdown",
   "id": "2dadc2d8",
   "metadata": {},
   "source": [
    "선형 모델은 선형 관계로만 모델링하므로특성이 하나일 땐 직선으로 나타납니다. \n",
    "결정 트리는 이 데이터로 훨씬 복잡한 모델을 만들 수 있습니다. \n",
    "\n",
    "그러나 이는 데이터의 표현 형태에 따라 굉장히 달라집니다. \n",
    "\n",
    "연속형 데이터에 아주 강력한 선형 모델을 만드는 방법 하나는 한 특성을 여러 특성으로 나누는 구간 분할입니다.(이산화라고도 합니다.) "
   ]
  },
  {
   "cell_type": "markdown",
   "id": "2c886e55",
   "metadata": {},
   "source": [
    "이 특성의 입력값 범위가 나뉘어 여러 구간으로, 예를 들어 10개로 되어있다고 생각해봅시다.\n",
    "그렇다면 각 데이터 포인트가 어떤 구간에 속하는지 바로 나타낼 수 있습니다.\n",
    "\n",
    "구간의 경계를 정의하는데는 여러 방법이 있습니다. 예를 들어 균일한 너비로(즉 구간의 경계 간의 거리가 동일하게)하거나 데이터의 분위를 사용할 수 있습니다.(즉 데이터가 많은 구간은 좁아집니다.)\n",
    "\n",
    "KBinsDiscretizer 클래스에 이런 방법들이 구현 되어 있습니다."
   ]
  },
  {
   "cell_type": "code",
   "execution_count": 3,
   "id": "63dd7b90",
   "metadata": {},
   "outputs": [],
   "source": [
    "from sklearn.preprocessing import KBinsDiscretizer"
   ]
  },
  {
   "cell_type": "code",
   "execution_count": 4,
   "id": "c8b51f24",
   "metadata": {},
   "outputs": [
    {
     "name": "stdout",
     "output_type": "stream",
     "text": [
      "bin edges: \n",
      " [array([-2.9668673 , -2.37804841, -1.78922951, -1.20041062, -0.61159173,\n",
      "        -0.02277284,  0.56604605,  1.15486494,  1.74368384,  2.33250273,\n",
      "         2.92132162])                                                   ]\n"
     ]
    }
   ],
   "source": [
    "kb= KBinsDiscretizer(n_bins = 10,strategy='uniform')\n",
    "kb.fit(x)\n",
    "print(\"bin edges: \\n\",kb.bin_edges_)"
   ]
  },
  {
   "cell_type": "markdown",
   "id": "b495a6a1",
   "metadata": {},
   "source": [
    "첫 번째 구간은 특성의 값이 -2.967(데이터에서 가장 작은 값)부터 -2.378까지 모든 데이터 포인트를 담습니다.\n",
    "두 번째 구간은 -2.378부터 -1.789 사이인 모든 데이터 포인트를 포함합니다. 이런식으로 계속됩니다.\n",
    "\n",
    "KBinsDiscretizer는 한 번에 여러 개의 특성에 적용할 수 있습니다. bin_edges_는 특성별로 경곗값이 저장되어 있습니다. 이 경우에는 길이가 1인 배열이 출력됩니다.\n",
    "\n",
    "transform 메서드를 사용하면 각 데이터 포인트를 해당되는 구간으로 인코딩할 수 있습니다. 기본적으로 KBinsDiscretizer는 구간에 원 핫 인코딩을 적용합니다. 구간마다 하나의 새로운 특성이 생기므로 희소 행렬을 만듭니다. 10개의 구간을 지정했기 때문에 변환된 데이터는 10차원입니다."
   ]
  },
  {
   "cell_type": "code",
   "execution_count": 5,
   "id": "1e7fa8a1",
   "metadata": {},
   "outputs": [
    {
     "data": {
      "text/plain": [
       "<120x10 sparse matrix of type '<class 'numpy.float64'>'\n",
       "\twith 120 stored elements in Compressed Sparse Row format>"
      ]
     },
     "execution_count": 5,
     "metadata": {},
     "output_type": "execute_result"
    }
   ],
   "source": [
    "x_binned = kb.transform(x)\n",
    "x_binned"
   ]
  },
  {
   "cell_type": "markdown",
   "id": "a0bfaf61",
   "metadata": {},
   "source": [
    "희소 행렬을 밀집 배열로 변환하여 원본 데이터 포인트와 인코딩 결과를 비교해보겠습니다."
   ]
  },
  {
   "cell_type": "code",
   "execution_count": 6,
   "id": "d5d51929",
   "metadata": {},
   "outputs": [
    {
     "name": "stdout",
     "output_type": "stream",
     "text": [
      "[[-0.75275929]\n",
      " [ 2.70428584]\n",
      " [ 1.39196365]\n",
      " [ 0.59195091]\n",
      " [-2.06388816]\n",
      " [-2.06403288]\n",
      " [-2.65149833]\n",
      " [ 2.19705687]\n",
      " [ 0.60669007]\n",
      " [ 1.24843547]]\n"
     ]
    },
    {
     "data": {
      "text/plain": [
       "array([[0., 0., 0., 1., 0., 0., 0., 0., 0., 0.],\n",
       "       [0., 0., 0., 0., 0., 0., 0., 0., 0., 1.],\n",
       "       [0., 0., 0., 0., 0., 0., 0., 1., 0., 0.],\n",
       "       [0., 0., 0., 0., 0., 0., 1., 0., 0., 0.],\n",
       "       [0., 1., 0., 0., 0., 0., 0., 0., 0., 0.],\n",
       "       [0., 1., 0., 0., 0., 0., 0., 0., 0., 0.],\n",
       "       [1., 0., 0., 0., 0., 0., 0., 0., 0., 0.],\n",
       "       [0., 0., 0., 0., 0., 0., 0., 0., 1., 0.],\n",
       "       [0., 0., 0., 0., 0., 0., 1., 0., 0., 0.],\n",
       "       [0., 0., 0., 0., 0., 0., 0., 1., 0., 0.]])"
      ]
     },
     "execution_count": 6,
     "metadata": {},
     "output_type": "execute_result"
    }
   ],
   "source": [
    "print(x[:10])\n",
    "x_binned.toarray()[:10]"
   ]
  },
  {
   "cell_type": "markdown",
   "id": "6baa58b9",
   "metadata": {},
   "source": [
    "첫 번째 데이터 포인트 -0.753이 네번째 구간에 들어갔습니다. 두번째 데이터 포인트 2.704는 열번째 구간에 포함되었습니다. 이런식으로 계속됩니다.\n",
    "\n",
    "여기에서 wave 데이터셋에 있는 연속형 특성을 각 데이터 포인트가 어느 구간에 속했는지 원 핫 인코딩한 범주형 특성으로 변환하였습니다. encode='ordinal'로 설정하면 원 핫 인코딩된 구간의 인덱스를 바로 계산할 수 있지만 유용하지는 않습니다.\n",
    "\n",
    "예제를 간단하게 만들기 위해 encode='onehot-dense'로 지정하여 원 핫 인코딩된 밀집 배열을 만들겠습니다. 그러면 모든 특성을 바로 출력할 수 있습니다."
   ]
  },
  {
   "cell_type": "code",
   "execution_count": 7,
   "id": "3779a8dc",
   "metadata": {},
   "outputs": [],
   "source": [
    "kb=KBinsDiscretizer(n_bins=10,strategy='uniform',encode='onehot-dense')\n",
    "kb.fit(x)\n",
    "x_binned=kb.transform(x)"
   ]
  },
  {
   "cell_type": "code",
   "execution_count": 8,
   "id": "2f31d573",
   "metadata": {},
   "outputs": [
    {
     "data": {
      "image/png": "[encoded data removed]",
      "text/plain": [
       "<Figure size 432x288 with 1 Axes>"
      ]
     },
     "metadata": {
      "needs_background": "light"
     },
     "output_type": "display_data"
    }
   ],
   "source": [
    "#원 핫 인코딩된 데이터로 선형회귀 모델과 결정 트리모델 새로 만들기\n",
    "\n",
    "line_binned=kb.transform(line)\n",
    "\n",
    "reg=DecisionTreeRegressor(min_samples_split=3).fit(x_binned,y)\n",
    "plt.plot(line,reg.predict(line_binned),label='구간 결정 트리')\n",
    "\n",
    "reg = LinearRegression().fit(x_binned,y)\n",
    "plt.plot(line,reg.predict(line_binned),'--',label=\"구간 선형 회귀\")\n",
    "\n",
    "plt.plot(x[:,0],y,'o',c='k')\n",
    "plt.vlines(kb.bin_edges_[0],-3,3,linewidth=1,alpha=.2)\n",
    "plt.legend(loc='best')\n",
    "plt.ylabel(\"회귀 출력\")\n",
    "plt.xlabel(\"입력 특성\")\n",
    "plt.show()"
   ]
  },
  {
   "cell_type": "markdown",
   "id": "319e8f06",
   "metadata": {},
   "source": [
    "선형 회귀 모델과 결정 트리가 같은 예측을 만들어내서 파선과 실선이 완전히 겹쳐졌습니다.\n",
    "구간별로 이 두 모델이 예측한 것은 상숫값입니다. 각 구간 안에서는 특성의 값이 상수이므로 어떤 모델이든 그 구간의 포인트에 대해서는 같은 값을 예측할 것입니다. 구간으로 나눈 특성을 사용하기 전과 비교해보면, 각 구간에서 다른 값을 가지고 있으므로 선형 모델이 훨씬 유연해진 것을 알 수 있습니다. 반면에 결정트리는 덜 유연해졌습니다. 트리 모델은 데이터를 자유롭게 나눠 학습할 수 있으므로 특성의 값을 구간으로 나누는 것이 아무런 득이 되지 않습니다. 다르게 생각하면 결정 트리는 데이터셋에서 예측을 위한 가장 좋은 구간을 학습한다고 볼 수 있습니다. 거기다가 구간 나누기는 특성마다 따로 해야 하지만, 결정 트리는 한번에 여러 특성을 살필 수 있습니다. 하지만 선형 모델은 이런 변환으로부터 큰 이득을 얻었습니다.\n",
    "\n",
    "일부 특성과 출력이 비선형 관계이지만, 용량이 매우 크고 고차원인 데이터셋이라 선형 모델을 사용해야 한다면 구간 분할이 모델 성능을 높이는 데 아주 좋은 방법이 될 수 있습니다."
   ]
  },
  {
   "cell_type": "markdown",
   "id": "6258dc79",
   "metadata": {},
   "source": [
    "# 상호작용과 다항식\n",
    "\n",
    "특별히 특성을 풍부하게 나타내는 또 하나의 방법은 원본 데이터에 상호작용과 다항식을 추가하는 것입니다. 이런 종류의 특성 공학은 통계적 모델링에서 자주 사용하지만 일반적인 머신러닝 애플리케이션에도 많이 적용합니다.\n",
    "\n",
    "위 그래프에서 선형 모델은 wave데이터셋의 각 구간에 대해 상숫값을 학습했습니다. 그런데 선형 모델은 이런 절편 외에도 기울기도 학습할 수 있습니다. 선형 모델에 기울기를 추가하는 방법은 구간으로 분할된데이터에 원래 특성(위 그래프에서 x축)을 다시 추가하는 것입니다. 이렇게 하면 11차원 데이터셋이 만들어집니다."
   ]
  },
  {
   "cell_type": "code",
   "execution_count": 9,
   "id": "17e9c19a",
   "metadata": {},
   "outputs": [
    {
     "name": "stdout",
     "output_type": "stream",
     "text": [
      "(120, 11)\n"
     ]
    }
   ],
   "source": [
    "x_combined=np.hstack([x,x_binned])\n",
    "\n",
    "print(x_combined.shape)"
   ]
  },
  {
   "cell_type": "code",
   "execution_count": 10,
   "id": "64bdce40",
   "metadata": {},
   "outputs": [
    {
     "data": {
      "image/png": "[encoded data removed]",
      "text/plain": [
       "<Figure size 432x288 with 1 Axes>"
      ]
     },
     "metadata": {
      "needs_background": "light"
     },
     "output_type": "display_data"
    }
   ],
   "source": [
    "reg = LinearRegression().fit(x_combined,y)\n",
    "line_combined = np.hstack([line,line_binned])\n",
    "plt.plot(line,reg.predict(line_combined),label=\"원본 특성을 더한 선형 회귀\")\n",
    "plt.vlines(kb.bin_edges_[0],-3,3,linewidth=1,alpha=.2)\n",
    "plt.legend(loc='best')\n",
    "plt.ylabel(\"회귀 출력\")\n",
    "plt.xlabel(\"입력 특성\")\n",
    "plt.plot(x[:,0],y,'o',c='k')\n",
    "plt.show()"
   ]
  },
  {
   "cell_type": "markdown",
   "id": "73695554",
   "metadata": {},
   "source": [
    "이 예에서 이 모델은 각 구간의 절편과 기울기를 학습했습니다. 학습된 기울기는 양수이고 모든 구간에 걸쳐 동일합니다.\n",
    "\n",
    "즉 x축 특성이 하나이므로 기울기도 하나입니다.\n",
    "기울기가 모든구간에서 같은 것보다 각 구간에서 다른 기울기를 가지는 것이 좋아보입니다.\n",
    "이런 효과를 위해서 데이터 포인트가 있는 구간과 x축 사이의 상호작용 특성을 추가할 수 있습니다. 이 특성이 구간 특성과 원본특성의 곱입니다. "
   ]
  },
  {
   "cell_type": "code",
   "execution_count": 11,
   "id": "369f4427",
   "metadata": {},
   "outputs": [
    {
     "name": "stdout",
     "output_type": "stream",
     "text": [
      "(120, 20)\n"
     ]
    }
   ],
   "source": [
    "x_product =np.hstack([x_binned,x*x_binned])\n",
    "print(x_product.shape)"
   ]
  },
  {
   "cell_type": "markdown",
   "id": "051fd8d5",
   "metadata": {},
   "source": [
    "데이터셋은 이제 데이터 포인트가 속한 구간과 이 구간에 원본 특성을 곱한 값을 더해 20개의 특성을 가집니다. 이 곱셈 특성을 각 구간에 대한 x축 특성의 복사본이라고 생각할 수 있습니다. 즉 이 값은 구간 엔에서는 원본 특성이고 다른 곳에서는 0입니다."
   ]
  },
  {
   "cell_type": "code",
   "execution_count": 12,
   "id": "8f195bd4",
   "metadata": {},
   "outputs": [
    {
     "data": {
      "image/png": "[encoded data removed]",
      "text/plain": [
       "<Figure size 432x288 with 1 Axes>"
      ]
     },
     "metadata": {
      "needs_background": "light"
     },
     "output_type": "display_data"
    }
   ],
   "source": [
    "reg = LinearRegression().fit(x_product,y)\n",
    "line_product = np.hstack([line_binned,line*line_binned])\n",
    "plt.plot(line,reg.predict(line_product),label=\"원본 특성을 곱한 선형 회귀\")\n",
    "plt.vlines(kb.bin_edges_[0],-3,3,linewidth=1,alpha=.2)\n",
    "plt.legend(loc='best')\n",
    "plt.ylabel(\"회귀 출력\")\n",
    "plt.xlabel(\"입력 특성\")\n",
    "plt.plot(x[:,0],y,'o',c='k')\n",
    "plt.show()"
   ]
  },
  {
   "cell_type": "markdown",
   "id": "89adbc8b",
   "metadata": {},
   "source": [
    "이 그림에서 볼 수 있듯이 이 모델에서는 각 구간에서 절편과 기울기가 모두 다릅니다.\n",
    "\n",
    "구간 나누기는 연속형 특성을 확장하는 방법 중 하나입니다. 원본 특성의 다항식을 추가하는 방법도 있습니다.\n",
    "특성 x가 주어지면 x ** 2, x ** 3, x ** 4 등을 시도해볼 수 있습니다.\n",
    "\n",
    "이 방식이 preprocessing 모듈의 PolynomialFeatures에 구현되어 있습니다."
   ]
  },
  {
   "cell_type": "code",
   "execution_count": 13,
   "id": "555f67dc",
   "metadata": {},
   "outputs": [],
   "source": [
    "from sklearn.preprocessing import PolynomialFeatures\n",
    "\n",
    "#x**10까지 고차항을 추가합니다.\n",
    "#기본값인 \"include_bias = True\"는 절편에 해당하는 1인 특성을 추가합니다.\n",
    "poly = PolynomialFeatures(degree=10,include_bias=False)\n",
    "poly.fit(x)\n",
    "x_poly = poly.transform(x)"
   ]
  },
  {
   "cell_type": "markdown",
   "id": "85fd97c3",
   "metadata": {},
   "source": [
    "10차원을 사용했으므로 10개의 특성이 만들어집니다."
   ]
  },
  {
   "cell_type": "code",
   "execution_count": 14,
   "id": "df834e92",
   "metadata": {},
   "outputs": [
    {
     "name": "stdout",
     "output_type": "stream",
     "text": [
      "(120, 10)\n"
     ]
    }
   ],
   "source": [
    "print(x_poly.shape)"
   ]
  },
  {
   "cell_type": "code",
   "execution_count": 15,
   "id": "99259771",
   "metadata": {},
   "outputs": [
    {
     "name": "stdout",
     "output_type": "stream",
     "text": [
      "x 원소: \n",
      " [[-0.75275929]\n",
      " [ 2.70428584]\n",
      " [ 1.39196365]\n",
      " [ 0.59195091]\n",
      " [-2.06388816]]\n",
      "x_poly 원소: \n",
      " [[-7.52759287e-01  5.66646544e-01 -4.26548448e-01  3.21088306e-01\n",
      "  -2.41702204e-01  1.81943579e-01 -1.36959719e-01  1.03097700e-01\n",
      "  -7.76077513e-02  5.84199555e-02]\n",
      " [ 2.70428584e+00  7.31316190e+00  1.97768801e+01  5.34823369e+01\n",
      "   1.44631526e+02  3.91124988e+02  1.05771377e+03  2.86036036e+03\n",
      "   7.73523202e+03  2.09182784e+04]\n",
      " [ 1.39196365e+00  1.93756281e+00  2.69701700e+00  3.75414962e+00\n",
      "   5.22563982e+00  7.27390068e+00  1.01250053e+01  1.40936394e+01\n",
      "   1.96178338e+01  2.73073115e+01]\n",
      " [ 5.91950905e-01  3.50405874e-01  2.07423074e-01  1.22784277e-01\n",
      "   7.26822637e-02  4.30243318e-02  2.54682921e-02  1.50759786e-02\n",
      "   8.92423917e-03  5.28271146e-03]\n",
      " [-2.06388816e+00  4.25963433e+00 -8.79140884e+00  1.81444846e+01\n",
      "  -3.74481869e+01  7.72888694e+01 -1.59515582e+02  3.29222321e+02\n",
      "  -6.79478050e+02  1.40236670e+03]]\n"
     ]
    }
   ],
   "source": [
    "print(\"x 원소: \\n\",x[:5])\n",
    "print(\"x_poly 원소: \\n\",x_poly[:5])"
   ]
  },
  {
   "cell_type": "markdown",
   "id": "f1689092",
   "metadata": {},
   "source": [
    "각 특성의 차수를 알려주는 get_feature_names_out 메서드를 사용해 특성의 의미를 알 수 있습니다. "
   ]
  },
  {
   "cell_type": "code",
   "execution_count": 16,
   "id": "b59ffdf6",
   "metadata": {},
   "outputs": [
    {
     "name": "stdout",
     "output_type": "stream",
     "text": [
      "항 이름: \n",
      " ['x0' 'x0^2' 'x0^3' 'x0^4' 'x0^5' 'x0^6' 'x0^7' 'x0^8' 'x0^9' 'x0^10']\n"
     ]
    }
   ],
   "source": [
    "print(\"항 이름: \\n\",poly.get_feature_names_out())"
   ]
  },
  {
   "cell_type": "markdown",
   "id": "5066eeda",
   "metadata": {},
   "source": [
    "x_poly의 첫 열은 x와 같고 다른 열은 첫 번째 열의 거듭제곱입니다. 그래서 어떤 값은 매우 크게 나오는 것을 볼 수 있습니다. 두번째 행은 다른 값보다 월등하게 커 20000이 검기도 합니다\n",
    "\n",
    "다항식 특성을 선형 모델과 함꼐 사용하면 전형적인 다항 회귀 모델이 됩니다."
   ]
  },
  {
   "cell_type": "code",
   "execution_count": 17,
   "id": "d57c935f",
   "metadata": {},
   "outputs": [
    {
     "data": {
      "image/png": "[encoded data removed]",
      "text/plain": [
       "<Figure size 432x288 with 1 Axes>"
      ]
     },
     "metadata": {
      "needs_background": "light"
     },
     "output_type": "display_data"
    }
   ],
   "source": [
    "reg = LinearRegression().fit(x_poly,y)\n",
    "line_poly = poly.transform(line)\n",
    "plt.plot(line,reg.predict(line_poly),label=\"다항 선형 회귀\")\n",
    "plt.legend(loc='best')\n",
    "plt.ylabel(\"회귀 출력\")\n",
    "plt.xlabel(\"입력 특성\")\n",
    "plt.plot(x[:,0],y,'o',c='k')\n",
    "plt.show()"
   ]
  },
  {
   "cell_type": "markdown",
   "id": "d54b5320",
   "metadata": {},
   "source": [
    "다항식 특성은 1차원 데이터셋에서도 매우 부드러운 곡선을 만듭니다. 그러나 고차원 다항식은 데이터가 부족한 영역에서 너무 민감하게동작합니다. "
   ]
  },
  {
   "cell_type": "code",
   "execution_count": 18,
   "id": "f2175c99",
   "metadata": {},
   "outputs": [
    {
     "data": {
      "image/png": "[encoded data removed]",
      "text/plain": [
       "<Figure size 432x288 with 1 Axes>"
      ]
     },
     "metadata": {
      "needs_background": "light"
     },
     "output_type": "display_data"
    }
   ],
   "source": [
    "from sklearn.svm import SVR\n",
    "for gamma in [1,10]:\n",
    "    svr = SVR(gamma=gamma).fit(x,y)\n",
    "    plt.plot(line,svr.predict(line),label='SVR gamma={}'.format(gamma))\n",
    "    \n",
    "plt.legend(loc='best')\n",
    "plt.ylabel(\"회귀 출력\")\n",
    "plt.xlabel(\"입력 특성\")\n",
    "plt.plot(x[:,0],y,'o',c='k')\n",
    "plt.show()    "
   ]
  },
  {
   "cell_type": "markdown",
   "id": "fdcfdcd9",
   "metadata": {},
   "source": [
    "비교를 위해 더 복잡한 모델인 커널 SVM을 사용해 특성 데이터를 변환하지 않고 다항 회귀와 비슷한 복잡도를 가진 예측 모델을 만들었습니다. \n",
    "\n",
    "상호작용과 다항식을 위한 더 현실적인 애플리케이션으로 보스턴 주택 가격 데이터셋을 이용해보겠습니다."
   ]
  },
  {
   "cell_type": "code",
   "execution_count": 19,
   "id": "790f1455",
   "metadata": {},
   "outputs": [
    {
     "name": "stderr",
     "output_type": "stream",
     "text": [
      "C:\\Users\\user\\anaconda3\\lib\\site-packages\\sklearn\\utils\\deprecation.py:87: FutureWarning: Function load_boston is deprecated; `load_boston` is deprecated in 1.0 and will be removed in 1.2.\n",
      "\n",
      "    The Boston housing prices dataset has an ethical problem. You can refer to\n",
      "    the documentation of this function for further details.\n",
      "\n",
      "    The scikit-learn maintainers therefore strongly discourage the use of this\n",
      "    dataset unless the purpose of the code is to study and educate about\n",
      "    ethical issues in data science and machine learning.\n",
      "\n",
      "    In this special case, you can fetch the dataset from the original\n",
      "    source::\n",
      "\n",
      "        import pandas as pd\n",
      "        import numpy as np\n",
      "\n",
      "\n",
      "        data_url = \"http://lib.stat.cmu.edu/datasets/boston\"\n",
      "        raw_df = pd.read_csv(data_url, sep=\"\\s+\", skiprows=22, header=None)\n",
      "        data = np.hstack([raw_df.values[::2, :], raw_df.values[1::2, :2]])\n",
      "        target = raw_df.values[1::2, 2]\n",
      "\n",
      "    Alternative datasets include the California housing dataset (i.e.\n",
      "    :func:`~sklearn.datasets.fetch_california_housing`) and the Ames housing\n",
      "    dataset. You can load the datasets as follows::\n",
      "\n",
      "        from sklearn.datasets import fetch_california_housing\n",
      "        housing = fetch_california_housing()\n",
      "\n",
      "    for the California housing dataset and::\n",
      "\n",
      "        from sklearn.datasets import fetch_openml\n",
      "        housing = fetch_openml(name=\"house_prices\", as_frame=True)\n",
      "\n",
      "    for the Ames housing dataset.\n",
      "    \n",
      "  warnings.warn(msg, category=FutureWarning)\n"
     ]
    }
   ],
   "source": [
    "from sklearn.datasets import load_boston\n",
    "from sklearn.preprocessing import MinMaxScaler\n",
    "\n",
    "boston = load_boston()\n",
    "x_train,x_test,y_train,y_test = train_test_split(boston.data,boston.target,random_state=0)\n",
    "\n",
    "#데이터 스케일 조정\n",
    "scaler = MinMaxScaler()\n",
    "x_train_scaled = scaler.fit_transform(x_train)\n",
    "x_test_scaled = scaler.fit_transform(x_test)"
   ]
  },
  {
   "cell_type": "code",
   "execution_count": 20,
   "id": "dbb5484e",
   "metadata": {},
   "outputs": [
    {
     "name": "stdout",
     "output_type": "stream",
     "text": [
      "x_train.shape: (379, 13)\n",
      "x_train_poly.shape: (379, 105)\n"
     ]
    }
   ],
   "source": [
    "poly = PolynomialFeatures(degree=2).fit(x_train_scaled)\n",
    "x_train_poly = poly.transform(x_train_scaled)\n",
    "x_test_poly = poly.transform(x_test_scaled)\n",
    "print(\"x_train.shape:\",x_train.shape)\n",
    "print(\"x_train_poly.shape:\",x_train_poly.shape)"
   ]
  },
  {
   "cell_type": "markdown",
   "id": "1b267ba2",
   "metadata": {},
   "source": [
    "이 데이터는 원래 특성이 13개인데 105개의 교차 특성으로 확장되었습니다. 새로운 특성은 원래 특성의 제곱은 물론 가능한 두 특성의 조합을 모두 포함합니다.\n",
    "\n",
    "즉 degree = 2로 하면 원본 특성에서 2개를 뽑아 만들수 있는 모든 곱을 얻을 수 있습니다.\n",
    "\n",
    "어떤 원본 특성이 곱해져 새 특성이 만들어졌는지 정확환 관계를 보려면 get_features_names 메서드를 사용합니다."
   ]
  },
  {
   "cell_type": "code",
   "execution_count": 21,
   "id": "82fc84c6",
   "metadata": {},
   "outputs": [
    {
     "name": "stdout",
     "output_type": "stream",
     "text": [
      "다항 특성 이름: \n",
      " ['1', 'x0', 'x1', 'x2', 'x3', 'x4', 'x5', 'x6', 'x7', 'x8', 'x9', 'x10', 'x11', 'x12', 'x0^2', 'x0 x1', 'x0 x2', 'x0 x3', 'x0 x4', 'x0 x5', 'x0 x6', 'x0 x7', 'x0 x8', 'x0 x9', 'x0 x10', 'x0 x11', 'x0 x12', 'x1^2', 'x1 x2', 'x1 x3', 'x1 x4', 'x1 x5', 'x1 x6', 'x1 x7', 'x1 x8', 'x1 x9', 'x1 x10', 'x1 x11', 'x1 x12', 'x2^2', 'x2 x3', 'x2 x4', 'x2 x5', 'x2 x6', 'x2 x7', 'x2 x8', 'x2 x9', 'x2 x10', 'x2 x11', 'x2 x12', 'x3^2', 'x3 x4', 'x3 x5', 'x3 x6', 'x3 x7', 'x3 x8', 'x3 x9', 'x3 x10', 'x3 x11', 'x3 x12', 'x4^2', 'x4 x5', 'x4 x6', 'x4 x7', 'x4 x8', 'x4 x9', 'x4 x10', 'x4 x11', 'x4 x12', 'x5^2', 'x5 x6', 'x5 x7', 'x5 x8', 'x5 x9', 'x5 x10', 'x5 x11', 'x5 x12', 'x6^2', 'x6 x7', 'x6 x8', 'x6 x9', 'x6 x10', 'x6 x11', 'x6 x12', 'x7^2', 'x7 x8', 'x7 x9', 'x7 x10', 'x7 x11', 'x7 x12', 'x8^2', 'x8 x9', 'x8 x10', 'x8 x11', 'x8 x12', 'x9^2', 'x9 x10', 'x9 x11', 'x9 x12', 'x10^2', 'x10 x11', 'x10 x12', 'x11^2', 'x11 x12', 'x12^2']\n"
     ]
    },
    {
     "name": "stderr",
     "output_type": "stream",
     "text": [
      "C:\\Users\\user\\anaconda3\\lib\\site-packages\\sklearn\\utils\\deprecation.py:87: FutureWarning: Function get_feature_names is deprecated; get_feature_names is deprecated in 1.0 and will be removed in 1.2. Please use get_feature_names_out instead.\n",
      "  warnings.warn(msg, category=FutureWarning)\n"
     ]
    }
   ],
   "source": [
    "print(\"다항 특성 이름: \\n\",poly.get_feature_names())"
   ]
  },
  {
   "cell_type": "markdown",
   "id": "7ef0140e",
   "metadata": {},
   "source": [
    "첫 번째 특성은 상수항, 즉 1입니다. 다음 13개 특성은 원본 특성('x0 에서 'x12'까지)입니다. 그 다음은 첫 번째 특성의 제곱 항('x0^2)과 첫번째 특성과 다른 특성 간의 조합입니다."
   ]
  },
  {
   "cell_type": "code",
   "execution_count": 22,
   "id": "64c58be9",
   "metadata": {},
   "outputs": [
    {
     "name": "stdout",
     "output_type": "stream",
     "text": [
      "상호 작용 특성이 없을 때 점수: 0.577\n",
      "상호 작용 특성이 있을 때 점수: 0.741\n"
     ]
    }
   ],
   "source": [
    "from sklearn.linear_model import Ridge\n",
    "ridge = Ridge().fit(x_train_scaled,y_train)\n",
    "print(\"상호 작용 특성이 없을 때 점수: {:.3f}\".format(ridge.score(x_test_scaled,y_test)))\n",
    "ridge = Ridge().fit(x_train_poly,y_train)\n",
    "print(\"상호 작용 특성이 있을 때 점수: {:.3f}\".format(ridge.score(x_test_poly,y_test)))"
   ]
  },
  {
   "cell_type": "markdown",
   "id": "a223180b",
   "metadata": {},
   "source": [
    "상호작용과 다항식 특성이 Ridge의 성능을 크게 높여준 것을 확인 가능합니다.\n",
    "\n",
    "그러나 랜덤 포레스트같이더 복잡한 모델을 사용하면 이야기가 조금 달라집니다. "
   ]
  },
  {
   "cell_type": "code",
   "execution_count": 23,
   "id": "1de4f5a5",
   "metadata": {},
   "outputs": [
    {
     "name": "stdout",
     "output_type": "stream",
     "text": [
      "상호 작용 특성이 없을 때 점수: 0.785\n",
      "상호 작용 특성이 있을 때 점수: 0.761\n"
     ]
    }
   ],
   "source": [
    "from sklearn.ensemble import RandomForestRegressor\n",
    "\n",
    "rf = RandomForestRegressor(n_estimators=100,random_state=0).fit(x_train_scaled,y_train)\n",
    "print(\"상호 작용 특성이 없을 때 점수: {:.3f}\".format(rf.score(x_test_scaled,y_test)))\n",
    "rf = RandomForestRegressor(n_estimators=100,random_state=0).fit(x_train_poly,y_train)\n",
    "print(\"상호 작용 특성이 있을 때 점수: {:.3f}\".format(rf.score(x_test_poly,y_test)))"
   ]
  },
  {
   "cell_type": "markdown",
   "id": "3f360fe3",
   "metadata": {},
   "source": [
    "특성을 추가하지 않아도 랜덤 포레스트는 Ridge의 성능과 맞먹습니다.\n",
    "\n",
    "오히려 상호작용과 다항식을 추가하면 성능이 조금 줄어듭니다."
   ]
  },
  {
   "cell_type": "markdown",
   "id": "1f1cd1ea",
   "metadata": {},
   "source": [
    "# 일변량 비선형 변환\n",
    "\n",
    "앞에서 제곱 항이나 세제곱 항을 추가하면 선형 회귀 모델에 도움이 됨을 보았습니다.\n",
    "한편 log,exp,sin같은 수학 함수를 적용하는 방법도 특성 변환에 유용합니다. \n",
    "\n",
    "트리 기반 모델은 특성의 순서에만 영향을 받지만, 선형 모델과 신경망은 각 특성의 스케일과 분포에 밀접한 연관되어 있습니다. 그리고 특성과 타깃값 사이에 비선형성이 있다면 특히 선형 회귀에서는 모델을 만들기가 어렵습니다.\n",
    "\n",
    "log와 exp함수는 데이터의 스케일을 변경해 선형 모델과 신경망의 성능을 올리는 데 도움을 줍니다.\n",
    "\n",
    "sin과 cos함수는 주기적인 패턴들이 들어 있는 데이터를 다룰 때 편리합니다.\n",
    "\n",
    "대부분의 모델은 각 특성이 (회귀에서는 타깃도) 정규분포와 비슷할 때 최고의 성능을 냅니다. 즉 특성의 히스토그램이 종 모양과 비슷할 때 입니다. log나 exp같은 함수를 이용하는 것은 편법이지만, 이런 모양을 만드는 쉽고 효과적인 방법입니다. \n",
    "\n",
    "이런 변환이 도움되는 전형적인 경우는 정수 카운트 데이터를 다룰 때 입니다.\n",
    "카운트 데이터란 \"사용자가 얼마나 자주 로그인하는가?\" 같은 특성을 말합니다.\n",
    "카운트에는 음수가 없으며 특별한 통계 패턴을 따르는 경우가 많습니다."
   ]
  },
  {
   "cell_type": "code",
   "execution_count": 24,
   "id": "dd8b72a8",
   "metadata": {},
   "outputs": [
    {
     "name": "stdout",
     "output_type": "stream",
     "text": [
      "[ 56  81  25  20  27  18  12  21 109   7]\n"
     ]
    }
   ],
   "source": [
    "rnd = np.random.RandomState(0)\n",
    "x_org= rnd.normal(size=(1000,3))\n",
    "w = rnd.normal(size=3)\n",
    "\n",
    "x= rnd.poisson(10*np.exp(x_org))\n",
    "y=np.dot(x_org,w)\n",
    "print(x[:10,0])"
   ]
  },
  {
   "cell_type": "markdown",
   "id": "c9aacf71",
   "metadata": {},
   "source": [
    "첫 번째 특성 맨 앞 10개를 살펴보면 모두 양의 정수이지만 특정한 패턴은 보이지 않습니다.\n",
    "하지만 각 값이 나타난 횟수를 세면 그 분포가 잘 드러납니다."
   ]
  },
  {
   "cell_type": "code",
   "execution_count": 25,
   "id": "f7ad7cd1",
   "metadata": {},
   "outputs": [
    {
     "name": "stdout",
     "output_type": "stream",
     "text": [
      "특성출현 횟수:\n",
      "  [28 38 68 48 61 59 45 56 37 40 35 34 36 26 23 26 27 21 23 23 18 21 10  9\n",
      " 17  9  7 14 12  7  3  8  4  5  5  3  4  2  4  1  1  3  2  5  3  8  2  5\n",
      "  2  1  2  3  3  2  2  3  3  0  1  2  1  0  0  3  1  0  0  0  1  3  0  1\n",
      "  0  2  0  1  1  0  0  0  0  1  0  0  2  2  0  1  1  0  0  0  0  1  1  0\n",
      "  0  0  0  0  0  0  1  0  0  0  0  0  1  1  0  0  1  0  0  0  0  0  0  0\n",
      "  1  0  0  0  0  1  0  0  0  0  0  0  0  0  0  0  0  0  0  0  1]\n"
     ]
    }
   ],
   "source": [
    "print(\"특성출현 횟수:\\n \",np.bincount(x[:,0]))"
   ]
  },
  {
   "cell_type": "markdown",
   "id": "2ae49f2c",
   "metadata": {},
   "source": [
    "2가 68번으로 가장 많이 나타나며(bincount는 항상 0부터 시작합니다.) 큰 값의 수는 빠르게 줄어듭니다.\n",
    "그러나 85나 86처럼아주 큰값도 약간 있습니다. "
   ]
  },
  {
   "cell_type": "code",
   "execution_count": 26,
   "id": "b3d1508b",
   "metadata": {},
   "outputs": [
    {
     "data": {
      "image/png": "[encoded data removed]",
      "text/plain": [
       "<Figure size 432x288 with 1 Axes>"
      ]
     },
     "metadata": {
      "needs_background": "light"
     },
     "output_type": "display_data"
    }
   ],
   "source": [
    "plt.xlim(0,160)\n",
    "plt.ylim(0,70)\n",
    "bins = np.bincount(x[:,0])\n",
    "plt.bar(range(len(bins)),bins,color='gray')\n",
    "plt.ylabel(\"출현 횟수\")\n",
    "plt.xlabel(\"값\")\n",
    "plt.show()"
   ]
  },
  {
   "cell_type": "markdown",
   "id": "ae1c2099",
   "metadata": {},
   "source": [
    "x[:,1]과 x[:,2] 특성도 비슷합니다. 이런 종류의 분포는 (작은 수치가 많고 큰 수치는 몇 안되는) 실제로 자주 나타납니다.\n",
    "\n",
    "그러나 선형 모델은 이런 데이터를 잘 처리하지 못합니다."
   ]
  },
  {
   "cell_type": "code",
   "execution_count": 27,
   "id": "ae43e2cf",
   "metadata": {},
   "outputs": [
    {
     "name": "stdout",
     "output_type": "stream",
     "text": [
      "테스트 점수:0.622\n"
     ]
    }
   ],
   "source": [
    "x_train,x_test,y_train,y_test = train_test_split(x,y,random_state=0)\n",
    "score = Ridge().fit(x_train,y_train).score(x_test,y_test)\n",
    "print(\"테스트 점수:{:.3f}\".format(score))"
   ]
  },
  {
   "cell_type": "markdown",
   "id": "773ce978",
   "metadata": {},
   "source": [
    "비교적 낮은 r2 score가 나온 것으로 보아 Ridge는 x와 y의 관계를 제대로 모델링하지 못했습니다.\n",
    "\n",
    "하지만 로그 스케일로 변환하면 도움이 됩니다. 데이터에 0이 있으면 log 함수를 적용할 수 없으므로 (log 0은 정의 X) log(x+1)을 사용합니다."
   ]
  },
  {
   "cell_type": "code",
   "execution_count": 28,
   "id": "57cde4ae",
   "metadata": {},
   "outputs": [],
   "source": [
    "x_train_log = np.log(x_train+1)\n",
    "x_test_log = np.log(x_test+1)"
   ]
  },
  {
   "cell_type": "markdown",
   "id": "5325f4d2",
   "metadata": {},
   "source": [
    "변환 후를 보면 데이터의 분포가 덜 치우쳐 있으며 매우 큰 값을 가진 이상치가 보이지 않습니다."
   ]
  },
  {
   "cell_type": "code",
   "execution_count": 29,
   "id": "5055fa21",
   "metadata": {},
   "outputs": [
    {
     "data": {
      "image/png": "[encoded data removed]",
      "text/plain": [
       "<Figure size 432x288 with 1 Axes>"
      ]
     },
     "metadata": {
      "needs_background": "light"
     },
     "output_type": "display_data"
    }
   ],
   "source": [
    "plt.hist(x_train_log[:,0],bins=25,color='gray')\n",
    "plt.ylabel('출현 횟수')\n",
    "plt.xlabel('값')\n",
    "plt.show()"
   ]
  },
  {
   "cell_type": "code",
   "execution_count": 30,
   "id": "182b7535",
   "metadata": {},
   "outputs": [
    {
     "name": "stdout",
     "output_type": "stream",
     "text": [
      "테스트점수:  0.875\n"
     ]
    }
   ],
   "source": [
    "score = Ridge().fit(x_train_log,y_train).score(x_test_log,y_test)\n",
    "print(\"테스트점수:  {:.3f}\".format(score))"
   ]
  },
  {
   "cell_type": "markdown",
   "id": "87c5c538",
   "metadata": {},
   "source": [
    "데이터셋과 모델의 조합에 최적인 변환 방법을 찾기란 예술에 가까운 일입니다. \n",
    "이 예에서는 모든 특성이 같은 속성을 가지고 있습니다. \n",
    "\n",
    "하지만 실제로 이런 경우는 드물며, 일부 특성만 변환하거나 특성마다 모두 다르게 변환하기도 합니다. \n",
    "앞서 언급한대로 이런 변환은 트리 기반 모델에서는 불필요하지만 선형 모델에서는 필수입니다. \n",
    "\n",
    "가끔 회귀에서 타깃 변수 y를 변환하는 것이 좋을 때도 있습니다. \n",
    "카운트를 예측하는 경우가 전형적인 예로 log(y+1)을 사용해 변환하면 도움이 됩니다.\n",
    "\n",
    "이전 예에서 보았듯이 구간 분할, 다항식, 상호작용은 데이터가 주어진 상황에서 모델의 성능에 큰 영향을 줄 수 있습니다.\n",
    "특별히 선형 모델이나 나이브 베이즈 모델 같은 덜 복잡한 모델일 경우입니다.\n",
    "\n",
    "반면에 트리 기반 모델은 스스로 중요한 상호작용을 찾아낼 수 있고 대부분의 경우 데이터를 명시적으로 변환하지 않아도 됩니다. \n",
    "\n",
    "SVM, 최근접 이웃, 신경망 같은 모델은 이따금 구간 분할, 상호작용, 다항식으로 이득을 볼 수 있지만, 선형 모델보다는 영향이 그렇게 뚜렷하지 않습니다."
   ]
  },
  {
   "cell_type": "code",
   "execution_count": null,
   "id": "59169189",
   "metadata": {},
   "outputs": [],
   "source": []
  }
 ],
 "metadata": {
  "kernelspec": {
   "display_name": "Python 3 (ipykernel)",
   "language": "python",
   "name": "python3"
  },
  "language_info": {
   "codemirror_mode": {
    "name": "ipython",
    "version": 3
   },
   "file_extension": ".py",
   "mimetype": "text/x-python",
   "name": "python",
   "nbconvert_exporter": "python",
   "pygments_lexer": "ipython3",
   "version": "3.9.12"
  }
 },
 "nbformat": 4,
 "nbformat_minor": 5
}
