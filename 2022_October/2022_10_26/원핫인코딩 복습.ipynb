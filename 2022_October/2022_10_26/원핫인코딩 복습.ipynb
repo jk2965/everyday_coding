{
 "cells": [
  {
   "cell_type": "markdown",
   "id": "aa19ea6d",
   "metadata": {},
   "source": [
    "# 범주형 특성\n",
    "\n",
    "일반적인 특성의 전형적인 형태는 범주형 특성입니다. 이산형 특성이라고도 하는 이런 특성은 보통 숫자 값이 아닙니다. 범주형 특성과 연속적인 특성 사이의 차이는 분류와 회귀의 차이와 비슷하지만, 출력이 아닌 입력에 대한 것이라는 점이 다릅니다.\n",
    "\n",
    "범주형 특성은 모두 연속된 값으로 나타나지 않습니다. 중간값이나 순서가 없습니다.\n",
    "\n",
    "하지만 데이터가 어떤 형태의 특성으로 구성되어 있는가보다 데이터를 어떻게 표현하는가가 머신러닝 모델의 성능에 주는 영향이 더 큽니다.\n",
    "데이터의 스케일을 조정하지 않으면 측정치가 센티미터냐 인치냐에 따라 차이가 생깁니다.\n",
    "특성의 상호작용이나 일반적인 다항식을 추가 특성으로 넣는것이 도움될 수 있습니다.\n",
    "\n",
    "특정 애플리케이션에 가장 적합한 데이터 표현을 찾는 것을 특성 공학이라고 하며, 데이터 과학자와 머신러닝 기술자가 실제 문제를 풀기 위해 당면하는 주요 작업 중 하나입니다. \n",
    "올바른 데이터 표현은 지도 학습 모델에서 적절한 매개변수를 선택하는 것보다 성능에 더 큰 영향을 미칩니다."
   ]
  },
  {
   "cell_type": "code",
   "execution_count": 1,
   "id": "1c3aa195",
   "metadata": {},
   "outputs": [],
   "source": [
    "import numpy as np\n",
    "import pandas as pd\n",
    "import matplotlib.pyplot as plt\n",
    "plt.rcParams['font.family']='Malgun Gothic'\n",
    "plt.rcParams['axes.unicode_minus']=False\n",
    "from sklearn.model_selection import train_test_split\n",
    "from sklearn.preprocessing import OneHotEncoder\n",
    "import mglearn"
   ]
  },
  {
   "cell_type": "markdown",
   "id": "891288cc",
   "metadata": {},
   "source": [
    "# 원 핫 인코딩\n",
    "\n",
    "범주형 변수를 표현하는데 가장 널리 쓰이는 방법은 원 핫 인코딩입니다. 이를 원 아웃 오브 엔 인코딩 또는 가변수라고도 합니다.\n",
    "\n",
    "가변수는 범주형 변수를 0 또는 1 값을 가진 하나 이상의 새로운 특성으로 바꾼 것입니다. 0과 1로 표현된 변수는 선형 이진 분류 공식에 (그리고 scikit-learn에 있는 다른 모든 모델에) 적용할 수 있어서, 개수에 상관없이 범주마다 하나의 특성으로 표현합니다.\n",
    "\n",
    "우리가 사용하는 원 핫 인코딩은 통계학에서 사용하는 더미 코딩과 비슷하지만 완전히 같지는 않습니다. 간편하게 하려고 각 범주를 각기 다른 이진 특성으로 바꾸었습니다.\n",
    "통계학에서는 K개의 값을 가진 범주형 특성을 k-1개의 특성으로 변환하는 것이 일반적입니다(마지막 범주는 모든 열이 0으로 표현됩니다.) 이렇게 하는 이유는 분석의 편리성 때문입니다.(더 기술적으로 말하면, 데이터 행렬의 랭크 부족 현상을 피하기 위해서입니다.)"
   ]
  },
  {
   "cell_type": "code",
   "execution_count": 2,
   "id": "a401f2b2",
   "metadata": {},
   "outputs": [],
   "source": [
    "import os\n",
    "\n",
    "#이 파일은 열 이름을 나타내는 헤더가 없으므로 header=None으로 지정하고 names 매개변수로 열 이름을 제공합니다.\n",
    "data = pd.read_csv(os.path.join(mglearn.datasets.DATA_PATH,'adult.data'),header=None,index_col=False,\n",
    "                   names=['age','workclass','fnlwgt','education','education-num','marital-status','occupation','realationship',\n",
    "                         'race','gender','capital-gain','capital-loss','hours-per-week','native-country','income'])"
   ]
  },
  {
   "cell_type": "code",
   "execution_count": 3,
   "id": "34c2e9f5",
   "metadata": {},
   "outputs": [
    {
     "data": {
      "text/html": [
       "<div>\n",
       "<style scoped>\n",
       "    .dataframe tbody tr th:only-of-type {\n",
       "        vertical-align: middle;\n",
       "    }\n",
       "\n",
       "    .dataframe tbody tr th {\n",
       "        vertical-align: top;\n",
       "    }\n",
       "\n",
       "    .dataframe thead th {\n",
       "        text-align: right;\n",
       "    }\n",
       "</style>\n",
       "<table border=\"1\" class=\"dataframe\">\n",
       "  <thead>\n",
       "    <tr style=\"text-align: right;\">\n",
       "      <th></th>\n",
       "      <th>age</th>\n",
       "      <th>workclass</th>\n",
       "      <th>education</th>\n",
       "      <th>gender</th>\n",
       "      <th>hours-per-week</th>\n",
       "      <th>occupation</th>\n",
       "      <th>income</th>\n",
       "    </tr>\n",
       "  </thead>\n",
       "  <tbody>\n",
       "    <tr>\n",
       "      <th>0</th>\n",
       "      <td>39</td>\n",
       "      <td>State-gov</td>\n",
       "      <td>Bachelors</td>\n",
       "      <td>Male</td>\n",
       "      <td>40</td>\n",
       "      <td>Adm-clerical</td>\n",
       "      <td>&lt;=50K</td>\n",
       "    </tr>\n",
       "    <tr>\n",
       "      <th>1</th>\n",
       "      <td>50</td>\n",
       "      <td>Self-emp-not-inc</td>\n",
       "      <td>Bachelors</td>\n",
       "      <td>Male</td>\n",
       "      <td>13</td>\n",
       "      <td>Exec-managerial</td>\n",
       "      <td>&lt;=50K</td>\n",
       "    </tr>\n",
       "    <tr>\n",
       "      <th>2</th>\n",
       "      <td>38</td>\n",
       "      <td>Private</td>\n",
       "      <td>HS-grad</td>\n",
       "      <td>Male</td>\n",
       "      <td>40</td>\n",
       "      <td>Handlers-cleaners</td>\n",
       "      <td>&lt;=50K</td>\n",
       "    </tr>\n",
       "    <tr>\n",
       "      <th>3</th>\n",
       "      <td>53</td>\n",
       "      <td>Private</td>\n",
       "      <td>11th</td>\n",
       "      <td>Male</td>\n",
       "      <td>40</td>\n",
       "      <td>Handlers-cleaners</td>\n",
       "      <td>&lt;=50K</td>\n",
       "    </tr>\n",
       "    <tr>\n",
       "      <th>4</th>\n",
       "      <td>28</td>\n",
       "      <td>Private</td>\n",
       "      <td>Bachelors</td>\n",
       "      <td>Female</td>\n",
       "      <td>40</td>\n",
       "      <td>Prof-specialty</td>\n",
       "      <td>&lt;=50K</td>\n",
       "    </tr>\n",
       "  </tbody>\n",
       "</table>\n",
       "</div>"
      ],
      "text/plain": [
       "   age          workclass   education   gender  hours-per-week  \\\n",
       "0   39          State-gov   Bachelors     Male              40   \n",
       "1   50   Self-emp-not-inc   Bachelors     Male              13   \n",
       "2   38            Private     HS-grad     Male              40   \n",
       "3   53            Private        11th     Male              40   \n",
       "4   28            Private   Bachelors   Female              40   \n",
       "\n",
       "           occupation  income  \n",
       "0        Adm-clerical   <=50K  \n",
       "1     Exec-managerial   <=50K  \n",
       "2   Handlers-cleaners   <=50K  \n",
       "3   Handlers-cleaners   <=50K  \n",
       "4      Prof-specialty   <=50K  "
      ]
     },
     "execution_count": 3,
     "metadata": {},
     "output_type": "execute_result"
    }
   ],
   "source": [
    "#몇개의 열만 선택합니다,\n",
    "data = data[['age','workclass','education','gender','hours-per-week','occupation','income']]\n",
    "data.head()"
   ]
  },
  {
   "cell_type": "markdown",
   "id": "fd2380d5",
   "metadata": {},
   "source": [
    "### 문자열로 된 범주형 데이터 확인하기\n",
    "\n",
    "이처럼 데이터셋을 읽고 나면 먼저 열에 어떤 의미 있는 범주형 데이터가 있는지 확인해보는것이 좋습니다.\n",
    "열의 내용을 확인하는 좋은 방법은 pandas 에서 Series에 있는 value_counts 메서드를 사용하여 유일한 값이 각각 몇 번 나타나는지 출력해보는 것입니다."
   ]
  },
  {
   "cell_type": "code",
   "execution_count": 4,
   "id": "dc5f4ab0",
   "metadata": {},
   "outputs": [
    {
     "name": "stdout",
     "output_type": "stream",
     "text": [
      " Male      21790\n",
      " Female    10771\n",
      "Name: gender, dtype: int64\n"
     ]
    }
   ],
   "source": [
    "print(data.gender.value_counts())"
   ]
  },
  {
   "cell_type": "markdown",
   "id": "ecafd48b",
   "metadata": {},
   "source": [
    "pandas에서는 get_dummies 함수를 사용해 데이터를 매우 쉽게 인코딩할 수 있습니다.\n",
    "\n",
    "get_dummies 함수는 객체 타입(문자열 같은)이나 범줗령을 가진 열을 자동으로 변환해줍니다."
   ]
  },
  {
   "cell_type": "code",
   "execution_count": 5,
   "id": "16f558b2",
   "metadata": {},
   "outputs": [
    {
     "name": "stdout",
     "output_type": "stream",
     "text": [
      "원본 특성:/n ['age', 'workclass', 'education', 'gender', 'hours-per-week', 'occupation', 'income'] \n",
      "\n",
      "get_dummies 후의 특성:\n",
      " ['age', 'hours-per-week', 'workclass_ ?', 'workclass_ Federal-gov', 'workclass_ Local-gov', 'workclass_ Never-worked', 'workclass_ Private', 'workclass_ Self-emp-inc', 'workclass_ Self-emp-not-inc', 'workclass_ State-gov', 'workclass_ Without-pay', 'education_ 10th', 'education_ 11th', 'education_ 12th', 'education_ 1st-4th', 'education_ 5th-6th', 'education_ 7th-8th', 'education_ 9th', 'education_ Assoc-acdm', 'education_ Assoc-voc', 'education_ Bachelors', 'education_ Doctorate', 'education_ HS-grad', 'education_ Masters', 'education_ Preschool', 'education_ Prof-school', 'education_ Some-college', 'gender_ Female', 'gender_ Male', 'occupation_ ?', 'occupation_ Adm-clerical', 'occupation_ Armed-Forces', 'occupation_ Craft-repair', 'occupation_ Exec-managerial', 'occupation_ Farming-fishing', 'occupation_ Handlers-cleaners', 'occupation_ Machine-op-inspct', 'occupation_ Other-service', 'occupation_ Priv-house-serv', 'occupation_ Prof-specialty', 'occupation_ Protective-serv', 'occupation_ Sales', 'occupation_ Tech-support', 'occupation_ Transport-moving', 'income_ <=50K', 'income_ >50K']\n"
     ]
    }
   ],
   "source": [
    "print(\"원본 특성:/n\",list(data.columns),\"\\n\")\n",
    "data_dummies = pd.get_dummies(data)\n",
    "print(\"get_dummies 후의 특성:\\n\",list(data_dummies.columns))"
   ]
  },
  {
   "cell_type": "markdown",
   "id": "c078cbae",
   "metadata": {},
   "source": [
    "연속형 특성은 그대로지만 범주형 특성은 값마다 새로운 특성으로 확장되었습니다."
   ]
  },
  {
   "cell_type": "code",
   "execution_count": 6,
   "id": "98b8700c",
   "metadata": {},
   "outputs": [
    {
     "data": {
      "text/html": [
       "<div>\n",
       "<style scoped>\n",
       "    .dataframe tbody tr th:only-of-type {\n",
       "        vertical-align: middle;\n",
       "    }\n",
       "\n",
       "    .dataframe tbody tr th {\n",
       "        vertical-align: top;\n",
       "    }\n",
       "\n",
       "    .dataframe thead th {\n",
       "        text-align: right;\n",
       "    }\n",
       "</style>\n",
       "<table border=\"1\" class=\"dataframe\">\n",
       "  <thead>\n",
       "    <tr style=\"text-align: right;\">\n",
       "      <th></th>\n",
       "      <th>age</th>\n",
       "      <th>hours-per-week</th>\n",
       "      <th>workclass_ ?</th>\n",
       "      <th>workclass_ Federal-gov</th>\n",
       "      <th>workclass_ Local-gov</th>\n",
       "      <th>workclass_ Never-worked</th>\n",
       "      <th>workclass_ Private</th>\n",
       "      <th>workclass_ Self-emp-inc</th>\n",
       "      <th>workclass_ Self-emp-not-inc</th>\n",
       "      <th>workclass_ State-gov</th>\n",
       "      <th>...</th>\n",
       "      <th>occupation_ Machine-op-inspct</th>\n",
       "      <th>occupation_ Other-service</th>\n",
       "      <th>occupation_ Priv-house-serv</th>\n",
       "      <th>occupation_ Prof-specialty</th>\n",
       "      <th>occupation_ Protective-serv</th>\n",
       "      <th>occupation_ Sales</th>\n",
       "      <th>occupation_ Tech-support</th>\n",
       "      <th>occupation_ Transport-moving</th>\n",
       "      <th>income_ &lt;=50K</th>\n",
       "      <th>income_ &gt;50K</th>\n",
       "    </tr>\n",
       "  </thead>\n",
       "  <tbody>\n",
       "    <tr>\n",
       "      <th>0</th>\n",
       "      <td>39</td>\n",
       "      <td>40</td>\n",
       "      <td>0</td>\n",
       "      <td>0</td>\n",
       "      <td>0</td>\n",
       "      <td>0</td>\n",
       "      <td>0</td>\n",
       "      <td>0</td>\n",
       "      <td>0</td>\n",
       "      <td>1</td>\n",
       "      <td>...</td>\n",
       "      <td>0</td>\n",
       "      <td>0</td>\n",
       "      <td>0</td>\n",
       "      <td>0</td>\n",
       "      <td>0</td>\n",
       "      <td>0</td>\n",
       "      <td>0</td>\n",
       "      <td>0</td>\n",
       "      <td>1</td>\n",
       "      <td>0</td>\n",
       "    </tr>\n",
       "    <tr>\n",
       "      <th>1</th>\n",
       "      <td>50</td>\n",
       "      <td>13</td>\n",
       "      <td>0</td>\n",
       "      <td>0</td>\n",
       "      <td>0</td>\n",
       "      <td>0</td>\n",
       "      <td>0</td>\n",
       "      <td>0</td>\n",
       "      <td>1</td>\n",
       "      <td>0</td>\n",
       "      <td>...</td>\n",
       "      <td>0</td>\n",
       "      <td>0</td>\n",
       "      <td>0</td>\n",
       "      <td>0</td>\n",
       "      <td>0</td>\n",
       "      <td>0</td>\n",
       "      <td>0</td>\n",
       "      <td>0</td>\n",
       "      <td>1</td>\n",
       "      <td>0</td>\n",
       "    </tr>\n",
       "    <tr>\n",
       "      <th>2</th>\n",
       "      <td>38</td>\n",
       "      <td>40</td>\n",
       "      <td>0</td>\n",
       "      <td>0</td>\n",
       "      <td>0</td>\n",
       "      <td>0</td>\n",
       "      <td>1</td>\n",
       "      <td>0</td>\n",
       "      <td>0</td>\n",
       "      <td>0</td>\n",
       "      <td>...</td>\n",
       "      <td>0</td>\n",
       "      <td>0</td>\n",
       "      <td>0</td>\n",
       "      <td>0</td>\n",
       "      <td>0</td>\n",
       "      <td>0</td>\n",
       "      <td>0</td>\n",
       "      <td>0</td>\n",
       "      <td>1</td>\n",
       "      <td>0</td>\n",
       "    </tr>\n",
       "    <tr>\n",
       "      <th>3</th>\n",
       "      <td>53</td>\n",
       "      <td>40</td>\n",
       "      <td>0</td>\n",
       "      <td>0</td>\n",
       "      <td>0</td>\n",
       "      <td>0</td>\n",
       "      <td>1</td>\n",
       "      <td>0</td>\n",
       "      <td>0</td>\n",
       "      <td>0</td>\n",
       "      <td>...</td>\n",
       "      <td>0</td>\n",
       "      <td>0</td>\n",
       "      <td>0</td>\n",
       "      <td>0</td>\n",
       "      <td>0</td>\n",
       "      <td>0</td>\n",
       "      <td>0</td>\n",
       "      <td>0</td>\n",
       "      <td>1</td>\n",
       "      <td>0</td>\n",
       "    </tr>\n",
       "    <tr>\n",
       "      <th>4</th>\n",
       "      <td>28</td>\n",
       "      <td>40</td>\n",
       "      <td>0</td>\n",
       "      <td>0</td>\n",
       "      <td>0</td>\n",
       "      <td>0</td>\n",
       "      <td>1</td>\n",
       "      <td>0</td>\n",
       "      <td>0</td>\n",
       "      <td>0</td>\n",
       "      <td>...</td>\n",
       "      <td>0</td>\n",
       "      <td>0</td>\n",
       "      <td>0</td>\n",
       "      <td>1</td>\n",
       "      <td>0</td>\n",
       "      <td>0</td>\n",
       "      <td>0</td>\n",
       "      <td>0</td>\n",
       "      <td>1</td>\n",
       "      <td>0</td>\n",
       "    </tr>\n",
       "  </tbody>\n",
       "</table>\n",
       "<p>5 rows × 46 columns</p>\n",
       "</div>"
      ],
      "text/plain": [
       "   age  hours-per-week  workclass_ ?  workclass_ Federal-gov  \\\n",
       "0   39              40             0                       0   \n",
       "1   50              13             0                       0   \n",
       "2   38              40             0                       0   \n",
       "3   53              40             0                       0   \n",
       "4   28              40             0                       0   \n",
       "\n",
       "   workclass_ Local-gov  workclass_ Never-worked  workclass_ Private  \\\n",
       "0                     0                        0                   0   \n",
       "1                     0                        0                   0   \n",
       "2                     0                        0                   1   \n",
       "3                     0                        0                   1   \n",
       "4                     0                        0                   1   \n",
       "\n",
       "   workclass_ Self-emp-inc  workclass_ Self-emp-not-inc  workclass_ State-gov  \\\n",
       "0                        0                            0                     1   \n",
       "1                        0                            1                     0   \n",
       "2                        0                            0                     0   \n",
       "3                        0                            0                     0   \n",
       "4                        0                            0                     0   \n",
       "\n",
       "   ...  occupation_ Machine-op-inspct  occupation_ Other-service  \\\n",
       "0  ...                              0                          0   \n",
       "1  ...                              0                          0   \n",
       "2  ...                              0                          0   \n",
       "3  ...                              0                          0   \n",
       "4  ...                              0                          0   \n",
       "\n",
       "   occupation_ Priv-house-serv  occupation_ Prof-specialty  \\\n",
       "0                            0                           0   \n",
       "1                            0                           0   \n",
       "2                            0                           0   \n",
       "3                            0                           0   \n",
       "4                            0                           1   \n",
       "\n",
       "   occupation_ Protective-serv  occupation_ Sales  occupation_ Tech-support  \\\n",
       "0                            0                  0                         0   \n",
       "1                            0                  0                         0   \n",
       "2                            0                  0                         0   \n",
       "3                            0                  0                         0   \n",
       "4                            0                  0                         0   \n",
       "\n",
       "   occupation_ Transport-moving  income_ <=50K  income_ >50K  \n",
       "0                             0              1             0  \n",
       "1                             0              1             0  \n",
       "2                             0              1             0  \n",
       "3                             0              1             0  \n",
       "4                             0              1             0  \n",
       "\n",
       "[5 rows x 46 columns]"
      ]
     },
     "execution_count": 6,
     "metadata": {},
     "output_type": "execute_result"
    }
   ],
   "source": [
    "data_dummies.head()"
   ]
  },
  {
   "cell_type": "markdown",
   "id": "06329343",
   "metadata": {},
   "source": [
    "data_dummies의 values 속성을 이용해 DataFrame을 Numpy 배열로 바꿀 수 있으며, 이를 이용해 머신러닝 모델을 학습시킵니다.\n",
    "\n",
    "모델을 학습시키기 전에 이 데이터로부터 타깃값을 분리해야 합니다. 출력값이나 출력값으로부터 유도된 변수를 특성 표현에 포합하는 것은 지도 학습 모델을 만들 때 특히 저지르기 쉬운 실수입니다.\n",
    "\n",
    "pandas에서 열 인덱싱은 범위 끝을 포함합니다. 이와는 달리 numpy 배열의 슬라이싱은 마지막 범위를 포함하지 않습니다."
   ]
  },
  {
   "cell_type": "code",
   "execution_count": 7,
   "id": "31bc4aa0",
   "metadata": {},
   "outputs": [
    {
     "name": "stdout",
     "output_type": "stream",
     "text": [
      "x.shape:(32561, 44), y.shape=(32561,)\n"
     ]
    }
   ],
   "source": [
    "features = data_dummies.loc[:,'age':'occupation_ Transport-moving']\n",
    "#numpy 배열 추출\n",
    "x=features.values\n",
    "y=data_dummies['income_ >50K'].values\n",
    "print(\"x.shape:{}, y.shape={}\".format(x.shape,y.shape))"
   ]
  },
  {
   "cell_type": "code",
   "execution_count": 8,
   "id": "8288a0d2",
   "metadata": {},
   "outputs": [
    {
     "name": "stdout",
     "output_type": "stream",
     "text": [
      "테스트 점수:0.81\n"
     ]
    },
    {
     "name": "stderr",
     "output_type": "stream",
     "text": [
      "C:\\Users\\user\\anaconda3\\lib\\site-packages\\sklearn\\linear_model\\_logistic.py:814: ConvergenceWarning: lbfgs failed to converge (status=1):\n",
      "STOP: TOTAL NO. of ITERATIONS REACHED LIMIT.\n",
      "\n",
      "Increase the number of iterations (max_iter) or scale the data as shown in:\n",
      "    https://scikit-learn.org/stable/modules/preprocessing.html\n",
      "Please also refer to the documentation for alternative solver options:\n",
      "    https://scikit-learn.org/stable/modules/linear_model.html#logistic-regression\n",
      "  n_iter_i = _check_optimize_result(\n"
     ]
    }
   ],
   "source": [
    "from sklearn.linear_model import LogisticRegression\n",
    "\n",
    "x_train,x_test,y_train,y_test = train_test_split(x,y,random_state=0)\n",
    "logreg = LogisticRegression(max_iter=1000)\n",
    "logreg.fit(x_train,y_train)\n",
    "print(\"테스트 점수:{:.2f}\".format(logreg.score(x_test,y_test)))"
   ]
  },
  {
   "cell_type": "markdown",
   "id": "90a8c020",
   "metadata": {},
   "source": [
    "훈련 데이터와 테스트 데이터를 모두 포함하는 DataFrame을 사용해 get_dummies 함수를 호출하던지, 또는 각각 get_dummies함수를 호출하던지, 또는 각각 get_dummies를 호출한 후에 훈련 세트와 테스트 세트의 열 이름을 비교해서 같은 속성인지를 확인해야 합니다."
   ]
  },
  {
   "cell_type": "markdown",
   "id": "2636e5cf",
   "metadata": {},
   "source": [
    "### 숫자로 표현된 범주형 특성\n",
    "\n",
    "저장 공간을 절약하거나 데이터 취합 방식에 따라 범주형 변수가 숫자로 인코딩된 경우가 있습니다. 특성의 값이 숫자라고 해서 연속형 특성으로 다뤄야 한다는 의미는 아닙니다. 숫자로 된 특성이 연속적인지 또는 이산적인지는(그리고 원 핫 인코딩된 것인지는) 항상 명확하지는 않습니다. 인코딩된 값 사이에 어떤 순서도 없으면, 이 특성은 이산적이라고 생각해야 합니다.\n",
    "\n",
    "예를 들어 별 다섯개 만점으로 매긴 평점 데이터 같은 경우에 적절한 인코딩 방법은 풀려는 문제나 데이터, 그리고 어떤 머신러닝 알고리즘을 사용할지에 달렸습니다"
   ]
  },
  {
   "cell_type": "markdown",
   "id": "ac7260a5",
   "metadata": {},
   "source": [
    "pandas의 get_dummies 함수는 숫자 특성은 모두 연속형이라고 생각해서 가변수를 만들지 않습니다."
   ]
  },
  {
   "cell_type": "code",
   "execution_count": 9,
   "id": "c77b3ec5",
   "metadata": {},
   "outputs": [
    {
     "data": {
      "text/html": [
       "<div>\n",
       "<style scoped>\n",
       "    .dataframe tbody tr th:only-of-type {\n",
       "        vertical-align: middle;\n",
       "    }\n",
       "\n",
       "    .dataframe tbody tr th {\n",
       "        vertical-align: top;\n",
       "    }\n",
       "\n",
       "    .dataframe thead th {\n",
       "        text-align: right;\n",
       "    }\n",
       "</style>\n",
       "<table border=\"1\" class=\"dataframe\">\n",
       "  <thead>\n",
       "    <tr style=\"text-align: right;\">\n",
       "      <th></th>\n",
       "      <th>숫자 특성</th>\n",
       "      <th>범주형 특성</th>\n",
       "    </tr>\n",
       "  </thead>\n",
       "  <tbody>\n",
       "    <tr>\n",
       "      <th>0</th>\n",
       "      <td>0</td>\n",
       "      <td>양말</td>\n",
       "    </tr>\n",
       "    <tr>\n",
       "      <th>1</th>\n",
       "      <td>1</td>\n",
       "      <td>여우</td>\n",
       "    </tr>\n",
       "    <tr>\n",
       "      <th>2</th>\n",
       "      <td>2</td>\n",
       "      <td>양말</td>\n",
       "    </tr>\n",
       "    <tr>\n",
       "      <th>3</th>\n",
       "      <td>1</td>\n",
       "      <td>상자</td>\n",
       "    </tr>\n",
       "  </tbody>\n",
       "</table>\n",
       "</div>"
      ],
      "text/plain": [
       "   숫자 특성 범주형 특성\n",
       "0      0     양말\n",
       "1      1     여우\n",
       "2      2     양말\n",
       "3      1     상자"
      ]
     },
     "execution_count": 9,
     "metadata": {},
     "output_type": "execute_result"
    }
   ],
   "source": [
    "#숫자 특성과 범주형 문자열 특성을 가진 데이터프레임을 만듭니다.\n",
    "demo_df = pd.DataFrame({'숫자 특성':[0,1,2,1],\n",
    "                       \"범주형 특성\":[\"양말\",\"여우\",\"양말\",\"상자\"]})\n",
    "demo_df"
   ]
  },
  {
   "cell_type": "code",
   "execution_count": 10,
   "id": "4d7375a9",
   "metadata": {},
   "outputs": [
    {
     "data": {
      "text/html": [
       "<div>\n",
       "<style scoped>\n",
       "    .dataframe tbody tr th:only-of-type {\n",
       "        vertical-align: middle;\n",
       "    }\n",
       "\n",
       "    .dataframe tbody tr th {\n",
       "        vertical-align: top;\n",
       "    }\n",
       "\n",
       "    .dataframe thead th {\n",
       "        text-align: right;\n",
       "    }\n",
       "</style>\n",
       "<table border=\"1\" class=\"dataframe\">\n",
       "  <thead>\n",
       "    <tr style=\"text-align: right;\">\n",
       "      <th></th>\n",
       "      <th>숫자 특성</th>\n",
       "      <th>범주형 특성_상자</th>\n",
       "      <th>범주형 특성_양말</th>\n",
       "      <th>범주형 특성_여우</th>\n",
       "    </tr>\n",
       "  </thead>\n",
       "  <tbody>\n",
       "    <tr>\n",
       "      <th>0</th>\n",
       "      <td>0</td>\n",
       "      <td>0</td>\n",
       "      <td>1</td>\n",
       "      <td>0</td>\n",
       "    </tr>\n",
       "    <tr>\n",
       "      <th>1</th>\n",
       "      <td>1</td>\n",
       "      <td>0</td>\n",
       "      <td>0</td>\n",
       "      <td>1</td>\n",
       "    </tr>\n",
       "    <tr>\n",
       "      <th>2</th>\n",
       "      <td>2</td>\n",
       "      <td>0</td>\n",
       "      <td>1</td>\n",
       "      <td>0</td>\n",
       "    </tr>\n",
       "    <tr>\n",
       "      <th>3</th>\n",
       "      <td>1</td>\n",
       "      <td>1</td>\n",
       "      <td>0</td>\n",
       "      <td>0</td>\n",
       "    </tr>\n",
       "  </tbody>\n",
       "</table>\n",
       "</div>"
      ],
      "text/plain": [
       "   숫자 특성  범주형 특성_상자  범주형 특성_양말  범주형 특성_여우\n",
       "0      0          0          1          0\n",
       "1      1          0          0          1\n",
       "2      2          0          1          0\n",
       "3      1          1          0          0"
      ]
     },
     "execution_count": 10,
     "metadata": {},
     "output_type": "execute_result"
    }
   ],
   "source": [
    "pd.get_dummies(demo_df)"
   ]
  },
  {
   "cell_type": "markdown",
   "id": "a8e86a22",
   "metadata": {},
   "source": [
    "get_dummies 함수를 사용되면 문자열 특성만 인코딩되며 숫자 특성은 변하지 않습니다."
   ]
  },
  {
   "cell_type": "code",
   "execution_count": 11,
   "id": "f27eab9e",
   "metadata": {},
   "outputs": [
    {
     "data": {
      "text/html": [
       "<div>\n",
       "<style scoped>\n",
       "    .dataframe tbody tr th:only-of-type {\n",
       "        vertical-align: middle;\n",
       "    }\n",
       "\n",
       "    .dataframe tbody tr th {\n",
       "        vertical-align: top;\n",
       "    }\n",
       "\n",
       "    .dataframe thead th {\n",
       "        text-align: right;\n",
       "    }\n",
       "</style>\n",
       "<table border=\"1\" class=\"dataframe\">\n",
       "  <thead>\n",
       "    <tr style=\"text-align: right;\">\n",
       "      <th></th>\n",
       "      <th>숫자 특성_0</th>\n",
       "      <th>숫자 특성_1</th>\n",
       "      <th>숫자 특성_2</th>\n",
       "      <th>범주형 특성_상자</th>\n",
       "      <th>범주형 특성_양말</th>\n",
       "      <th>범주형 특성_여우</th>\n",
       "    </tr>\n",
       "  </thead>\n",
       "  <tbody>\n",
       "    <tr>\n",
       "      <th>0</th>\n",
       "      <td>1</td>\n",
       "      <td>0</td>\n",
       "      <td>0</td>\n",
       "      <td>0</td>\n",
       "      <td>1</td>\n",
       "      <td>0</td>\n",
       "    </tr>\n",
       "    <tr>\n",
       "      <th>1</th>\n",
       "      <td>0</td>\n",
       "      <td>1</td>\n",
       "      <td>0</td>\n",
       "      <td>0</td>\n",
       "      <td>0</td>\n",
       "      <td>1</td>\n",
       "    </tr>\n",
       "    <tr>\n",
       "      <th>2</th>\n",
       "      <td>0</td>\n",
       "      <td>0</td>\n",
       "      <td>1</td>\n",
       "      <td>0</td>\n",
       "      <td>1</td>\n",
       "      <td>0</td>\n",
       "    </tr>\n",
       "    <tr>\n",
       "      <th>3</th>\n",
       "      <td>0</td>\n",
       "      <td>1</td>\n",
       "      <td>0</td>\n",
       "      <td>1</td>\n",
       "      <td>0</td>\n",
       "      <td>0</td>\n",
       "    </tr>\n",
       "  </tbody>\n",
       "</table>\n",
       "</div>"
      ],
      "text/plain": [
       "   숫자 특성_0  숫자 특성_1  숫자 특성_2  범주형 특성_상자  범주형 특성_양말  범주형 특성_여우\n",
       "0        1        0        0          0          1          0\n",
       "1        0        1        0          0          0          1\n",
       "2        0        0        1          0          1          0\n",
       "3        0        1        0          1          0          0"
      ]
     },
     "execution_count": 11,
     "metadata": {},
     "output_type": "execute_result"
    }
   ],
   "source": [
    "demo_df['숫자 특성'] =demo_df['숫자 특성'].astype(str)\n",
    "pd.get_dummies(demo_df,columns=['숫자 특성','범주형 특성'])"
   ]
  },
  {
   "cell_type": "markdown",
   "id": "18636f3e",
   "metadata": {},
   "source": [
    "숫자 특성도 가변수로 만들고 싶다면 columns 매개변수에 인코딩하고 싶은 열을 명시해야합니다. 그러면 그 특성들을 모두 범주형으로 간주합니다."
   ]
  },
  {
   "cell_type": "markdown",
   "id": "b1e7641b",
   "metadata": {},
   "source": [
    "scikit-learn은 원 핫 인코딩을 수행할 수 있습니다. 원 핫 인코딩은 OneHotEncoder클래스에 구현되어 있습니다. \n",
    "\n",
    "OneHotEncoder는 모든 열에 인코딩을 수행합니다. "
   ]
  },
  {
   "cell_type": "code",
   "execution_count": 12,
   "id": "f737c0fb",
   "metadata": {},
   "outputs": [
    {
     "name": "stdout",
     "output_type": "stream",
     "text": [
      "[[1. 0. 0. 0. 1. 0.]\n",
      " [0. 1. 0. 0. 0. 1.]\n",
      " [0. 0. 1. 0. 1. 0.]\n",
      " [0. 1. 0. 1. 0. 0.]]\n"
     ]
    }
   ],
   "source": [
    "ohe = OneHotEncoder(sparse=False)\n",
    "ohe.fit_transform(demo_df)\n",
    "print(ohe.fit_transform(demo_df))"
   ]
  },
  {
   "cell_type": "markdown",
   "id": "6c9fa797",
   "metadata": {},
   "source": [
    "문자열 특성과 정수 특성이 모두 변환되었습니다. scikit-learn의 출력은 DataFrame이 아니기 때문에 열 이름이 없습니다. \n",
    "\n",
    "변환된 특성에 해당하는 원본 범주형 변수 이름을 얻으려면 get_figure_names_out 메서드를 사용합니다."
   ]
  },
  {
   "cell_type": "markdown",
   "id": "561618e8",
   "metadata": {},
   "source": [
    "# ColumnTransformer\n",
    "\n",
    "대부분의 애플리케이션에서 일부 특성은 범주형이고 일부는 연속형입니다.\n",
    "\n",
    "OneHotEncoder는 모든 특성을 범주형이라고 가정하기 때문에 바로 적용할 수느 없습니다.\n",
    "\n",
    "ColumnTransformer클래스가 필요한 이유가 바로 여기에 있습니다. 이 클래스는 입력 데이터에 있는 열마다 다른 변환을 적용할 수 있습니다.\n",
    "연속형 특성과 범주형 특성은 매우 다른 종류의 전처리 과정이 필요하기 때문에 이 클래스가 매우 유용합니다."
   ]
  },
  {
   "cell_type": "code",
   "execution_count": 13,
   "id": "5e28ebbb",
   "metadata": {},
   "outputs": [],
   "source": [
    "from sklearn.compose import ColumnTransformer\n",
    "from sklearn.preprocessing import StandardScaler\n",
    "\n",
    "ct = ColumnTransformer(\n",
    "    [(\"scaling\",StandardScaler(),['age','hours-per-week']),('onehot',OneHotEncoder(sparse=False),\n",
    "['workclass','education','gender','occupation'])])"
   ]
  },
  {
   "cell_type": "markdown",
   "id": "2996baa4",
   "metadata": {},
   "source": [
    "다른 scikit-learn 변환기와 동일하게 ColumnTransformer 객체의 fit,transform 메서드를 사용할 수 있습니다.\n",
    "\n",
    "train_test_split 함수에 넘파이 배열 대신에 특성을 포함하고 있는 DataFrame을 전달할 수 있습니다. 이렇게 하면 columnTransformer에 필요한 엻 이름을 보존할 수 있습니다."
   ]
  },
  {
   "cell_type": "code",
   "execution_count": 14,
   "id": "7a7b0787",
   "metadata": {},
   "outputs": [
    {
     "name": "stdout",
     "output_type": "stream",
     "text": [
      "(24420, 44)\n"
     ]
    }
   ],
   "source": [
    "data_features = data.drop(\"income\",axis=1)\n",
    "\n",
    "x_train,x_test,y_train,y_test = train_test_split(data_features,data.income,random_state=0)\n",
    "\n",
    "ct.fit(x_train)\n",
    "x_train_trans =ct.transform(x_train)\n",
    "print(x_train_trans.shape)"
   ]
  },
  {
   "cell_type": "markdown",
   "id": "94b62a32",
   "metadata": {},
   "source": [
    "pd.get_dummies를 사용했을 때와 마찬가지로 44개의 특성이 만들어졌습니다. 연속형 특성을 스케일 조정했다는 것만 다릅니다."
   ]
  },
  {
   "cell_type": "code",
   "execution_count": 15,
   "id": "de30c2d6",
   "metadata": {},
   "outputs": [
    {
     "name": "stdout",
     "output_type": "stream",
     "text": [
      "테스트 점수: 0.81\n"
     ]
    }
   ],
   "source": [
    "logreg = LogisticRegression(max_iter=1000)\n",
    "logreg.fit(x_train_trans,y_train)\n",
    "\n",
    "x_test_trans = ct.transform(x_test)\n",
    "print(\"테스트 점수: {:.2f}\".format(logreg.score(x_test_trans,y_test)))"
   ]
  },
  {
   "cell_type": "markdown",
   "id": "4f4b6db7",
   "metadata": {},
   "source": [
    "이 경우에는 데이터의 스케일이 영향을 미치지 못했습니다.\n",
    "\n",
    "ColumnsTransformer 안의 단계에 접근하려면 named_transformers_ 속성을 사용합니다."
   ]
  },
  {
   "cell_type": "code",
   "execution_count": 16,
   "id": "f0d3732c",
   "metadata": {},
   "outputs": [
    {
     "data": {
      "text/plain": [
       "OneHotEncoder(sparse=False)"
      ]
     },
     "execution_count": 16,
     "metadata": {},
     "output_type": "execute_result"
    }
   ],
   "source": [
    "ct.named_transformers_.onehot"
   ]
  },
  {
   "cell_type": "markdown",
   "id": "357622d6",
   "metadata": {},
   "source": [
    "### make_column_transformer로 간편하게 ColumnTransformer 만들기\n",
    "\n",
    "ColumnsTransformer를 만들면 조금 번거로울 때가 있습니다. 각 단계 이름을 일일히 지정할 필요가 없는 경우가 많습니다. \n",
    "\n",
    "클래스 이름을 기반으로 자동으로 각 단계에 이름을 붙여주는 편리한 함수(make_column_transformer)가 있습니다. make_column_transformer의 사용법은 다음과 같습니다."
   ]
  },
  {
   "cell_type": "code",
   "execution_count": 17,
   "id": "f60926f9",
   "metadata": {},
   "outputs": [],
   "source": [
    "from sklearn.compose import make_column_transformer\n",
    "\n",
    "ct = make_column_transformer((StandardScaler(),['age','hours-per-week']),(OneHotEncoder(sparse=False),['workclass','education','gender','occupation']))"
   ]
  },
  {
   "cell_type": "markdown",
   "id": "0d198e96",
   "metadata": {},
   "source": [
    "ColumnTransformer의 한가지 단점은 0.20버전에서 아직 변환된 출력 열에 대응하는 입력 열을 찾지 못한다는 것입니다."
   ]
  }
 ],
 "metadata": {
  "kernelspec": {
   "display_name": "Python 3 (ipykernel)",
   "language": "python",
   "name": "python3"
  },
  "language_info": {
   "codemirror_mode": {
    "name": "ipython",
    "version": 3
   },
   "file_extension": ".py",
   "mimetype": "text/x-python",
   "name": "python",
   "nbconvert_exporter": "python",
   "pygments_lexer": "ipython3",
   "version": "3.9.12"
  }
 },
 "nbformat": 4,
 "nbformat_minor": 5
}
