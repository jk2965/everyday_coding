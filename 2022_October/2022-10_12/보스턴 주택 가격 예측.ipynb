{
 "cells": [
  {
   "cell_type": "markdown",
   "id": "51f462de",
   "metadata": {},
   "source": [
    "## 1.목표\n",
    "- 보스턴에 있는 주택들의 데이터를 바탕으로 집 가격을 예측해보자"
   ]
  },
  {
   "cell_type": "markdown",
   "id": "669db8c0",
   "metadata": {},
   "source": [
    "## 2. 데이터 수집 "
   ]
  },
  {
   "cell_type": "code",
   "execution_count": 1,
   "id": "b20a3934",
   "metadata": {},
   "outputs": [],
   "source": [
    "import numpy as np\n",
    "import pandas as pd\n",
    "from sklearn.datasets import load_boston"
   ]
  },
  {
   "cell_type": "code",
   "execution_count": 2,
   "id": "2b638091",
   "metadata": {},
   "outputs": [],
   "source": [
    "import warnings\n",
    "warnings.filterwarnings('ignore',category=FutureWarning)\n",
    "#코드 실행시 경고가 안보이게 하는 코드(실행은 되지만 분홍색으로 나오는 오류)"
   ]
  },
  {
   "cell_type": "code",
   "execution_count": 3,
   "id": "ca8500fb",
   "metadata": {},
   "outputs": [],
   "source": [
    "boston = load_boston()\n",
    "#데이터 로드"
   ]
  },
  {
   "cell_type": "code",
   "execution_count": 4,
   "id": "6cc1e01d",
   "metadata": {},
   "outputs": [
    {
     "data": {
      "text/plain": [
       "dict_keys(['data', 'target', 'feature_names', 'DESCR', 'filename', 'data_module'])"
      ]
     },
     "execution_count": 4,
     "metadata": {},
     "output_type": "execute_result"
    }
   ],
   "source": [
    "boston.keys()\n",
    "#키 확인"
   ]
  },
  {
   "cell_type": "code",
   "execution_count": 5,
   "id": "fd29585a",
   "metadata": {},
   "outputs": [
    {
     "data": {
      "text/plain": [
       "array([24. , 21.6, 34.7, 33.4, 36.2, 28.7, 22.9, 27.1, 16.5, 18.9, 15. ,\n",
       "       18.9, 21.7, 20.4, 18.2, 19.9, 23.1, 17.5, 20.2, 18.2, 13.6, 19.6,\n",
       "       15.2, 14.5, 15.6, 13.9, 16.6, 14.8, 18.4, 21. , 12.7, 14.5, 13.2,\n",
       "       13.1, 13.5, 18.9, 20. , 21. , 24.7, 30.8, 34.9, 26.6, 25.3, 24.7,\n",
       "       21.2, 19.3, 20. , 16.6, 14.4, 19.4, 19.7, 20.5, 25. , 23.4, 18.9,\n",
       "       35.4, 24.7, 31.6, 23.3, 19.6, 18.7, 16. , 22.2, 25. , 33. , 23.5,\n",
       "       19.4, 22. , 17.4, 20.9, 24.2, 21.7, 22.8, 23.4, 24.1, 21.4, 20. ,\n",
       "       20.8, 21.2, 20.3, 28. , 23.9, 24.8, 22.9, 23.9, 26.6, 22.5, 22.2,\n",
       "       23.6, 28.7, 22.6, 22. , 22.9, 25. , 20.6, 28.4, 21.4, 38.7, 43.8,\n",
       "       33.2, 27.5, 26.5, 18.6, 19.3, 20.1, 19.5, 19.5, 20.4, 19.8, 19.4,\n",
       "       21.7, 22.8, 18.8, 18.7, 18.5, 18.3, 21.2, 19.2, 20.4, 19.3, 22. ,\n",
       "       20.3, 20.5, 17.3, 18.8, 21.4, 15.7, 16.2, 18. , 14.3, 19.2, 19.6,\n",
       "       23. , 18.4, 15.6, 18.1, 17.4, 17.1, 13.3, 17.8, 14. , 14.4, 13.4,\n",
       "       15.6, 11.8, 13.8, 15.6, 14.6, 17.8, 15.4, 21.5, 19.6, 15.3, 19.4,\n",
       "       17. , 15.6, 13.1, 41.3, 24.3, 23.3, 27. , 50. , 50. , 50. , 22.7,\n",
       "       25. , 50. , 23.8, 23.8, 22.3, 17.4, 19.1, 23.1, 23.6, 22.6, 29.4,\n",
       "       23.2, 24.6, 29.9, 37.2, 39.8, 36.2, 37.9, 32.5, 26.4, 29.6, 50. ,\n",
       "       32. , 29.8, 34.9, 37. , 30.5, 36.4, 31.1, 29.1, 50. , 33.3, 30.3,\n",
       "       34.6, 34.9, 32.9, 24.1, 42.3, 48.5, 50. , 22.6, 24.4, 22.5, 24.4,\n",
       "       20. , 21.7, 19.3, 22.4, 28.1, 23.7, 25. , 23.3, 28.7, 21.5, 23. ,\n",
       "       26.7, 21.7, 27.5, 30.1, 44.8, 50. , 37.6, 31.6, 46.7, 31.5, 24.3,\n",
       "       31.7, 41.7, 48.3, 29. , 24. , 25.1, 31.5, 23.7, 23.3, 22. , 20.1,\n",
       "       22.2, 23.7, 17.6, 18.5, 24.3, 20.5, 24.5, 26.2, 24.4, 24.8, 29.6,\n",
       "       42.8, 21.9, 20.9, 44. , 50. , 36. , 30.1, 33.8, 43.1, 48.8, 31. ,\n",
       "       36.5, 22.8, 30.7, 50. , 43.5, 20.7, 21.1, 25.2, 24.4, 35.2, 32.4,\n",
       "       32. , 33.2, 33.1, 29.1, 35.1, 45.4, 35.4, 46. , 50. , 32.2, 22. ,\n",
       "       20.1, 23.2, 22.3, 24.8, 28.5, 37.3, 27.9, 23.9, 21.7, 28.6, 27.1,\n",
       "       20.3, 22.5, 29. , 24.8, 22. , 26.4, 33.1, 36.1, 28.4, 33.4, 28.2,\n",
       "       22.8, 20.3, 16.1, 22.1, 19.4, 21.6, 23.8, 16.2, 17.8, 19.8, 23.1,\n",
       "       21. , 23.8, 23.1, 20.4, 18.5, 25. , 24.6, 23. , 22.2, 19.3, 22.6,\n",
       "       19.8, 17.1, 19.4, 22.2, 20.7, 21.1, 19.5, 18.5, 20.6, 19. , 18.7,\n",
       "       32.7, 16.5, 23.9, 31.2, 17.5, 17.2, 23.1, 24.5, 26.6, 22.9, 24.1,\n",
       "       18.6, 30.1, 18.2, 20.6, 17.8, 21.7, 22.7, 22.6, 25. , 19.9, 20.8,\n",
       "       16.8, 21.9, 27.5, 21.9, 23.1, 50. , 50. , 50. , 50. , 50. , 13.8,\n",
       "       13.8, 15. , 13.9, 13.3, 13.1, 10.2, 10.4, 10.9, 11.3, 12.3,  8.8,\n",
       "        7.2, 10.5,  7.4, 10.2, 11.5, 15.1, 23.2,  9.7, 13.8, 12.7, 13.1,\n",
       "       12.5,  8.5,  5. ,  6.3,  5.6,  7.2, 12.1,  8.3,  8.5,  5. , 11.9,\n",
       "       27.9, 17.2, 27.5, 15. , 17.2, 17.9, 16.3,  7. ,  7.2,  7.5, 10.4,\n",
       "        8.8,  8.4, 16.7, 14.2, 20.8, 13.4, 11.7,  8.3, 10.2, 10.9, 11. ,\n",
       "        9.5, 14.5, 14.1, 16.1, 14.3, 11.7, 13.4,  9.6,  8.7,  8.4, 12.8,\n",
       "       10.5, 17.1, 18.4, 15.4, 10.8, 11.8, 14.9, 12.6, 14.1, 13. , 13.4,\n",
       "       15.2, 16.1, 17.8, 14.9, 14.1, 12.7, 13.5, 14.9, 20. , 16.4, 17.7,\n",
       "       19.5, 20.2, 21.4, 19.9, 19. , 19.1, 19.1, 20.1, 19.9, 19.6, 23.2,\n",
       "       29.8, 13.8, 13.3, 16.7, 12. , 14.6, 21.4, 23. , 23.7, 25. , 21.8,\n",
       "       20.6, 21.2, 19.1, 20.6, 15.2,  7. ,  8.1, 13.6, 20.1, 21.8, 24.5,\n",
       "       23.1, 19.7, 18.3, 21.2, 17.5, 16.8, 22.4, 20.6, 23.9, 22. , 11.9])"
      ]
     },
     "execution_count": 5,
     "metadata": {},
     "output_type": "execute_result"
    }
   ],
   "source": [
    "boston['target']\n",
    "#타겟 데이터 호출"
   ]
  },
  {
   "cell_type": "code",
   "execution_count": 6,
   "id": "536bcc64",
   "metadata": {},
   "outputs": [
    {
     "data": {
      "text/plain": [
       "array(['CRIM', 'ZN', 'INDUS', 'CHAS', 'NOX', 'RM', 'AGE', 'DIS', 'RAD',\n",
       "       'TAX', 'PTRATIO', 'B', 'LSTAT'], dtype='<U7')"
      ]
     },
     "execution_count": 6,
     "metadata": {},
     "output_type": "execute_result"
    }
   ],
   "source": [
    "boston['feature_names']\n",
    "#특성값(컬럼명) 확인"
   ]
  },
  {
   "cell_type": "markdown",
   "id": "cd0e5aea",
   "metadata": {},
   "source": [
    "## 3. 데이터 전처리\n",
    "\n",
    "- 학습용 데이터라 전처리 필요 X"
   ]
  },
  {
   "cell_type": "markdown",
   "id": "fa1d85b2",
   "metadata": {},
   "source": [
    "## 4. 탐색적 데이터 분석(EDA)"
   ]
  },
  {
   "cell_type": "code",
   "execution_count": 7,
   "id": "324fad65",
   "metadata": {},
   "outputs": [
    {
     "data": {
      "text/html": [
       "<div>\n",
       "<style scoped>\n",
       "    .dataframe tbody tr th:only-of-type {\n",
       "        vertical-align: middle;\n",
       "    }\n",
       "\n",
       "    .dataframe tbody tr th {\n",
       "        vertical-align: top;\n",
       "    }\n",
       "\n",
       "    .dataframe thead th {\n",
       "        text-align: right;\n",
       "    }\n",
       "</style>\n",
       "<table border=\"1\" class=\"dataframe\">\n",
       "  <thead>\n",
       "    <tr style=\"text-align: right;\">\n",
       "      <th></th>\n",
       "      <th>CRIM</th>\n",
       "      <th>ZN</th>\n",
       "      <th>INDUS</th>\n",
       "      <th>CHAS</th>\n",
       "      <th>NOX</th>\n",
       "      <th>RM</th>\n",
       "      <th>AGE</th>\n",
       "      <th>DIS</th>\n",
       "      <th>RAD</th>\n",
       "      <th>TAX</th>\n",
       "      <th>PTRATIO</th>\n",
       "      <th>B</th>\n",
       "      <th>LSTAT</th>\n",
       "    </tr>\n",
       "  </thead>\n",
       "  <tbody>\n",
       "    <tr>\n",
       "      <th>0</th>\n",
       "      <td>0.00632</td>\n",
       "      <td>18.0</td>\n",
       "      <td>2.31</td>\n",
       "      <td>0.0</td>\n",
       "      <td>0.538</td>\n",
       "      <td>6.575</td>\n",
       "      <td>65.2</td>\n",
       "      <td>4.0900</td>\n",
       "      <td>1.0</td>\n",
       "      <td>296.0</td>\n",
       "      <td>15.3</td>\n",
       "      <td>396.90</td>\n",
       "      <td>4.98</td>\n",
       "    </tr>\n",
       "    <tr>\n",
       "      <th>1</th>\n",
       "      <td>0.02731</td>\n",
       "      <td>0.0</td>\n",
       "      <td>7.07</td>\n",
       "      <td>0.0</td>\n",
       "      <td>0.469</td>\n",
       "      <td>6.421</td>\n",
       "      <td>78.9</td>\n",
       "      <td>4.9671</td>\n",
       "      <td>2.0</td>\n",
       "      <td>242.0</td>\n",
       "      <td>17.8</td>\n",
       "      <td>396.90</td>\n",
       "      <td>9.14</td>\n",
       "    </tr>\n",
       "    <tr>\n",
       "      <th>2</th>\n",
       "      <td>0.02729</td>\n",
       "      <td>0.0</td>\n",
       "      <td>7.07</td>\n",
       "      <td>0.0</td>\n",
       "      <td>0.469</td>\n",
       "      <td>7.185</td>\n",
       "      <td>61.1</td>\n",
       "      <td>4.9671</td>\n",
       "      <td>2.0</td>\n",
       "      <td>242.0</td>\n",
       "      <td>17.8</td>\n",
       "      <td>392.83</td>\n",
       "      <td>4.03</td>\n",
       "    </tr>\n",
       "    <tr>\n",
       "      <th>3</th>\n",
       "      <td>0.03237</td>\n",
       "      <td>0.0</td>\n",
       "      <td>2.18</td>\n",
       "      <td>0.0</td>\n",
       "      <td>0.458</td>\n",
       "      <td>6.998</td>\n",
       "      <td>45.8</td>\n",
       "      <td>6.0622</td>\n",
       "      <td>3.0</td>\n",
       "      <td>222.0</td>\n",
       "      <td>18.7</td>\n",
       "      <td>394.63</td>\n",
       "      <td>2.94</td>\n",
       "    </tr>\n",
       "    <tr>\n",
       "      <th>4</th>\n",
       "      <td>0.06905</td>\n",
       "      <td>0.0</td>\n",
       "      <td>2.18</td>\n",
       "      <td>0.0</td>\n",
       "      <td>0.458</td>\n",
       "      <td>7.147</td>\n",
       "      <td>54.2</td>\n",
       "      <td>6.0622</td>\n",
       "      <td>3.0</td>\n",
       "      <td>222.0</td>\n",
       "      <td>18.7</td>\n",
       "      <td>396.90</td>\n",
       "      <td>5.33</td>\n",
       "    </tr>\n",
       "    <tr>\n",
       "      <th>...</th>\n",
       "      <td>...</td>\n",
       "      <td>...</td>\n",
       "      <td>...</td>\n",
       "      <td>...</td>\n",
       "      <td>...</td>\n",
       "      <td>...</td>\n",
       "      <td>...</td>\n",
       "      <td>...</td>\n",
       "      <td>...</td>\n",
       "      <td>...</td>\n",
       "      <td>...</td>\n",
       "      <td>...</td>\n",
       "      <td>...</td>\n",
       "    </tr>\n",
       "    <tr>\n",
       "      <th>501</th>\n",
       "      <td>0.06263</td>\n",
       "      <td>0.0</td>\n",
       "      <td>11.93</td>\n",
       "      <td>0.0</td>\n",
       "      <td>0.573</td>\n",
       "      <td>6.593</td>\n",
       "      <td>69.1</td>\n",
       "      <td>2.4786</td>\n",
       "      <td>1.0</td>\n",
       "      <td>273.0</td>\n",
       "      <td>21.0</td>\n",
       "      <td>391.99</td>\n",
       "      <td>9.67</td>\n",
       "    </tr>\n",
       "    <tr>\n",
       "      <th>502</th>\n",
       "      <td>0.04527</td>\n",
       "      <td>0.0</td>\n",
       "      <td>11.93</td>\n",
       "      <td>0.0</td>\n",
       "      <td>0.573</td>\n",
       "      <td>6.120</td>\n",
       "      <td>76.7</td>\n",
       "      <td>2.2875</td>\n",
       "      <td>1.0</td>\n",
       "      <td>273.0</td>\n",
       "      <td>21.0</td>\n",
       "      <td>396.90</td>\n",
       "      <td>9.08</td>\n",
       "    </tr>\n",
       "    <tr>\n",
       "      <th>503</th>\n",
       "      <td>0.06076</td>\n",
       "      <td>0.0</td>\n",
       "      <td>11.93</td>\n",
       "      <td>0.0</td>\n",
       "      <td>0.573</td>\n",
       "      <td>6.976</td>\n",
       "      <td>91.0</td>\n",
       "      <td>2.1675</td>\n",
       "      <td>1.0</td>\n",
       "      <td>273.0</td>\n",
       "      <td>21.0</td>\n",
       "      <td>396.90</td>\n",
       "      <td>5.64</td>\n",
       "    </tr>\n",
       "    <tr>\n",
       "      <th>504</th>\n",
       "      <td>0.10959</td>\n",
       "      <td>0.0</td>\n",
       "      <td>11.93</td>\n",
       "      <td>0.0</td>\n",
       "      <td>0.573</td>\n",
       "      <td>6.794</td>\n",
       "      <td>89.3</td>\n",
       "      <td>2.3889</td>\n",
       "      <td>1.0</td>\n",
       "      <td>273.0</td>\n",
       "      <td>21.0</td>\n",
       "      <td>393.45</td>\n",
       "      <td>6.48</td>\n",
       "    </tr>\n",
       "    <tr>\n",
       "      <th>505</th>\n",
       "      <td>0.04741</td>\n",
       "      <td>0.0</td>\n",
       "      <td>11.93</td>\n",
       "      <td>0.0</td>\n",
       "      <td>0.573</td>\n",
       "      <td>6.030</td>\n",
       "      <td>80.8</td>\n",
       "      <td>2.5050</td>\n",
       "      <td>1.0</td>\n",
       "      <td>273.0</td>\n",
       "      <td>21.0</td>\n",
       "      <td>396.90</td>\n",
       "      <td>7.88</td>\n",
       "    </tr>\n",
       "  </tbody>\n",
       "</table>\n",
       "<p>506 rows × 13 columns</p>\n",
       "</div>"
      ],
      "text/plain": [
       "        CRIM    ZN  INDUS  CHAS    NOX     RM   AGE     DIS  RAD    TAX  \\\n",
       "0    0.00632  18.0   2.31   0.0  0.538  6.575  65.2  4.0900  1.0  296.0   \n",
       "1    0.02731   0.0   7.07   0.0  0.469  6.421  78.9  4.9671  2.0  242.0   \n",
       "2    0.02729   0.0   7.07   0.0  0.469  7.185  61.1  4.9671  2.0  242.0   \n",
       "3    0.03237   0.0   2.18   0.0  0.458  6.998  45.8  6.0622  3.0  222.0   \n",
       "4    0.06905   0.0   2.18   0.0  0.458  7.147  54.2  6.0622  3.0  222.0   \n",
       "..       ...   ...    ...   ...    ...    ...   ...     ...  ...    ...   \n",
       "501  0.06263   0.0  11.93   0.0  0.573  6.593  69.1  2.4786  1.0  273.0   \n",
       "502  0.04527   0.0  11.93   0.0  0.573  6.120  76.7  2.2875  1.0  273.0   \n",
       "503  0.06076   0.0  11.93   0.0  0.573  6.976  91.0  2.1675  1.0  273.0   \n",
       "504  0.10959   0.0  11.93   0.0  0.573  6.794  89.3  2.3889  1.0  273.0   \n",
       "505  0.04741   0.0  11.93   0.0  0.573  6.030  80.8  2.5050  1.0  273.0   \n",
       "\n",
       "     PTRATIO       B  LSTAT  \n",
       "0       15.3  396.90   4.98  \n",
       "1       17.8  396.90   9.14  \n",
       "2       17.8  392.83   4.03  \n",
       "3       18.7  394.63   2.94  \n",
       "4       18.7  396.90   5.33  \n",
       "..       ...     ...    ...  \n",
       "501     21.0  391.99   9.67  \n",
       "502     21.0  396.90   9.08  \n",
       "503     21.0  396.90   5.64  \n",
       "504     21.0  393.45   6.48  \n",
       "505     21.0  396.90   7.88  \n",
       "\n",
       "[506 rows x 13 columns]"
      ]
     },
     "execution_count": 7,
     "metadata": {},
     "output_type": "execute_result"
    }
   ],
   "source": [
    "# 모델을 학습시킬때 딕셔너리 형태로 학습시키는것이 불가능해 \n",
    "# 데이터프레임으로 변환해야함.\n",
    "\n",
    "x = pd.DataFrame(boston['data'],columns = boston['feature_names'])\n",
    "x"
   ]
  },
  {
   "cell_type": "code",
   "execution_count": 8,
   "id": "05c71df4",
   "metadata": {},
   "outputs": [
    {
     "data": {
      "text/html": [
       "<div>\n",
       "<style scoped>\n",
       "    .dataframe tbody tr th:only-of-type {\n",
       "        vertical-align: middle;\n",
       "    }\n",
       "\n",
       "    .dataframe tbody tr th {\n",
       "        vertical-align: top;\n",
       "    }\n",
       "\n",
       "    .dataframe thead th {\n",
       "        text-align: right;\n",
       "    }\n",
       "</style>\n",
       "<table border=\"1\" class=\"dataframe\">\n",
       "  <thead>\n",
       "    <tr style=\"text-align: right;\">\n",
       "      <th></th>\n",
       "      <th>price</th>\n",
       "    </tr>\n",
       "  </thead>\n",
       "  <tbody>\n",
       "    <tr>\n",
       "      <th>0</th>\n",
       "      <td>24.0</td>\n",
       "    </tr>\n",
       "    <tr>\n",
       "      <th>1</th>\n",
       "      <td>21.6</td>\n",
       "    </tr>\n",
       "    <tr>\n",
       "      <th>2</th>\n",
       "      <td>34.7</td>\n",
       "    </tr>\n",
       "    <tr>\n",
       "      <th>3</th>\n",
       "      <td>33.4</td>\n",
       "    </tr>\n",
       "    <tr>\n",
       "      <th>4</th>\n",
       "      <td>36.2</td>\n",
       "    </tr>\n",
       "    <tr>\n",
       "      <th>...</th>\n",
       "      <td>...</td>\n",
       "    </tr>\n",
       "    <tr>\n",
       "      <th>501</th>\n",
       "      <td>22.4</td>\n",
       "    </tr>\n",
       "    <tr>\n",
       "      <th>502</th>\n",
       "      <td>20.6</td>\n",
       "    </tr>\n",
       "    <tr>\n",
       "      <th>503</th>\n",
       "      <td>23.9</td>\n",
       "    </tr>\n",
       "    <tr>\n",
       "      <th>504</th>\n",
       "      <td>22.0</td>\n",
       "    </tr>\n",
       "    <tr>\n",
       "      <th>505</th>\n",
       "      <td>11.9</td>\n",
       "    </tr>\n",
       "  </tbody>\n",
       "</table>\n",
       "<p>506 rows × 1 columns</p>\n",
       "</div>"
      ],
      "text/plain": [
       "     price\n",
       "0     24.0\n",
       "1     21.6\n",
       "2     34.7\n",
       "3     33.4\n",
       "4     36.2\n",
       "..     ...\n",
       "501   22.4\n",
       "502   20.6\n",
       "503   23.9\n",
       "504   22.0\n",
       "505   11.9\n",
       "\n",
       "[506 rows x 1 columns]"
      ]
     },
     "execution_count": 8,
     "metadata": {},
     "output_type": "execute_result"
    }
   ],
   "source": [
    "y = pd.DataFrame(boston['target'],columns = ['price'])\n",
    "y"
   ]
  },
  {
   "cell_type": "code",
   "execution_count": 9,
   "id": "16874dca",
   "metadata": {},
   "outputs": [
    {
     "name": "stdout",
     "output_type": "stream",
     "text": [
      "<class 'pandas.core.frame.DataFrame'>\n",
      "RangeIndex: 506 entries, 0 to 505\n",
      "Data columns (total 13 columns):\n",
      " #   Column   Non-Null Count  Dtype  \n",
      "---  ------   --------------  -----  \n",
      " 0   CRIM     506 non-null    float64\n",
      " 1   ZN       506 non-null    float64\n",
      " 2   INDUS    506 non-null    float64\n",
      " 3   CHAS     506 non-null    float64\n",
      " 4   NOX      506 non-null    float64\n",
      " 5   RM       506 non-null    float64\n",
      " 6   AGE      506 non-null    float64\n",
      " 7   DIS      506 non-null    float64\n",
      " 8   RAD      506 non-null    float64\n",
      " 9   TAX      506 non-null    float64\n",
      " 10  PTRATIO  506 non-null    float64\n",
      " 11  B        506 non-null    float64\n",
      " 12  LSTAT    506 non-null    float64\n",
      "dtypes: float64(13)\n",
      "memory usage: 51.5 KB\n"
     ]
    }
   ],
   "source": [
    "x.info()\n",
    "#정보 확인"
   ]
  },
  {
   "cell_type": "code",
   "execution_count": 10,
   "id": "1cb0a22d",
   "metadata": {},
   "outputs": [
    {
     "name": "stdout",
     "output_type": "stream",
     "text": [
      "<class 'pandas.core.frame.DataFrame'>\n",
      "RangeIndex: 506 entries, 0 to 505\n",
      "Data columns (total 1 columns):\n",
      " #   Column  Non-Null Count  Dtype  \n",
      "---  ------  --------------  -----  \n",
      " 0   price   506 non-null    float64\n",
      "dtypes: float64(1)\n",
      "memory usage: 4.1 KB\n"
     ]
    }
   ],
   "source": [
    "y.info()"
   ]
  },
  {
   "cell_type": "code",
   "execution_count": 11,
   "id": "5d4e93a8",
   "metadata": {},
   "outputs": [],
   "source": [
    "from sklearn.model_selection import train_test_split"
   ]
  },
  {
   "cell_type": "code",
   "execution_count": 12,
   "id": "d95c7ae1",
   "metadata": {},
   "outputs": [],
   "source": [
    "x_train,x_test,y_train,y_test = train_test_split(x,y,\n",
    "                                                test_size=0.2,\n",
    "                                                random_state=0)\n",
    "#데이터를 train데이터와 test데이터로 분할,test데이터의 비율은 20%"
   ]
  },
  {
   "cell_type": "code",
   "execution_count": 13,
   "id": "8dc203cf",
   "metadata": {},
   "outputs": [
    {
     "data": {
      "text/plain": [
       "(404, 13)"
      ]
     },
     "execution_count": 13,
     "metadata": {},
     "output_type": "execute_result"
    }
   ],
   "source": [
    "x_train.shape\n",
    "#데이터 모형 확인"
   ]
  },
  {
   "cell_type": "code",
   "execution_count": 14,
   "id": "429fb33b",
   "metadata": {},
   "outputs": [
    {
     "data": {
      "text/plain": [
       "(404, 1)"
      ]
     },
     "execution_count": 14,
     "metadata": {},
     "output_type": "execute_result"
    }
   ],
   "source": [
    "y_train.shape"
   ]
  },
  {
   "cell_type": "code",
   "execution_count": 15,
   "id": "346d9567",
   "metadata": {},
   "outputs": [
    {
     "data": {
      "text/plain": [
       "(102, 13)"
      ]
     },
     "execution_count": 15,
     "metadata": {},
     "output_type": "execute_result"
    }
   ],
   "source": [
    "x_test.shape"
   ]
  },
  {
   "cell_type": "code",
   "execution_count": 16,
   "id": "ba7a8733",
   "metadata": {},
   "outputs": [
    {
     "data": {
      "text/plain": [
       "(102, 1)"
      ]
     },
     "execution_count": 16,
     "metadata": {},
     "output_type": "execute_result"
    }
   ],
   "source": [
    "y_test.shape"
   ]
  },
  {
   "cell_type": "markdown",
   "id": "b62afece",
   "metadata": {},
   "source": [
    "### 5. 모델 생성"
   ]
  },
  {
   "cell_type": "code",
   "execution_count": 17,
   "id": "afab04d8",
   "metadata": {},
   "outputs": [],
   "source": [
    "from sklearn.linear_model import LinearRegression\n",
    "from sklearn.metrics import mean_squared_error"
   ]
  },
  {
   "cell_type": "code",
   "execution_count": 18,
   "id": "c8f675b8",
   "metadata": {},
   "outputs": [],
   "source": [
    "lr = LinearRegression()\n",
    "#선형회귀"
   ]
  },
  {
   "cell_type": "code",
   "execution_count": 19,
   "id": "38f2b455",
   "metadata": {},
   "outputs": [
    {
     "data": {
      "text/plain": [
       "LinearRegression()"
      ]
     },
     "execution_count": 19,
     "metadata": {},
     "output_type": "execute_result"
    }
   ],
   "source": [
    "lr.fit(x_train,y_train)\n",
    "#모델 학습"
   ]
  },
  {
   "cell_type": "code",
   "execution_count": 20,
   "id": "6f29d546",
   "metadata": {},
   "outputs": [
    {
     "data": {
      "text/plain": [
       "array([[-1.19443447e-01,  4.47799511e-02,  5.48526168e-03,\n",
       "         2.34080361e+00, -1.61236043e+01,  3.70870901e+00,\n",
       "        -3.12108178e-03, -1.38639737e+00,  2.44178327e-01,\n",
       "        -1.09896366e-02, -1.04592119e+00,  8.11010693e-03,\n",
       "        -4.92792725e-01]])"
      ]
     },
     "execution_count": 20,
     "metadata": {},
     "output_type": "execute_result"
    }
   ],
   "source": [
    "lr.coef_\n",
    "#가중치 확인 함수\n",
    "#결과는 feature(특성,칼럼명)의 개수만큼 나옴"
   ]
  },
  {
   "cell_type": "code",
   "execution_count": 21,
   "id": "b09edb7f",
   "metadata": {},
   "outputs": [
    {
     "data": {
      "text/plain": [
       "array([38.09169493])"
      ]
     },
     "execution_count": 21,
     "metadata": {},
     "output_type": "execute_result"
    }
   ],
   "source": [
    "lr.intercept_\n",
    "#편향값 확인 함수"
   ]
  },
  {
   "cell_type": "markdown",
   "id": "4c8d26d1",
   "metadata": {},
   "source": [
    "### 6. 모델 평가"
   ]
  },
  {
   "cell_type": "code",
   "execution_count": 22,
   "id": "f0f10946",
   "metadata": {},
   "outputs": [],
   "source": [
    "train = lr.predict(x_train)\n",
    "test = lr.predict(x_test)\n",
    "#예측값 생성"
   ]
  },
  {
   "cell_type": "code",
   "execution_count": 23,
   "id": "23bbe05f",
   "metadata": {},
   "outputs": [],
   "source": [
    "train_score = mean_squared_error(train,y_train)\n",
    "test_score = mean_squared_error(test,y_test)\n",
    "\n",
    "#기준은 MSE"
   ]
  },
  {
   "cell_type": "code",
   "execution_count": 24,
   "id": "deaeef7d",
   "metadata": {},
   "outputs": [
    {
     "name": "stdout",
     "output_type": "stream",
     "text": [
      "19.326470203585725\n"
     ]
    }
   ],
   "source": [
    "print(train_score)"
   ]
  },
  {
   "cell_type": "code",
   "execution_count": 25,
   "id": "27d70e60",
   "metadata": {},
   "outputs": [
    {
     "name": "stdout",
     "output_type": "stream",
     "text": [
      "33.44897999767653\n"
     ]
    }
   ],
   "source": [
    "print(test_score)"
   ]
  },
  {
   "cell_type": "code",
   "execution_count": 26,
   "id": "532f0373",
   "metadata": {},
   "outputs": [
    {
     "name": "stdout",
     "output_type": "stream",
     "text": [
      "rmse: 4.396188144698282\n"
     ]
    }
   ],
   "source": [
    "print('rmse:',train_score ** 0.5)\n",
    "#RMSE"
   ]
  },
  {
   "cell_type": "code",
   "execution_count": 27,
   "id": "989af8fe",
   "metadata": {},
   "outputs": [
    {
     "name": "stdout",
     "output_type": "stream",
     "text": [
      "rmse: 5.783509315085135\n"
     ]
    }
   ],
   "source": [
    "print('rmse:',test_score ** 0.5)"
   ]
  },
  {
   "cell_type": "code",
   "execution_count": 28,
   "id": "1349d654",
   "metadata": {},
   "outputs": [
    {
     "name": "stdout",
     "output_type": "stream",
     "text": [
      "-1.387321170386853\n"
     ]
    }
   ],
   "source": [
    "print(train_score ** 0.5 - test_score ** 0.5)\n",
    "#오차"
   ]
  },
  {
   "cell_type": "code",
   "execution_count": 29,
   "id": "2300d016",
   "metadata": {},
   "outputs": [
    {
     "data": {
      "text/plain": [
       "0.7730135569264234"
      ]
     },
     "execution_count": 29,
     "metadata": {},
     "output_type": "execute_result"
    }
   ],
   "source": [
    "lr.score(x_train,y_train)\n",
    "#r2_score"
   ]
  },
  {
   "cell_type": "code",
   "execution_count": 30,
   "id": "aef954c5",
   "metadata": {},
   "outputs": [
    {
     "data": {
      "text/plain": [
       "0.5892223849182507"
      ]
     },
     "execution_count": 30,
     "metadata": {},
     "output_type": "execute_result"
    }
   ],
   "source": [
    "lr.score(x_test,y_test)"
   ]
  },
  {
   "cell_type": "code",
   "execution_count": 31,
   "id": "0a013ef1",
   "metadata": {},
   "outputs": [],
   "source": [
    "from sklearn.metrics import mean_absolute_error"
   ]
  },
  {
   "cell_type": "code",
   "execution_count": 32,
   "id": "f48a65cb",
   "metadata": {},
   "outputs": [],
   "source": [
    "train_score = mean_absolute_error(train,y_train)\n",
    "test_score = mean_absolute_error(test,y_test)"
   ]
  },
  {
   "cell_type": "code",
   "execution_count": 33,
   "id": "351bda99",
   "metadata": {},
   "outputs": [
    {
     "name": "stdout",
     "output_type": "stream",
     "text": [
      "3.10315639657943\n"
     ]
    }
   ],
   "source": [
    "print(train_score)\n",
    "#MAE"
   ]
  },
  {
   "cell_type": "code",
   "execution_count": 34,
   "id": "19c99e40",
   "metadata": {},
   "outputs": [
    {
     "name": "stdout",
     "output_type": "stream",
     "text": [
      "3.842909220444498\n"
     ]
    }
   ],
   "source": [
    "print(test_score)"
   ]
  },
  {
   "cell_type": "code",
   "execution_count": 35,
   "id": "95c5a6f2",
   "metadata": {},
   "outputs": [],
   "source": [
    "from sklearn.metrics import mean_absolute_percentage_error"
   ]
  },
  {
   "cell_type": "code",
   "execution_count": 36,
   "id": "b0bf4ed3",
   "metadata": {},
   "outputs": [],
   "source": [
    "train_score = mean_absolute_percentage_error(train,y_train)\n",
    "test_score = mean_absolute_percentage_error(test,y_test)"
   ]
  },
  {
   "cell_type": "code",
   "execution_count": 37,
   "id": "71a5b942",
   "metadata": {},
   "outputs": [
    {
     "name": "stdout",
     "output_type": "stream",
     "text": [
      "0.18344726250983412\n"
     ]
    }
   ],
   "source": [
    "print(train_score)\n",
    "#MAPE(평균절대비율오차)"
   ]
  },
  {
   "cell_type": "code",
   "execution_count": 38,
   "id": "86894482",
   "metadata": {},
   "outputs": [
    {
     "name": "stdout",
     "output_type": "stream",
     "text": [
      "0.40440562284366\n"
     ]
    }
   ],
   "source": [
    "print(test_score)\n",
    "#MAPE"
   ]
  },
  {
   "cell_type": "markdown",
   "id": "b3e7dac6",
   "metadata": {},
   "source": [
    "### 선형회귀 모델 특성확장\n",
    "- 선형회귀는 특성이 적으면 다른 알고리즘에 비해 성능이 낮게 나오기 때문에 특성확장을 사용해서 모델의 복잡도를 증가\n",
    "- 각 컬럼들의 데이터를 곱하여 새로운 특성으로 확장시켜보자"
   ]
  },
  {
   "cell_type": "code",
   "execution_count": 39,
   "id": "739bebfe",
   "metadata": {},
   "outputs": [],
   "source": [
    "extended_x_train = x_train.copy()\n",
    "#copy() = 복제. \n",
    "#데이터의 값을 바꾸는 상황에서 데이터의 원형을 남기고 싶을때 데이터를 복제한다."
   ]
  },
  {
   "cell_type": "code",
   "execution_count": 40,
   "id": "d93ffac4",
   "metadata": {},
   "outputs": [
    {
     "data": {
      "text/html": [
       "<div>\n",
       "<style scoped>\n",
       "    .dataframe tbody tr th:only-of-type {\n",
       "        vertical-align: middle;\n",
       "    }\n",
       "\n",
       "    .dataframe tbody tr th {\n",
       "        vertical-align: top;\n",
       "    }\n",
       "\n",
       "    .dataframe thead th {\n",
       "        text-align: right;\n",
       "    }\n",
       "</style>\n",
       "<table border=\"1\" class=\"dataframe\">\n",
       "  <thead>\n",
       "    <tr style=\"text-align: right;\">\n",
       "      <th></th>\n",
       "      <th>CRIM</th>\n",
       "      <th>ZN</th>\n",
       "      <th>INDUS</th>\n",
       "      <th>CHAS</th>\n",
       "      <th>NOX</th>\n",
       "      <th>RM</th>\n",
       "      <th>AGE</th>\n",
       "      <th>DIS</th>\n",
       "      <th>RAD</th>\n",
       "      <th>TAX</th>\n",
       "      <th>PTRATIO</th>\n",
       "      <th>B</th>\n",
       "      <th>LSTAT</th>\n",
       "    </tr>\n",
       "  </thead>\n",
       "  <tbody>\n",
       "    <tr>\n",
       "      <th>220</th>\n",
       "      <td>0.35809</td>\n",
       "      <td>0.0</td>\n",
       "      <td>6.20</td>\n",
       "      <td>1.0</td>\n",
       "      <td>0.507</td>\n",
       "      <td>6.951</td>\n",
       "      <td>88.5</td>\n",
       "      <td>2.8617</td>\n",
       "      <td>8.0</td>\n",
       "      <td>307.0</td>\n",
       "      <td>17.4</td>\n",
       "      <td>391.70</td>\n",
       "      <td>9.71</td>\n",
       "    </tr>\n",
       "    <tr>\n",
       "      <th>71</th>\n",
       "      <td>0.15876</td>\n",
       "      <td>0.0</td>\n",
       "      <td>10.81</td>\n",
       "      <td>0.0</td>\n",
       "      <td>0.413</td>\n",
       "      <td>5.961</td>\n",
       "      <td>17.5</td>\n",
       "      <td>5.2873</td>\n",
       "      <td>4.0</td>\n",
       "      <td>305.0</td>\n",
       "      <td>19.2</td>\n",
       "      <td>376.94</td>\n",
       "      <td>9.88</td>\n",
       "    </tr>\n",
       "    <tr>\n",
       "      <th>240</th>\n",
       "      <td>0.11329</td>\n",
       "      <td>30.0</td>\n",
       "      <td>4.93</td>\n",
       "      <td>0.0</td>\n",
       "      <td>0.428</td>\n",
       "      <td>6.897</td>\n",
       "      <td>54.3</td>\n",
       "      <td>6.3361</td>\n",
       "      <td>6.0</td>\n",
       "      <td>300.0</td>\n",
       "      <td>16.6</td>\n",
       "      <td>391.25</td>\n",
       "      <td>11.38</td>\n",
       "    </tr>\n",
       "    <tr>\n",
       "      <th>6</th>\n",
       "      <td>0.08829</td>\n",
       "      <td>12.5</td>\n",
       "      <td>7.87</td>\n",
       "      <td>0.0</td>\n",
       "      <td>0.524</td>\n",
       "      <td>6.012</td>\n",
       "      <td>66.6</td>\n",
       "      <td>5.5605</td>\n",
       "      <td>5.0</td>\n",
       "      <td>311.0</td>\n",
       "      <td>15.2</td>\n",
       "      <td>395.60</td>\n",
       "      <td>12.43</td>\n",
       "    </tr>\n",
       "    <tr>\n",
       "      <th>417</th>\n",
       "      <td>25.94060</td>\n",
       "      <td>0.0</td>\n",
       "      <td>18.10</td>\n",
       "      <td>0.0</td>\n",
       "      <td>0.679</td>\n",
       "      <td>5.304</td>\n",
       "      <td>89.1</td>\n",
       "      <td>1.6475</td>\n",
       "      <td>24.0</td>\n",
       "      <td>666.0</td>\n",
       "      <td>20.2</td>\n",
       "      <td>127.36</td>\n",
       "      <td>26.64</td>\n",
       "    </tr>\n",
       "  </tbody>\n",
       "</table>\n",
       "</div>"
      ],
      "text/plain": [
       "         CRIM    ZN  INDUS  CHAS    NOX     RM   AGE     DIS   RAD    TAX  \\\n",
       "220   0.35809   0.0   6.20   1.0  0.507  6.951  88.5  2.8617   8.0  307.0   \n",
       "71    0.15876   0.0  10.81   0.0  0.413  5.961  17.5  5.2873   4.0  305.0   \n",
       "240   0.11329  30.0   4.93   0.0  0.428  6.897  54.3  6.3361   6.0  300.0   \n",
       "6     0.08829  12.5   7.87   0.0  0.524  6.012  66.6  5.5605   5.0  311.0   \n",
       "417  25.94060   0.0  18.10   0.0  0.679  5.304  89.1  1.6475  24.0  666.0   \n",
       "\n",
       "     PTRATIO       B  LSTAT  \n",
       "220     17.4  391.70   9.71  \n",
       "71      19.2  376.94   9.88  \n",
       "240     16.6  391.25  11.38  \n",
       "6       15.2  395.60  12.43  \n",
       "417     20.2  127.36  26.64  "
      ]
     },
     "execution_count": 40,
     "metadata": {},
     "output_type": "execute_result"
    }
   ],
   "source": [
    "extended_x_train.head()"
   ]
  },
  {
   "cell_type": "code",
   "execution_count": 41,
   "id": "fcd03cc5",
   "metadata": {},
   "outputs": [
    {
     "name": "stderr",
     "output_type": "stream",
     "text": [
      "C:\\Users\\user\\AppData\\Local\\Temp\\ipykernel_12264\\271221717.py:6: PerformanceWarning: DataFrame is highly fragmented.  This is usually the result of calling `frame.insert` many times, which has poor performance.  Consider joining all columns at once using pd.concat(axis=1) instead. To get a de-fragmented frame, use `newframe = frame.copy()`\n",
      "  extended_x_train[col1+'x'+col2] = x_train[col1]*x_train[col2]\n",
      "C:\\Users\\user\\AppData\\Local\\Temp\\ipykernel_12264\\271221717.py:6: PerformanceWarning: DataFrame is highly fragmented.  This is usually the result of calling `frame.insert` many times, which has poor performance.  Consider joining all columns at once using pd.concat(axis=1) instead. To get a de-fragmented frame, use `newframe = frame.copy()`\n",
      "  extended_x_train[col1+'x'+col2] = x_train[col1]*x_train[col2]\n",
      "C:\\Users\\user\\AppData\\Local\\Temp\\ipykernel_12264\\271221717.py:6: PerformanceWarning: DataFrame is highly fragmented.  This is usually the result of calling `frame.insert` many times, which has poor performance.  Consider joining all columns at once using pd.concat(axis=1) instead. To get a de-fragmented frame, use `newframe = frame.copy()`\n",
      "  extended_x_train[col1+'x'+col2] = x_train[col1]*x_train[col2]\n",
      "C:\\Users\\user\\AppData\\Local\\Temp\\ipykernel_12264\\271221717.py:6: PerformanceWarning: DataFrame is highly fragmented.  This is usually the result of calling `frame.insert` many times, which has poor performance.  Consider joining all columns at once using pd.concat(axis=1) instead. To get a de-fragmented frame, use `newframe = frame.copy()`\n",
      "  extended_x_train[col1+'x'+col2] = x_train[col1]*x_train[col2]\n",
      "C:\\Users\\user\\AppData\\Local\\Temp\\ipykernel_12264\\271221717.py:6: PerformanceWarning: DataFrame is highly fragmented.  This is usually the result of calling `frame.insert` many times, which has poor performance.  Consider joining all columns at once using pd.concat(axis=1) instead. To get a de-fragmented frame, use `newframe = frame.copy()`\n",
      "  extended_x_train[col1+'x'+col2] = x_train[col1]*x_train[col2]\n",
      "C:\\Users\\user\\AppData\\Local\\Temp\\ipykernel_12264\\271221717.py:6: PerformanceWarning: DataFrame is highly fragmented.  This is usually the result of calling `frame.insert` many times, which has poor performance.  Consider joining all columns at once using pd.concat(axis=1) instead. To get a de-fragmented frame, use `newframe = frame.copy()`\n",
      "  extended_x_train[col1+'x'+col2] = x_train[col1]*x_train[col2]\n",
      "C:\\Users\\user\\AppData\\Local\\Temp\\ipykernel_12264\\271221717.py:6: PerformanceWarning: DataFrame is highly fragmented.  This is usually the result of calling `frame.insert` many times, which has poor performance.  Consider joining all columns at once using pd.concat(axis=1) instead. To get a de-fragmented frame, use `newframe = frame.copy()`\n",
      "  extended_x_train[col1+'x'+col2] = x_train[col1]*x_train[col2]\n",
      "C:\\Users\\user\\AppData\\Local\\Temp\\ipykernel_12264\\271221717.py:6: PerformanceWarning: DataFrame is highly fragmented.  This is usually the result of calling `frame.insert` many times, which has poor performance.  Consider joining all columns at once using pd.concat(axis=1) instead. To get a de-fragmented frame, use `newframe = frame.copy()`\n",
      "  extended_x_train[col1+'x'+col2] = x_train[col1]*x_train[col2]\n",
      "C:\\Users\\user\\AppData\\Local\\Temp\\ipykernel_12264\\271221717.py:6: PerformanceWarning: DataFrame is highly fragmented.  This is usually the result of calling `frame.insert` many times, which has poor performance.  Consider joining all columns at once using pd.concat(axis=1) instead. To get a de-fragmented frame, use `newframe = frame.copy()`\n",
      "  extended_x_train[col1+'x'+col2] = x_train[col1]*x_train[col2]\n",
      "C:\\Users\\user\\AppData\\Local\\Temp\\ipykernel_12264\\271221717.py:6: PerformanceWarning: DataFrame is highly fragmented.  This is usually the result of calling `frame.insert` many times, which has poor performance.  Consider joining all columns at once using pd.concat(axis=1) instead. To get a de-fragmented frame, use `newframe = frame.copy()`\n",
      "  extended_x_train[col1+'x'+col2] = x_train[col1]*x_train[col2]\n",
      "C:\\Users\\user\\AppData\\Local\\Temp\\ipykernel_12264\\271221717.py:6: PerformanceWarning: DataFrame is highly fragmented.  This is usually the result of calling `frame.insert` many times, which has poor performance.  Consider joining all columns at once using pd.concat(axis=1) instead. To get a de-fragmented frame, use `newframe = frame.copy()`\n",
      "  extended_x_train[col1+'x'+col2] = x_train[col1]*x_train[col2]\n",
      "C:\\Users\\user\\AppData\\Local\\Temp\\ipykernel_12264\\271221717.py:6: PerformanceWarning: DataFrame is highly fragmented.  This is usually the result of calling `frame.insert` many times, which has poor performance.  Consider joining all columns at once using pd.concat(axis=1) instead. To get a de-fragmented frame, use `newframe = frame.copy()`\n",
      "  extended_x_train[col1+'x'+col2] = x_train[col1]*x_train[col2]\n",
      "C:\\Users\\user\\AppData\\Local\\Temp\\ipykernel_12264\\271221717.py:6: PerformanceWarning: DataFrame is highly fragmented.  This is usually the result of calling `frame.insert` many times, which has poor performance.  Consider joining all columns at once using pd.concat(axis=1) instead. To get a de-fragmented frame, use `newframe = frame.copy()`\n",
      "  extended_x_train[col1+'x'+col2] = x_train[col1]*x_train[col2]\n",
      "C:\\Users\\user\\AppData\\Local\\Temp\\ipykernel_12264\\271221717.py:6: PerformanceWarning: DataFrame is highly fragmented.  This is usually the result of calling `frame.insert` many times, which has poor performance.  Consider joining all columns at once using pd.concat(axis=1) instead. To get a de-fragmented frame, use `newframe = frame.copy()`\n",
      "  extended_x_train[col1+'x'+col2] = x_train[col1]*x_train[col2]\n",
      "C:\\Users\\user\\AppData\\Local\\Temp\\ipykernel_12264\\271221717.py:6: PerformanceWarning: DataFrame is highly fragmented.  This is usually the result of calling `frame.insert` many times, which has poor performance.  Consider joining all columns at once using pd.concat(axis=1) instead. To get a de-fragmented frame, use `newframe = frame.copy()`\n",
      "  extended_x_train[col1+'x'+col2] = x_train[col1]*x_train[col2]\n",
      "C:\\Users\\user\\AppData\\Local\\Temp\\ipykernel_12264\\271221717.py:6: PerformanceWarning: DataFrame is highly fragmented.  This is usually the result of calling `frame.insert` many times, which has poor performance.  Consider joining all columns at once using pd.concat(axis=1) instead. To get a de-fragmented frame, use `newframe = frame.copy()`\n",
      "  extended_x_train[col1+'x'+col2] = x_train[col1]*x_train[col2]\n",
      "C:\\Users\\user\\AppData\\Local\\Temp\\ipykernel_12264\\271221717.py:6: PerformanceWarning: DataFrame is highly fragmented.  This is usually the result of calling `frame.insert` many times, which has poor performance.  Consider joining all columns at once using pd.concat(axis=1) instead. To get a de-fragmented frame, use `newframe = frame.copy()`\n",
      "  extended_x_train[col1+'x'+col2] = x_train[col1]*x_train[col2]\n",
      "C:\\Users\\user\\AppData\\Local\\Temp\\ipykernel_12264\\271221717.py:6: PerformanceWarning: DataFrame is highly fragmented.  This is usually the result of calling `frame.insert` many times, which has poor performance.  Consider joining all columns at once using pd.concat(axis=1) instead. To get a de-fragmented frame, use `newframe = frame.copy()`\n",
      "  extended_x_train[col1+'x'+col2] = x_train[col1]*x_train[col2]\n",
      "C:\\Users\\user\\AppData\\Local\\Temp\\ipykernel_12264\\271221717.py:6: PerformanceWarning: DataFrame is highly fragmented.  This is usually the result of calling `frame.insert` many times, which has poor performance.  Consider joining all columns at once using pd.concat(axis=1) instead. To get a de-fragmented frame, use `newframe = frame.copy()`\n",
      "  extended_x_train[col1+'x'+col2] = x_train[col1]*x_train[col2]\n",
      "C:\\Users\\user\\AppData\\Local\\Temp\\ipykernel_12264\\271221717.py:6: PerformanceWarning: DataFrame is highly fragmented.  This is usually the result of calling `frame.insert` many times, which has poor performance.  Consider joining all columns at once using pd.concat(axis=1) instead. To get a de-fragmented frame, use `newframe = frame.copy()`\n",
      "  extended_x_train[col1+'x'+col2] = x_train[col1]*x_train[col2]\n",
      "C:\\Users\\user\\AppData\\Local\\Temp\\ipykernel_12264\\271221717.py:6: PerformanceWarning: DataFrame is highly fragmented.  This is usually the result of calling `frame.insert` many times, which has poor performance.  Consider joining all columns at once using pd.concat(axis=1) instead. To get a de-fragmented frame, use `newframe = frame.copy()`\n",
      "  extended_x_train[col1+'x'+col2] = x_train[col1]*x_train[col2]\n",
      "C:\\Users\\user\\AppData\\Local\\Temp\\ipykernel_12264\\271221717.py:6: PerformanceWarning: DataFrame is highly fragmented.  This is usually the result of calling `frame.insert` many times, which has poor performance.  Consider joining all columns at once using pd.concat(axis=1) instead. To get a de-fragmented frame, use `newframe = frame.copy()`\n",
      "  extended_x_train[col1+'x'+col2] = x_train[col1]*x_train[col2]\n",
      "C:\\Users\\user\\AppData\\Local\\Temp\\ipykernel_12264\\271221717.py:6: PerformanceWarning: DataFrame is highly fragmented.  This is usually the result of calling `frame.insert` many times, which has poor performance.  Consider joining all columns at once using pd.concat(axis=1) instead. To get a de-fragmented frame, use `newframe = frame.copy()`\n",
      "  extended_x_train[col1+'x'+col2] = x_train[col1]*x_train[col2]\n",
      "C:\\Users\\user\\AppData\\Local\\Temp\\ipykernel_12264\\271221717.py:6: PerformanceWarning: DataFrame is highly fragmented.  This is usually the result of calling `frame.insert` many times, which has poor performance.  Consider joining all columns at once using pd.concat(axis=1) instead. To get a de-fragmented frame, use `newframe = frame.copy()`\n",
      "  extended_x_train[col1+'x'+col2] = x_train[col1]*x_train[col2]\n",
      "C:\\Users\\user\\AppData\\Local\\Temp\\ipykernel_12264\\271221717.py:6: PerformanceWarning: DataFrame is highly fragmented.  This is usually the result of calling `frame.insert` many times, which has poor performance.  Consider joining all columns at once using pd.concat(axis=1) instead. To get a de-fragmented frame, use `newframe = frame.copy()`\n",
      "  extended_x_train[col1+'x'+col2] = x_train[col1]*x_train[col2]\n",
      "C:\\Users\\user\\AppData\\Local\\Temp\\ipykernel_12264\\271221717.py:6: PerformanceWarning: DataFrame is highly fragmented.  This is usually the result of calling `frame.insert` many times, which has poor performance.  Consider joining all columns at once using pd.concat(axis=1) instead. To get a de-fragmented frame, use `newframe = frame.copy()`\n",
      "  extended_x_train[col1+'x'+col2] = x_train[col1]*x_train[col2]\n",
      "C:\\Users\\user\\AppData\\Local\\Temp\\ipykernel_12264\\271221717.py:6: PerformanceWarning: DataFrame is highly fragmented.  This is usually the result of calling `frame.insert` many times, which has poor performance.  Consider joining all columns at once using pd.concat(axis=1) instead. To get a de-fragmented frame, use `newframe = frame.copy()`\n",
      "  extended_x_train[col1+'x'+col2] = x_train[col1]*x_train[col2]\n",
      "C:\\Users\\user\\AppData\\Local\\Temp\\ipykernel_12264\\271221717.py:6: PerformanceWarning: DataFrame is highly fragmented.  This is usually the result of calling `frame.insert` many times, which has poor performance.  Consider joining all columns at once using pd.concat(axis=1) instead. To get a de-fragmented frame, use `newframe = frame.copy()`\n",
      "  extended_x_train[col1+'x'+col2] = x_train[col1]*x_train[col2]\n",
      "C:\\Users\\user\\AppData\\Local\\Temp\\ipykernel_12264\\271221717.py:6: PerformanceWarning: DataFrame is highly fragmented.  This is usually the result of calling `frame.insert` many times, which has poor performance.  Consider joining all columns at once using pd.concat(axis=1) instead. To get a de-fragmented frame, use `newframe = frame.copy()`\n",
      "  extended_x_train[col1+'x'+col2] = x_train[col1]*x_train[col2]\n",
      "C:\\Users\\user\\AppData\\Local\\Temp\\ipykernel_12264\\271221717.py:6: PerformanceWarning: DataFrame is highly fragmented.  This is usually the result of calling `frame.insert` many times, which has poor performance.  Consider joining all columns at once using pd.concat(axis=1) instead. To get a de-fragmented frame, use `newframe = frame.copy()`\n",
      "  extended_x_train[col1+'x'+col2] = x_train[col1]*x_train[col2]\n",
      "C:\\Users\\user\\AppData\\Local\\Temp\\ipykernel_12264\\271221717.py:6: PerformanceWarning: DataFrame is highly fragmented.  This is usually the result of calling `frame.insert` many times, which has poor performance.  Consider joining all columns at once using pd.concat(axis=1) instead. To get a de-fragmented frame, use `newframe = frame.copy()`\n",
      "  extended_x_train[col1+'x'+col2] = x_train[col1]*x_train[col2]\n",
      "C:\\Users\\user\\AppData\\Local\\Temp\\ipykernel_12264\\271221717.py:6: PerformanceWarning: DataFrame is highly fragmented.  This is usually the result of calling `frame.insert` many times, which has poor performance.  Consider joining all columns at once using pd.concat(axis=1) instead. To get a de-fragmented frame, use `newframe = frame.copy()`\n",
      "  extended_x_train[col1+'x'+col2] = x_train[col1]*x_train[col2]\n",
      "C:\\Users\\user\\AppData\\Local\\Temp\\ipykernel_12264\\271221717.py:6: PerformanceWarning: DataFrame is highly fragmented.  This is usually the result of calling `frame.insert` many times, which has poor performance.  Consider joining all columns at once using pd.concat(axis=1) instead. To get a de-fragmented frame, use `newframe = frame.copy()`\n",
      "  extended_x_train[col1+'x'+col2] = x_train[col1]*x_train[col2]\n",
      "C:\\Users\\user\\AppData\\Local\\Temp\\ipykernel_12264\\271221717.py:6: PerformanceWarning: DataFrame is highly fragmented.  This is usually the result of calling `frame.insert` many times, which has poor performance.  Consider joining all columns at once using pd.concat(axis=1) instead. To get a de-fragmented frame, use `newframe = frame.copy()`\n",
      "  extended_x_train[col1+'x'+col2] = x_train[col1]*x_train[col2]\n",
      "C:\\Users\\user\\AppData\\Local\\Temp\\ipykernel_12264\\271221717.py:6: PerformanceWarning: DataFrame is highly fragmented.  This is usually the result of calling `frame.insert` many times, which has poor performance.  Consider joining all columns at once using pd.concat(axis=1) instead. To get a de-fragmented frame, use `newframe = frame.copy()`\n",
      "  extended_x_train[col1+'x'+col2] = x_train[col1]*x_train[col2]\n",
      "C:\\Users\\user\\AppData\\Local\\Temp\\ipykernel_12264\\271221717.py:6: PerformanceWarning: DataFrame is highly fragmented.  This is usually the result of calling `frame.insert` many times, which has poor performance.  Consider joining all columns at once using pd.concat(axis=1) instead. To get a de-fragmented frame, use `newframe = frame.copy()`\n",
      "  extended_x_train[col1+'x'+col2] = x_train[col1]*x_train[col2]\n",
      "C:\\Users\\user\\AppData\\Local\\Temp\\ipykernel_12264\\271221717.py:6: PerformanceWarning: DataFrame is highly fragmented.  This is usually the result of calling `frame.insert` many times, which has poor performance.  Consider joining all columns at once using pd.concat(axis=1) instead. To get a de-fragmented frame, use `newframe = frame.copy()`\n",
      "  extended_x_train[col1+'x'+col2] = x_train[col1]*x_train[col2]\n",
      "C:\\Users\\user\\AppData\\Local\\Temp\\ipykernel_12264\\271221717.py:6: PerformanceWarning: DataFrame is highly fragmented.  This is usually the result of calling `frame.insert` many times, which has poor performance.  Consider joining all columns at once using pd.concat(axis=1) instead. To get a de-fragmented frame, use `newframe = frame.copy()`\n",
      "  extended_x_train[col1+'x'+col2] = x_train[col1]*x_train[col2]\n",
      "C:\\Users\\user\\AppData\\Local\\Temp\\ipykernel_12264\\271221717.py:6: PerformanceWarning: DataFrame is highly fragmented.  This is usually the result of calling `frame.insert` many times, which has poor performance.  Consider joining all columns at once using pd.concat(axis=1) instead. To get a de-fragmented frame, use `newframe = frame.copy()`\n",
      "  extended_x_train[col1+'x'+col2] = x_train[col1]*x_train[col2]\n",
      "C:\\Users\\user\\AppData\\Local\\Temp\\ipykernel_12264\\271221717.py:6: PerformanceWarning: DataFrame is highly fragmented.  This is usually the result of calling `frame.insert` many times, which has poor performance.  Consider joining all columns at once using pd.concat(axis=1) instead. To get a de-fragmented frame, use `newframe = frame.copy()`\n",
      "  extended_x_train[col1+'x'+col2] = x_train[col1]*x_train[col2]\n",
      "C:\\Users\\user\\AppData\\Local\\Temp\\ipykernel_12264\\271221717.py:6: PerformanceWarning: DataFrame is highly fragmented.  This is usually the result of calling `frame.insert` many times, which has poor performance.  Consider joining all columns at once using pd.concat(axis=1) instead. To get a de-fragmented frame, use `newframe = frame.copy()`\n",
      "  extended_x_train[col1+'x'+col2] = x_train[col1]*x_train[col2]\n",
      "C:\\Users\\user\\AppData\\Local\\Temp\\ipykernel_12264\\271221717.py:6: PerformanceWarning: DataFrame is highly fragmented.  This is usually the result of calling `frame.insert` many times, which has poor performance.  Consider joining all columns at once using pd.concat(axis=1) instead. To get a de-fragmented frame, use `newframe = frame.copy()`\n",
      "  extended_x_train[col1+'x'+col2] = x_train[col1]*x_train[col2]\n",
      "C:\\Users\\user\\AppData\\Local\\Temp\\ipykernel_12264\\271221717.py:6: PerformanceWarning: DataFrame is highly fragmented.  This is usually the result of calling `frame.insert` many times, which has poor performance.  Consider joining all columns at once using pd.concat(axis=1) instead. To get a de-fragmented frame, use `newframe = frame.copy()`\n",
      "  extended_x_train[col1+'x'+col2] = x_train[col1]*x_train[col2]\n",
      "C:\\Users\\user\\AppData\\Local\\Temp\\ipykernel_12264\\271221717.py:6: PerformanceWarning: DataFrame is highly fragmented.  This is usually the result of calling `frame.insert` many times, which has poor performance.  Consider joining all columns at once using pd.concat(axis=1) instead. To get a de-fragmented frame, use `newframe = frame.copy()`\n",
      "  extended_x_train[col1+'x'+col2] = x_train[col1]*x_train[col2]\n",
      "C:\\Users\\user\\AppData\\Local\\Temp\\ipykernel_12264\\271221717.py:6: PerformanceWarning: DataFrame is highly fragmented.  This is usually the result of calling `frame.insert` many times, which has poor performance.  Consider joining all columns at once using pd.concat(axis=1) instead. To get a de-fragmented frame, use `newframe = frame.copy()`\n",
      "  extended_x_train[col1+'x'+col2] = x_train[col1]*x_train[col2]\n",
      "C:\\Users\\user\\AppData\\Local\\Temp\\ipykernel_12264\\271221717.py:6: PerformanceWarning: DataFrame is highly fragmented.  This is usually the result of calling `frame.insert` many times, which has poor performance.  Consider joining all columns at once using pd.concat(axis=1) instead. To get a de-fragmented frame, use `newframe = frame.copy()`\n",
      "  extended_x_train[col1+'x'+col2] = x_train[col1]*x_train[col2]\n",
      "C:\\Users\\user\\AppData\\Local\\Temp\\ipykernel_12264\\271221717.py:6: PerformanceWarning: DataFrame is highly fragmented.  This is usually the result of calling `frame.insert` many times, which has poor performance.  Consider joining all columns at once using pd.concat(axis=1) instead. To get a de-fragmented frame, use `newframe = frame.copy()`\n",
      "  extended_x_train[col1+'x'+col2] = x_train[col1]*x_train[col2]\n",
      "C:\\Users\\user\\AppData\\Local\\Temp\\ipykernel_12264\\271221717.py:6: PerformanceWarning: DataFrame is highly fragmented.  This is usually the result of calling `frame.insert` many times, which has poor performance.  Consider joining all columns at once using pd.concat(axis=1) instead. To get a de-fragmented frame, use `newframe = frame.copy()`\n",
      "  extended_x_train[col1+'x'+col2] = x_train[col1]*x_train[col2]\n",
      "C:\\Users\\user\\AppData\\Local\\Temp\\ipykernel_12264\\271221717.py:6: PerformanceWarning: DataFrame is highly fragmented.  This is usually the result of calling `frame.insert` many times, which has poor performance.  Consider joining all columns at once using pd.concat(axis=1) instead. To get a de-fragmented frame, use `newframe = frame.copy()`\n",
      "  extended_x_train[col1+'x'+col2] = x_train[col1]*x_train[col2]\n",
      "C:\\Users\\user\\AppData\\Local\\Temp\\ipykernel_12264\\271221717.py:6: PerformanceWarning: DataFrame is highly fragmented.  This is usually the result of calling `frame.insert` many times, which has poor performance.  Consider joining all columns at once using pd.concat(axis=1) instead. To get a de-fragmented frame, use `newframe = frame.copy()`\n",
      "  extended_x_train[col1+'x'+col2] = x_train[col1]*x_train[col2]\n",
      "C:\\Users\\user\\AppData\\Local\\Temp\\ipykernel_12264\\271221717.py:6: PerformanceWarning: DataFrame is highly fragmented.  This is usually the result of calling `frame.insert` many times, which has poor performance.  Consider joining all columns at once using pd.concat(axis=1) instead. To get a de-fragmented frame, use `newframe = frame.copy()`\n",
      "  extended_x_train[col1+'x'+col2] = x_train[col1]*x_train[col2]\n",
      "C:\\Users\\user\\AppData\\Local\\Temp\\ipykernel_12264\\271221717.py:6: PerformanceWarning: DataFrame is highly fragmented.  This is usually the result of calling `frame.insert` many times, which has poor performance.  Consider joining all columns at once using pd.concat(axis=1) instead. To get a de-fragmented frame, use `newframe = frame.copy()`\n",
      "  extended_x_train[col1+'x'+col2] = x_train[col1]*x_train[col2]\n"
     ]
    },
    {
     "name": "stderr",
     "output_type": "stream",
     "text": [
      "C:\\Users\\user\\AppData\\Local\\Temp\\ipykernel_12264\\271221717.py:6: PerformanceWarning: DataFrame is highly fragmented.  This is usually the result of calling `frame.insert` many times, which has poor performance.  Consider joining all columns at once using pd.concat(axis=1) instead. To get a de-fragmented frame, use `newframe = frame.copy()`\n",
      "  extended_x_train[col1+'x'+col2] = x_train[col1]*x_train[col2]\n",
      "C:\\Users\\user\\AppData\\Local\\Temp\\ipykernel_12264\\271221717.py:6: PerformanceWarning: DataFrame is highly fragmented.  This is usually the result of calling `frame.insert` many times, which has poor performance.  Consider joining all columns at once using pd.concat(axis=1) instead. To get a de-fragmented frame, use `newframe = frame.copy()`\n",
      "  extended_x_train[col1+'x'+col2] = x_train[col1]*x_train[col2]\n",
      "C:\\Users\\user\\AppData\\Local\\Temp\\ipykernel_12264\\271221717.py:6: PerformanceWarning: DataFrame is highly fragmented.  This is usually the result of calling `frame.insert` many times, which has poor performance.  Consider joining all columns at once using pd.concat(axis=1) instead. To get a de-fragmented frame, use `newframe = frame.copy()`\n",
      "  extended_x_train[col1+'x'+col2] = x_train[col1]*x_train[col2]\n",
      "C:\\Users\\user\\AppData\\Local\\Temp\\ipykernel_12264\\271221717.py:6: PerformanceWarning: DataFrame is highly fragmented.  This is usually the result of calling `frame.insert` many times, which has poor performance.  Consider joining all columns at once using pd.concat(axis=1) instead. To get a de-fragmented frame, use `newframe = frame.copy()`\n",
      "  extended_x_train[col1+'x'+col2] = x_train[col1]*x_train[col2]\n",
      "C:\\Users\\user\\AppData\\Local\\Temp\\ipykernel_12264\\271221717.py:6: PerformanceWarning: DataFrame is highly fragmented.  This is usually the result of calling `frame.insert` many times, which has poor performance.  Consider joining all columns at once using pd.concat(axis=1) instead. To get a de-fragmented frame, use `newframe = frame.copy()`\n",
      "  extended_x_train[col1+'x'+col2] = x_train[col1]*x_train[col2]\n",
      "C:\\Users\\user\\AppData\\Local\\Temp\\ipykernel_12264\\271221717.py:6: PerformanceWarning: DataFrame is highly fragmented.  This is usually the result of calling `frame.insert` many times, which has poor performance.  Consider joining all columns at once using pd.concat(axis=1) instead. To get a de-fragmented frame, use `newframe = frame.copy()`\n",
      "  extended_x_train[col1+'x'+col2] = x_train[col1]*x_train[col2]\n",
      "C:\\Users\\user\\AppData\\Local\\Temp\\ipykernel_12264\\271221717.py:6: PerformanceWarning: DataFrame is highly fragmented.  This is usually the result of calling `frame.insert` many times, which has poor performance.  Consider joining all columns at once using pd.concat(axis=1) instead. To get a de-fragmented frame, use `newframe = frame.copy()`\n",
      "  extended_x_train[col1+'x'+col2] = x_train[col1]*x_train[col2]\n",
      "C:\\Users\\user\\AppData\\Local\\Temp\\ipykernel_12264\\271221717.py:6: PerformanceWarning: DataFrame is highly fragmented.  This is usually the result of calling `frame.insert` many times, which has poor performance.  Consider joining all columns at once using pd.concat(axis=1) instead. To get a de-fragmented frame, use `newframe = frame.copy()`\n",
      "  extended_x_train[col1+'x'+col2] = x_train[col1]*x_train[col2]\n",
      "C:\\Users\\user\\AppData\\Local\\Temp\\ipykernel_12264\\271221717.py:6: PerformanceWarning: DataFrame is highly fragmented.  This is usually the result of calling `frame.insert` many times, which has poor performance.  Consider joining all columns at once using pd.concat(axis=1) instead. To get a de-fragmented frame, use `newframe = frame.copy()`\n",
      "  extended_x_train[col1+'x'+col2] = x_train[col1]*x_train[col2]\n",
      "C:\\Users\\user\\AppData\\Local\\Temp\\ipykernel_12264\\271221717.py:6: PerformanceWarning: DataFrame is highly fragmented.  This is usually the result of calling `frame.insert` many times, which has poor performance.  Consider joining all columns at once using pd.concat(axis=1) instead. To get a de-fragmented frame, use `newframe = frame.copy()`\n",
      "  extended_x_train[col1+'x'+col2] = x_train[col1]*x_train[col2]\n",
      "C:\\Users\\user\\AppData\\Local\\Temp\\ipykernel_12264\\271221717.py:6: PerformanceWarning: DataFrame is highly fragmented.  This is usually the result of calling `frame.insert` many times, which has poor performance.  Consider joining all columns at once using pd.concat(axis=1) instead. To get a de-fragmented frame, use `newframe = frame.copy()`\n",
      "  extended_x_train[col1+'x'+col2] = x_train[col1]*x_train[col2]\n",
      "C:\\Users\\user\\AppData\\Local\\Temp\\ipykernel_12264\\271221717.py:6: PerformanceWarning: DataFrame is highly fragmented.  This is usually the result of calling `frame.insert` many times, which has poor performance.  Consider joining all columns at once using pd.concat(axis=1) instead. To get a de-fragmented frame, use `newframe = frame.copy()`\n",
      "  extended_x_train[col1+'x'+col2] = x_train[col1]*x_train[col2]\n",
      "C:\\Users\\user\\AppData\\Local\\Temp\\ipykernel_12264\\271221717.py:6: PerformanceWarning: DataFrame is highly fragmented.  This is usually the result of calling `frame.insert` many times, which has poor performance.  Consider joining all columns at once using pd.concat(axis=1) instead. To get a de-fragmented frame, use `newframe = frame.copy()`\n",
      "  extended_x_train[col1+'x'+col2] = x_train[col1]*x_train[col2]\n",
      "C:\\Users\\user\\AppData\\Local\\Temp\\ipykernel_12264\\271221717.py:6: PerformanceWarning: DataFrame is highly fragmented.  This is usually the result of calling `frame.insert` many times, which has poor performance.  Consider joining all columns at once using pd.concat(axis=1) instead. To get a de-fragmented frame, use `newframe = frame.copy()`\n",
      "  extended_x_train[col1+'x'+col2] = x_train[col1]*x_train[col2]\n",
      "C:\\Users\\user\\AppData\\Local\\Temp\\ipykernel_12264\\271221717.py:6: PerformanceWarning: DataFrame is highly fragmented.  This is usually the result of calling `frame.insert` many times, which has poor performance.  Consider joining all columns at once using pd.concat(axis=1) instead. To get a de-fragmented frame, use `newframe = frame.copy()`\n",
      "  extended_x_train[col1+'x'+col2] = x_train[col1]*x_train[col2]\n",
      "C:\\Users\\user\\AppData\\Local\\Temp\\ipykernel_12264\\271221717.py:6: PerformanceWarning: DataFrame is highly fragmented.  This is usually the result of calling `frame.insert` many times, which has poor performance.  Consider joining all columns at once using pd.concat(axis=1) instead. To get a de-fragmented frame, use `newframe = frame.copy()`\n",
      "  extended_x_train[col1+'x'+col2] = x_train[col1]*x_train[col2]\n",
      "C:\\Users\\user\\AppData\\Local\\Temp\\ipykernel_12264\\271221717.py:6: PerformanceWarning: DataFrame is highly fragmented.  This is usually the result of calling `frame.insert` many times, which has poor performance.  Consider joining all columns at once using pd.concat(axis=1) instead. To get a de-fragmented frame, use `newframe = frame.copy()`\n",
      "  extended_x_train[col1+'x'+col2] = x_train[col1]*x_train[col2]\n",
      "C:\\Users\\user\\AppData\\Local\\Temp\\ipykernel_12264\\271221717.py:6: PerformanceWarning: DataFrame is highly fragmented.  This is usually the result of calling `frame.insert` many times, which has poor performance.  Consider joining all columns at once using pd.concat(axis=1) instead. To get a de-fragmented frame, use `newframe = frame.copy()`\n",
      "  extended_x_train[col1+'x'+col2] = x_train[col1]*x_train[col2]\n"
     ]
    }
   ],
   "source": [
    "#extended_x_train의 각 컬럼들을 서로 한번씩 곱해서 새로운 컬럼 추가.\n",
    "#train 데이터셋 특성 확장 코드\n",
    "\n",
    "for col1 in x_train.columns: #13번 반복 (x_train의 칼럼수)\n",
    "    for col2 in x_train.columns: #13번 반복\n",
    "        extended_x_train[col1+'x'+col2] = x_train[col1]*x_train[col2]"
   ]
  },
  {
   "cell_type": "code",
   "execution_count": 42,
   "id": "382a9bec",
   "metadata": {},
   "outputs": [
    {
     "data": {
      "text/html": [
       "<div>\n",
       "<style scoped>\n",
       "    .dataframe tbody tr th:only-of-type {\n",
       "        vertical-align: middle;\n",
       "    }\n",
       "\n",
       "    .dataframe tbody tr th {\n",
       "        vertical-align: top;\n",
       "    }\n",
       "\n",
       "    .dataframe thead th {\n",
       "        text-align: right;\n",
       "    }\n",
       "</style>\n",
       "<table border=\"1\" class=\"dataframe\">\n",
       "  <thead>\n",
       "    <tr style=\"text-align: right;\">\n",
       "      <th></th>\n",
       "      <th>CRIM</th>\n",
       "      <th>ZN</th>\n",
       "      <th>INDUS</th>\n",
       "      <th>CHAS</th>\n",
       "      <th>NOX</th>\n",
       "      <th>RM</th>\n",
       "      <th>AGE</th>\n",
       "      <th>DIS</th>\n",
       "      <th>RAD</th>\n",
       "      <th>TAX</th>\n",
       "      <th>...</th>\n",
       "      <th>LSTATxCHAS</th>\n",
       "      <th>LSTATxNOX</th>\n",
       "      <th>LSTATxRM</th>\n",
       "      <th>LSTATxAGE</th>\n",
       "      <th>LSTATxDIS</th>\n",
       "      <th>LSTATxRAD</th>\n",
       "      <th>LSTATxTAX</th>\n",
       "      <th>LSTATxPTRATIO</th>\n",
       "      <th>LSTATxB</th>\n",
       "      <th>LSTATxLSTAT</th>\n",
       "    </tr>\n",
       "  </thead>\n",
       "  <tbody>\n",
       "    <tr>\n",
       "      <th>220</th>\n",
       "      <td>0.35809</td>\n",
       "      <td>0.0</td>\n",
       "      <td>6.20</td>\n",
       "      <td>1.0</td>\n",
       "      <td>0.507</td>\n",
       "      <td>6.951</td>\n",
       "      <td>88.5</td>\n",
       "      <td>2.8617</td>\n",
       "      <td>8.0</td>\n",
       "      <td>307.0</td>\n",
       "      <td>...</td>\n",
       "      <td>9.71</td>\n",
       "      <td>4.92297</td>\n",
       "      <td>67.49421</td>\n",
       "      <td>859.335</td>\n",
       "      <td>27.787107</td>\n",
       "      <td>77.68</td>\n",
       "      <td>2980.97</td>\n",
       "      <td>168.954</td>\n",
       "      <td>3803.4070</td>\n",
       "      <td>94.2841</td>\n",
       "    </tr>\n",
       "    <tr>\n",
       "      <th>71</th>\n",
       "      <td>0.15876</td>\n",
       "      <td>0.0</td>\n",
       "      <td>10.81</td>\n",
       "      <td>0.0</td>\n",
       "      <td>0.413</td>\n",
       "      <td>5.961</td>\n",
       "      <td>17.5</td>\n",
       "      <td>5.2873</td>\n",
       "      <td>4.0</td>\n",
       "      <td>305.0</td>\n",
       "      <td>...</td>\n",
       "      <td>0.00</td>\n",
       "      <td>4.08044</td>\n",
       "      <td>58.89468</td>\n",
       "      <td>172.900</td>\n",
       "      <td>52.238524</td>\n",
       "      <td>39.52</td>\n",
       "      <td>3013.40</td>\n",
       "      <td>189.696</td>\n",
       "      <td>3724.1672</td>\n",
       "      <td>97.6144</td>\n",
       "    </tr>\n",
       "    <tr>\n",
       "      <th>240</th>\n",
       "      <td>0.11329</td>\n",
       "      <td>30.0</td>\n",
       "      <td>4.93</td>\n",
       "      <td>0.0</td>\n",
       "      <td>0.428</td>\n",
       "      <td>6.897</td>\n",
       "      <td>54.3</td>\n",
       "      <td>6.3361</td>\n",
       "      <td>6.0</td>\n",
       "      <td>300.0</td>\n",
       "      <td>...</td>\n",
       "      <td>0.00</td>\n",
       "      <td>4.87064</td>\n",
       "      <td>78.48786</td>\n",
       "      <td>617.934</td>\n",
       "      <td>72.104818</td>\n",
       "      <td>68.28</td>\n",
       "      <td>3414.00</td>\n",
       "      <td>188.908</td>\n",
       "      <td>4452.4250</td>\n",
       "      <td>129.5044</td>\n",
       "    </tr>\n",
       "    <tr>\n",
       "      <th>6</th>\n",
       "      <td>0.08829</td>\n",
       "      <td>12.5</td>\n",
       "      <td>7.87</td>\n",
       "      <td>0.0</td>\n",
       "      <td>0.524</td>\n",
       "      <td>6.012</td>\n",
       "      <td>66.6</td>\n",
       "      <td>5.5605</td>\n",
       "      <td>5.0</td>\n",
       "      <td>311.0</td>\n",
       "      <td>...</td>\n",
       "      <td>0.00</td>\n",
       "      <td>6.51332</td>\n",
       "      <td>74.72916</td>\n",
       "      <td>827.838</td>\n",
       "      <td>69.117015</td>\n",
       "      <td>62.15</td>\n",
       "      <td>3865.73</td>\n",
       "      <td>188.936</td>\n",
       "      <td>4917.3080</td>\n",
       "      <td>154.5049</td>\n",
       "    </tr>\n",
       "    <tr>\n",
       "      <th>417</th>\n",
       "      <td>25.94060</td>\n",
       "      <td>0.0</td>\n",
       "      <td>18.10</td>\n",
       "      <td>0.0</td>\n",
       "      <td>0.679</td>\n",
       "      <td>5.304</td>\n",
       "      <td>89.1</td>\n",
       "      <td>1.6475</td>\n",
       "      <td>24.0</td>\n",
       "      <td>666.0</td>\n",
       "      <td>...</td>\n",
       "      <td>0.00</td>\n",
       "      <td>18.08856</td>\n",
       "      <td>141.29856</td>\n",
       "      <td>2373.624</td>\n",
       "      <td>43.889400</td>\n",
       "      <td>639.36</td>\n",
       "      <td>17742.24</td>\n",
       "      <td>538.128</td>\n",
       "      <td>3392.8704</td>\n",
       "      <td>709.6896</td>\n",
       "    </tr>\n",
       "  </tbody>\n",
       "</table>\n",
       "<p>5 rows × 182 columns</p>\n",
       "</div>"
      ],
      "text/plain": [
       "         CRIM    ZN  INDUS  CHAS    NOX     RM   AGE     DIS   RAD    TAX  \\\n",
       "220   0.35809   0.0   6.20   1.0  0.507  6.951  88.5  2.8617   8.0  307.0   \n",
       "71    0.15876   0.0  10.81   0.0  0.413  5.961  17.5  5.2873   4.0  305.0   \n",
       "240   0.11329  30.0   4.93   0.0  0.428  6.897  54.3  6.3361   6.0  300.0   \n",
       "6     0.08829  12.5   7.87   0.0  0.524  6.012  66.6  5.5605   5.0  311.0   \n",
       "417  25.94060   0.0  18.10   0.0  0.679  5.304  89.1  1.6475  24.0  666.0   \n",
       "\n",
       "     ...  LSTATxCHAS  LSTATxNOX   LSTATxRM  LSTATxAGE  LSTATxDIS  LSTATxRAD  \\\n",
       "220  ...        9.71    4.92297   67.49421    859.335  27.787107      77.68   \n",
       "71   ...        0.00    4.08044   58.89468    172.900  52.238524      39.52   \n",
       "240  ...        0.00    4.87064   78.48786    617.934  72.104818      68.28   \n",
       "6    ...        0.00    6.51332   74.72916    827.838  69.117015      62.15   \n",
       "417  ...        0.00   18.08856  141.29856   2373.624  43.889400     639.36   \n",
       "\n",
       "     LSTATxTAX  LSTATxPTRATIO    LSTATxB  LSTATxLSTAT  \n",
       "220    2980.97        168.954  3803.4070      94.2841  \n",
       "71     3013.40        189.696  3724.1672      97.6144  \n",
       "240    3414.00        188.908  4452.4250     129.5044  \n",
       "6      3865.73        188.936  4917.3080     154.5049  \n",
       "417   17742.24        538.128  3392.8704     709.6896  \n",
       "\n",
       "[5 rows x 182 columns]"
      ]
     },
     "execution_count": 42,
     "metadata": {},
     "output_type": "execute_result"
    }
   ],
   "source": [
    "extended_x_train.head()\n",
    "#columns의 수는 (원래 칼럼수 * 월래 칼럼수) + 원래 칼럼수"
   ]
  },
  {
   "cell_type": "code",
   "execution_count": 43,
   "id": "e86359b1",
   "metadata": {},
   "outputs": [],
   "source": [
    "pd.set_option('display.max_columns',None)\n",
    "#데이터 확인시 ... 없애고 모든 컬럼을 확인하는 코드"
   ]
  },
  {
   "cell_type": "code",
   "execution_count": 44,
   "id": "262fc614",
   "metadata": {},
   "outputs": [
    {
     "data": {
      "text/html": [
       "<div>\n",
       "<style scoped>\n",
       "    .dataframe tbody tr th:only-of-type {\n",
       "        vertical-align: middle;\n",
       "    }\n",
       "\n",
       "    .dataframe tbody tr th {\n",
       "        vertical-align: top;\n",
       "    }\n",
       "\n",
       "    .dataframe thead th {\n",
       "        text-align: right;\n",
       "    }\n",
       "</style>\n",
       "<table border=\"1\" class=\"dataframe\">\n",
       "  <thead>\n",
       "    <tr style=\"text-align: right;\">\n",
       "      <th></th>\n",
       "      <th>CRIM</th>\n",
       "      <th>ZN</th>\n",
       "      <th>INDUS</th>\n",
       "      <th>CHAS</th>\n",
       "      <th>NOX</th>\n",
       "      <th>RM</th>\n",
       "      <th>AGE</th>\n",
       "      <th>DIS</th>\n",
       "      <th>RAD</th>\n",
       "      <th>TAX</th>\n",
       "      <th>PTRATIO</th>\n",
       "      <th>B</th>\n",
       "      <th>LSTAT</th>\n",
       "      <th>CRIMxCRIM</th>\n",
       "      <th>CRIMxZN</th>\n",
       "      <th>CRIMxINDUS</th>\n",
       "      <th>CRIMxCHAS</th>\n",
       "      <th>CRIMxNOX</th>\n",
       "      <th>CRIMxRM</th>\n",
       "      <th>CRIMxAGE</th>\n",
       "      <th>CRIMxDIS</th>\n",
       "      <th>CRIMxRAD</th>\n",
       "      <th>CRIMxTAX</th>\n",
       "      <th>CRIMxPTRATIO</th>\n",
       "      <th>CRIMxB</th>\n",
       "      <th>CRIMxLSTAT</th>\n",
       "      <th>ZNxCRIM</th>\n",
       "      <th>ZNxZN</th>\n",
       "      <th>ZNxINDUS</th>\n",
       "      <th>ZNxCHAS</th>\n",
       "      <th>ZNxNOX</th>\n",
       "      <th>ZNxRM</th>\n",
       "      <th>ZNxAGE</th>\n",
       "      <th>ZNxDIS</th>\n",
       "      <th>ZNxRAD</th>\n",
       "      <th>ZNxTAX</th>\n",
       "      <th>ZNxPTRATIO</th>\n",
       "      <th>ZNxB</th>\n",
       "      <th>ZNxLSTAT</th>\n",
       "      <th>INDUSxCRIM</th>\n",
       "      <th>INDUSxZN</th>\n",
       "      <th>INDUSxINDUS</th>\n",
       "      <th>INDUSxCHAS</th>\n",
       "      <th>INDUSxNOX</th>\n",
       "      <th>INDUSxRM</th>\n",
       "      <th>INDUSxAGE</th>\n",
       "      <th>INDUSxDIS</th>\n",
       "      <th>INDUSxRAD</th>\n",
       "      <th>INDUSxTAX</th>\n",
       "      <th>INDUSxPTRATIO</th>\n",
       "      <th>INDUSxB</th>\n",
       "      <th>INDUSxLSTAT</th>\n",
       "      <th>CHASxCRIM</th>\n",
       "      <th>CHASxZN</th>\n",
       "      <th>CHASxINDUS</th>\n",
       "      <th>CHASxCHAS</th>\n",
       "      <th>CHASxNOX</th>\n",
       "      <th>CHASxRM</th>\n",
       "      <th>CHASxAGE</th>\n",
       "      <th>CHASxDIS</th>\n",
       "      <th>CHASxRAD</th>\n",
       "      <th>CHASxTAX</th>\n",
       "      <th>CHASxPTRATIO</th>\n",
       "      <th>CHASxB</th>\n",
       "      <th>CHASxLSTAT</th>\n",
       "      <th>NOXxCRIM</th>\n",
       "      <th>NOXxZN</th>\n",
       "      <th>NOXxINDUS</th>\n",
       "      <th>NOXxCHAS</th>\n",
       "      <th>NOXxNOX</th>\n",
       "      <th>NOXxRM</th>\n",
       "      <th>NOXxAGE</th>\n",
       "      <th>NOXxDIS</th>\n",
       "      <th>NOXxRAD</th>\n",
       "      <th>NOXxTAX</th>\n",
       "      <th>NOXxPTRATIO</th>\n",
       "      <th>NOXxB</th>\n",
       "      <th>NOXxLSTAT</th>\n",
       "      <th>RMxCRIM</th>\n",
       "      <th>RMxZN</th>\n",
       "      <th>RMxINDUS</th>\n",
       "      <th>RMxCHAS</th>\n",
       "      <th>RMxNOX</th>\n",
       "      <th>RMxRM</th>\n",
       "      <th>RMxAGE</th>\n",
       "      <th>RMxDIS</th>\n",
       "      <th>RMxRAD</th>\n",
       "      <th>RMxTAX</th>\n",
       "      <th>RMxPTRATIO</th>\n",
       "      <th>RMxB</th>\n",
       "      <th>RMxLSTAT</th>\n",
       "      <th>AGExCRIM</th>\n",
       "      <th>AGExZN</th>\n",
       "      <th>AGExINDUS</th>\n",
       "      <th>AGExCHAS</th>\n",
       "      <th>AGExNOX</th>\n",
       "      <th>AGExRM</th>\n",
       "      <th>AGExAGE</th>\n",
       "      <th>AGExDIS</th>\n",
       "      <th>AGExRAD</th>\n",
       "      <th>AGExTAX</th>\n",
       "      <th>AGExPTRATIO</th>\n",
       "      <th>AGExB</th>\n",
       "      <th>AGExLSTAT</th>\n",
       "      <th>DISxCRIM</th>\n",
       "      <th>DISxZN</th>\n",
       "      <th>DISxINDUS</th>\n",
       "      <th>DISxCHAS</th>\n",
       "      <th>DISxNOX</th>\n",
       "      <th>DISxRM</th>\n",
       "      <th>DISxAGE</th>\n",
       "      <th>DISxDIS</th>\n",
       "      <th>DISxRAD</th>\n",
       "      <th>DISxTAX</th>\n",
       "      <th>DISxPTRATIO</th>\n",
       "      <th>DISxB</th>\n",
       "      <th>DISxLSTAT</th>\n",
       "      <th>RADxCRIM</th>\n",
       "      <th>RADxZN</th>\n",
       "      <th>RADxINDUS</th>\n",
       "      <th>RADxCHAS</th>\n",
       "      <th>RADxNOX</th>\n",
       "      <th>RADxRM</th>\n",
       "      <th>RADxAGE</th>\n",
       "      <th>RADxDIS</th>\n",
       "      <th>RADxRAD</th>\n",
       "      <th>RADxTAX</th>\n",
       "      <th>RADxPTRATIO</th>\n",
       "      <th>RADxB</th>\n",
       "      <th>RADxLSTAT</th>\n",
       "      <th>TAXxCRIM</th>\n",
       "      <th>TAXxZN</th>\n",
       "      <th>TAXxINDUS</th>\n",
       "      <th>TAXxCHAS</th>\n",
       "      <th>TAXxNOX</th>\n",
       "      <th>TAXxRM</th>\n",
       "      <th>TAXxAGE</th>\n",
       "      <th>TAXxDIS</th>\n",
       "      <th>TAXxRAD</th>\n",
       "      <th>TAXxTAX</th>\n",
       "      <th>TAXxPTRATIO</th>\n",
       "      <th>TAXxB</th>\n",
       "      <th>TAXxLSTAT</th>\n",
       "      <th>PTRATIOxCRIM</th>\n",
       "      <th>PTRATIOxZN</th>\n",
       "      <th>PTRATIOxINDUS</th>\n",
       "      <th>PTRATIOxCHAS</th>\n",
       "      <th>PTRATIOxNOX</th>\n",
       "      <th>PTRATIOxRM</th>\n",
       "      <th>PTRATIOxAGE</th>\n",
       "      <th>PTRATIOxDIS</th>\n",
       "      <th>PTRATIOxRAD</th>\n",
       "      <th>PTRATIOxTAX</th>\n",
       "      <th>PTRATIOxPTRATIO</th>\n",
       "      <th>PTRATIOxB</th>\n",
       "      <th>PTRATIOxLSTAT</th>\n",
       "      <th>BxCRIM</th>\n",
       "      <th>BxZN</th>\n",
       "      <th>BxINDUS</th>\n",
       "      <th>BxCHAS</th>\n",
       "      <th>BxNOX</th>\n",
       "      <th>BxRM</th>\n",
       "      <th>BxAGE</th>\n",
       "      <th>BxDIS</th>\n",
       "      <th>BxRAD</th>\n",
       "      <th>BxTAX</th>\n",
       "      <th>BxPTRATIO</th>\n",
       "      <th>BxB</th>\n",
       "      <th>BxLSTAT</th>\n",
       "      <th>LSTATxCRIM</th>\n",
       "      <th>LSTATxZN</th>\n",
       "      <th>LSTATxINDUS</th>\n",
       "      <th>LSTATxCHAS</th>\n",
       "      <th>LSTATxNOX</th>\n",
       "      <th>LSTATxRM</th>\n",
       "      <th>LSTATxAGE</th>\n",
       "      <th>LSTATxDIS</th>\n",
       "      <th>LSTATxRAD</th>\n",
       "      <th>LSTATxTAX</th>\n",
       "      <th>LSTATxPTRATIO</th>\n",
       "      <th>LSTATxB</th>\n",
       "      <th>LSTATxLSTAT</th>\n",
       "    </tr>\n",
       "  </thead>\n",
       "  <tbody>\n",
       "    <tr>\n",
       "      <th>220</th>\n",
       "      <td>0.35809</td>\n",
       "      <td>0.0</td>\n",
       "      <td>6.20</td>\n",
       "      <td>1.0</td>\n",
       "      <td>0.507</td>\n",
       "      <td>6.951</td>\n",
       "      <td>88.5</td>\n",
       "      <td>2.8617</td>\n",
       "      <td>8.0</td>\n",
       "      <td>307.0</td>\n",
       "      <td>17.4</td>\n",
       "      <td>391.70</td>\n",
       "      <td>9.71</td>\n",
       "      <td>0.128228</td>\n",
       "      <td>0.000000</td>\n",
       "      <td>2.220158</td>\n",
       "      <td>0.35809</td>\n",
       "      <td>0.181552</td>\n",
       "      <td>2.489084</td>\n",
       "      <td>31.690965</td>\n",
       "      <td>1.024746</td>\n",
       "      <td>2.86472</td>\n",
       "      <td>109.93363</td>\n",
       "      <td>6.230766</td>\n",
       "      <td>140.263853</td>\n",
       "      <td>3.477054</td>\n",
       "      <td>0.000000</td>\n",
       "      <td>0.00</td>\n",
       "      <td>0.000</td>\n",
       "      <td>0.0</td>\n",
       "      <td>0.00</td>\n",
       "      <td>0.00</td>\n",
       "      <td>0.0</td>\n",
       "      <td>0.00000</td>\n",
       "      <td>0.0</td>\n",
       "      <td>0.0</td>\n",
       "      <td>0.0</td>\n",
       "      <td>0.0</td>\n",
       "      <td>0.000</td>\n",
       "      <td>2.220158</td>\n",
       "      <td>0.000</td>\n",
       "      <td>38.4400</td>\n",
       "      <td>6.2</td>\n",
       "      <td>3.14340</td>\n",
       "      <td>43.09620</td>\n",
       "      <td>548.700</td>\n",
       "      <td>17.742540</td>\n",
       "      <td>49.60</td>\n",
       "      <td>1903.40</td>\n",
       "      <td>107.880</td>\n",
       "      <td>2428.5400</td>\n",
       "      <td>60.2020</td>\n",
       "      <td>0.35809</td>\n",
       "      <td>0.0</td>\n",
       "      <td>6.2</td>\n",
       "      <td>1.0</td>\n",
       "      <td>0.507</td>\n",
       "      <td>6.951</td>\n",
       "      <td>88.5</td>\n",
       "      <td>2.8617</td>\n",
       "      <td>8.0</td>\n",
       "      <td>307.0</td>\n",
       "      <td>17.4</td>\n",
       "      <td>391.7</td>\n",
       "      <td>9.71</td>\n",
       "      <td>0.181552</td>\n",
       "      <td>0.00</td>\n",
       "      <td>3.14340</td>\n",
       "      <td>0.507</td>\n",
       "      <td>0.257049</td>\n",
       "      <td>3.524157</td>\n",
       "      <td>44.8695</td>\n",
       "      <td>1.450882</td>\n",
       "      <td>4.056</td>\n",
       "      <td>155.649</td>\n",
       "      <td>8.8218</td>\n",
       "      <td>198.59190</td>\n",
       "      <td>4.92297</td>\n",
       "      <td>2.489084</td>\n",
       "      <td>0.00</td>\n",
       "      <td>43.09620</td>\n",
       "      <td>6.951</td>\n",
       "      <td>3.524157</td>\n",
       "      <td>48.316401</td>\n",
       "      <td>615.1635</td>\n",
       "      <td>19.891677</td>\n",
       "      <td>55.608</td>\n",
       "      <td>2133.957</td>\n",
       "      <td>120.9474</td>\n",
       "      <td>2722.70670</td>\n",
       "      <td>67.49421</td>\n",
       "      <td>31.690965</td>\n",
       "      <td>0.0</td>\n",
       "      <td>548.700</td>\n",
       "      <td>88.5</td>\n",
       "      <td>44.8695</td>\n",
       "      <td>615.1635</td>\n",
       "      <td>7832.25</td>\n",
       "      <td>253.26045</td>\n",
       "      <td>708.0</td>\n",
       "      <td>27169.5</td>\n",
       "      <td>1539.90</td>\n",
       "      <td>34665.450</td>\n",
       "      <td>859.335</td>\n",
       "      <td>1.024746</td>\n",
       "      <td>0.00000</td>\n",
       "      <td>17.742540</td>\n",
       "      <td>2.8617</td>\n",
       "      <td>1.450882</td>\n",
       "      <td>19.891677</td>\n",
       "      <td>253.26045</td>\n",
       "      <td>8.189327</td>\n",
       "      <td>22.8936</td>\n",
       "      <td>878.5419</td>\n",
       "      <td>49.79358</td>\n",
       "      <td>1120.927890</td>\n",
       "      <td>27.787107</td>\n",
       "      <td>2.86472</td>\n",
       "      <td>0.0</td>\n",
       "      <td>49.60</td>\n",
       "      <td>8.0</td>\n",
       "      <td>4.056</td>\n",
       "      <td>55.608</td>\n",
       "      <td>708.0</td>\n",
       "      <td>22.8936</td>\n",
       "      <td>64.0</td>\n",
       "      <td>2456.0</td>\n",
       "      <td>139.2</td>\n",
       "      <td>3133.60</td>\n",
       "      <td>77.68</td>\n",
       "      <td>109.93363</td>\n",
       "      <td>0.0</td>\n",
       "      <td>1903.40</td>\n",
       "      <td>307.0</td>\n",
       "      <td>155.649</td>\n",
       "      <td>2133.957</td>\n",
       "      <td>27169.5</td>\n",
       "      <td>878.5419</td>\n",
       "      <td>2456.0</td>\n",
       "      <td>94249.0</td>\n",
       "      <td>5341.8</td>\n",
       "      <td>120251.90</td>\n",
       "      <td>2980.97</td>\n",
       "      <td>6.230766</td>\n",
       "      <td>0.0</td>\n",
       "      <td>107.880</td>\n",
       "      <td>17.4</td>\n",
       "      <td>8.8218</td>\n",
       "      <td>120.9474</td>\n",
       "      <td>1539.90</td>\n",
       "      <td>49.79358</td>\n",
       "      <td>139.2</td>\n",
       "      <td>5341.8</td>\n",
       "      <td>302.76</td>\n",
       "      <td>6815.580</td>\n",
       "      <td>168.954</td>\n",
       "      <td>140.263853</td>\n",
       "      <td>0.0</td>\n",
       "      <td>2428.5400</td>\n",
       "      <td>391.7</td>\n",
       "      <td>198.59190</td>\n",
       "      <td>2722.70670</td>\n",
       "      <td>34665.450</td>\n",
       "      <td>1120.927890</td>\n",
       "      <td>3133.60</td>\n",
       "      <td>120251.90</td>\n",
       "      <td>6815.580</td>\n",
       "      <td>153428.8900</td>\n",
       "      <td>3803.4070</td>\n",
       "      <td>3.477054</td>\n",
       "      <td>0.000</td>\n",
       "      <td>60.2020</td>\n",
       "      <td>9.71</td>\n",
       "      <td>4.92297</td>\n",
       "      <td>67.49421</td>\n",
       "      <td>859.335</td>\n",
       "      <td>27.787107</td>\n",
       "      <td>77.68</td>\n",
       "      <td>2980.97</td>\n",
       "      <td>168.954</td>\n",
       "      <td>3803.4070</td>\n",
       "      <td>94.2841</td>\n",
       "    </tr>\n",
       "    <tr>\n",
       "      <th>71</th>\n",
       "      <td>0.15876</td>\n",
       "      <td>0.0</td>\n",
       "      <td>10.81</td>\n",
       "      <td>0.0</td>\n",
       "      <td>0.413</td>\n",
       "      <td>5.961</td>\n",
       "      <td>17.5</td>\n",
       "      <td>5.2873</td>\n",
       "      <td>4.0</td>\n",
       "      <td>305.0</td>\n",
       "      <td>19.2</td>\n",
       "      <td>376.94</td>\n",
       "      <td>9.88</td>\n",
       "      <td>0.025205</td>\n",
       "      <td>0.000000</td>\n",
       "      <td>1.716196</td>\n",
       "      <td>0.00000</td>\n",
       "      <td>0.065568</td>\n",
       "      <td>0.946368</td>\n",
       "      <td>2.778300</td>\n",
       "      <td>0.839412</td>\n",
       "      <td>0.63504</td>\n",
       "      <td>48.42180</td>\n",
       "      <td>3.048192</td>\n",
       "      <td>59.842994</td>\n",
       "      <td>1.568549</td>\n",
       "      <td>0.000000</td>\n",
       "      <td>0.00</td>\n",
       "      <td>0.000</td>\n",
       "      <td>0.0</td>\n",
       "      <td>0.00</td>\n",
       "      <td>0.00</td>\n",
       "      <td>0.0</td>\n",
       "      <td>0.00000</td>\n",
       "      <td>0.0</td>\n",
       "      <td>0.0</td>\n",
       "      <td>0.0</td>\n",
       "      <td>0.0</td>\n",
       "      <td>0.000</td>\n",
       "      <td>1.716196</td>\n",
       "      <td>0.000</td>\n",
       "      <td>116.8561</td>\n",
       "      <td>0.0</td>\n",
       "      <td>4.46453</td>\n",
       "      <td>64.43841</td>\n",
       "      <td>189.175</td>\n",
       "      <td>57.155713</td>\n",
       "      <td>43.24</td>\n",
       "      <td>3297.05</td>\n",
       "      <td>207.552</td>\n",
       "      <td>4074.7214</td>\n",
       "      <td>106.8028</td>\n",
       "      <td>0.00000</td>\n",
       "      <td>0.0</td>\n",
       "      <td>0.0</td>\n",
       "      <td>0.0</td>\n",
       "      <td>0.000</td>\n",
       "      <td>0.000</td>\n",
       "      <td>0.0</td>\n",
       "      <td>0.0000</td>\n",
       "      <td>0.0</td>\n",
       "      <td>0.0</td>\n",
       "      <td>0.0</td>\n",
       "      <td>0.0</td>\n",
       "      <td>0.00</td>\n",
       "      <td>0.065568</td>\n",
       "      <td>0.00</td>\n",
       "      <td>4.46453</td>\n",
       "      <td>0.000</td>\n",
       "      <td>0.170569</td>\n",
       "      <td>2.461893</td>\n",
       "      <td>7.2275</td>\n",
       "      <td>2.183655</td>\n",
       "      <td>1.652</td>\n",
       "      <td>125.965</td>\n",
       "      <td>7.9296</td>\n",
       "      <td>155.67622</td>\n",
       "      <td>4.08044</td>\n",
       "      <td>0.946368</td>\n",
       "      <td>0.00</td>\n",
       "      <td>64.43841</td>\n",
       "      <td>0.000</td>\n",
       "      <td>2.461893</td>\n",
       "      <td>35.533521</td>\n",
       "      <td>104.3175</td>\n",
       "      <td>31.517595</td>\n",
       "      <td>23.844</td>\n",
       "      <td>1818.105</td>\n",
       "      <td>114.4512</td>\n",
       "      <td>2246.93934</td>\n",
       "      <td>58.89468</td>\n",
       "      <td>2.778300</td>\n",
       "      <td>0.0</td>\n",
       "      <td>189.175</td>\n",
       "      <td>0.0</td>\n",
       "      <td>7.2275</td>\n",
       "      <td>104.3175</td>\n",
       "      <td>306.25</td>\n",
       "      <td>92.52775</td>\n",
       "      <td>70.0</td>\n",
       "      <td>5337.5</td>\n",
       "      <td>336.00</td>\n",
       "      <td>6596.450</td>\n",
       "      <td>172.900</td>\n",
       "      <td>0.839412</td>\n",
       "      <td>0.00000</td>\n",
       "      <td>57.155713</td>\n",
       "      <td>0.0000</td>\n",
       "      <td>2.183655</td>\n",
       "      <td>31.517595</td>\n",
       "      <td>92.52775</td>\n",
       "      <td>27.955541</td>\n",
       "      <td>21.1492</td>\n",
       "      <td>1612.6265</td>\n",
       "      <td>101.51616</td>\n",
       "      <td>1992.994862</td>\n",
       "      <td>52.238524</td>\n",
       "      <td>0.63504</td>\n",
       "      <td>0.0</td>\n",
       "      <td>43.24</td>\n",
       "      <td>0.0</td>\n",
       "      <td>1.652</td>\n",
       "      <td>23.844</td>\n",
       "      <td>70.0</td>\n",
       "      <td>21.1492</td>\n",
       "      <td>16.0</td>\n",
       "      <td>1220.0</td>\n",
       "      <td>76.8</td>\n",
       "      <td>1507.76</td>\n",
       "      <td>39.52</td>\n",
       "      <td>48.42180</td>\n",
       "      <td>0.0</td>\n",
       "      <td>3297.05</td>\n",
       "      <td>0.0</td>\n",
       "      <td>125.965</td>\n",
       "      <td>1818.105</td>\n",
       "      <td>5337.5</td>\n",
       "      <td>1612.6265</td>\n",
       "      <td>1220.0</td>\n",
       "      <td>93025.0</td>\n",
       "      <td>5856.0</td>\n",
       "      <td>114966.70</td>\n",
       "      <td>3013.40</td>\n",
       "      <td>3.048192</td>\n",
       "      <td>0.0</td>\n",
       "      <td>207.552</td>\n",
       "      <td>0.0</td>\n",
       "      <td>7.9296</td>\n",
       "      <td>114.4512</td>\n",
       "      <td>336.00</td>\n",
       "      <td>101.51616</td>\n",
       "      <td>76.8</td>\n",
       "      <td>5856.0</td>\n",
       "      <td>368.64</td>\n",
       "      <td>7237.248</td>\n",
       "      <td>189.696</td>\n",
       "      <td>59.842994</td>\n",
       "      <td>0.0</td>\n",
       "      <td>4074.7214</td>\n",
       "      <td>0.0</td>\n",
       "      <td>155.67622</td>\n",
       "      <td>2246.93934</td>\n",
       "      <td>6596.450</td>\n",
       "      <td>1992.994862</td>\n",
       "      <td>1507.76</td>\n",
       "      <td>114966.70</td>\n",
       "      <td>7237.248</td>\n",
       "      <td>142083.7636</td>\n",
       "      <td>3724.1672</td>\n",
       "      <td>1.568549</td>\n",
       "      <td>0.000</td>\n",
       "      <td>106.8028</td>\n",
       "      <td>0.00</td>\n",
       "      <td>4.08044</td>\n",
       "      <td>58.89468</td>\n",
       "      <td>172.900</td>\n",
       "      <td>52.238524</td>\n",
       "      <td>39.52</td>\n",
       "      <td>3013.40</td>\n",
       "      <td>189.696</td>\n",
       "      <td>3724.1672</td>\n",
       "      <td>97.6144</td>\n",
       "    </tr>\n",
       "    <tr>\n",
       "      <th>240</th>\n",
       "      <td>0.11329</td>\n",
       "      <td>30.0</td>\n",
       "      <td>4.93</td>\n",
       "      <td>0.0</td>\n",
       "      <td>0.428</td>\n",
       "      <td>6.897</td>\n",
       "      <td>54.3</td>\n",
       "      <td>6.3361</td>\n",
       "      <td>6.0</td>\n",
       "      <td>300.0</td>\n",
       "      <td>16.6</td>\n",
       "      <td>391.25</td>\n",
       "      <td>11.38</td>\n",
       "      <td>0.012835</td>\n",
       "      <td>3.398700</td>\n",
       "      <td>0.558520</td>\n",
       "      <td>0.00000</td>\n",
       "      <td>0.048488</td>\n",
       "      <td>0.781361</td>\n",
       "      <td>6.151647</td>\n",
       "      <td>0.717817</td>\n",
       "      <td>0.67974</td>\n",
       "      <td>33.98700</td>\n",
       "      <td>1.880614</td>\n",
       "      <td>44.324713</td>\n",
       "      <td>1.289240</td>\n",
       "      <td>3.398700</td>\n",
       "      <td>900.00</td>\n",
       "      <td>147.900</td>\n",
       "      <td>0.0</td>\n",
       "      <td>12.84</td>\n",
       "      <td>206.91</td>\n",
       "      <td>1629.0</td>\n",
       "      <td>190.08300</td>\n",
       "      <td>180.0</td>\n",
       "      <td>9000.0</td>\n",
       "      <td>498.0</td>\n",
       "      <td>11737.5</td>\n",
       "      <td>341.400</td>\n",
       "      <td>0.558520</td>\n",
       "      <td>147.900</td>\n",
       "      <td>24.3049</td>\n",
       "      <td>0.0</td>\n",
       "      <td>2.11004</td>\n",
       "      <td>34.00221</td>\n",
       "      <td>267.699</td>\n",
       "      <td>31.236973</td>\n",
       "      <td>29.58</td>\n",
       "      <td>1479.00</td>\n",
       "      <td>81.838</td>\n",
       "      <td>1928.8625</td>\n",
       "      <td>56.1034</td>\n",
       "      <td>0.00000</td>\n",
       "      <td>0.0</td>\n",
       "      <td>0.0</td>\n",
       "      <td>0.0</td>\n",
       "      <td>0.000</td>\n",
       "      <td>0.000</td>\n",
       "      <td>0.0</td>\n",
       "      <td>0.0000</td>\n",
       "      <td>0.0</td>\n",
       "      <td>0.0</td>\n",
       "      <td>0.0</td>\n",
       "      <td>0.0</td>\n",
       "      <td>0.00</td>\n",
       "      <td>0.048488</td>\n",
       "      <td>12.84</td>\n",
       "      <td>2.11004</td>\n",
       "      <td>0.000</td>\n",
       "      <td>0.183184</td>\n",
       "      <td>2.951916</td>\n",
       "      <td>23.2404</td>\n",
       "      <td>2.711851</td>\n",
       "      <td>2.568</td>\n",
       "      <td>128.400</td>\n",
       "      <td>7.1048</td>\n",
       "      <td>167.45500</td>\n",
       "      <td>4.87064</td>\n",
       "      <td>0.781361</td>\n",
       "      <td>206.91</td>\n",
       "      <td>34.00221</td>\n",
       "      <td>0.000</td>\n",
       "      <td>2.951916</td>\n",
       "      <td>47.568609</td>\n",
       "      <td>374.5071</td>\n",
       "      <td>43.700082</td>\n",
       "      <td>41.382</td>\n",
       "      <td>2069.100</td>\n",
       "      <td>114.4902</td>\n",
       "      <td>2698.45125</td>\n",
       "      <td>78.48786</td>\n",
       "      <td>6.151647</td>\n",
       "      <td>1629.0</td>\n",
       "      <td>267.699</td>\n",
       "      <td>0.0</td>\n",
       "      <td>23.2404</td>\n",
       "      <td>374.5071</td>\n",
       "      <td>2948.49</td>\n",
       "      <td>344.05023</td>\n",
       "      <td>325.8</td>\n",
       "      <td>16290.0</td>\n",
       "      <td>901.38</td>\n",
       "      <td>21244.875</td>\n",
       "      <td>617.934</td>\n",
       "      <td>0.717817</td>\n",
       "      <td>190.08300</td>\n",
       "      <td>31.236973</td>\n",
       "      <td>0.0000</td>\n",
       "      <td>2.711851</td>\n",
       "      <td>43.700082</td>\n",
       "      <td>344.05023</td>\n",
       "      <td>40.146163</td>\n",
       "      <td>38.0166</td>\n",
       "      <td>1900.8300</td>\n",
       "      <td>105.17926</td>\n",
       "      <td>2478.999125</td>\n",
       "      <td>72.104818</td>\n",
       "      <td>0.67974</td>\n",
       "      <td>180.0</td>\n",
       "      <td>29.58</td>\n",
       "      <td>0.0</td>\n",
       "      <td>2.568</td>\n",
       "      <td>41.382</td>\n",
       "      <td>325.8</td>\n",
       "      <td>38.0166</td>\n",
       "      <td>36.0</td>\n",
       "      <td>1800.0</td>\n",
       "      <td>99.6</td>\n",
       "      <td>2347.50</td>\n",
       "      <td>68.28</td>\n",
       "      <td>33.98700</td>\n",
       "      <td>9000.0</td>\n",
       "      <td>1479.00</td>\n",
       "      <td>0.0</td>\n",
       "      <td>128.400</td>\n",
       "      <td>2069.100</td>\n",
       "      <td>16290.0</td>\n",
       "      <td>1900.8300</td>\n",
       "      <td>1800.0</td>\n",
       "      <td>90000.0</td>\n",
       "      <td>4980.0</td>\n",
       "      <td>117375.00</td>\n",
       "      <td>3414.00</td>\n",
       "      <td>1.880614</td>\n",
       "      <td>498.0</td>\n",
       "      <td>81.838</td>\n",
       "      <td>0.0</td>\n",
       "      <td>7.1048</td>\n",
       "      <td>114.4902</td>\n",
       "      <td>901.38</td>\n",
       "      <td>105.17926</td>\n",
       "      <td>99.6</td>\n",
       "      <td>4980.0</td>\n",
       "      <td>275.56</td>\n",
       "      <td>6494.750</td>\n",
       "      <td>188.908</td>\n",
       "      <td>44.324713</td>\n",
       "      <td>11737.5</td>\n",
       "      <td>1928.8625</td>\n",
       "      <td>0.0</td>\n",
       "      <td>167.45500</td>\n",
       "      <td>2698.45125</td>\n",
       "      <td>21244.875</td>\n",
       "      <td>2478.999125</td>\n",
       "      <td>2347.50</td>\n",
       "      <td>117375.00</td>\n",
       "      <td>6494.750</td>\n",
       "      <td>153076.5625</td>\n",
       "      <td>4452.4250</td>\n",
       "      <td>1.289240</td>\n",
       "      <td>341.400</td>\n",
       "      <td>56.1034</td>\n",
       "      <td>0.00</td>\n",
       "      <td>4.87064</td>\n",
       "      <td>78.48786</td>\n",
       "      <td>617.934</td>\n",
       "      <td>72.104818</td>\n",
       "      <td>68.28</td>\n",
       "      <td>3414.00</td>\n",
       "      <td>188.908</td>\n",
       "      <td>4452.4250</td>\n",
       "      <td>129.5044</td>\n",
       "    </tr>\n",
       "    <tr>\n",
       "      <th>6</th>\n",
       "      <td>0.08829</td>\n",
       "      <td>12.5</td>\n",
       "      <td>7.87</td>\n",
       "      <td>0.0</td>\n",
       "      <td>0.524</td>\n",
       "      <td>6.012</td>\n",
       "      <td>66.6</td>\n",
       "      <td>5.5605</td>\n",
       "      <td>5.0</td>\n",
       "      <td>311.0</td>\n",
       "      <td>15.2</td>\n",
       "      <td>395.60</td>\n",
       "      <td>12.43</td>\n",
       "      <td>0.007795</td>\n",
       "      <td>1.103625</td>\n",
       "      <td>0.694842</td>\n",
       "      <td>0.00000</td>\n",
       "      <td>0.046264</td>\n",
       "      <td>0.530799</td>\n",
       "      <td>5.880114</td>\n",
       "      <td>0.490937</td>\n",
       "      <td>0.44145</td>\n",
       "      <td>27.45819</td>\n",
       "      <td>1.342008</td>\n",
       "      <td>34.927524</td>\n",
       "      <td>1.097445</td>\n",
       "      <td>1.103625</td>\n",
       "      <td>156.25</td>\n",
       "      <td>98.375</td>\n",
       "      <td>0.0</td>\n",
       "      <td>6.55</td>\n",
       "      <td>75.15</td>\n",
       "      <td>832.5</td>\n",
       "      <td>69.50625</td>\n",
       "      <td>62.5</td>\n",
       "      <td>3887.5</td>\n",
       "      <td>190.0</td>\n",
       "      <td>4945.0</td>\n",
       "      <td>155.375</td>\n",
       "      <td>0.694842</td>\n",
       "      <td>98.375</td>\n",
       "      <td>61.9369</td>\n",
       "      <td>0.0</td>\n",
       "      <td>4.12388</td>\n",
       "      <td>47.31444</td>\n",
       "      <td>524.142</td>\n",
       "      <td>43.761135</td>\n",
       "      <td>39.35</td>\n",
       "      <td>2447.57</td>\n",
       "      <td>119.624</td>\n",
       "      <td>3113.3720</td>\n",
       "      <td>97.8241</td>\n",
       "      <td>0.00000</td>\n",
       "      <td>0.0</td>\n",
       "      <td>0.0</td>\n",
       "      <td>0.0</td>\n",
       "      <td>0.000</td>\n",
       "      <td>0.000</td>\n",
       "      <td>0.0</td>\n",
       "      <td>0.0000</td>\n",
       "      <td>0.0</td>\n",
       "      <td>0.0</td>\n",
       "      <td>0.0</td>\n",
       "      <td>0.0</td>\n",
       "      <td>0.00</td>\n",
       "      <td>0.046264</td>\n",
       "      <td>6.55</td>\n",
       "      <td>4.12388</td>\n",
       "      <td>0.000</td>\n",
       "      <td>0.274576</td>\n",
       "      <td>3.150288</td>\n",
       "      <td>34.8984</td>\n",
       "      <td>2.913702</td>\n",
       "      <td>2.620</td>\n",
       "      <td>162.964</td>\n",
       "      <td>7.9648</td>\n",
       "      <td>207.29440</td>\n",
       "      <td>6.51332</td>\n",
       "      <td>0.530799</td>\n",
       "      <td>75.15</td>\n",
       "      <td>47.31444</td>\n",
       "      <td>0.000</td>\n",
       "      <td>3.150288</td>\n",
       "      <td>36.144144</td>\n",
       "      <td>400.3992</td>\n",
       "      <td>33.429726</td>\n",
       "      <td>30.060</td>\n",
       "      <td>1869.732</td>\n",
       "      <td>91.3824</td>\n",
       "      <td>2378.34720</td>\n",
       "      <td>74.72916</td>\n",
       "      <td>5.880114</td>\n",
       "      <td>832.5</td>\n",
       "      <td>524.142</td>\n",
       "      <td>0.0</td>\n",
       "      <td>34.8984</td>\n",
       "      <td>400.3992</td>\n",
       "      <td>4435.56</td>\n",
       "      <td>370.32930</td>\n",
       "      <td>333.0</td>\n",
       "      <td>20712.6</td>\n",
       "      <td>1012.32</td>\n",
       "      <td>26346.960</td>\n",
       "      <td>827.838</td>\n",
       "      <td>0.490937</td>\n",
       "      <td>69.50625</td>\n",
       "      <td>43.761135</td>\n",
       "      <td>0.0000</td>\n",
       "      <td>2.913702</td>\n",
       "      <td>33.429726</td>\n",
       "      <td>370.32930</td>\n",
       "      <td>30.919160</td>\n",
       "      <td>27.8025</td>\n",
       "      <td>1729.3155</td>\n",
       "      <td>84.51960</td>\n",
       "      <td>2199.733800</td>\n",
       "      <td>69.117015</td>\n",
       "      <td>0.44145</td>\n",
       "      <td>62.5</td>\n",
       "      <td>39.35</td>\n",
       "      <td>0.0</td>\n",
       "      <td>2.620</td>\n",
       "      <td>30.060</td>\n",
       "      <td>333.0</td>\n",
       "      <td>27.8025</td>\n",
       "      <td>25.0</td>\n",
       "      <td>1555.0</td>\n",
       "      <td>76.0</td>\n",
       "      <td>1978.00</td>\n",
       "      <td>62.15</td>\n",
       "      <td>27.45819</td>\n",
       "      <td>3887.5</td>\n",
       "      <td>2447.57</td>\n",
       "      <td>0.0</td>\n",
       "      <td>162.964</td>\n",
       "      <td>1869.732</td>\n",
       "      <td>20712.6</td>\n",
       "      <td>1729.3155</td>\n",
       "      <td>1555.0</td>\n",
       "      <td>96721.0</td>\n",
       "      <td>4727.2</td>\n",
       "      <td>123031.60</td>\n",
       "      <td>3865.73</td>\n",
       "      <td>1.342008</td>\n",
       "      <td>190.0</td>\n",
       "      <td>119.624</td>\n",
       "      <td>0.0</td>\n",
       "      <td>7.9648</td>\n",
       "      <td>91.3824</td>\n",
       "      <td>1012.32</td>\n",
       "      <td>84.51960</td>\n",
       "      <td>76.0</td>\n",
       "      <td>4727.2</td>\n",
       "      <td>231.04</td>\n",
       "      <td>6013.120</td>\n",
       "      <td>188.936</td>\n",
       "      <td>34.927524</td>\n",
       "      <td>4945.0</td>\n",
       "      <td>3113.3720</td>\n",
       "      <td>0.0</td>\n",
       "      <td>207.29440</td>\n",
       "      <td>2378.34720</td>\n",
       "      <td>26346.960</td>\n",
       "      <td>2199.733800</td>\n",
       "      <td>1978.00</td>\n",
       "      <td>123031.60</td>\n",
       "      <td>6013.120</td>\n",
       "      <td>156499.3600</td>\n",
       "      <td>4917.3080</td>\n",
       "      <td>1.097445</td>\n",
       "      <td>155.375</td>\n",
       "      <td>97.8241</td>\n",
       "      <td>0.00</td>\n",
       "      <td>6.51332</td>\n",
       "      <td>74.72916</td>\n",
       "      <td>827.838</td>\n",
       "      <td>69.117015</td>\n",
       "      <td>62.15</td>\n",
       "      <td>3865.73</td>\n",
       "      <td>188.936</td>\n",
       "      <td>4917.3080</td>\n",
       "      <td>154.5049</td>\n",
       "    </tr>\n",
       "    <tr>\n",
       "      <th>417</th>\n",
       "      <td>25.94060</td>\n",
       "      <td>0.0</td>\n",
       "      <td>18.10</td>\n",
       "      <td>0.0</td>\n",
       "      <td>0.679</td>\n",
       "      <td>5.304</td>\n",
       "      <td>89.1</td>\n",
       "      <td>1.6475</td>\n",
       "      <td>24.0</td>\n",
       "      <td>666.0</td>\n",
       "      <td>20.2</td>\n",
       "      <td>127.36</td>\n",
       "      <td>26.64</td>\n",
       "      <td>672.914728</td>\n",
       "      <td>0.000000</td>\n",
       "      <td>469.524860</td>\n",
       "      <td>0.00000</td>\n",
       "      <td>17.613667</td>\n",
       "      <td>137.588942</td>\n",
       "      <td>2311.307460</td>\n",
       "      <td>42.737139</td>\n",
       "      <td>622.57440</td>\n",
       "      <td>17276.43960</td>\n",
       "      <td>524.000120</td>\n",
       "      <td>3303.794816</td>\n",
       "      <td>691.057584</td>\n",
       "      <td>0.000000</td>\n",
       "      <td>0.00</td>\n",
       "      <td>0.000</td>\n",
       "      <td>0.0</td>\n",
       "      <td>0.00</td>\n",
       "      <td>0.00</td>\n",
       "      <td>0.0</td>\n",
       "      <td>0.00000</td>\n",
       "      <td>0.0</td>\n",
       "      <td>0.0</td>\n",
       "      <td>0.0</td>\n",
       "      <td>0.0</td>\n",
       "      <td>0.000</td>\n",
       "      <td>469.524860</td>\n",
       "      <td>0.000</td>\n",
       "      <td>327.6100</td>\n",
       "      <td>0.0</td>\n",
       "      <td>12.28990</td>\n",
       "      <td>96.00240</td>\n",
       "      <td>1612.710</td>\n",
       "      <td>29.819750</td>\n",
       "      <td>434.40</td>\n",
       "      <td>12054.60</td>\n",
       "      <td>365.620</td>\n",
       "      <td>2305.2160</td>\n",
       "      <td>482.1840</td>\n",
       "      <td>0.00000</td>\n",
       "      <td>0.0</td>\n",
       "      <td>0.0</td>\n",
       "      <td>0.0</td>\n",
       "      <td>0.000</td>\n",
       "      <td>0.000</td>\n",
       "      <td>0.0</td>\n",
       "      <td>0.0000</td>\n",
       "      <td>0.0</td>\n",
       "      <td>0.0</td>\n",
       "      <td>0.0</td>\n",
       "      <td>0.0</td>\n",
       "      <td>0.00</td>\n",
       "      <td>17.613667</td>\n",
       "      <td>0.00</td>\n",
       "      <td>12.28990</td>\n",
       "      <td>0.000</td>\n",
       "      <td>0.461041</td>\n",
       "      <td>3.601416</td>\n",
       "      <td>60.4989</td>\n",
       "      <td>1.118653</td>\n",
       "      <td>16.296</td>\n",
       "      <td>452.214</td>\n",
       "      <td>13.7158</td>\n",
       "      <td>86.47744</td>\n",
       "      <td>18.08856</td>\n",
       "      <td>137.588942</td>\n",
       "      <td>0.00</td>\n",
       "      <td>96.00240</td>\n",
       "      <td>0.000</td>\n",
       "      <td>3.601416</td>\n",
       "      <td>28.132416</td>\n",
       "      <td>472.5864</td>\n",
       "      <td>8.738340</td>\n",
       "      <td>127.296</td>\n",
       "      <td>3532.464</td>\n",
       "      <td>107.1408</td>\n",
       "      <td>675.51744</td>\n",
       "      <td>141.29856</td>\n",
       "      <td>2311.307460</td>\n",
       "      <td>0.0</td>\n",
       "      <td>1612.710</td>\n",
       "      <td>0.0</td>\n",
       "      <td>60.4989</td>\n",
       "      <td>472.5864</td>\n",
       "      <td>7938.81</td>\n",
       "      <td>146.79225</td>\n",
       "      <td>2138.4</td>\n",
       "      <td>59340.6</td>\n",
       "      <td>1799.82</td>\n",
       "      <td>11347.776</td>\n",
       "      <td>2373.624</td>\n",
       "      <td>42.737139</td>\n",
       "      <td>0.00000</td>\n",
       "      <td>29.819750</td>\n",
       "      <td>0.0000</td>\n",
       "      <td>1.118653</td>\n",
       "      <td>8.738340</td>\n",
       "      <td>146.79225</td>\n",
       "      <td>2.714256</td>\n",
       "      <td>39.5400</td>\n",
       "      <td>1097.2350</td>\n",
       "      <td>33.27950</td>\n",
       "      <td>209.825600</td>\n",
       "      <td>43.889400</td>\n",
       "      <td>622.57440</td>\n",
       "      <td>0.0</td>\n",
       "      <td>434.40</td>\n",
       "      <td>0.0</td>\n",
       "      <td>16.296</td>\n",
       "      <td>127.296</td>\n",
       "      <td>2138.4</td>\n",
       "      <td>39.5400</td>\n",
       "      <td>576.0</td>\n",
       "      <td>15984.0</td>\n",
       "      <td>484.8</td>\n",
       "      <td>3056.64</td>\n",
       "      <td>639.36</td>\n",
       "      <td>17276.43960</td>\n",
       "      <td>0.0</td>\n",
       "      <td>12054.60</td>\n",
       "      <td>0.0</td>\n",
       "      <td>452.214</td>\n",
       "      <td>3532.464</td>\n",
       "      <td>59340.6</td>\n",
       "      <td>1097.2350</td>\n",
       "      <td>15984.0</td>\n",
       "      <td>443556.0</td>\n",
       "      <td>13453.2</td>\n",
       "      <td>84821.76</td>\n",
       "      <td>17742.24</td>\n",
       "      <td>524.000120</td>\n",
       "      <td>0.0</td>\n",
       "      <td>365.620</td>\n",
       "      <td>0.0</td>\n",
       "      <td>13.7158</td>\n",
       "      <td>107.1408</td>\n",
       "      <td>1799.82</td>\n",
       "      <td>33.27950</td>\n",
       "      <td>484.8</td>\n",
       "      <td>13453.2</td>\n",
       "      <td>408.04</td>\n",
       "      <td>2572.672</td>\n",
       "      <td>538.128</td>\n",
       "      <td>3303.794816</td>\n",
       "      <td>0.0</td>\n",
       "      <td>2305.2160</td>\n",
       "      <td>0.0</td>\n",
       "      <td>86.47744</td>\n",
       "      <td>675.51744</td>\n",
       "      <td>11347.776</td>\n",
       "      <td>209.825600</td>\n",
       "      <td>3056.64</td>\n",
       "      <td>84821.76</td>\n",
       "      <td>2572.672</td>\n",
       "      <td>16220.5696</td>\n",
       "      <td>3392.8704</td>\n",
       "      <td>691.057584</td>\n",
       "      <td>0.000</td>\n",
       "      <td>482.1840</td>\n",
       "      <td>0.00</td>\n",
       "      <td>18.08856</td>\n",
       "      <td>141.29856</td>\n",
       "      <td>2373.624</td>\n",
       "      <td>43.889400</td>\n",
       "      <td>639.36</td>\n",
       "      <td>17742.24</td>\n",
       "      <td>538.128</td>\n",
       "      <td>3392.8704</td>\n",
       "      <td>709.6896</td>\n",
       "    </tr>\n",
       "  </tbody>\n",
       "</table>\n",
       "</div>"
      ],
      "text/plain": [
       "         CRIM    ZN  INDUS  CHAS    NOX     RM   AGE     DIS   RAD    TAX  \\\n",
       "220   0.35809   0.0   6.20   1.0  0.507  6.951  88.5  2.8617   8.0  307.0   \n",
       "71    0.15876   0.0  10.81   0.0  0.413  5.961  17.5  5.2873   4.0  305.0   \n",
       "240   0.11329  30.0   4.93   0.0  0.428  6.897  54.3  6.3361   6.0  300.0   \n",
       "6     0.08829  12.5   7.87   0.0  0.524  6.012  66.6  5.5605   5.0  311.0   \n",
       "417  25.94060   0.0  18.10   0.0  0.679  5.304  89.1  1.6475  24.0  666.0   \n",
       "\n",
       "     PTRATIO       B  LSTAT   CRIMxCRIM   CRIMxZN  CRIMxINDUS  CRIMxCHAS  \\\n",
       "220     17.4  391.70   9.71    0.128228  0.000000    2.220158    0.35809   \n",
       "71      19.2  376.94   9.88    0.025205  0.000000    1.716196    0.00000   \n",
       "240     16.6  391.25  11.38    0.012835  3.398700    0.558520    0.00000   \n",
       "6       15.2  395.60  12.43    0.007795  1.103625    0.694842    0.00000   \n",
       "417     20.2  127.36  26.64  672.914728  0.000000  469.524860    0.00000   \n",
       "\n",
       "      CRIMxNOX     CRIMxRM     CRIMxAGE   CRIMxDIS   CRIMxRAD     CRIMxTAX  \\\n",
       "220   0.181552    2.489084    31.690965   1.024746    2.86472    109.93363   \n",
       "71    0.065568    0.946368     2.778300   0.839412    0.63504     48.42180   \n",
       "240   0.048488    0.781361     6.151647   0.717817    0.67974     33.98700   \n",
       "6     0.046264    0.530799     5.880114   0.490937    0.44145     27.45819   \n",
       "417  17.613667  137.588942  2311.307460  42.737139  622.57440  17276.43960   \n",
       "\n",
       "     CRIMxPTRATIO       CRIMxB  CRIMxLSTAT   ZNxCRIM   ZNxZN  ZNxINDUS  \\\n",
       "220      6.230766   140.263853    3.477054  0.000000    0.00     0.000   \n",
       "71       3.048192    59.842994    1.568549  0.000000    0.00     0.000   \n",
       "240      1.880614    44.324713    1.289240  3.398700  900.00   147.900   \n",
       "6        1.342008    34.927524    1.097445  1.103625  156.25    98.375   \n",
       "417    524.000120  3303.794816  691.057584  0.000000    0.00     0.000   \n",
       "\n",
       "     ZNxCHAS  ZNxNOX   ZNxRM  ZNxAGE     ZNxDIS  ZNxRAD  ZNxTAX  ZNxPTRATIO  \\\n",
       "220      0.0    0.00    0.00     0.0    0.00000     0.0     0.0         0.0   \n",
       "71       0.0    0.00    0.00     0.0    0.00000     0.0     0.0         0.0   \n",
       "240      0.0   12.84  206.91  1629.0  190.08300   180.0  9000.0       498.0   \n",
       "6        0.0    6.55   75.15   832.5   69.50625    62.5  3887.5       190.0   \n",
       "417      0.0    0.00    0.00     0.0    0.00000     0.0     0.0         0.0   \n",
       "\n",
       "        ZNxB  ZNxLSTAT  INDUSxCRIM  INDUSxZN  INDUSxINDUS  INDUSxCHAS  \\\n",
       "220      0.0     0.000    2.220158     0.000      38.4400         6.2   \n",
       "71       0.0     0.000    1.716196     0.000     116.8561         0.0   \n",
       "240  11737.5   341.400    0.558520   147.900      24.3049         0.0   \n",
       "6     4945.0   155.375    0.694842    98.375      61.9369         0.0   \n",
       "417      0.0     0.000  469.524860     0.000     327.6100         0.0   \n",
       "\n",
       "     INDUSxNOX  INDUSxRM  INDUSxAGE  INDUSxDIS  INDUSxRAD  INDUSxTAX  \\\n",
       "220    3.14340  43.09620    548.700  17.742540      49.60    1903.40   \n",
       "71     4.46453  64.43841    189.175  57.155713      43.24    3297.05   \n",
       "240    2.11004  34.00221    267.699  31.236973      29.58    1479.00   \n",
       "6      4.12388  47.31444    524.142  43.761135      39.35    2447.57   \n",
       "417   12.28990  96.00240   1612.710  29.819750     434.40   12054.60   \n",
       "\n",
       "     INDUSxPTRATIO    INDUSxB  INDUSxLSTAT  CHASxCRIM  CHASxZN  CHASxINDUS  \\\n",
       "220        107.880  2428.5400      60.2020    0.35809      0.0         6.2   \n",
       "71         207.552  4074.7214     106.8028    0.00000      0.0         0.0   \n",
       "240         81.838  1928.8625      56.1034    0.00000      0.0         0.0   \n",
       "6          119.624  3113.3720      97.8241    0.00000      0.0         0.0   \n",
       "417        365.620  2305.2160     482.1840    0.00000      0.0         0.0   \n",
       "\n",
       "     CHASxCHAS  CHASxNOX  CHASxRM  CHASxAGE  CHASxDIS  CHASxRAD  CHASxTAX  \\\n",
       "220        1.0     0.507    6.951      88.5    2.8617       8.0     307.0   \n",
       "71         0.0     0.000    0.000       0.0    0.0000       0.0       0.0   \n",
       "240        0.0     0.000    0.000       0.0    0.0000       0.0       0.0   \n",
       "6          0.0     0.000    0.000       0.0    0.0000       0.0       0.0   \n",
       "417        0.0     0.000    0.000       0.0    0.0000       0.0       0.0   \n",
       "\n",
       "     CHASxPTRATIO  CHASxB  CHASxLSTAT   NOXxCRIM  NOXxZN  NOXxINDUS  NOXxCHAS  \\\n",
       "220          17.4   391.7        9.71   0.181552    0.00    3.14340     0.507   \n",
       "71            0.0     0.0        0.00   0.065568    0.00    4.46453     0.000   \n",
       "240           0.0     0.0        0.00   0.048488   12.84    2.11004     0.000   \n",
       "6             0.0     0.0        0.00   0.046264    6.55    4.12388     0.000   \n",
       "417           0.0     0.0        0.00  17.613667    0.00   12.28990     0.000   \n",
       "\n",
       "      NOXxNOX    NOXxRM  NOXxAGE   NOXxDIS  NOXxRAD  NOXxTAX  NOXxPTRATIO  \\\n",
       "220  0.257049  3.524157  44.8695  1.450882    4.056  155.649       8.8218   \n",
       "71   0.170569  2.461893   7.2275  2.183655    1.652  125.965       7.9296   \n",
       "240  0.183184  2.951916  23.2404  2.711851    2.568  128.400       7.1048   \n",
       "6    0.274576  3.150288  34.8984  2.913702    2.620  162.964       7.9648   \n",
       "417  0.461041  3.601416  60.4989  1.118653   16.296  452.214      13.7158   \n",
       "\n",
       "         NOXxB  NOXxLSTAT     RMxCRIM   RMxZN  RMxINDUS  RMxCHAS    RMxNOX  \\\n",
       "220  198.59190    4.92297    2.489084    0.00  43.09620    6.951  3.524157   \n",
       "71   155.67622    4.08044    0.946368    0.00  64.43841    0.000  2.461893   \n",
       "240  167.45500    4.87064    0.781361  206.91  34.00221    0.000  2.951916   \n",
       "6    207.29440    6.51332    0.530799   75.15  47.31444    0.000  3.150288   \n",
       "417   86.47744   18.08856  137.588942    0.00  96.00240    0.000  3.601416   \n",
       "\n",
       "         RMxRM    RMxAGE     RMxDIS   RMxRAD    RMxTAX  RMxPTRATIO  \\\n",
       "220  48.316401  615.1635  19.891677   55.608  2133.957    120.9474   \n",
       "71   35.533521  104.3175  31.517595   23.844  1818.105    114.4512   \n",
       "240  47.568609  374.5071  43.700082   41.382  2069.100    114.4902   \n",
       "6    36.144144  400.3992  33.429726   30.060  1869.732     91.3824   \n",
       "417  28.132416  472.5864   8.738340  127.296  3532.464    107.1408   \n",
       "\n",
       "           RMxB   RMxLSTAT     AGExCRIM  AGExZN  AGExINDUS  AGExCHAS  AGExNOX  \\\n",
       "220  2722.70670   67.49421    31.690965     0.0    548.700      88.5  44.8695   \n",
       "71   2246.93934   58.89468     2.778300     0.0    189.175       0.0   7.2275   \n",
       "240  2698.45125   78.48786     6.151647  1629.0    267.699       0.0  23.2404   \n",
       "6    2378.34720   74.72916     5.880114   832.5    524.142       0.0  34.8984   \n",
       "417   675.51744  141.29856  2311.307460     0.0   1612.710       0.0  60.4989   \n",
       "\n",
       "       AGExRM  AGExAGE    AGExDIS  AGExRAD  AGExTAX  AGExPTRATIO      AGExB  \\\n",
       "220  615.1635  7832.25  253.26045    708.0  27169.5      1539.90  34665.450   \n",
       "71   104.3175   306.25   92.52775     70.0   5337.5       336.00   6596.450   \n",
       "240  374.5071  2948.49  344.05023    325.8  16290.0       901.38  21244.875   \n",
       "6    400.3992  4435.56  370.32930    333.0  20712.6      1012.32  26346.960   \n",
       "417  472.5864  7938.81  146.79225   2138.4  59340.6      1799.82  11347.776   \n",
       "\n",
       "     AGExLSTAT   DISxCRIM     DISxZN  DISxINDUS  DISxCHAS   DISxNOX  \\\n",
       "220    859.335   1.024746    0.00000  17.742540    2.8617  1.450882   \n",
       "71     172.900   0.839412    0.00000  57.155713    0.0000  2.183655   \n",
       "240    617.934   0.717817  190.08300  31.236973    0.0000  2.711851   \n",
       "6      827.838   0.490937   69.50625  43.761135    0.0000  2.913702   \n",
       "417   2373.624  42.737139    0.00000  29.819750    0.0000  1.118653   \n",
       "\n",
       "        DISxRM    DISxAGE    DISxDIS  DISxRAD    DISxTAX  DISxPTRATIO  \\\n",
       "220  19.891677  253.26045   8.189327  22.8936   878.5419     49.79358   \n",
       "71   31.517595   92.52775  27.955541  21.1492  1612.6265    101.51616   \n",
       "240  43.700082  344.05023  40.146163  38.0166  1900.8300    105.17926   \n",
       "6    33.429726  370.32930  30.919160  27.8025  1729.3155     84.51960   \n",
       "417   8.738340  146.79225   2.714256  39.5400  1097.2350     33.27950   \n",
       "\n",
       "           DISxB  DISxLSTAT   RADxCRIM  RADxZN  RADxINDUS  RADxCHAS  RADxNOX  \\\n",
       "220  1120.927890  27.787107    2.86472     0.0      49.60       8.0    4.056   \n",
       "71   1992.994862  52.238524    0.63504     0.0      43.24       0.0    1.652   \n",
       "240  2478.999125  72.104818    0.67974   180.0      29.58       0.0    2.568   \n",
       "6    2199.733800  69.117015    0.44145    62.5      39.35       0.0    2.620   \n",
       "417   209.825600  43.889400  622.57440     0.0     434.40       0.0   16.296   \n",
       "\n",
       "      RADxRM  RADxAGE  RADxDIS  RADxRAD  RADxTAX  RADxPTRATIO    RADxB  \\\n",
       "220   55.608    708.0  22.8936     64.0   2456.0        139.2  3133.60   \n",
       "71    23.844     70.0  21.1492     16.0   1220.0         76.8  1507.76   \n",
       "240   41.382    325.8  38.0166     36.0   1800.0         99.6  2347.50   \n",
       "6     30.060    333.0  27.8025     25.0   1555.0         76.0  1978.00   \n",
       "417  127.296   2138.4  39.5400    576.0  15984.0        484.8  3056.64   \n",
       "\n",
       "     RADxLSTAT     TAXxCRIM  TAXxZN  TAXxINDUS  TAXxCHAS  TAXxNOX    TAXxRM  \\\n",
       "220      77.68    109.93363     0.0    1903.40     307.0  155.649  2133.957   \n",
       "71       39.52     48.42180     0.0    3297.05       0.0  125.965  1818.105   \n",
       "240      68.28     33.98700  9000.0    1479.00       0.0  128.400  2069.100   \n",
       "6        62.15     27.45819  3887.5    2447.57       0.0  162.964  1869.732   \n",
       "417     639.36  17276.43960     0.0   12054.60       0.0  452.214  3532.464   \n",
       "\n",
       "     TAXxAGE    TAXxDIS  TAXxRAD   TAXxTAX  TAXxPTRATIO      TAXxB  TAXxLSTAT  \\\n",
       "220  27169.5   878.5419   2456.0   94249.0       5341.8  120251.90    2980.97   \n",
       "71    5337.5  1612.6265   1220.0   93025.0       5856.0  114966.70    3013.40   \n",
       "240  16290.0  1900.8300   1800.0   90000.0       4980.0  117375.00    3414.00   \n",
       "6    20712.6  1729.3155   1555.0   96721.0       4727.2  123031.60    3865.73   \n",
       "417  59340.6  1097.2350  15984.0  443556.0      13453.2   84821.76   17742.24   \n",
       "\n",
       "     PTRATIOxCRIM  PTRATIOxZN  PTRATIOxINDUS  PTRATIOxCHAS  PTRATIOxNOX  \\\n",
       "220      6.230766         0.0        107.880          17.4       8.8218   \n",
       "71       3.048192         0.0        207.552           0.0       7.9296   \n",
       "240      1.880614       498.0         81.838           0.0       7.1048   \n",
       "6        1.342008       190.0        119.624           0.0       7.9648   \n",
       "417    524.000120         0.0        365.620           0.0      13.7158   \n",
       "\n",
       "     PTRATIOxRM  PTRATIOxAGE  PTRATIOxDIS  PTRATIOxRAD  PTRATIOxTAX  \\\n",
       "220    120.9474      1539.90     49.79358        139.2       5341.8   \n",
       "71     114.4512       336.00    101.51616         76.8       5856.0   \n",
       "240    114.4902       901.38    105.17926         99.6       4980.0   \n",
       "6       91.3824      1012.32     84.51960         76.0       4727.2   \n",
       "417    107.1408      1799.82     33.27950        484.8      13453.2   \n",
       "\n",
       "     PTRATIOxPTRATIO  PTRATIOxB  PTRATIOxLSTAT       BxCRIM     BxZN  \\\n",
       "220           302.76   6815.580        168.954   140.263853      0.0   \n",
       "71            368.64   7237.248        189.696    59.842994      0.0   \n",
       "240           275.56   6494.750        188.908    44.324713  11737.5   \n",
       "6             231.04   6013.120        188.936    34.927524   4945.0   \n",
       "417           408.04   2572.672        538.128  3303.794816      0.0   \n",
       "\n",
       "       BxINDUS  BxCHAS      BxNOX        BxRM      BxAGE        BxDIS  \\\n",
       "220  2428.5400   391.7  198.59190  2722.70670  34665.450  1120.927890   \n",
       "71   4074.7214     0.0  155.67622  2246.93934   6596.450  1992.994862   \n",
       "240  1928.8625     0.0  167.45500  2698.45125  21244.875  2478.999125   \n",
       "6    3113.3720     0.0  207.29440  2378.34720  26346.960  2199.733800   \n",
       "417  2305.2160     0.0   86.47744   675.51744  11347.776   209.825600   \n",
       "\n",
       "       BxRAD      BxTAX  BxPTRATIO          BxB    BxLSTAT  LSTATxCRIM  \\\n",
       "220  3133.60  120251.90   6815.580  153428.8900  3803.4070    3.477054   \n",
       "71   1507.76  114966.70   7237.248  142083.7636  3724.1672    1.568549   \n",
       "240  2347.50  117375.00   6494.750  153076.5625  4452.4250    1.289240   \n",
       "6    1978.00  123031.60   6013.120  156499.3600  4917.3080    1.097445   \n",
       "417  3056.64   84821.76   2572.672   16220.5696  3392.8704  691.057584   \n",
       "\n",
       "     LSTATxZN  LSTATxINDUS  LSTATxCHAS  LSTATxNOX   LSTATxRM  LSTATxAGE  \\\n",
       "220     0.000      60.2020        9.71    4.92297   67.49421    859.335   \n",
       "71      0.000     106.8028        0.00    4.08044   58.89468    172.900   \n",
       "240   341.400      56.1034        0.00    4.87064   78.48786    617.934   \n",
       "6     155.375      97.8241        0.00    6.51332   74.72916    827.838   \n",
       "417     0.000     482.1840        0.00   18.08856  141.29856   2373.624   \n",
       "\n",
       "     LSTATxDIS  LSTATxRAD  LSTATxTAX  LSTATxPTRATIO    LSTATxB  LSTATxLSTAT  \n",
       "220  27.787107      77.68    2980.97        168.954  3803.4070      94.2841  \n",
       "71   52.238524      39.52    3013.40        189.696  3724.1672      97.6144  \n",
       "240  72.104818      68.28    3414.00        188.908  4452.4250     129.5044  \n",
       "6    69.117015      62.15    3865.73        188.936  4917.3080     154.5049  \n",
       "417  43.889400     639.36   17742.24        538.128  3392.8704     709.6896  "
      ]
     },
     "execution_count": 44,
     "metadata": {},
     "output_type": "execute_result"
    }
   ],
   "source": [
    "extended_x_train.head()\n",
    "#columns의 수는 (원래 칼럼수 * 월래 칼럼수) + 원래 칼럼수"
   ]
  },
  {
   "cell_type": "code",
   "execution_count": 45,
   "id": "9b0fc7de",
   "metadata": {},
   "outputs": [
    {
     "data": {
      "text/plain": [
       "(404, 182)"
      ]
     },
     "execution_count": 45,
     "metadata": {},
     "output_type": "execute_result"
    }
   ],
   "source": [
    "extended_x_train.shape\n",
    "#형태 확인"
   ]
  },
  {
   "cell_type": "markdown",
   "id": "ecea2dfe",
   "metadata": {},
   "source": [
    "#### 특성 확장된 train 데이터의 값과 정답으로 모델을 학습"
   ]
  },
  {
   "cell_type": "code",
   "execution_count": 46,
   "id": "f1cd5e1d",
   "metadata": {},
   "outputs": [
    {
     "data": {
      "text/plain": [
       "LinearRegression()"
      ]
     },
     "execution_count": 46,
     "metadata": {},
     "output_type": "execute_result"
    }
   ],
   "source": [
    "lr2 = LinearRegression()\n",
    "lr2.fit(extended_x_train,y_train)\n",
    "#모델 선언 및 학습"
   ]
  },
  {
   "cell_type": "code",
   "execution_count": 47,
   "id": "1aff6c84",
   "metadata": {},
   "outputs": [],
   "source": [
    "extended_x_test = x_test.copy()\n",
    "#x_test 데이터 복제"
   ]
  },
  {
   "cell_type": "code",
   "execution_count": 48,
   "id": "fabba27b",
   "metadata": {},
   "outputs": [
    {
     "name": "stderr",
     "output_type": "stream",
     "text": [
      "C:\\Users\\user\\AppData\\Local\\Temp\\ipykernel_12264\\793332256.py:6: PerformanceWarning: DataFrame is highly fragmented.  This is usually the result of calling `frame.insert` many times, which has poor performance.  Consider joining all columns at once using pd.concat(axis=1) instead. To get a de-fragmented frame, use `newframe = frame.copy()`\n",
      "  extended_x_test[col1+'x'+col2] = x_test[col1] * x_test[col2]\n",
      "C:\\Users\\user\\AppData\\Local\\Temp\\ipykernel_12264\\793332256.py:6: PerformanceWarning: DataFrame is highly fragmented.  This is usually the result of calling `frame.insert` many times, which has poor performance.  Consider joining all columns at once using pd.concat(axis=1) instead. To get a de-fragmented frame, use `newframe = frame.copy()`\n",
      "  extended_x_test[col1+'x'+col2] = x_test[col1] * x_test[col2]\n",
      "C:\\Users\\user\\AppData\\Local\\Temp\\ipykernel_12264\\793332256.py:6: PerformanceWarning: DataFrame is highly fragmented.  This is usually the result of calling `frame.insert` many times, which has poor performance.  Consider joining all columns at once using pd.concat(axis=1) instead. To get a de-fragmented frame, use `newframe = frame.copy()`\n",
      "  extended_x_test[col1+'x'+col2] = x_test[col1] * x_test[col2]\n",
      "C:\\Users\\user\\AppData\\Local\\Temp\\ipykernel_12264\\793332256.py:6: PerformanceWarning: DataFrame is highly fragmented.  This is usually the result of calling `frame.insert` many times, which has poor performance.  Consider joining all columns at once using pd.concat(axis=1) instead. To get a de-fragmented frame, use `newframe = frame.copy()`\n",
      "  extended_x_test[col1+'x'+col2] = x_test[col1] * x_test[col2]\n",
      "C:\\Users\\user\\AppData\\Local\\Temp\\ipykernel_12264\\793332256.py:6: PerformanceWarning: DataFrame is highly fragmented.  This is usually the result of calling `frame.insert` many times, which has poor performance.  Consider joining all columns at once using pd.concat(axis=1) instead. To get a de-fragmented frame, use `newframe = frame.copy()`\n",
      "  extended_x_test[col1+'x'+col2] = x_test[col1] * x_test[col2]\n",
      "C:\\Users\\user\\AppData\\Local\\Temp\\ipykernel_12264\\793332256.py:6: PerformanceWarning: DataFrame is highly fragmented.  This is usually the result of calling `frame.insert` many times, which has poor performance.  Consider joining all columns at once using pd.concat(axis=1) instead. To get a de-fragmented frame, use `newframe = frame.copy()`\n",
      "  extended_x_test[col1+'x'+col2] = x_test[col1] * x_test[col2]\n",
      "C:\\Users\\user\\AppData\\Local\\Temp\\ipykernel_12264\\793332256.py:6: PerformanceWarning: DataFrame is highly fragmented.  This is usually the result of calling `frame.insert` many times, which has poor performance.  Consider joining all columns at once using pd.concat(axis=1) instead. To get a de-fragmented frame, use `newframe = frame.copy()`\n",
      "  extended_x_test[col1+'x'+col2] = x_test[col1] * x_test[col2]\n",
      "C:\\Users\\user\\AppData\\Local\\Temp\\ipykernel_12264\\793332256.py:6: PerformanceWarning: DataFrame is highly fragmented.  This is usually the result of calling `frame.insert` many times, which has poor performance.  Consider joining all columns at once using pd.concat(axis=1) instead. To get a de-fragmented frame, use `newframe = frame.copy()`\n",
      "  extended_x_test[col1+'x'+col2] = x_test[col1] * x_test[col2]\n",
      "C:\\Users\\user\\AppData\\Local\\Temp\\ipykernel_12264\\793332256.py:6: PerformanceWarning: DataFrame is highly fragmented.  This is usually the result of calling `frame.insert` many times, which has poor performance.  Consider joining all columns at once using pd.concat(axis=1) instead. To get a de-fragmented frame, use `newframe = frame.copy()`\n",
      "  extended_x_test[col1+'x'+col2] = x_test[col1] * x_test[col2]\n",
      "C:\\Users\\user\\AppData\\Local\\Temp\\ipykernel_12264\\793332256.py:6: PerformanceWarning: DataFrame is highly fragmented.  This is usually the result of calling `frame.insert` many times, which has poor performance.  Consider joining all columns at once using pd.concat(axis=1) instead. To get a de-fragmented frame, use `newframe = frame.copy()`\n",
      "  extended_x_test[col1+'x'+col2] = x_test[col1] * x_test[col2]\n",
      "C:\\Users\\user\\AppData\\Local\\Temp\\ipykernel_12264\\793332256.py:6: PerformanceWarning: DataFrame is highly fragmented.  This is usually the result of calling `frame.insert` many times, which has poor performance.  Consider joining all columns at once using pd.concat(axis=1) instead. To get a de-fragmented frame, use `newframe = frame.copy()`\n",
      "  extended_x_test[col1+'x'+col2] = x_test[col1] * x_test[col2]\n",
      "C:\\Users\\user\\AppData\\Local\\Temp\\ipykernel_12264\\793332256.py:6: PerformanceWarning: DataFrame is highly fragmented.  This is usually the result of calling `frame.insert` many times, which has poor performance.  Consider joining all columns at once using pd.concat(axis=1) instead. To get a de-fragmented frame, use `newframe = frame.copy()`\n",
      "  extended_x_test[col1+'x'+col2] = x_test[col1] * x_test[col2]\n",
      "C:\\Users\\user\\AppData\\Local\\Temp\\ipykernel_12264\\793332256.py:6: PerformanceWarning: DataFrame is highly fragmented.  This is usually the result of calling `frame.insert` many times, which has poor performance.  Consider joining all columns at once using pd.concat(axis=1) instead. To get a de-fragmented frame, use `newframe = frame.copy()`\n",
      "  extended_x_test[col1+'x'+col2] = x_test[col1] * x_test[col2]\n",
      "C:\\Users\\user\\AppData\\Local\\Temp\\ipykernel_12264\\793332256.py:6: PerformanceWarning: DataFrame is highly fragmented.  This is usually the result of calling `frame.insert` many times, which has poor performance.  Consider joining all columns at once using pd.concat(axis=1) instead. To get a de-fragmented frame, use `newframe = frame.copy()`\n",
      "  extended_x_test[col1+'x'+col2] = x_test[col1] * x_test[col2]\n",
      "C:\\Users\\user\\AppData\\Local\\Temp\\ipykernel_12264\\793332256.py:6: PerformanceWarning: DataFrame is highly fragmented.  This is usually the result of calling `frame.insert` many times, which has poor performance.  Consider joining all columns at once using pd.concat(axis=1) instead. To get a de-fragmented frame, use `newframe = frame.copy()`\n",
      "  extended_x_test[col1+'x'+col2] = x_test[col1] * x_test[col2]\n",
      "C:\\Users\\user\\AppData\\Local\\Temp\\ipykernel_12264\\793332256.py:6: PerformanceWarning: DataFrame is highly fragmented.  This is usually the result of calling `frame.insert` many times, which has poor performance.  Consider joining all columns at once using pd.concat(axis=1) instead. To get a de-fragmented frame, use `newframe = frame.copy()`\n",
      "  extended_x_test[col1+'x'+col2] = x_test[col1] * x_test[col2]\n",
      "C:\\Users\\user\\AppData\\Local\\Temp\\ipykernel_12264\\793332256.py:6: PerformanceWarning: DataFrame is highly fragmented.  This is usually the result of calling `frame.insert` many times, which has poor performance.  Consider joining all columns at once using pd.concat(axis=1) instead. To get a de-fragmented frame, use `newframe = frame.copy()`\n",
      "  extended_x_test[col1+'x'+col2] = x_test[col1] * x_test[col2]\n",
      "C:\\Users\\user\\AppData\\Local\\Temp\\ipykernel_12264\\793332256.py:6: PerformanceWarning: DataFrame is highly fragmented.  This is usually the result of calling `frame.insert` many times, which has poor performance.  Consider joining all columns at once using pd.concat(axis=1) instead. To get a de-fragmented frame, use `newframe = frame.copy()`\n",
      "  extended_x_test[col1+'x'+col2] = x_test[col1] * x_test[col2]\n",
      "C:\\Users\\user\\AppData\\Local\\Temp\\ipykernel_12264\\793332256.py:6: PerformanceWarning: DataFrame is highly fragmented.  This is usually the result of calling `frame.insert` many times, which has poor performance.  Consider joining all columns at once using pd.concat(axis=1) instead. To get a de-fragmented frame, use `newframe = frame.copy()`\n",
      "  extended_x_test[col1+'x'+col2] = x_test[col1] * x_test[col2]\n",
      "C:\\Users\\user\\AppData\\Local\\Temp\\ipykernel_12264\\793332256.py:6: PerformanceWarning: DataFrame is highly fragmented.  This is usually the result of calling `frame.insert` many times, which has poor performance.  Consider joining all columns at once using pd.concat(axis=1) instead. To get a de-fragmented frame, use `newframe = frame.copy()`\n",
      "  extended_x_test[col1+'x'+col2] = x_test[col1] * x_test[col2]\n",
      "C:\\Users\\user\\AppData\\Local\\Temp\\ipykernel_12264\\793332256.py:6: PerformanceWarning: DataFrame is highly fragmented.  This is usually the result of calling `frame.insert` many times, which has poor performance.  Consider joining all columns at once using pd.concat(axis=1) instead. To get a de-fragmented frame, use `newframe = frame.copy()`\n",
      "  extended_x_test[col1+'x'+col2] = x_test[col1] * x_test[col2]\n",
      "C:\\Users\\user\\AppData\\Local\\Temp\\ipykernel_12264\\793332256.py:6: PerformanceWarning: DataFrame is highly fragmented.  This is usually the result of calling `frame.insert` many times, which has poor performance.  Consider joining all columns at once using pd.concat(axis=1) instead. To get a de-fragmented frame, use `newframe = frame.copy()`\n",
      "  extended_x_test[col1+'x'+col2] = x_test[col1] * x_test[col2]\n",
      "C:\\Users\\user\\AppData\\Local\\Temp\\ipykernel_12264\\793332256.py:6: PerformanceWarning: DataFrame is highly fragmented.  This is usually the result of calling `frame.insert` many times, which has poor performance.  Consider joining all columns at once using pd.concat(axis=1) instead. To get a de-fragmented frame, use `newframe = frame.copy()`\n",
      "  extended_x_test[col1+'x'+col2] = x_test[col1] * x_test[col2]\n",
      "C:\\Users\\user\\AppData\\Local\\Temp\\ipykernel_12264\\793332256.py:6: PerformanceWarning: DataFrame is highly fragmented.  This is usually the result of calling `frame.insert` many times, which has poor performance.  Consider joining all columns at once using pd.concat(axis=1) instead. To get a de-fragmented frame, use `newframe = frame.copy()`\n",
      "  extended_x_test[col1+'x'+col2] = x_test[col1] * x_test[col2]\n",
      "C:\\Users\\user\\AppData\\Local\\Temp\\ipykernel_12264\\793332256.py:6: PerformanceWarning: DataFrame is highly fragmented.  This is usually the result of calling `frame.insert` many times, which has poor performance.  Consider joining all columns at once using pd.concat(axis=1) instead. To get a de-fragmented frame, use `newframe = frame.copy()`\n",
      "  extended_x_test[col1+'x'+col2] = x_test[col1] * x_test[col2]\n",
      "C:\\Users\\user\\AppData\\Local\\Temp\\ipykernel_12264\\793332256.py:6: PerformanceWarning: DataFrame is highly fragmented.  This is usually the result of calling `frame.insert` many times, which has poor performance.  Consider joining all columns at once using pd.concat(axis=1) instead. To get a de-fragmented frame, use `newframe = frame.copy()`\n",
      "  extended_x_test[col1+'x'+col2] = x_test[col1] * x_test[col2]\n",
      "C:\\Users\\user\\AppData\\Local\\Temp\\ipykernel_12264\\793332256.py:6: PerformanceWarning: DataFrame is highly fragmented.  This is usually the result of calling `frame.insert` many times, which has poor performance.  Consider joining all columns at once using pd.concat(axis=1) instead. To get a de-fragmented frame, use `newframe = frame.copy()`\n",
      "  extended_x_test[col1+'x'+col2] = x_test[col1] * x_test[col2]\n",
      "C:\\Users\\user\\AppData\\Local\\Temp\\ipykernel_12264\\793332256.py:6: PerformanceWarning: DataFrame is highly fragmented.  This is usually the result of calling `frame.insert` many times, which has poor performance.  Consider joining all columns at once using pd.concat(axis=1) instead. To get a de-fragmented frame, use `newframe = frame.copy()`\n",
      "  extended_x_test[col1+'x'+col2] = x_test[col1] * x_test[col2]\n",
      "C:\\Users\\user\\AppData\\Local\\Temp\\ipykernel_12264\\793332256.py:6: PerformanceWarning: DataFrame is highly fragmented.  This is usually the result of calling `frame.insert` many times, which has poor performance.  Consider joining all columns at once using pd.concat(axis=1) instead. To get a de-fragmented frame, use `newframe = frame.copy()`\n",
      "  extended_x_test[col1+'x'+col2] = x_test[col1] * x_test[col2]\n",
      "C:\\Users\\user\\AppData\\Local\\Temp\\ipykernel_12264\\793332256.py:6: PerformanceWarning: DataFrame is highly fragmented.  This is usually the result of calling `frame.insert` many times, which has poor performance.  Consider joining all columns at once using pd.concat(axis=1) instead. To get a de-fragmented frame, use `newframe = frame.copy()`\n",
      "  extended_x_test[col1+'x'+col2] = x_test[col1] * x_test[col2]\n",
      "C:\\Users\\user\\AppData\\Local\\Temp\\ipykernel_12264\\793332256.py:6: PerformanceWarning: DataFrame is highly fragmented.  This is usually the result of calling `frame.insert` many times, which has poor performance.  Consider joining all columns at once using pd.concat(axis=1) instead. To get a de-fragmented frame, use `newframe = frame.copy()`\n",
      "  extended_x_test[col1+'x'+col2] = x_test[col1] * x_test[col2]\n",
      "C:\\Users\\user\\AppData\\Local\\Temp\\ipykernel_12264\\793332256.py:6: PerformanceWarning: DataFrame is highly fragmented.  This is usually the result of calling `frame.insert` many times, which has poor performance.  Consider joining all columns at once using pd.concat(axis=1) instead. To get a de-fragmented frame, use `newframe = frame.copy()`\n",
      "  extended_x_test[col1+'x'+col2] = x_test[col1] * x_test[col2]\n",
      "C:\\Users\\user\\AppData\\Local\\Temp\\ipykernel_12264\\793332256.py:6: PerformanceWarning: DataFrame is highly fragmented.  This is usually the result of calling `frame.insert` many times, which has poor performance.  Consider joining all columns at once using pd.concat(axis=1) instead. To get a de-fragmented frame, use `newframe = frame.copy()`\n",
      "  extended_x_test[col1+'x'+col2] = x_test[col1] * x_test[col2]\n",
      "C:\\Users\\user\\AppData\\Local\\Temp\\ipykernel_12264\\793332256.py:6: PerformanceWarning: DataFrame is highly fragmented.  This is usually the result of calling `frame.insert` many times, which has poor performance.  Consider joining all columns at once using pd.concat(axis=1) instead. To get a de-fragmented frame, use `newframe = frame.copy()`\n",
      "  extended_x_test[col1+'x'+col2] = x_test[col1] * x_test[col2]\n",
      "C:\\Users\\user\\AppData\\Local\\Temp\\ipykernel_12264\\793332256.py:6: PerformanceWarning: DataFrame is highly fragmented.  This is usually the result of calling `frame.insert` many times, which has poor performance.  Consider joining all columns at once using pd.concat(axis=1) instead. To get a de-fragmented frame, use `newframe = frame.copy()`\n",
      "  extended_x_test[col1+'x'+col2] = x_test[col1] * x_test[col2]\n",
      "C:\\Users\\user\\AppData\\Local\\Temp\\ipykernel_12264\\793332256.py:6: PerformanceWarning: DataFrame is highly fragmented.  This is usually the result of calling `frame.insert` many times, which has poor performance.  Consider joining all columns at once using pd.concat(axis=1) instead. To get a de-fragmented frame, use `newframe = frame.copy()`\n",
      "  extended_x_test[col1+'x'+col2] = x_test[col1] * x_test[col2]\n",
      "C:\\Users\\user\\AppData\\Local\\Temp\\ipykernel_12264\\793332256.py:6: PerformanceWarning: DataFrame is highly fragmented.  This is usually the result of calling `frame.insert` many times, which has poor performance.  Consider joining all columns at once using pd.concat(axis=1) instead. To get a de-fragmented frame, use `newframe = frame.copy()`\n",
      "  extended_x_test[col1+'x'+col2] = x_test[col1] * x_test[col2]\n",
      "C:\\Users\\user\\AppData\\Local\\Temp\\ipykernel_12264\\793332256.py:6: PerformanceWarning: DataFrame is highly fragmented.  This is usually the result of calling `frame.insert` many times, which has poor performance.  Consider joining all columns at once using pd.concat(axis=1) instead. To get a de-fragmented frame, use `newframe = frame.copy()`\n",
      "  extended_x_test[col1+'x'+col2] = x_test[col1] * x_test[col2]\n",
      "C:\\Users\\user\\AppData\\Local\\Temp\\ipykernel_12264\\793332256.py:6: PerformanceWarning: DataFrame is highly fragmented.  This is usually the result of calling `frame.insert` many times, which has poor performance.  Consider joining all columns at once using pd.concat(axis=1) instead. To get a de-fragmented frame, use `newframe = frame.copy()`\n",
      "  extended_x_test[col1+'x'+col2] = x_test[col1] * x_test[col2]\n",
      "C:\\Users\\user\\AppData\\Local\\Temp\\ipykernel_12264\\793332256.py:6: PerformanceWarning: DataFrame is highly fragmented.  This is usually the result of calling `frame.insert` many times, which has poor performance.  Consider joining all columns at once using pd.concat(axis=1) instead. To get a de-fragmented frame, use `newframe = frame.copy()`\n",
      "  extended_x_test[col1+'x'+col2] = x_test[col1] * x_test[col2]\n",
      "C:\\Users\\user\\AppData\\Local\\Temp\\ipykernel_12264\\793332256.py:6: PerformanceWarning: DataFrame is highly fragmented.  This is usually the result of calling `frame.insert` many times, which has poor performance.  Consider joining all columns at once using pd.concat(axis=1) instead. To get a de-fragmented frame, use `newframe = frame.copy()`\n",
      "  extended_x_test[col1+'x'+col2] = x_test[col1] * x_test[col2]\n",
      "C:\\Users\\user\\AppData\\Local\\Temp\\ipykernel_12264\\793332256.py:6: PerformanceWarning: DataFrame is highly fragmented.  This is usually the result of calling `frame.insert` many times, which has poor performance.  Consider joining all columns at once using pd.concat(axis=1) instead. To get a de-fragmented frame, use `newframe = frame.copy()`\n",
      "  extended_x_test[col1+'x'+col2] = x_test[col1] * x_test[col2]\n",
      "C:\\Users\\user\\AppData\\Local\\Temp\\ipykernel_12264\\793332256.py:6: PerformanceWarning: DataFrame is highly fragmented.  This is usually the result of calling `frame.insert` many times, which has poor performance.  Consider joining all columns at once using pd.concat(axis=1) instead. To get a de-fragmented frame, use `newframe = frame.copy()`\n",
      "  extended_x_test[col1+'x'+col2] = x_test[col1] * x_test[col2]\n",
      "C:\\Users\\user\\AppData\\Local\\Temp\\ipykernel_12264\\793332256.py:6: PerformanceWarning: DataFrame is highly fragmented.  This is usually the result of calling `frame.insert` many times, which has poor performance.  Consider joining all columns at once using pd.concat(axis=1) instead. To get a de-fragmented frame, use `newframe = frame.copy()`\n",
      "  extended_x_test[col1+'x'+col2] = x_test[col1] * x_test[col2]\n",
      "C:\\Users\\user\\AppData\\Local\\Temp\\ipykernel_12264\\793332256.py:6: PerformanceWarning: DataFrame is highly fragmented.  This is usually the result of calling `frame.insert` many times, which has poor performance.  Consider joining all columns at once using pd.concat(axis=1) instead. To get a de-fragmented frame, use `newframe = frame.copy()`\n",
      "  extended_x_test[col1+'x'+col2] = x_test[col1] * x_test[col2]\n",
      "C:\\Users\\user\\AppData\\Local\\Temp\\ipykernel_12264\\793332256.py:6: PerformanceWarning: DataFrame is highly fragmented.  This is usually the result of calling `frame.insert` many times, which has poor performance.  Consider joining all columns at once using pd.concat(axis=1) instead. To get a de-fragmented frame, use `newframe = frame.copy()`\n",
      "  extended_x_test[col1+'x'+col2] = x_test[col1] * x_test[col2]\n",
      "C:\\Users\\user\\AppData\\Local\\Temp\\ipykernel_12264\\793332256.py:6: PerformanceWarning: DataFrame is highly fragmented.  This is usually the result of calling `frame.insert` many times, which has poor performance.  Consider joining all columns at once using pd.concat(axis=1) instead. To get a de-fragmented frame, use `newframe = frame.copy()`\n",
      "  extended_x_test[col1+'x'+col2] = x_test[col1] * x_test[col2]\n",
      "C:\\Users\\user\\AppData\\Local\\Temp\\ipykernel_12264\\793332256.py:6: PerformanceWarning: DataFrame is highly fragmented.  This is usually the result of calling `frame.insert` many times, which has poor performance.  Consider joining all columns at once using pd.concat(axis=1) instead. To get a de-fragmented frame, use `newframe = frame.copy()`\n",
      "  extended_x_test[col1+'x'+col2] = x_test[col1] * x_test[col2]\n",
      "C:\\Users\\user\\AppData\\Local\\Temp\\ipykernel_12264\\793332256.py:6: PerformanceWarning: DataFrame is highly fragmented.  This is usually the result of calling `frame.insert` many times, which has poor performance.  Consider joining all columns at once using pd.concat(axis=1) instead. To get a de-fragmented frame, use `newframe = frame.copy()`\n",
      "  extended_x_test[col1+'x'+col2] = x_test[col1] * x_test[col2]\n",
      "C:\\Users\\user\\AppData\\Local\\Temp\\ipykernel_12264\\793332256.py:6: PerformanceWarning: DataFrame is highly fragmented.  This is usually the result of calling `frame.insert` many times, which has poor performance.  Consider joining all columns at once using pd.concat(axis=1) instead. To get a de-fragmented frame, use `newframe = frame.copy()`\n",
      "  extended_x_test[col1+'x'+col2] = x_test[col1] * x_test[col2]\n",
      "C:\\Users\\user\\AppData\\Local\\Temp\\ipykernel_12264\\793332256.py:6: PerformanceWarning: DataFrame is highly fragmented.  This is usually the result of calling `frame.insert` many times, which has poor performance.  Consider joining all columns at once using pd.concat(axis=1) instead. To get a de-fragmented frame, use `newframe = frame.copy()`\n",
      "  extended_x_test[col1+'x'+col2] = x_test[col1] * x_test[col2]\n",
      "C:\\Users\\user\\AppData\\Local\\Temp\\ipykernel_12264\\793332256.py:6: PerformanceWarning: DataFrame is highly fragmented.  This is usually the result of calling `frame.insert` many times, which has poor performance.  Consider joining all columns at once using pd.concat(axis=1) instead. To get a de-fragmented frame, use `newframe = frame.copy()`\n",
      "  extended_x_test[col1+'x'+col2] = x_test[col1] * x_test[col2]\n"
     ]
    },
    {
     "name": "stderr",
     "output_type": "stream",
     "text": [
      "C:\\Users\\user\\AppData\\Local\\Temp\\ipykernel_12264\\793332256.py:6: PerformanceWarning: DataFrame is highly fragmented.  This is usually the result of calling `frame.insert` many times, which has poor performance.  Consider joining all columns at once using pd.concat(axis=1) instead. To get a de-fragmented frame, use `newframe = frame.copy()`\n",
      "  extended_x_test[col1+'x'+col2] = x_test[col1] * x_test[col2]\n",
      "C:\\Users\\user\\AppData\\Local\\Temp\\ipykernel_12264\\793332256.py:6: PerformanceWarning: DataFrame is highly fragmented.  This is usually the result of calling `frame.insert` many times, which has poor performance.  Consider joining all columns at once using pd.concat(axis=1) instead. To get a de-fragmented frame, use `newframe = frame.copy()`\n",
      "  extended_x_test[col1+'x'+col2] = x_test[col1] * x_test[col2]\n",
      "C:\\Users\\user\\AppData\\Local\\Temp\\ipykernel_12264\\793332256.py:6: PerformanceWarning: DataFrame is highly fragmented.  This is usually the result of calling `frame.insert` many times, which has poor performance.  Consider joining all columns at once using pd.concat(axis=1) instead. To get a de-fragmented frame, use `newframe = frame.copy()`\n",
      "  extended_x_test[col1+'x'+col2] = x_test[col1] * x_test[col2]\n",
      "C:\\Users\\user\\AppData\\Local\\Temp\\ipykernel_12264\\793332256.py:6: PerformanceWarning: DataFrame is highly fragmented.  This is usually the result of calling `frame.insert` many times, which has poor performance.  Consider joining all columns at once using pd.concat(axis=1) instead. To get a de-fragmented frame, use `newframe = frame.copy()`\n",
      "  extended_x_test[col1+'x'+col2] = x_test[col1] * x_test[col2]\n",
      "C:\\Users\\user\\AppData\\Local\\Temp\\ipykernel_12264\\793332256.py:6: PerformanceWarning: DataFrame is highly fragmented.  This is usually the result of calling `frame.insert` many times, which has poor performance.  Consider joining all columns at once using pd.concat(axis=1) instead. To get a de-fragmented frame, use `newframe = frame.copy()`\n",
      "  extended_x_test[col1+'x'+col2] = x_test[col1] * x_test[col2]\n",
      "C:\\Users\\user\\AppData\\Local\\Temp\\ipykernel_12264\\793332256.py:6: PerformanceWarning: DataFrame is highly fragmented.  This is usually the result of calling `frame.insert` many times, which has poor performance.  Consider joining all columns at once using pd.concat(axis=1) instead. To get a de-fragmented frame, use `newframe = frame.copy()`\n",
      "  extended_x_test[col1+'x'+col2] = x_test[col1] * x_test[col2]\n",
      "C:\\Users\\user\\AppData\\Local\\Temp\\ipykernel_12264\\793332256.py:6: PerformanceWarning: DataFrame is highly fragmented.  This is usually the result of calling `frame.insert` many times, which has poor performance.  Consider joining all columns at once using pd.concat(axis=1) instead. To get a de-fragmented frame, use `newframe = frame.copy()`\n",
      "  extended_x_test[col1+'x'+col2] = x_test[col1] * x_test[col2]\n",
      "C:\\Users\\user\\AppData\\Local\\Temp\\ipykernel_12264\\793332256.py:6: PerformanceWarning: DataFrame is highly fragmented.  This is usually the result of calling `frame.insert` many times, which has poor performance.  Consider joining all columns at once using pd.concat(axis=1) instead. To get a de-fragmented frame, use `newframe = frame.copy()`\n",
      "  extended_x_test[col1+'x'+col2] = x_test[col1] * x_test[col2]\n",
      "C:\\Users\\user\\AppData\\Local\\Temp\\ipykernel_12264\\793332256.py:6: PerformanceWarning: DataFrame is highly fragmented.  This is usually the result of calling `frame.insert` many times, which has poor performance.  Consider joining all columns at once using pd.concat(axis=1) instead. To get a de-fragmented frame, use `newframe = frame.copy()`\n",
      "  extended_x_test[col1+'x'+col2] = x_test[col1] * x_test[col2]\n",
      "C:\\Users\\user\\AppData\\Local\\Temp\\ipykernel_12264\\793332256.py:6: PerformanceWarning: DataFrame is highly fragmented.  This is usually the result of calling `frame.insert` many times, which has poor performance.  Consider joining all columns at once using pd.concat(axis=1) instead. To get a de-fragmented frame, use `newframe = frame.copy()`\n",
      "  extended_x_test[col1+'x'+col2] = x_test[col1] * x_test[col2]\n",
      "C:\\Users\\user\\AppData\\Local\\Temp\\ipykernel_12264\\793332256.py:6: PerformanceWarning: DataFrame is highly fragmented.  This is usually the result of calling `frame.insert` many times, which has poor performance.  Consider joining all columns at once using pd.concat(axis=1) instead. To get a de-fragmented frame, use `newframe = frame.copy()`\n",
      "  extended_x_test[col1+'x'+col2] = x_test[col1] * x_test[col2]\n",
      "C:\\Users\\user\\AppData\\Local\\Temp\\ipykernel_12264\\793332256.py:6: PerformanceWarning: DataFrame is highly fragmented.  This is usually the result of calling `frame.insert` many times, which has poor performance.  Consider joining all columns at once using pd.concat(axis=1) instead. To get a de-fragmented frame, use `newframe = frame.copy()`\n",
      "  extended_x_test[col1+'x'+col2] = x_test[col1] * x_test[col2]\n",
      "C:\\Users\\user\\AppData\\Local\\Temp\\ipykernel_12264\\793332256.py:6: PerformanceWarning: DataFrame is highly fragmented.  This is usually the result of calling `frame.insert` many times, which has poor performance.  Consider joining all columns at once using pd.concat(axis=1) instead. To get a de-fragmented frame, use `newframe = frame.copy()`\n",
      "  extended_x_test[col1+'x'+col2] = x_test[col1] * x_test[col2]\n",
      "C:\\Users\\user\\AppData\\Local\\Temp\\ipykernel_12264\\793332256.py:6: PerformanceWarning: DataFrame is highly fragmented.  This is usually the result of calling `frame.insert` many times, which has poor performance.  Consider joining all columns at once using pd.concat(axis=1) instead. To get a de-fragmented frame, use `newframe = frame.copy()`\n",
      "  extended_x_test[col1+'x'+col2] = x_test[col1] * x_test[col2]\n",
      "C:\\Users\\user\\AppData\\Local\\Temp\\ipykernel_12264\\793332256.py:6: PerformanceWarning: DataFrame is highly fragmented.  This is usually the result of calling `frame.insert` many times, which has poor performance.  Consider joining all columns at once using pd.concat(axis=1) instead. To get a de-fragmented frame, use `newframe = frame.copy()`\n",
      "  extended_x_test[col1+'x'+col2] = x_test[col1] * x_test[col2]\n",
      "C:\\Users\\user\\AppData\\Local\\Temp\\ipykernel_12264\\793332256.py:6: PerformanceWarning: DataFrame is highly fragmented.  This is usually the result of calling `frame.insert` many times, which has poor performance.  Consider joining all columns at once using pd.concat(axis=1) instead. To get a de-fragmented frame, use `newframe = frame.copy()`\n",
      "  extended_x_test[col1+'x'+col2] = x_test[col1] * x_test[col2]\n",
      "C:\\Users\\user\\AppData\\Local\\Temp\\ipykernel_12264\\793332256.py:6: PerformanceWarning: DataFrame is highly fragmented.  This is usually the result of calling `frame.insert` many times, which has poor performance.  Consider joining all columns at once using pd.concat(axis=1) instead. To get a de-fragmented frame, use `newframe = frame.copy()`\n",
      "  extended_x_test[col1+'x'+col2] = x_test[col1] * x_test[col2]\n",
      "C:\\Users\\user\\AppData\\Local\\Temp\\ipykernel_12264\\793332256.py:6: PerformanceWarning: DataFrame is highly fragmented.  This is usually the result of calling `frame.insert` many times, which has poor performance.  Consider joining all columns at once using pd.concat(axis=1) instead. To get a de-fragmented frame, use `newframe = frame.copy()`\n",
      "  extended_x_test[col1+'x'+col2] = x_test[col1] * x_test[col2]\n"
     ]
    }
   ],
   "source": [
    "#extended_x_train의 각 컬럼들을 서로 한번씩 곱해서 새로운 컬럼 추가.\n",
    "#x_test데이터 특성확장 코드\n",
    "for col1 in x_test.columns: #x_train과 x_test의 column은 같다.\n",
    "    for col2 in x_test.columns:\n",
    "        \n",
    "        extended_x_test[col1+'x'+col2] = x_test[col1] * x_test[col2]\n",
    "        #x_test로 쓰지 않으면 오류 발생"
   ]
  },
  {
   "cell_type": "code",
   "execution_count": 49,
   "id": "6b661a97",
   "metadata": {},
   "outputs": [
    {
     "data": {
      "text/plain": [
       "(102, 182)"
      ]
     },
     "execution_count": 49,
     "metadata": {},
     "output_type": "execute_result"
    }
   ],
   "source": [
    "extended_x_test.shape"
   ]
  },
  {
   "cell_type": "markdown",
   "id": "6e43b575",
   "metadata": {},
   "source": [
    "#### 오차 = 예측 - 정답"
   ]
  },
  {
   "cell_type": "code",
   "execution_count": 50,
   "id": "5653f3fa",
   "metadata": {},
   "outputs": [],
   "source": [
    "ex_pre_train = lr2.predict(extended_x_train)\n",
    "ex_pre_test = lr2.predict(extended_x_test)\n",
    "#결과 예측"
   ]
  },
  {
   "cell_type": "code",
   "execution_count": 51,
   "id": "83d5ae8b",
   "metadata": {},
   "outputs": [],
   "source": [
    "ex_train_mse = mean_squared_error(ex_pre_train,y_train)\n",
    "ex_test_mse = mean_squared_error(ex_pre_test,y_test)\n",
    "#mse 계산"
   ]
  },
  {
   "cell_type": "code",
   "execution_count": 52,
   "id": "d159d4c9",
   "metadata": {},
   "outputs": [
    {
     "name": "stdout",
     "output_type": "stream",
     "text": [
      "train mse: 4.340278052012249\n"
     ]
    }
   ],
   "source": [
    "print('train mse:',ex_train_mse)"
   ]
  },
  {
   "cell_type": "code",
   "execution_count": 53,
   "id": "83bd7fec",
   "metadata": {},
   "outputs": [
    {
     "name": "stdout",
     "output_type": "stream",
     "text": [
      "test mse: 31.277814972583755\n"
     ]
    }
   ],
   "source": [
    "print('test mse:',ex_test_mse)"
   ]
  },
  {
   "cell_type": "code",
   "execution_count": 54,
   "id": "68a431a8",
   "metadata": {},
   "outputs": [
    {
     "name": "stdout",
     "output_type": "stream",
     "text": [
      "train,test mse의 차이: -26.937536920571507\n"
     ]
    }
   ],
   "source": [
    "print('train,test mse의 차이:',ex_train_mse - ex_test_mse)"
   ]
  },
  {
   "cell_type": "code",
   "execution_count": 55,
   "id": "4595edcf",
   "metadata": {},
   "outputs": [
    {
     "name": "stdout",
     "output_type": "stream",
     "text": [
      "train rmse: 2.0833333991496055\n"
     ]
    }
   ],
   "source": [
    "print('train rmse:',ex_train_mse ** 0.5)"
   ]
  },
  {
   "cell_type": "code",
   "execution_count": 56,
   "id": "214a78fd",
   "metadata": {},
   "outputs": [
    {
     "name": "stdout",
     "output_type": "stream",
     "text": [
      "test rmse: 5.592657237180172\n"
     ]
    }
   ],
   "source": [
    "print('test rmse:',ex_test_mse ** 0.5)"
   ]
  },
  {
   "cell_type": "code",
   "execution_count": 57,
   "id": "d331b8c5",
   "metadata": {},
   "outputs": [
    {
     "name": "stdout",
     "output_type": "stream",
     "text": [
      "train , test rmse 차이: 3.509323838030567\n"
     ]
    }
   ],
   "source": [
    "print('train , test rmse 차이:',ex_test_mse**0.5 - ex_train_mse**0.5)"
   ]
  },
  {
   "cell_type": "code",
   "execution_count": 58,
   "id": "2c742eb1",
   "metadata": {},
   "outputs": [
    {
     "data": {
      "text/plain": [
       "0.9490240966612834"
      ]
     },
     "execution_count": 58,
     "metadata": {},
     "output_type": "execute_result"
    }
   ],
   "source": [
    "lr2.score(extended_x_train,y_train)\n",
    "#특성확장 훈련 데이터셋 r2_score"
   ]
  },
  {
   "cell_type": "code",
   "execution_count": 59,
   "id": "5a6dc0de",
   "metadata": {},
   "outputs": [
    {
     "data": {
      "text/plain": [
       "0.6158858583939284"
      ]
     },
     "execution_count": 59,
     "metadata": {},
     "output_type": "execute_result"
    }
   ],
   "source": [
    "lr2.score(extended_x_test,y_test)\n",
    "#특성확장 테스트 데이터셋 r2_score"
   ]
  },
  {
   "cell_type": "markdown",
   "id": "2d45325e",
   "metadata": {},
   "source": [
    "훈련데이터에만 설명력이 높으니 과대적합의 가능성이 있다.\n",
    "    -- 과대적합이라고 단언할 수 없는 이유는 분야가 다르기 때문"
   ]
  },
  {
   "cell_type": "markdown",
   "id": "cd045df9",
   "metadata": {},
   "source": [
    "### Lasso"
   ]
  },
  {
   "cell_type": "code",
   "execution_count": 60,
   "id": "dfd01fc1",
   "metadata": {},
   "outputs": [],
   "source": [
    "from sklearn.linear_model import Lasso"
   ]
  },
  {
   "cell_type": "code",
   "execution_count": 61,
   "id": "7be5f2b9",
   "metadata": {},
   "outputs": [],
   "source": [
    "lasso = Lasso(alpha=10)\n",
    "#규제의 강도 α = 10 , α값이 높아지면 과대적합이 줄어듬"
   ]
  },
  {
   "cell_type": "code",
   "execution_count": 62,
   "id": "75b81f63",
   "metadata": {},
   "outputs": [
    {
     "name": "stderr",
     "output_type": "stream",
     "text": [
      "C:\\Users\\user\\anaconda3\\lib\\site-packages\\sklearn\\linear_model\\_coordinate_descent.py:647: ConvergenceWarning: Objective did not converge. You might want to increase the number of iterations, check the scale of the features or consider increasing regularisation. Duality gap: 2.194e+03, tolerance: 3.440e+00\n",
      "  model = cd_fast.enet_coordinate_descent(\n"
     ]
    },
    {
     "data": {
      "text/plain": [
       "Lasso(alpha=10)"
      ]
     },
     "execution_count": 62,
     "metadata": {},
     "output_type": "execute_result"
    }
   ],
   "source": [
    "lasso.fit(extended_x_train,y_train)\n",
    "#모델 학습"
   ]
  },
  {
   "cell_type": "code",
   "execution_count": 63,
   "id": "99e99a9f",
   "metadata": {},
   "outputs": [
    {
     "name": "stdout",
     "output_type": "stream",
     "text": [
      "사용한 특성의 개수: 46\n"
     ]
    }
   ],
   "source": [
    "print('사용한 특성의 개수:', np.sum(lasso.coef_ !=0 ))\n",
    "#가중치가 0이 아닌 특성들의 수"
   ]
  },
  {
   "cell_type": "code",
   "execution_count": 64,
   "id": "777760a7",
   "metadata": {},
   "outputs": [],
   "source": [
    "pre_train_lasso = lasso.predict(extended_x_train)\n",
    "pre_test_lasso = lasso.predict(extended_x_test)\n",
    "#예측값 산출"
   ]
  },
  {
   "cell_type": "code",
   "execution_count": 65,
   "id": "871e85f7",
   "metadata": {},
   "outputs": [],
   "source": [
    "lasso_train_mse = mean_squared_error(pre_train_lasso , y_train)\n",
    "lasso_test_mse = mean_squared_error(pre_test_lasso, y_test)\n",
    "#MSE 산출"
   ]
  },
  {
   "cell_type": "code",
   "execution_count": 66,
   "id": "80c24c7e",
   "metadata": {},
   "outputs": [
    {
     "name": "stdout",
     "output_type": "stream",
     "text": [
      "train mse: 9.825814145224081\n",
      "test mse: 26.404674056715386\n",
      "train,test mse 차이: 16.578859911491307\n"
     ]
    }
   ],
   "source": [
    "print('train mse:',lasso_train_mse)\n",
    "print('test mse:',lasso_test_mse)\n",
    "print('train,test mse 차이:',abs(lasso_train_mse-lasso_test_mse)) #오차"
   ]
  },
  {
   "cell_type": "code",
   "execution_count": 67,
   "id": "19638618",
   "metadata": {},
   "outputs": [
    {
     "name": "stdout",
     "output_type": "stream",
     "text": [
      "train rmse: 3.1346154700734954\n",
      "test rmse: 5.138547854862829\n",
      "train,test rmse 차이: 2.003932384789334\n"
     ]
    }
   ],
   "source": [
    "print('train rmse:',lasso_train_mse ** 0.5)\n",
    "print('test rmse:',lasso_test_mse ** 0.5)\n",
    "print('train,test rmse 차이:',abs(lasso_train_mse **0.5 - lasso_test_mse**0.5)) "
   ]
  },
  {
   "cell_type": "code",
   "execution_count": 68,
   "id": "6f947dab",
   "metadata": {},
   "outputs": [
    {
     "data": {
      "text/plain": [
       "0.8845973124097618"
      ]
     },
     "execution_count": 68,
     "metadata": {},
     "output_type": "execute_result"
    }
   ],
   "source": [
    "lasso.score(extended_x_train,y_train)"
   ]
  },
  {
   "cell_type": "code",
   "execution_count": 69,
   "id": "68dfe5c4",
   "metadata": {},
   "outputs": [
    {
     "data": {
      "text/plain": [
       "0.6757315458712968"
      ]
     },
     "execution_count": 69,
     "metadata": {},
     "output_type": "execute_result"
    }
   ],
   "source": [
    "lasso.score(extended_x_test,y_test)"
   ]
  },
  {
   "cell_type": "markdown",
   "id": "8fc20cb4",
   "metadata": {},
   "source": [
    "### Ridge"
   ]
  },
  {
   "cell_type": "code",
   "execution_count": 70,
   "id": "6ede66ee",
   "metadata": {},
   "outputs": [],
   "source": [
    "from sklearn.linear_model import Ridge"
   ]
  },
  {
   "cell_type": "code",
   "execution_count": 71,
   "id": "2f1e91b2",
   "metadata": {},
   "outputs": [],
   "source": [
    "ridge = Ridge(alpha=10)\n",
    "#규제의 강도 α = 10 , α값이 높아지면 과대적합이 줄어듬"
   ]
  },
  {
   "cell_type": "code",
   "execution_count": 72,
   "id": "4c04037c",
   "metadata": {},
   "outputs": [
    {
     "data": {
      "text/plain": [
       "Ridge(alpha=10)"
      ]
     },
     "execution_count": 72,
     "metadata": {},
     "output_type": "execute_result"
    }
   ],
   "source": [
    "ridge.fit(extended_x_train,y_train)\n",
    "#모델 학습"
   ]
  },
  {
   "cell_type": "code",
   "execution_count": 73,
   "id": "9e0e168c",
   "metadata": {},
   "outputs": [],
   "source": [
    "pre_train_ridge = ridge.predict(extended_x_train)\n",
    "pre_test_ridge = ridge.predict(extended_x_test)\n",
    "#예측값 산출"
   ]
  },
  {
   "cell_type": "code",
   "execution_count": 74,
   "id": "f2baf836",
   "metadata": {},
   "outputs": [],
   "source": [
    "ridge_train_mse=mean_squared_error(pre_train_ridge,y_train)\n",
    "ridge_test_mse = mean_squared_error(pre_test_ridge,y_test)\n",
    "#MSE 산출"
   ]
  },
  {
   "cell_type": "code",
   "execution_count": 75,
   "id": "64e6c0fb",
   "metadata": {},
   "outputs": [
    {
     "name": "stdout",
     "output_type": "stream",
     "text": [
      "train mse: 5.09456324639931\n",
      "test mse: 26.79259651669547\n",
      "train, test mse 차이: 21.698033270296158\n"
     ]
    }
   ],
   "source": [
    "print('train mse:',ridge_train_mse)\n",
    "print('test mse:',ridge_test_mse)\n",
    "print('train, test mse 차이:',abs(ridge_train_mse-ridge_test_mse))"
   ]
  },
  {
   "cell_type": "code",
   "execution_count": 76,
   "id": "c56eb59e",
   "metadata": {},
   "outputs": [
    {
     "name": "stdout",
     "output_type": "stream",
     "text": [
      "train rmse: 2.25711391967692\n",
      "test rmse: 5.176156539044725\n",
      "train, test rmse 차이: 2.919042619367805\n"
     ]
    }
   ],
   "source": [
    "print('train rmse:',ridge_train_mse ** 0.5)\n",
    "print('test rmse:',ridge_test_mse ** 0.5)\n",
    "print('train, test rmse 차이:',abs(ridge_train_mse**0.5-ridge_test_mse**0.5))"
   ]
  },
  {
   "cell_type": "code",
   "execution_count": 77,
   "id": "74894049",
   "metadata": {},
   "outputs": [
    {
     "data": {
      "text/plain": [
       "0.9401651321668143"
      ]
     },
     "execution_count": 77,
     "metadata": {},
     "output_type": "execute_result"
    }
   ],
   "source": [
    "ridge.score(extended_x_train,y_train)"
   ]
  },
  {
   "cell_type": "code",
   "execution_count": 78,
   "id": "2bc53f93",
   "metadata": {},
   "outputs": [
    {
     "data": {
      "text/plain": [
       "0.6709675780923591"
      ]
     },
     "execution_count": 78,
     "metadata": {},
     "output_type": "execute_result"
    }
   ],
   "source": [
    "ridge.score(extended_x_test,y_test)"
   ]
  },
  {
   "cell_type": "markdown",
   "id": "9471cbeb",
   "metadata": {},
   "source": [
    " 같은 alpha 값을 가질 때, Ridge 모델보다 Lasso 모델에서 과대적합을 잘 해소한다."
   ]
  },
  {
   "cell_type": "markdown",
   "id": "9381ed88",
   "metadata": {},
   "source": [
    "### 하이퍼파라미터 튜닝\n",
    "- alpha 값을 바꿔가면서 rmse 확인"
   ]
  },
  {
   "cell_type": "markdown",
   "id": "dc976e47",
   "metadata": {},
   "source": [
    "#### 라쏘"
   ]
  },
  {
   "cell_type": "code",
   "execution_count": 79,
   "id": "800b341a",
   "metadata": {},
   "outputs": [],
   "source": [
    "alpha_list= [0.001,0.01,0.1,1,10,100,1000]\n",
    "lasso_train_list=[] #train데이터의 rmse값을 담아줄 빈 리스트\n",
    "lasso_test_list=[] #test데이터의 rmse값을 담아줄 빈 리스트"
   ]
  },
  {
   "cell_type": "code",
   "execution_count": 80,
   "id": "fc131355",
   "metadata": {},
   "outputs": [
    {
     "name": "stderr",
     "output_type": "stream",
     "text": [
      "C:\\Users\\user\\anaconda3\\lib\\site-packages\\sklearn\\linear_model\\_coordinate_descent.py:647: ConvergenceWarning: Objective did not converge. You might want to increase the number of iterations, check the scale of the features or consider increasing regularisation. Duality gap: 1.071e+03, tolerance: 3.440e+00\n",
      "  model = cd_fast.enet_coordinate_descent(\n",
      "C:\\Users\\user\\anaconda3\\lib\\site-packages\\sklearn\\linear_model\\_coordinate_descent.py:647: ConvergenceWarning: Objective did not converge. You might want to increase the number of iterations, check the scale of the features or consider increasing regularisation. Duality gap: 1.188e+03, tolerance: 3.440e+00\n",
      "  model = cd_fast.enet_coordinate_descent(\n",
      "C:\\Users\\user\\anaconda3\\lib\\site-packages\\sklearn\\linear_model\\_coordinate_descent.py:647: ConvergenceWarning: Objective did not converge. You might want to increase the number of iterations, check the scale of the features or consider increasing regularisation. Duality gap: 1.462e+03, tolerance: 3.440e+00\n",
      "  model = cd_fast.enet_coordinate_descent(\n",
      "C:\\Users\\user\\anaconda3\\lib\\site-packages\\sklearn\\linear_model\\_coordinate_descent.py:647: ConvergenceWarning: Objective did not converge. You might want to increase the number of iterations, check the scale of the features or consider increasing regularisation. Duality gap: 1.803e+03, tolerance: 3.440e+00\n",
      "  model = cd_fast.enet_coordinate_descent(\n",
      "C:\\Users\\user\\anaconda3\\lib\\site-packages\\sklearn\\linear_model\\_coordinate_descent.py:647: ConvergenceWarning: Objective did not converge. You might want to increase the number of iterations, check the scale of the features or consider increasing regularisation. Duality gap: 2.194e+03, tolerance: 3.440e+00\n",
      "  model = cd_fast.enet_coordinate_descent(\n",
      "C:\\Users\\user\\anaconda3\\lib\\site-packages\\sklearn\\linear_model\\_coordinate_descent.py:647: ConvergenceWarning: Objective did not converge. You might want to increase the number of iterations, check the scale of the features or consider increasing regularisation. Duality gap: 7.870e+01, tolerance: 3.440e+00\n",
      "  model = cd_fast.enet_coordinate_descent(\n"
     ]
    }
   ],
   "source": [
    "#alpha의 값을 바꿔가며 반복하기 위한 for문\n",
    "for i in alpha_list:\n",
    "    #모델 선정 및 학습\n",
    "    lasso = Lasso(alpha = i)\n",
    "    lasso.fit(extended_x_train,y_train)\n",
    "    \n",
    "    #train데이터 예측값, rmse 산출\n",
    "    train_pred =lasso.predict(extended_x_train)\n",
    "    lasso_train_rmse = mean_squared_error(train_pred,y_train)**0.5\n",
    "    lasso_train_list.append(lasso_train_rmse)\n",
    "    \n",
    "    #test데이터 예측값, rmse 산출\n",
    "    test_pred =lasso.predict(extended_x_test)\n",
    "    lasso_test_rmse = mean_squared_error(test_pred,y_test)**0.5\n",
    "    lasso_test_list.append(lasso_test_rmse)"
   ]
  },
  {
   "cell_type": "code",
   "execution_count": 81,
   "id": "ffbf0175",
   "metadata": {},
   "outputs": [
    {
     "data": {
      "text/plain": [
       "[2.2758518221817816,\n",
       " 2.332152582439725,\n",
       " 2.556464318296377,\n",
       " 2.8421497511641136,\n",
       " 3.1346154700734954,\n",
       " 3.9961466355356023,\n",
       " 5.353949685680336]"
      ]
     },
     "execution_count": 81,
     "metadata": {},
     "output_type": "execute_result"
    }
   ],
   "source": [
    "lasso_train_list"
   ]
  },
  {
   "cell_type": "code",
   "execution_count": 82,
   "id": "b8d87f12",
   "metadata": {},
   "outputs": [
    {
     "data": {
      "text/plain": [
       "[5.795351938140569,\n",
       " 5.447613887368501,\n",
       " 4.676403047411522,\n",
       " 5.053153764089218,\n",
       " 5.138547854862829,\n",
       " 5.737963242918281,\n",
       " 6.985827230756549]"
      ]
     },
     "execution_count": 82,
     "metadata": {},
     "output_type": "execute_result"
    }
   ],
   "source": [
    "lasso_test_list"
   ]
  },
  {
   "cell_type": "code",
   "execution_count": 83,
   "id": "93fbe622",
   "metadata": {},
   "outputs": [],
   "source": [
    "import matplotlib.pyplot as plt\n",
    "from matplotlib import rc"
   ]
  },
  {
   "cell_type": "code",
   "execution_count": 84,
   "id": "8e644cee",
   "metadata": {},
   "outputs": [],
   "source": [
    "plt.rc('font', family='Malgun Gothic')\n",
    "plt.rcParams['axes.unicode_minus'] = False\n",
    "#글꼴설정"
   ]
  },
  {
   "cell_type": "code",
   "execution_count": 85,
   "id": "15954fed",
   "metadata": {},
   "outputs": [
    {
     "data": {
      "image/png": "[encoded data removed]",
      "text/plain": [
       "<Figure size 720x360 with 1 Axes>"
      ]
     },
     "metadata": {
      "needs_background": "light"
     },
     "output_type": "display_data"
    }
   ],
   "source": [
    "plt.figure(figsize=(10,5))\n",
    "plt.plot(lasso_train_list, label='train')\n",
    "plt.plot(lasso_test_list,label='test')\n",
    "plt.title('Lasso 모델 alpha - RMSE 그래프')\n",
    "plt.xlabel=('alpha 값')\n",
    "plt.xticks(np.arange(7),alpha_list) #x축 범위 설정(x축 값의 개수,어떻게 바꿔줄지)\n",
    "plt.ylabel=('RMSE')\n",
    "plt.legend()\n",
    "plt.grid()\n",
    "plt.show()"
   ]
  },
  {
   "cell_type": "markdown",
   "id": "3fc342e1",
   "metadata": {},
   "source": [
    "### 릿지"
   ]
  },
  {
   "cell_type": "code",
   "execution_count": 86,
   "id": "fc6c2af8",
   "metadata": {},
   "outputs": [],
   "source": [
    "alpha_list= [0.001,0.01,0.1,1,10,100,1000]\n",
    "ridge_train_list=[] #train데이터의 rmse값을 담아줄 빈 리스트\n",
    "ridge_test_list=[] #test데이터의 rmse값을 담아줄 빈 리스트"
   ]
  },
  {
   "cell_type": "code",
   "execution_count": 87,
   "id": "421122bb",
   "metadata": {},
   "outputs": [
    {
     "name": "stderr",
     "output_type": "stream",
     "text": [
      "C:\\Users\\user\\anaconda3\\lib\\site-packages\\sklearn\\linear_model\\_ridge.py:157: LinAlgWarning: Ill-conditioned matrix (rcond=4.05867e-17): result may not be accurate.\n",
      "  return linalg.solve(A, Xy, sym_pos=True, overwrite_a=True).T\n"
     ]
    }
   ],
   "source": [
    "#alpha의 값을 바꿔가며 반복하기 위한 for문\n",
    "for i in alpha_list:\n",
    "    #모델 선정 및 학습\n",
    "    ridge = Ridge(alpha = i)\n",
    "    ridge.fit(extended_x_train,y_train)\n",
    "    \n",
    "    #train데이터 예측값, rmse 산출\n",
    "    train_pred =ridge.predict(extended_x_train)\n",
    "    ridge_train_rmse = mean_squared_error(train_pred,y_train)**0.5\n",
    "    ridge_train_list.append(ridge_train_rmse)\n",
    "    \n",
    "    #test데이터 예측값, rmse 산출\n",
    "    test_pred =ridge.predict(extended_x_test)\n",
    "    ridge_test_rmse = mean_squared_error(test_pred,y_test)**0.5\n",
    "    ridge_test_list.append(ridge_test_rmse)"
   ]
  },
  {
   "cell_type": "code",
   "execution_count": 88,
   "id": "1ee0a063",
   "metadata": {},
   "outputs": [
    {
     "data": {
      "text/plain": [
       "[2.0835065507717947,\n",
       " 2.0850764409779257,\n",
       " 2.0994432636573346,\n",
       " 2.1580820650757446,\n",
       " 2.25711391967692,\n",
       " 2.4260271435858827,\n",
       " 2.599646390917805]"
      ]
     },
     "execution_count": 88,
     "metadata": {},
     "output_type": "execute_result"
    }
   ],
   "source": [
    "ridge_train_list"
   ]
  },
  {
   "cell_type": "code",
   "execution_count": 89,
   "id": "84e22bb9",
   "metadata": {},
   "outputs": [
    {
     "data": {
      "text/plain": [
       "[5.653502668471952,\n",
       " 5.874871100553151,\n",
       " 6.0103239800468335,\n",
       " 5.783909816750169,\n",
       " 5.176156539044725,\n",
       " 4.765046455866838,\n",
       " 4.8818074802533555]"
      ]
     },
     "execution_count": 89,
     "metadata": {},
     "output_type": "execute_result"
    }
   ],
   "source": [
    "ridge_test_list"
   ]
  },
  {
   "cell_type": "code",
   "execution_count": 90,
   "id": "74fc370a",
   "metadata": {},
   "outputs": [
    {
     "data": {
      "image/png": "[encoded data removed]",
      "text/plain": [
       "<Figure size 720x360 with 1 Axes>"
      ]
     },
     "metadata": {
      "needs_background": "light"
     },
     "output_type": "display_data"
    }
   ],
   "source": [
    "plt.figure(figsize=(10,5))\n",
    "plt.plot(ridge_train_list, label='train')\n",
    "plt.plot(ridge_test_list,label='test')\n",
    "plt.title('Ridge 모델 alpha - RMSE 그래프')\n",
    "plt.xlabel=('alpha 값')\n",
    "plt.xticks(np.arange(7),alpha_list) #x축 범위 설정(x축 값의 개수,어떻게 바꿔줄지)\n",
    "plt.ylabel=('RMSE')\n",
    "plt.legend()\n",
    "plt.grid()\n",
    "plt.show()"
   ]
  },
  {
   "cell_type": "code",
   "execution_count": null,
   "id": "2e521e27",
   "metadata": {},
   "outputs": [],
   "source": []
  }
 ],
 "metadata": {
  "kernelspec": {
   "display_name": "Python 3 (ipykernel)",
   "language": "python",
   "name": "python3"
  },
  "language_info": {
   "codemirror_mode": {
    "name": "ipython",
    "version": 3
   },
   "file_extension": ".py",
   "mimetype": "text/x-python",
   "name": "python",
   "nbconvert_exporter": "python",
   "pygments_lexer": "ipython3",
   "version": "3.9.12"
  }
 },
 "nbformat": 4,
 "nbformat_minor": 5
}
