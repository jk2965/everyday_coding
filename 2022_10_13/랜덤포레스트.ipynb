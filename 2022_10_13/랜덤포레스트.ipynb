{
 "cells": [
  {
   "cell_type": "markdown",
   "id": "26c7ec6f",
   "metadata": {},
   "source": [
    "## 랜덤포레스트"
   ]
  },
  {
   "cell_type": "markdown",
   "id": "4f555d6a",
   "metadata": {},
   "source": [
    "- n_estimator : 트리갯수\n",
    "- max_feature : 무작위로 선택할 feature 갯수\n",
    "- max_depth : 트리의 깊이\n",
    "- min_samples_leaf : 리프노드가 최소 몇개의 데이터를 가져야 하는지"
   ]
  },
  {
   "cell_type": "markdown",
   "id": "ae314f7d",
   "metadata": {},
   "source": [
    "### 분류모델"
   ]
  },
  {
   "cell_type": "code",
   "execution_count": 1,
   "id": "5e8c9a0c",
   "metadata": {},
   "outputs": [],
   "source": [
    "from sklearn.ensemble import RandomForestClassifier\n",
    "from sklearn.model_selection import train_test_split\n",
    "from sklearn.datasets import load_breast_cancer\n",
    "from sklearn.tree import plot_tree\n",
    "import pandas as pd\n",
    "import numpy as np\n",
    "import matplotlib.pyplot as plt\n",
    "from matplotlib import rc\n",
    "plt.rc('font',family='Malgun Gothic')\n",
    "plt.rcParams[\"axes.unicode_minus\"] = False\n",
    "import seaborn as sns"
   ]
  },
  {
   "cell_type": "code",
   "execution_count": 2,
   "id": "e8126922",
   "metadata": {},
   "outputs": [],
   "source": [
    "cancer = load_breast_cancer()\n",
    "x_train,x_test,y_train,y_test = train_test_split(cancer.data,\n",
    "                                                 cancer.target,\n",
    "                                                random_state=0)\n",
    "#데이터 수집 및 분할"
   ]
  },
  {
   "cell_type": "code",
   "execution_count": 3,
   "id": "91c1eada",
   "metadata": {},
   "outputs": [
    {
     "data": {
      "text/plain": [
       "RandomForestClassifier(random_state=0)"
      ]
     },
     "execution_count": 3,
     "metadata": {},
     "output_type": "execute_result"
    }
   ],
   "source": [
    "rf= RandomForestClassifier(n_estimators=100, random_state=0)\n",
    "rf.fit(x_train,y_train)\n",
    "#랜덤포레스트, 트리개수 100개"
   ]
  },
  {
   "cell_type": "code",
   "execution_count": 4,
   "id": "07b892dc",
   "metadata": {},
   "outputs": [
    {
     "name": "stdout",
     "output_type": "stream",
     "text": [
      "train 세트 정확도 : 1.000\n"
     ]
    }
   ],
   "source": [
    "print(\"train 세트 정확도 : {:.3f}\".format(rf.score(x_train,y_train)))"
   ]
  },
  {
   "cell_type": "code",
   "execution_count": 5,
   "id": "a85788ea",
   "metadata": {},
   "outputs": [
    {
     "name": "stdout",
     "output_type": "stream",
     "text": [
      "test 세트 정확도 : 0.972\n"
     ]
    }
   ],
   "source": [
    "print(\"test 세트 정확도 : {:.3f}\".format(rf.score(x_test,y_test)))"
   ]
  },
  {
   "cell_type": "code",
   "execution_count": 6,
   "id": "615c30ab",
   "metadata": {},
   "outputs": [
    {
     "data": {
      "image/png": "[encoded data removed]",
      "text/plain": [
       "<Figure size 432x288 with 1 Axes>"
      ]
     },
     "metadata": {
      "needs_background": "light"
     },
     "output_type": "display_data"
    }
   ],
   "source": [
    "n_features = cancer.data.shape[1]\n",
    "plt.barh(np.arange(n_features),rf.feature_importances_,align='center')\n",
    "plt.yticks(np.arange(n_features),cancer.feature_names)\n",
    "plt.xlabel('특성중요도')\n",
    "plt.ylabel(\"특성\")\n",
    "plt.ylim(-1,n_features)\n",
    "plt.show()\n",
    "#특성중요도를 시각화한 그래프"
   ]
  },
  {
   "cell_type": "markdown",
   "id": "1a705d76",
   "metadata": {},
   "source": [
    "### 회귀모델"
   ]
  },
  {
   "cell_type": "code",
   "execution_count": 7,
   "id": "eb288b99",
   "metadata": {},
   "outputs": [],
   "source": [
    "from sklearn.datasets import load_boston\n",
    "from sklearn.ensemble import RandomForestRegressor\n",
    "from sklearn.metrics import explained_variance_score\n",
    "from sklearn.metrics import mean_squared_error\n",
    "from sklearn.metrics import mean_absolute_error\n",
    "from sklearn.metrics import r2_score"
   ]
  },
  {
   "cell_type": "code",
   "execution_count": 8,
   "id": "095ccf6e",
   "metadata": {},
   "outputs": [
    {
     "name": "stderr",
     "output_type": "stream",
     "text": [
      "C:\\Users\\user\\anaconda3\\lib\\site-packages\\sklearn\\utils\\deprecation.py:87: FutureWarning: Function load_boston is deprecated; `load_boston` is deprecated in 1.0 and will be removed in 1.2.\n",
      "\n",
      "    The Boston housing prices dataset has an ethical problem. You can refer to\n",
      "    the documentation of this function for further details.\n",
      "\n",
      "    The scikit-learn maintainers therefore strongly discourage the use of this\n",
      "    dataset unless the purpose of the code is to study and educate about\n",
      "    ethical issues in data science and machine learning.\n",
      "\n",
      "    In this special case, you can fetch the dataset from the original\n",
      "    source::\n",
      "\n",
      "        import pandas as pd\n",
      "        import numpy as np\n",
      "\n",
      "\n",
      "        data_url = \"http://lib.stat.cmu.edu/datasets/boston\"\n",
      "        raw_df = pd.read_csv(data_url, sep=\"\\s+\", skiprows=22, header=None)\n",
      "        data = np.hstack([raw_df.values[::2, :], raw_df.values[1::2, :2]])\n",
      "        target = raw_df.values[1::2, 2]\n",
      "\n",
      "    Alternative datasets include the California housing dataset (i.e.\n",
      "    :func:`~sklearn.datasets.fetch_california_housing`) and the Ames housing\n",
      "    dataset. You can load the datasets as follows::\n",
      "\n",
      "        from sklearn.datasets import fetch_california_housing\n",
      "        housing = fetch_california_housing()\n",
      "\n",
      "    for the California housing dataset and::\n",
      "\n",
      "        from sklearn.datasets import fetch_openml\n",
      "        housing = fetch_openml(name=\"house_prices\", as_frame=True)\n",
      "\n",
      "    for the Ames housing dataset.\n",
      "    \n",
      "  warnings.warn(msg, category=FutureWarning)\n"
     ]
    }
   ],
   "source": [
    "boston = load_boston()\n",
    "x_train,x_test,y_train,y_test = train_test_split(boston.data,\n",
    "                                                 boston.target,\n",
    "                                                test_size=0.3)"
   ]
  },
  {
   "cell_type": "code",
   "execution_count": 9,
   "id": "df9bb705",
   "metadata": {},
   "outputs": [],
   "source": [
    "rf = RandomForestRegressor(n_estimators = 10, \n",
    "                           bootstrap = True,\n",
    "                          criterion = 'mse',\n",
    "                          max_features = 'auto')\n",
    "#모델 선정\n",
    "#bootstrap = True :중복되는 모델이 있게 설계\n",
    "#criterion = 평가지표로 ~ 사용"
   ]
  },
  {
   "cell_type": "code",
   "execution_count": 10,
   "id": "ea2fe278",
   "metadata": {},
   "outputs": [
    {
     "name": "stderr",
     "output_type": "stream",
     "text": [
      "C:\\Users\\user\\anaconda3\\lib\\site-packages\\sklearn\\ensemble\\_forest.py:396: FutureWarning: Criterion 'mse' was deprecated in v1.0 and will be removed in version 1.2. Use `criterion='squared_error'` which is equivalent.\n",
      "  warn(\n"
     ]
    },
    {
     "data": {
      "text/plain": [
       "RandomForestRegressor(criterion='mse', n_estimators=10)"
      ]
     },
     "execution_count": 10,
     "metadata": {},
     "output_type": "execute_result"
    }
   ],
   "source": [
    "rf.fit(x_train,y_train)\n",
    "#모델 학습"
   ]
  },
  {
   "cell_type": "code",
   "execution_count": 11,
   "id": "d8973d0f",
   "metadata": {},
   "outputs": [
    {
     "data": {
      "text/plain": [
       "array([21.53, 19.36, 15.22, 21.84, 17.86, 19.46, 12.09, 21.73, 17.61,\n",
       "       15.49, 42.4 , 22.81, 19.97, 35.66, 30.13, 33.82, 21.59, 11.  ,\n",
       "       47.66, 20.02, 20.26, 30.7 , 11.73, 18.33, 42.91, 13.57, 20.82,\n",
       "       26.71, 20.59, 18.54, 42.73, 20.4 , 20.68, 20.91, 10.17, 14.08,\n",
       "       18.51, 13.91, 24.18, 34.25, 21.32, 23.33, 47.57, 26.16, 42.29,\n",
       "       32.48, 20.86, 40.44, 45.99, 16.48, 14.52, 32.99, 22.61, 24.72,\n",
       "       14.12, 25.19, 45.58, 34.64, 19.72, 19.54, 16.75, 23.33, 24.19,\n",
       "       20.02, 49.76, 47.43, 32.13, 23.72, 18.77, 13.57, 18.19, 16.88,\n",
       "       45.99, 24.02, 22.05, 35.22, 24.18, 16.98, 36.16, 25.27, 30.03,\n",
       "       19.1 , 22.46, 21.51, 12.34, 18.61, 21.79, 21.68, 35.62, 23.54,\n",
       "       16.77, 46.43, 11.58, 19.73, 12.29, 15.64, 15.8 , 41.06, 20.57,\n",
       "       19.43, 20.02, 23.81, 28.07, 24.07, 34.96, 39.19,  7.62, 13.64,\n",
       "       21.9 , 45.39,  9.76, 16.32, 19.97, 36.33, 13.88, 22.22, 20.56,\n",
       "       20.59, 19.04, 17.86, 21.2 ,  6.51, 18.18, 35.91, 30.75, 13.2 ,\n",
       "       29.43, 21.23, 26.86, 30.2 , 21.6 , 19.54, 24.03, 20.84, 20.62,\n",
       "       20.63, 20.22, 23.25, 13.45, 21.58, 22.3 , 16.53, 22.45, 14.85,\n",
       "       23.61, 27.75, 11.05, 21.19, 25.59, 25.03, 11.99, 18.3 ])"
      ]
     },
     "execution_count": 11,
     "metadata": {},
     "output_type": "execute_result"
    }
   ],
   "source": [
    "pred = rf.predict(x_test)\n",
    "pred\n",
    "#예측값 산출"
   ]
  },
  {
   "cell_type": "code",
   "execution_count": 12,
   "id": "40c5e015",
   "metadata": {},
   "outputs": [
    {
     "data": {
      "text/plain": [
       "0.9640792323850909"
      ]
     },
     "execution_count": 12,
     "metadata": {},
     "output_type": "execute_result"
    }
   ],
   "source": [
    "rf.score(x_train,y_train)\n",
    "#회귀모델이므로 model.score의 기준은 r2_score"
   ]
  },
  {
   "cell_type": "code",
   "execution_count": 13,
   "id": "043964ee",
   "metadata": {},
   "outputs": [
    {
     "data": {
      "text/plain": [
       "0.9215207683405813"
      ]
     },
     "execution_count": 13,
     "metadata": {},
     "output_type": "execute_result"
    }
   ],
   "source": [
    "rf.score(x_test,y_test)\n",
    "#회귀모델이므로 model.score의 기준은 r2_score"
   ]
  },
  {
   "cell_type": "code",
   "execution_count": null,
   "id": "48ce7d0e",
   "metadata": {},
   "outputs": [],
   "source": []
  }
 ],
 "metadata": {
  "kernelspec": {
   "display_name": "Python 3 (ipykernel)",
   "language": "python",
   "name": "python3"
  },
  "language_info": {
   "codemirror_mode": {
    "name": "ipython",
    "version": 3
   },
   "file_extension": ".py",
   "mimetype": "text/x-python",
   "name": "python",
   "nbconvert_exporter": "python",
   "pygments_lexer": "ipython3",
   "version": "3.9.12"
  }
 },
 "nbformat": 4,
 "nbformat_minor": 5
}
