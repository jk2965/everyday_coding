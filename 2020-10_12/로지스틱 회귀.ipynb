{
 "cells": [
  {
   "cell_type": "code",
   "execution_count": 1,
   "id": "0f9095be",
   "metadata": {},
   "outputs": [],
   "source": [
    "import numpy as np\n",
    "import pandas as pd\n",
    "\n",
    "from sklearn.datasets import load_breast_cancer\n",
    "from sklearn.model_selection import train_test_split\n",
    "from sklearn.linear_model import LogisticRegression"
   ]
  },
  {
   "cell_type": "code",
   "execution_count": 2,
   "id": "db6cd373",
   "metadata": {},
   "outputs": [],
   "source": [
    "cancer = load_breast_cancer()"
   ]
  },
  {
   "cell_type": "code",
   "execution_count": 3,
   "id": "760ba493",
   "metadata": {},
   "outputs": [],
   "source": [
    "x_train,x_test,y_train,y_test = train_test_split(cancer.data,cancer.target,\n",
    "                                                    stratify=cancer.target,\n",
    "                                                    random_state=0)"
   ]
  },
  {
   "cell_type": "code",
   "execution_count": 4,
   "id": "00e86113",
   "metadata": {},
   "outputs": [],
   "source": [
    "lr = LogisticRegression(max_iter=5000)\n",
    "#로지스틱 회귀(최대 반복수:5000 규제값의 역수 C: 기본값)"
   ]
  },
  {
   "cell_type": "code",
   "execution_count": 5,
   "id": "2777e38e",
   "metadata": {},
   "outputs": [
    {
     "data": {
      "text/plain": [
       "LogisticRegression(max_iter=5000)"
      ]
     },
     "execution_count": 5,
     "metadata": {},
     "output_type": "execute_result"
    }
   ],
   "source": [
    "lr.fit(x_train,y_train)\n",
    "#모델 학습"
   ]
  },
  {
   "cell_type": "code",
   "execution_count": 6,
   "id": "17e35b09",
   "metadata": {},
   "outputs": [],
   "source": [
    "train_score = lr.score(x_train,y_train)\n",
    "test_score = lr.score(x_test,y_test)\n",
    "#분류모델이기 때문에 model.score()의 결과값은 정확도(Accuracy)이다."
   ]
  },
  {
   "cell_type": "code",
   "execution_count": 7,
   "id": "ffe77be0",
   "metadata": {},
   "outputs": [
    {
     "name": "stdout",
     "output_type": "stream",
     "text": [
      "0.9624413145539906\n",
      "0.9370629370629371\n"
     ]
    }
   ],
   "source": [
    "print(train_score)\n",
    "print(test_score)"
   ]
  },
  {
   "cell_type": "code",
   "execution_count": 8,
   "id": "0c3fb165",
   "metadata": {},
   "outputs": [],
   "source": [
    "lr100 = LogisticRegression(C=100, max_iter=5000)\n",
    "#C = alpha의 역수 (무조건 대문자) , 최대 반복수=500 "
   ]
  },
  {
   "cell_type": "code",
   "execution_count": 9,
   "id": "a6a60735",
   "metadata": {},
   "outputs": [
    {
     "name": "stderr",
     "output_type": "stream",
     "text": [
      "C:\\Users\\user\\anaconda3\\lib\\site-packages\\sklearn\\linear_model\\_logistic.py:814: ConvergenceWarning: lbfgs failed to converge (status=1):\n",
      "STOP: TOTAL NO. of ITERATIONS REACHED LIMIT.\n",
      "\n",
      "Increase the number of iterations (max_iter) or scale the data as shown in:\n",
      "    https://scikit-learn.org/stable/modules/preprocessing.html\n",
      "Please also refer to the documentation for alternative solver options:\n",
      "    https://scikit-learn.org/stable/modules/linear_model.html#logistic-regression\n",
      "  n_iter_i = _check_optimize_result(\n"
     ]
    },
    {
     "data": {
      "text/plain": [
       "LogisticRegression(C=100, max_iter=5000)"
      ]
     },
     "execution_count": 9,
     "metadata": {},
     "output_type": "execute_result"
    }
   ],
   "source": [
    "lr100.fit(x_train,y_train)\n",
    "#모델학습"
   ]
  },
  {
   "cell_type": "code",
   "execution_count": 10,
   "id": "5ec76d97",
   "metadata": {},
   "outputs": [
    {
     "name": "stdout",
     "output_type": "stream",
     "text": [
      "0.9835680751173709\n",
      "0.9440559440559441\n"
     ]
    }
   ],
   "source": [
    "train_score100 = lr100.score(x_train,y_train)\n",
    "test_score100 = lr100.score(x_test,y_test)\n",
    "#분류모델이기 때문에 model.score()의 결과값은 정확도(Accuracy)이다.\n",
    "\n",
    "print(train_score100)\n",
    "print(test_score100)"
   ]
  },
  {
   "cell_type": "code",
   "execution_count": 11,
   "id": "bfeb3a63",
   "metadata": {},
   "outputs": [
    {
     "data": {
      "text/plain": [
       "LogisticRegression(C=0.01, max_iter=5000)"
      ]
     },
     "execution_count": 11,
     "metadata": {},
     "output_type": "execute_result"
    }
   ],
   "source": [
    "lr001 = LogisticRegression(C=0.01,max_iter = 5000)\n",
    "lr001.fit(x_train,y_train)\n",
    "#모델 선정 및 학습 C=0.01 , iter=5000"
   ]
  },
  {
   "cell_type": "code",
   "execution_count": 12,
   "id": "423feadc",
   "metadata": {},
   "outputs": [],
   "source": [
    "train_score001=lr001.score(x_train,y_train)\n",
    "test_score001=lr001.score(x_test,y_test)"
   ]
  },
  {
   "cell_type": "code",
   "execution_count": 13,
   "id": "36923f30",
   "metadata": {},
   "outputs": [
    {
     "name": "stdout",
     "output_type": "stream",
     "text": [
      "0.9553990610328639\n",
      "0.951048951048951\n"
     ]
    }
   ],
   "source": [
    "print(train_score001)\n",
    "print(test_score001)\n",
    "#기준=정확도"
   ]
  },
  {
   "cell_type": "code",
   "execution_count": 14,
   "id": "e371a539",
   "metadata": {},
   "outputs": [],
   "source": [
    "import matplotlib.pyplot as plt\n",
    "from matplotlib import rc\n",
    "plt.rc('font', family='Malgun Gothic')\n",
    "plt.rcParams['axes.unicode_minus'] = False\n",
    "#글꼴설정"
   ]
  },
  {
   "cell_type": "code",
   "execution_count": 15,
   "id": "329e0980",
   "metadata": {},
   "outputs": [
    {
     "data": {
      "image/png": "[encoded data removed]",
      "text/plain": [
       "<Figure size 432x288 with 1 Axes>"
      ]
     },
     "metadata": {
      "needs_background": "light"
     },
     "output_type": "display_data"
    }
   ],
   "source": [
    "plt.plot(lr100.coef_.T,'^',label=\"C=100\")\n",
    "plt.plot(lr.coef_.T,'o',label=\"C=1\")\n",
    "plt.plot(lr001.coef_.T,'v',label=\"C=0.01\")\n",
    "plt.xticks(range(cancer.data.shape[1]),cancer.feature_names,rotation=90)\n",
    "xlims = plt.xlim()\n",
    "plt.hlines(0,xlims[0],xlims[1])\n",
    "plt.xlim(xlims)\n",
    "plt.ylim(-5,5)\n",
    "plt.xlabel('특성')\n",
    "plt.ylabel('계수크기')\n",
    "plt.legend()\n",
    "plt.show()"
   ]
  },
  {
   "cell_type": "code",
   "execution_count": 16,
   "id": "1ca945e8",
   "metadata": {},
   "outputs": [
    {
     "name": "stdout",
     "output_type": "stream",
     "text": [
      "C=0.010인 l1 로지스틱 회귀의 훈련 정확도: 0.92\n",
      "C=0.010인 l1 로지스틱 회귀의 테스트 정확도: 0.91\n",
      "C=1.000인 l1 로지스틱 회귀의 훈련 정확도: 0.97\n",
      "C=1.000인 l1 로지스틱 회귀의 테스트 정확도: 0.94\n",
      "C=100.000인 l1 로지스틱 회귀의 훈련 정확도: 0.99\n",
      "C=100.000인 l1 로지스틱 회귀의 테스트 정확도: 0.94\n"
     ]
    },
    {
     "data": {
      "text/plain": [
       "<function matplotlib.pyplot.show(close=None, block=None)>"
      ]
     },
     "execution_count": 16,
     "metadata": {},
     "output_type": "execute_result"
    },
    {
     "data": {
      "image/png": "[encoded data removed]",
      "text/plain": [
       "<Figure size 432x288 with 1 Axes>"
      ]
     },
     "metadata": {
      "needs_background": "light"
     },
     "output_type": "display_data"
    }
   ],
   "source": [
    "for C, marker in zip([0.01,1,100],['o','^','v']):\n",
    "    lr_l1 = LogisticRegression(solver='liblinear',C=C, \n",
    "                               penalty='l1',max_iter=1000).fit(x_train,y_train)\n",
    "    print('C={:.3f}인 l1 로지스틱 회귀의 훈련 정확도: {:.2f}'.format(\n",
    "    C,lr_l1.score(x_train,y_train)))\n",
    "    print('C={:.3f}인 l1 로지스틱 회귀의 테스트 정확도: {:.2f}'.format(\n",
    "    C,lr_l1.score(x_test,y_test)))\n",
    "    plt.plot(lr_l1.coef_.T,marker,label='C={:.3f}'.format(C))\n",
    "    \n",
    "plt.xticks(range(cancer.data.shape[1]),cancer.feature_names,rotation=90)\n",
    "xlims = plt.xlim()\n",
    "plt.hlines(0,xlims[0],xlims[1])\n",
    "plt.xlim(xlims)\n",
    "plt.xlabel('특성')\n",
    "plt.ylabel('계수 크기')\n",
    "plt.ylim(-5,5)\n",
    "plt.legend(loc=3)\n",
    "plt.show\n",
    "#그래프는 계수를 나타냄"
   ]
  },
  {
   "cell_type": "code",
   "execution_count": null,
   "id": "14259a5f",
   "metadata": {},
   "outputs": [],
   "source": []
  }
 ],
 "metadata": {
  "kernelspec": {
   "display_name": "Python 3 (ipykernel)",
   "language": "python",
   "name": "python3"
  },
  "language_info": {
   "codemirror_mode": {
    "name": "ipython",
    "version": 3
   },
   "file_extension": ".py",
   "mimetype": "text/x-python",
   "name": "python",
   "nbconvert_exporter": "python",
   "pygments_lexer": "ipython3",
   "version": "3.9.12"
  }
 },
 "nbformat": 4,
 "nbformat_minor": 5
}
