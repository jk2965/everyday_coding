{
 "cells": [
  {
   "cell_type": "code",
   "execution_count": 6,
   "id": "9dc7561c",
   "metadata": {},
   "outputs": [],
   "source": [
    "from sklearn.datasets import load_breast_cancer\n",
    "from sklearn.model_selection import train_test_split\n",
    "from sklearn.neighbors import KNeighborsClassifier\n",
    "from sklearn import metrics\n",
    "import matplotlib.pyplot as plt\n",
    "from matplotlib import rc"
   ]
  },
  {
   "cell_type": "code",
   "execution_count": 2,
   "id": "33700862",
   "metadata": {},
   "outputs": [],
   "source": [
    "cancer = load_breast_cancer()\n",
    "#유방암 데이터 셋을 불러옴"
   ]
  },
  {
   "cell_type": "code",
   "execution_count": 5,
   "id": "117f7415",
   "metadata": {},
   "outputs": [],
   "source": [
    "x_train,x_test,y_train,y_test = train_test_split(cancer.data,cancer.target,\n",
    "                                                stratify = cancer.target,\n",
    "                                                random_state=0)\n",
    "#train 데이터셋과 test데이터셋을 나눔\n",
    "#stratify = 계층화하다. random_state = 데이터셋의 배열을 고정해준다."
   ]
  },
  {
   "cell_type": "code",
   "execution_count": 10,
   "id": "98645d5d",
   "metadata": {},
   "outputs": [],
   "source": [
    "plt.rc('font', family='Malgun Gothic')\n",
    "plt.rcParams['axes.unicode_minus'] = False\n",
    "#글꼴설정"
   ]
  },
  {
   "cell_type": "code",
   "execution_count": 11,
   "id": "817a76b8",
   "metadata": {},
   "outputs": [
    {
     "data": {
      "image/png": "[encoded data removed]",
      "text/plain": [
       "<Figure size 432x288 with 1 Axes>"
      ]
     },
     "metadata": {
      "needs_background": "light"
     },
     "output_type": "display_data"
    }
   ],
   "source": [
    "training_accuracy=[]\n",
    "test_accuracy=[]\n",
    "neighbors_settings=range(1,11)\n",
    "\n",
    "for n_neighbors in neighbors_settings:\n",
    "    \n",
    "    clf = KNeighborsClassifier(n_neighbors = n_neighbors)\n",
    "    #KNN 분류모델.(하이퍼 파라미터는 1~10)\n",
    "    clf.fit(x_train,y_train)\n",
    "    #머신러닝 적용\n",
    "    training_accuracy.append(clf.score(x_train,y_train))\n",
    "    #정확도 점수를 train정확도 배열에 추가,.score의 결과값은 accuracy가 나옴\n",
    "    test_accuracy.append(clf.score(x_test,y_test))\n",
    "    #정확도 점수를 test정확도 배열에 추가\n",
    "plt.plot(neighbors_settings,training_accuracy, label='훈련 정확도')\n",
    "#훈련 정확도 배열 그래프\n",
    "plt.plot(neighbors_settings,test_accuracy, label='테스트 정확도')\n",
    "#테스트 정확도 배열 그래프\n",
    "plt.ylabel('정확도')\n",
    "#y축은 정확도 점수 기준\n",
    "plt.xlabel('n_neighbors')\n",
    "#x축은 n_neighbors의 수치 기준\n",
    "plt.legend()\n",
    "#범례 추가\n",
    "plt.show()\n",
    "#그래프 보여주기"
   ]
  },
  {
   "cell_type": "markdown",
   "id": "e0344e78",
   "metadata": {},
   "source": [
    "#### 회귀모델"
   ]
  },
  {
   "cell_type": "code",
   "execution_count": 13,
   "id": "dcdf3c49",
   "metadata": {},
   "outputs": [],
   "source": [
    "from sklearn.neighbors import KNeighborsRegressor\n",
    "import mglearn"
   ]
  },
  {
   "cell_type": "code",
   "execution_count": 16,
   "id": "5e2597db",
   "metadata": {},
   "outputs": [],
   "source": [
    "x,y = mglearn.datasets.make_wave(n_samples=40)\n",
    "#웨이브 데이터셋 40개 데이터\n",
    "x_train,x_test,y_train,y_test = train_test_split(x,y,random_state=0)"
   ]
  },
  {
   "cell_type": "code",
   "execution_count": 17,
   "id": "f8cbad08",
   "metadata": {},
   "outputs": [],
   "source": [
    "reg = KNeighborsRegressor(n_neighbors=3) \n",
    "#회귀모델 , 3개 데이터 참조"
   ]
  },
  {
   "cell_type": "code",
   "execution_count": 18,
   "id": "9629fb8e",
   "metadata": {},
   "outputs": [
    {
     "data": {
      "text/plain": [
       "KNeighborsRegressor(n_neighbors=3)"
      ]
     },
     "execution_count": 18,
     "metadata": {},
     "output_type": "execute_result"
    }
   ],
   "source": [
    "reg.fit(x_train,y_train)\n",
    "#학습시키기"
   ]
  },
  {
   "cell_type": "code",
   "execution_count": 20,
   "id": "dece8b64",
   "metadata": {},
   "outputs": [],
   "source": [
    "pred = reg.predict(x_test)\n",
    "#x_test데이터 결과 예측"
   ]
  },
  {
   "cell_type": "code",
   "execution_count": 21,
   "id": "1dcb42aa",
   "metadata": {},
   "outputs": [
    {
     "data": {
      "text/plain": [
       "0.8344172446249605"
      ]
     },
     "execution_count": 21,
     "metadata": {},
     "output_type": "execute_result"
    }
   ],
   "source": [
    "reg.score(x_test,y_test)\n",
    "#회귀 모델이기 때문에 r_score가 결과값으로 나옴\n",
    "#r_score도 1에 가까울수록 좋고 0에 가까울수록 안좋다."
   ]
  },
  {
   "cell_type": "code",
   "execution_count": null,
   "id": "7fa6c828",
   "metadata": {},
   "outputs": [],
   "source": []
  }
 ],
 "metadata": {
  "kernelspec": {
   "display_name": "Python 3 (ipykernel)",
   "language": "python",
   "name": "python3"
  },
  "language_info": {
   "codemirror_mode": {
    "name": "ipython",
    "version": 3
   },
   "file_extension": ".py",
   "mimetype": "text/x-python",
   "name": "python",
   "nbconvert_exporter": "python",
   "pygments_lexer": "ipython3",
   "version": "3.9.12"
  }
 },
 "nbformat": 4,
 "nbformat_minor": 5
}
