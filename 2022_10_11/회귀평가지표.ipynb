{
 "cells": [
  {
   "cell_type": "code",
   "execution_count": 1,
   "id": "afbc1b0d",
   "metadata": {},
   "outputs": [],
   "source": [
    "import pandas as pd\n",
    "import numpy as np\n",
    "import matplotlib.pyplot as plt\n",
    "from sklearn.linear_model import LinearRegression\n",
    "#선형회귀를 위한 라이브러리 임포트\n",
    "from sklearn.model_selection import train_test_split\n",
    "from sklearn.metrics import r2_score\n",
    "#r2_score\n",
    "from sklearn.metrics import mean_absolute_error\n",
    "#평균절대값오차(MAE)\n",
    "from sklearn.metrics import mean_absolute_percentage_error\n",
    "#평균절대비율오차(MAPE)\n",
    "from sklearn.metrics import mean_squared_error\n",
    "#평균제곱오차(MSE)\n",
    "from sklearn.metrics import mean_squared_log_error\n",
    "#평균제곱근오차(RMSE)\n",
    "from sklearn.metrics import make_scorer"
   ]
  },
  {
   "cell_type": "code",
   "execution_count": 2,
   "id": "47c79a30",
   "metadata": {},
   "outputs": [],
   "source": [
    "x_data = [\n",
    "    [2,1],\n",
    "    [3,2],\n",
    "    [3,4],\n",
    "    [5,5],\n",
    "    [7,5],\n",
    "    [2,5],\n",
    "    [8,9],\n",
    "    [9,0],\n",
    "    [6,12],\n",
    "    [9,2],\n",
    "    [6,10],\n",
    "    [2,4]\n",
    "]\n",
    "\n",
    "y_data = [3,5,7,10,12,7,13,13,12,13,12,6]"
   ]
  },
  {
   "cell_type": "code",
   "execution_count": 3,
   "id": "df85f3bc",
   "metadata": {},
   "outputs": [],
   "source": [
    "x_train,x_test,y_train,y_test = train_test_split(x_data,y_data,\n",
    "                                                 test_size=0.3,\n",
    "                                                random_state=0)"
   ]
  },
  {
   "cell_type": "code",
   "execution_count": 4,
   "id": "d1269792",
   "metadata": {},
   "outputs": [],
   "source": [
    "model=LinearRegression()"
   ]
  },
  {
   "cell_type": "code",
   "execution_count": 5,
   "id": "b393757c",
   "metadata": {},
   "outputs": [
    {
     "data": {
      "text/plain": [
       "LinearRegression()"
      ]
     },
     "execution_count": 5,
     "metadata": {},
     "output_type": "execute_result"
    }
   ],
   "source": [
    "model.fit(x_train,y_train)"
   ]
  },
  {
   "cell_type": "code",
   "execution_count": 6,
   "id": "33e98a8f",
   "metadata": {},
   "outputs": [
    {
     "data": {
      "text/plain": [
       "0.9244871047709622"
      ]
     },
     "execution_count": 6,
     "metadata": {},
     "output_type": "execute_result"
    }
   ],
   "source": [
    "model.score(x_test,y_test)\n",
    "#모델의 점수를 확인, 회귀모델에서 model.score()는 r2_score"
   ]
  },
  {
   "cell_type": "code",
   "execution_count": 7,
   "id": "95e9f61f",
   "metadata": {},
   "outputs": [
    {
     "data": {
      "text/plain": [
       "0.9244871047709622"
      ]
     },
     "execution_count": 7,
     "metadata": {},
     "output_type": "execute_result"
    }
   ],
   "source": [
    "score = make_scorer(r2_score)\n",
    "score(model,x_test,y_test)\n",
    "#모델의 점수를 뽑아내는 코드. make_scorer(), 괄호 안에 평가지표로 평가함."
   ]
  },
  {
   "cell_type": "markdown",
   "id": "095ee617",
   "metadata": {},
   "source": [
    "### MAE"
   ]
  },
  {
   "cell_type": "code",
   "execution_count": 8,
   "id": "55242127",
   "metadata": {},
   "outputs": [
    {
     "data": {
      "text/plain": [
       "0.6117894964339752"
      ]
     },
     "execution_count": 8,
     "metadata": {},
     "output_type": "execute_result"
    }
   ],
   "source": [
    "score = make_scorer(mean_absolute_error)\n",
    "score(model,x_test,y_test)\n",
    "#모델의 점수를 뽑아내는 코드. make_scorer(), 괄호 안에 평가지표로 평가함."
   ]
  },
  {
   "cell_type": "markdown",
   "id": "ec3f5adb",
   "metadata": {},
   "source": [
    "### MAPE"
   ]
  },
  {
   "cell_type": "code",
   "execution_count": 9,
   "id": "e4adc7a1",
   "metadata": {},
   "outputs": [
    {
     "data": {
      "text/plain": [
       "0.06479097050201443"
      ]
     },
     "execution_count": 9,
     "metadata": {},
     "output_type": "execute_result"
    }
   ],
   "source": [
    "score = make_scorer(mean_absolute_percentage_error)\n",
    "score(model,x_test,y_test)\n",
    "#모델의 점수를 뽑아내는 코드. make_scorer(), 괄호 안에 평가지표로 평가함."
   ]
  },
  {
   "cell_type": "markdown",
   "id": "7ce835c6",
   "metadata": {},
   "source": [
    "### MSE"
   ]
  },
  {
   "cell_type": "code",
   "execution_count": 10,
   "id": "b5e091af",
   "metadata": {},
   "outputs": [
    {
     "data": {
      "text/plain": [
       "0.5805053820732279"
      ]
     },
     "execution_count": 10,
     "metadata": {},
     "output_type": "execute_result"
    }
   ],
   "source": [
    "score = make_scorer(mean_squared_error)\n",
    "score(model,x_test,y_test)\n",
    "#모델의 점수를 뽑아내는 코드. make_scorer(), 괄호 안에 평가지표로 평가함."
   ]
  },
  {
   "cell_type": "markdown",
   "id": "a4df2bff",
   "metadata": {},
   "source": [
    "### RMSE"
   ]
  },
  {
   "cell_type": "code",
   "execution_count": 11,
   "id": "14a4edba",
   "metadata": {},
   "outputs": [],
   "source": [
    "#함수를 정의해서 하는 법\n",
    "\n",
    "pred = model.predict(x_test)\n",
    "#예측값이 필요"
   ]
  },
  {
   "cell_type": "code",
   "execution_count": 12,
   "id": "fb8df219",
   "metadata": {},
   "outputs": [],
   "source": [
    "def rmse(y_true,y_predict):\n",
    "    return np.sqrt(mean_squared_error(y_true,y_predict))"
   ]
  },
  {
   "cell_type": "code",
   "execution_count": 13,
   "id": "f090205a",
   "metadata": {},
   "outputs": [
    {
     "data": {
      "text/plain": [
       "0.7619090379259377"
      ]
     },
     "execution_count": 13,
     "metadata": {},
     "output_type": "execute_result"
    }
   ],
   "source": [
    "rmse(y_test,pred)"
   ]
  },
  {
   "cell_type": "code",
   "execution_count": 14,
   "id": "dbb070b3",
   "metadata": {},
   "outputs": [
    {
     "data": {
      "text/plain": [
       "0.5805053820732279"
      ]
     },
     "execution_count": 14,
     "metadata": {},
     "output_type": "execute_result"
    }
   ],
   "source": [
    "#함수를 정의하지 않는 법\n",
    "\n",
    "score = make_scorer(mean_squared_error)\n",
    "score(model,x_test,y_test)\n",
    "#모델의 점수를 뽑아내는 코드. make_scorer(), 괄호 안에 평가지표로 평가함."
   ]
  },
  {
   "cell_type": "code",
   "execution_count": 15,
   "id": "a053839d",
   "metadata": {},
   "outputs": [
    {
     "name": "stdout",
     "output_type": "stream",
     "text": [
      "rmse: 0.7619090379259377\n"
     ]
    }
   ],
   "source": [
    "print('rmse:', score(model,x_test,y_test)** 0.5)\n",
    "#mse값에 0.5승(** n는 n제곱)"
   ]
  },
  {
   "cell_type": "markdown",
   "id": "bac50fdf",
   "metadata": {},
   "source": [
    "## 복습"
   ]
  },
  {
   "cell_type": "code",
   "execution_count": 16,
   "id": "e8dd42f2",
   "metadata": {},
   "outputs": [],
   "source": [
    "x_data2 = [\n",
    "    [1,4],\n",
    "    [7,9],\n",
    "    [5,7],\n",
    "    [10,18],\n",
    "    [15,38],\n",
    "    [17,42],\n",
    "    [21,55],\n",
    "    [23,60],\n",
    "    [27,82],\n",
    "    [30,89],\n",
    "    [9,13],\n",
    "    [0,0]\n",
    "]\n",
    "\n",
    "y_data2 = [0,3,5,7,10,12,15,22,26,33,9,0]"
   ]
  },
  {
   "cell_type": "code",
   "execution_count": 17,
   "id": "41c67314",
   "metadata": {},
   "outputs": [],
   "source": [
    "x_train,x_test,y_train,y_test = train_test_split(x_data2,y_data2,\n",
    "                                                 test_size=0.3,\n",
    "                                                random_state=0)\n",
    "#데이터를 test데이터와 train데이터로 분할, test데이터의 비율은 30%"
   ]
  },
  {
   "cell_type": "code",
   "execution_count": 18,
   "id": "56c7549e",
   "metadata": {},
   "outputs": [],
   "source": [
    "model=LinearRegression()\n",
    "#선형회귀"
   ]
  },
  {
   "cell_type": "code",
   "execution_count": 19,
   "id": "0995edcb",
   "metadata": {},
   "outputs": [
    {
     "data": {
      "text/plain": [
       "LinearRegression()"
      ]
     },
     "execution_count": 19,
     "metadata": {},
     "output_type": "execute_result"
    }
   ],
   "source": [
    "model.fit(x_train,y_train)\n",
    "#학습"
   ]
  },
  {
   "cell_type": "code",
   "execution_count": 20,
   "id": "f326c8f3",
   "metadata": {},
   "outputs": [],
   "source": [
    "pred = model.predict(x_test)\n",
    "#예측값이 필요"
   ]
  },
  {
   "cell_type": "code",
   "execution_count": 21,
   "id": "b2707ebe",
   "metadata": {},
   "outputs": [
    {
     "data": {
      "text/plain": [
       "0.6190938921307341"
      ]
     },
     "execution_count": 21,
     "metadata": {},
     "output_type": "execute_result"
    }
   ],
   "source": [
    "#r2_score\n",
    "score = make_scorer(r2_score)\n",
    "score(model,x_test,y_test)\n",
    "#모델의 점수를 뽑아내는 코드. make_scorer(), 괄호 안에 평가지표로 평가함.\n",
    "# -값이 나왔다는 것은 평균보다 선형회귀식이 데이터를 설명을 못한다는 것"
   ]
  },
  {
   "cell_type": "code",
   "execution_count": 22,
   "id": "bf0a6b7e",
   "metadata": {},
   "outputs": [
    {
     "data": {
      "text/plain": [
       "3.057312523491116"
      ]
     },
     "execution_count": 22,
     "metadata": {},
     "output_type": "execute_result"
    }
   ],
   "source": [
    "#평균절대값오차(MAE)\n",
    "score = make_scorer(mean_absolute_error)\n",
    "score(model,x_test,y_test)\n",
    "#모델의 점수를 뽑아내는 코드. make_scorer(), 괄호 안에 평가지표로 평가함."
   ]
  },
  {
   "cell_type": "code",
   "execution_count": 23,
   "id": "d7f34e92",
   "metadata": {},
   "outputs": [
    {
     "data": {
      "text/plain": [
       "940620940051444.4"
      ]
     },
     "execution_count": 23,
     "metadata": {},
     "output_type": "execute_result"
    }
   ],
   "source": [
    "#평균절대비율오차(MAPE)\n",
    "score = make_scorer(mean_absolute_percentage_error)\n",
    "score(model,x_test,y_test)\n",
    "#모델의 점수를 뽑아내는 코드. make_scorer(), 괄호 안에 평가지표로 평가함.\n",
    "#분모가 0에 가까워져 무한에 가까운 값이 나옴"
   ]
  },
  {
   "cell_type": "code",
   "execution_count": 24,
   "id": "0e9fad56",
   "metadata": {},
   "outputs": [
    {
     "data": {
      "text/plain": [
       "11.141503655176027"
      ]
     },
     "execution_count": 24,
     "metadata": {},
     "output_type": "execute_result"
    }
   ],
   "source": [
    "#평균제곱오차(MSE)\n",
    "score = make_scorer(mean_squared_error)\n",
    "score(model,x_test,y_test)\n",
    "#모델의 점수를 뽑아내는 코드. make_scorer(), 괄호 안에 평가지표로 평가함."
   ]
  },
  {
   "cell_type": "code",
   "execution_count": 25,
   "id": "c05929e4",
   "metadata": {},
   "outputs": [
    {
     "name": "stdout",
     "output_type": "stream",
     "text": [
      "rmse: 3.337889101689274\n"
     ]
    }
   ],
   "source": [
    "#평균제곱근오차(RMSE)\n",
    "#함수 미사용하여 표현하는 방법\n",
    "score = make_scorer(mean_squared_error)\n",
    "#모델의 점수를 뽑아내는 코드. make_scorer(), 괄호 안에 평가지표로 평가함.\n",
    "print('rmse:',score(model,x_test,y_test)**0.5)"
   ]
  },
  {
   "cell_type": "code",
   "execution_count": 26,
   "id": "67aea380",
   "metadata": {},
   "outputs": [],
   "source": [
    "#함수를 사용해 표현하는 방법\n",
    "\n",
    "import numpy as np\n",
    "pred = model.predict(x_test)\n",
    "\n",
    "def rmse(y_true,y_predict):\n",
    "    return np.sqrt(mean_squared_error(y_true,y_predict))"
   ]
  },
  {
   "cell_type": "code",
   "execution_count": 27,
   "id": "9a505f2c",
   "metadata": {},
   "outputs": [
    {
     "data": {
      "text/plain": [
       "3.337889101689274"
      ]
     },
     "execution_count": 27,
     "metadata": {},
     "output_type": "execute_result"
    }
   ],
   "source": [
    "rmse(y_test,pred)"
   ]
  }
 ],
 "metadata": {
  "kernelspec": {
   "display_name": "Python 3 (ipykernel)",
   "language": "python",
   "name": "python3"
  },
  "language_info": {
   "codemirror_mode": {
    "name": "ipython",
    "version": 3
   },
   "file_extension": ".py",
   "mimetype": "text/x-python",
   "name": "python",
   "nbconvert_exporter": "python",
   "pygments_lexer": "ipython3",
   "version": "3.9.12"
  }
 },
 "nbformat": 4,
 "nbformat_minor": 5
}
